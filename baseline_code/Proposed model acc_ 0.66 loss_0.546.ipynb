{
 "cells": [
  {
   "cell_type": "code",
   "execution_count": 1,
   "metadata": {},
   "outputs": [],
   "source": [
    "import torch \n",
    "import pandas as pd \n",
    "import sys \n",
    "sys.path.append('../')\n",
    "import requests \n",
    "from PIL import Image \n",
    "from modules.Cleaner import * \n",
    "from modules.Preprcoess import * \n",
    "from modules.utils import * \n",
    "from sklearn.model_selection import train_test_split\n",
    "import matplotlib.pyplot as plt\n",
    "import torchvision\n",
    "from torch.optim.lr_scheduler import LambdaLR\n",
    "import torchvision.transforms as transforms\n",
    "from torch.utils.data import DataLoader, Dataset\n",
    "import torch.nn as nn \n",
    "from tqdm import tqdm\n",
    "import json\n",
    "import multiprocessing\n",
    "import os\n",
    "import torch\n",
    "from torch import nn\n",
    "from d2l import torch as d2l"
   ]
  },
  {
   "cell_type": "markdown",
   "metadata": {},
   "source": [
    "(d2l form 动手学机器学习)"
   ]
  },
  {
   "cell_type": "code",
   "execution_count": 2,
   "metadata": {},
   "outputs": [],
   "source": [
    "# d2l.DATA_HUB['bert.base'] = (d2l.DATA_URL + 'bert.base.torch.zip', '225d66f04cae318b841a13d32af3acc165f253ac')\n",
    "# d2l.DATA_HUB['bert.small'] = (d2l.DATA_URL + 'bert.small.torch.zip','c72329e68a732bef0452e4b96a1c341c8910f81f')"
   ]
  },
  {
   "cell_type": "code",
   "execution_count": 3,
   "metadata": {},
   "outputs": [],
   "source": [
    "# def load_pretrained_model(pretrained_model, num_hiddens, ffn_num_hiddens,\n",
    "#                           num_heads, num_layers, dropout, max_len, devices):\n",
    "#     data_dir = d2l.download_extract(pretrained_model)\n",
    "#     # 定义空词表以加载预定义词表\n",
    "#     vocab = d2l.Vocab()\n",
    "#     vocab.idx_to_token = json.load(open(os.path.join(data_dir,\n",
    "#         'vocab.json')))\n",
    "#     vocab.token_to_idx = {token: idx for idx, token in enumerate(\n",
    "#         vocab.idx_to_token)}\n",
    "#     bert = d2l.BERTModel(len(vocab), num_hiddens, norm_shape=[256],\n",
    "#                          ffn_num_input=256, ffn_num_hiddens=ffn_num_hiddens,\n",
    "#                          num_heads=4, num_layers=2, dropout=0.2,\n",
    "#                          max_len=max_len, key_size=256, query_size=256,\n",
    "#                          value_size=256, hid_in_features=256,\n",
    "#                          mlm_in_features=256, nsp_in_features=256)\n",
    "#     # 加载预训练BERT参数\n",
    "#     bert.load_state_dict(torch.load(os.path.join(data_dir,\n",
    "#                                                  'pretrained.params')))\n",
    "#     return bert, vocab"
   ]
  },
  {
   "cell_type": "code",
   "execution_count": 4,
   "metadata": {},
   "outputs": [],
   "source": [
    "# devices = d2l.try_all_gpus()\n",
    "# bert, vocab = load_pretrained_model(\n",
    "#     'bert.small', num_hiddens=256, ffn_num_hiddens=512, num_heads=4,\n",
    "#     num_layers=2, dropout=0.1, max_len=512, devices=devices)"
   ]
  },
  {
   "cell_type": "code",
   "execution_count": 5,
   "metadata": {},
   "outputs": [],
   "source": [
    "import  pickle\n",
    "\n",
    "with open('../raw_data/pretrained_df.pkl','rb') as handle:\n",
    "    df = pickle.load(handle)\n"
   ]
  },
  {
   "cell_type": "code",
   "execution_count": 6,
   "metadata": {},
   "outputs": [
    {
     "data": {
      "text/plain": [
       "'1.4.1'"
      ]
     },
     "execution_count": 6,
     "metadata": {},
     "output_type": "execute_result"
    }
   ],
   "source": [
    "import pandas as pd\n",
    "pd.__version__"
   ]
  },
  {
   "cell_type": "code",
   "execution_count": null,
   "metadata": {},
   "outputs": [],
   "source": []
  },
  {
   "cell_type": "code",
   "execution_count": 7,
   "metadata": {},
   "outputs": [],
   "source": [
    "# This is quite important because not all images exist \n",
    "import os \n",
    "dir_list = os.listdir('../images/')\n",
    "dir_list = [os.path.splitext(filename)[0] for filename in dir_list]\n",
    "\n",
    "exist = pd.DataFrame(dir_list)\n",
    "exist.columns = ['asin']\n",
    "\n",
    "df = df.merge(exist,how='inner',on=['asin'])"
   ]
  },
  {
   "cell_type": "code",
   "execution_count": 8,
   "metadata": {},
   "outputs": [
    {
     "data": {
      "text/html": [
       "<div>\n",
       "<style scoped>\n",
       "    .dataframe tbody tr th:only-of-type {\n",
       "        vertical-align: middle;\n",
       "    }\n",
       "\n",
       "    .dataframe tbody tr th {\n",
       "        vertical-align: top;\n",
       "    }\n",
       "\n",
       "    .dataframe thead th {\n",
       "        text-align: right;\n",
       "    }\n",
       "</style>\n",
       "<table border=\"1\" class=\"dataframe\">\n",
       "  <thead>\n",
       "    <tr style=\"text-align: right;\">\n",
       "      <th></th>\n",
       "      <th>asin</th>\n",
       "      <th>reviewText</th>\n",
       "      <th>overall</th>\n",
       "      <th>imUrl</th>\n",
       "      <th>description</th>\n",
       "      <th>descriptions</th>\n",
       "      <th>review_vec</th>\n",
       "    </tr>\n",
       "  </thead>\n",
       "  <tbody>\n",
       "    <tr>\n",
       "      <th>0</th>\n",
       "      <td>0700026657</td>\n",
       "      <td>This game is a bit hard to get the hang of, bu...</td>\n",
       "      <td>5.0</td>\n",
       "      <td>[https://images-na.ssl-images-amazon.com/image...</td>\n",
       "      <td>[ANNO 2070BRAND NEW - IN STOCKDVD Rom Software...</td>\n",
       "      <td>ANNO 2070BRAND NEW - IN STOCKDVD Rom Software ...</td>\n",
       "      <td>[0.12231445, 0.067342125, -0.12666829, 0.15683...</td>\n",
       "    </tr>\n",
       "    <tr>\n",
       "      <th>1</th>\n",
       "      <td>0700026657</td>\n",
       "      <td>I played it a while but it was alright. The st...</td>\n",
       "      <td>4.0</td>\n",
       "      <td>[https://images-na.ssl-images-amazon.com/image...</td>\n",
       "      <td>[ANNO 2070BRAND NEW - IN STOCKDVD Rom Software...</td>\n",
       "      <td>ANNO 2070BRAND NEW - IN STOCKDVD Rom Software ...</td>\n",
       "      <td>[0.08287811, 0.1084493, 0.009897868, 0.0906804...</td>\n",
       "    </tr>\n",
       "    <tr>\n",
       "      <th>2</th>\n",
       "      <td>0700026657</td>\n",
       "      <td>ok game.</td>\n",
       "      <td>3.0</td>\n",
       "      <td>[https://images-na.ssl-images-amazon.com/image...</td>\n",
       "      <td>[ANNO 2070BRAND NEW - IN STOCKDVD Rom Software...</td>\n",
       "      <td>ANNO 2070BRAND NEW - IN STOCKDVD Rom Software ...</td>\n",
       "      <td>[0.05834198, 0.021972656, 0.014556885, 0.07939...</td>\n",
       "    </tr>\n",
       "    <tr>\n",
       "      <th>3</th>\n",
       "      <td>0700026657</td>\n",
       "      <td>found the game a bit too complicated, not what...</td>\n",
       "      <td>2.0</td>\n",
       "      <td>[https://images-na.ssl-images-amazon.com/image...</td>\n",
       "      <td>[ANNO 2070BRAND NEW - IN STOCKDVD Rom Software...</td>\n",
       "      <td>ANNO 2070BRAND NEW - IN STOCKDVD Rom Software ...</td>\n",
       "      <td>[0.09651693, 0.1222229, -0.03926595, 0.0629526...</td>\n",
       "    </tr>\n",
       "    <tr>\n",
       "      <th>4</th>\n",
       "      <td>0700026657</td>\n",
       "      <td>great game, I love it and have played it since...</td>\n",
       "      <td>5.0</td>\n",
       "      <td>[https://images-na.ssl-images-amazon.com/image...</td>\n",
       "      <td>[ANNO 2070BRAND NEW - IN STOCKDVD Rom Software...</td>\n",
       "      <td>ANNO 2070BRAND NEW - IN STOCKDVD Rom Software ...</td>\n",
       "      <td>[0.079818726, 0.118774414, 0.037200928, 0.0314...</td>\n",
       "    </tr>\n",
       "    <tr>\n",
       "      <th>...</th>\n",
       "      <td>...</td>\n",
       "      <td>...</td>\n",
       "      <td>...</td>\n",
       "      <td>...</td>\n",
       "      <td>...</td>\n",
       "      <td>...</td>\n",
       "      <td>...</td>\n",
       "    </tr>\n",
       "    <tr>\n",
       "      <th>436764</th>\n",
       "      <td>B01H7VI5TC</td>\n",
       "      <td>These work 100% as advertised, but the connect...</td>\n",
       "      <td>4.0</td>\n",
       "      <td>[https://images-na.ssl-images-amazon.com/image...</td>\n",
       "      <td>[Two 6ft N64 Extension Cables]</td>\n",
       "      <td>Two 6ft N64 Extension Cables</td>\n",
       "      <td>[0.0201527, -0.0009987571, -0.07744806, 0.0880...</td>\n",
       "    </tr>\n",
       "    <tr>\n",
       "      <th>436765</th>\n",
       "      <td>B01H7VI5TC</td>\n",
       "      <td>Totaly needed these works great. I can play fr...</td>\n",
       "      <td>5.0</td>\n",
       "      <td>[https://images-na.ssl-images-amazon.com/image...</td>\n",
       "      <td>[Two 6ft N64 Extension Cables]</td>\n",
       "      <td>Two 6ft N64 Extension Cables</td>\n",
       "      <td>[0.015492757, 0.018920898, 0.06870524, 0.07133...</td>\n",
       "    </tr>\n",
       "    <tr>\n",
       "      <th>436766</th>\n",
       "      <td>B01H7VI5TC</td>\n",
       "      <td>Item works at it should. Recommend for those n...</td>\n",
       "      <td>5.0</td>\n",
       "      <td>[https://images-na.ssl-images-amazon.com/image...</td>\n",
       "      <td>[Two 6ft N64 Extension Cables]</td>\n",
       "      <td>Two 6ft N64 Extension Cables</td>\n",
       "      <td>[0.05632867, -0.013244629, 0.017493354, 0.0933...</td>\n",
       "    </tr>\n",
       "    <tr>\n",
       "      <th>436767</th>\n",
       "      <td>B01H7VI5TC</td>\n",
       "      <td>It is good buy.</td>\n",
       "      <td>5.0</td>\n",
       "      <td>[https://images-na.ssl-images-amazon.com/image...</td>\n",
       "      <td>[Two 6ft N64 Extension Cables]</td>\n",
       "      <td>Two 6ft N64 Extension Cables</td>\n",
       "      <td>[0.05041504, -0.05810547, -0.05731201, 0.17700...</td>\n",
       "    </tr>\n",
       "    <tr>\n",
       "      <th>436768</th>\n",
       "      <td>B01H7VI5TC</td>\n",
       "      <td>These work great &amp; are a cheap solution to nee...</td>\n",
       "      <td>5.0</td>\n",
       "      <td>[https://images-na.ssl-images-amazon.com/image...</td>\n",
       "      <td>[Two 6ft N64 Extension Cables]</td>\n",
       "      <td>Two 6ft N64 Extension Cables</td>\n",
       "      <td>[0.00061798096, -0.042816162, -0.0849762, 0.17...</td>\n",
       "    </tr>\n",
       "  </tbody>\n",
       "</table>\n",
       "<p>436769 rows × 7 columns</p>\n",
       "</div>"
      ],
      "text/plain": [
       "              asin                                         reviewText  \\\n",
       "0       0700026657  This game is a bit hard to get the hang of, bu...   \n",
       "1       0700026657  I played it a while but it was alright. The st...   \n",
       "2       0700026657                                           ok game.   \n",
       "3       0700026657  found the game a bit too complicated, not what...   \n",
       "4       0700026657  great game, I love it and have played it since...   \n",
       "...            ...                                                ...   \n",
       "436764  B01H7VI5TC  These work 100% as advertised, but the connect...   \n",
       "436765  B01H7VI5TC  Totaly needed these works great. I can play fr...   \n",
       "436766  B01H7VI5TC  Item works at it should. Recommend for those n...   \n",
       "436767  B01H7VI5TC                                    It is good buy.   \n",
       "436768  B01H7VI5TC  These work great & are a cheap solution to nee...   \n",
       "\n",
       "        overall                                              imUrl  \\\n",
       "0           5.0  [https://images-na.ssl-images-amazon.com/image...   \n",
       "1           4.0  [https://images-na.ssl-images-amazon.com/image...   \n",
       "2           3.0  [https://images-na.ssl-images-amazon.com/image...   \n",
       "3           2.0  [https://images-na.ssl-images-amazon.com/image...   \n",
       "4           5.0  [https://images-na.ssl-images-amazon.com/image...   \n",
       "...         ...                                                ...   \n",
       "436764      4.0  [https://images-na.ssl-images-amazon.com/image...   \n",
       "436765      5.0  [https://images-na.ssl-images-amazon.com/image...   \n",
       "436766      5.0  [https://images-na.ssl-images-amazon.com/image...   \n",
       "436767      5.0  [https://images-na.ssl-images-amazon.com/image...   \n",
       "436768      5.0  [https://images-na.ssl-images-amazon.com/image...   \n",
       "\n",
       "                                              description  \\\n",
       "0       [ANNO 2070BRAND NEW - IN STOCKDVD Rom Software...   \n",
       "1       [ANNO 2070BRAND NEW - IN STOCKDVD Rom Software...   \n",
       "2       [ANNO 2070BRAND NEW - IN STOCKDVD Rom Software...   \n",
       "3       [ANNO 2070BRAND NEW - IN STOCKDVD Rom Software...   \n",
       "4       [ANNO 2070BRAND NEW - IN STOCKDVD Rom Software...   \n",
       "...                                                   ...   \n",
       "436764                     [Two 6ft N64 Extension Cables]   \n",
       "436765                     [Two 6ft N64 Extension Cables]   \n",
       "436766                     [Two 6ft N64 Extension Cables]   \n",
       "436767                     [Two 6ft N64 Extension Cables]   \n",
       "436768                     [Two 6ft N64 Extension Cables]   \n",
       "\n",
       "                                             descriptions  \\\n",
       "0       ANNO 2070BRAND NEW - IN STOCKDVD Rom Software ...   \n",
       "1       ANNO 2070BRAND NEW - IN STOCKDVD Rom Software ...   \n",
       "2       ANNO 2070BRAND NEW - IN STOCKDVD Rom Software ...   \n",
       "3       ANNO 2070BRAND NEW - IN STOCKDVD Rom Software ...   \n",
       "4       ANNO 2070BRAND NEW - IN STOCKDVD Rom Software ...   \n",
       "...                                                   ...   \n",
       "436764                       Two 6ft N64 Extension Cables   \n",
       "436765                       Two 6ft N64 Extension Cables   \n",
       "436766                       Two 6ft N64 Extension Cables   \n",
       "436767                       Two 6ft N64 Extension Cables   \n",
       "436768                       Two 6ft N64 Extension Cables   \n",
       "\n",
       "                                               review_vec  \n",
       "0       [0.12231445, 0.067342125, -0.12666829, 0.15683...  \n",
       "1       [0.08287811, 0.1084493, 0.009897868, 0.0906804...  \n",
       "2       [0.05834198, 0.021972656, 0.014556885, 0.07939...  \n",
       "3       [0.09651693, 0.1222229, -0.03926595, 0.0629526...  \n",
       "4       [0.079818726, 0.118774414, 0.037200928, 0.0314...  \n",
       "...                                                   ...  \n",
       "436764  [0.0201527, -0.0009987571, -0.07744806, 0.0880...  \n",
       "436765  [0.015492757, 0.018920898, 0.06870524, 0.07133...  \n",
       "436766  [0.05632867, -0.013244629, 0.017493354, 0.0933...  \n",
       "436767  [0.05041504, -0.05810547, -0.05731201, 0.17700...  \n",
       "436768  [0.00061798096, -0.042816162, -0.0849762, 0.17...  \n",
       "\n",
       "[436769 rows x 7 columns]"
      ]
     },
     "execution_count": 8,
     "metadata": {},
     "output_type": "execute_result"
    }
   ],
   "source": [
    "df"
   ]
  },
  {
   "cell_type": "code",
   "execution_count": 9,
   "metadata": {},
   "outputs": [
    {
     "data": {
      "text/plain": [
       "1.0    21581\n",
       "5.0    20976\n",
       "3.0    17370\n",
       "2.0    17173\n",
       "4.0    16539\n",
       "Name: overall, dtype: int64"
      ]
     },
     "execution_count": 9,
     "metadata": {},
     "output_type": "execute_result"
    }
   ],
   "source": [
    "#sampled from whole data for balanced rate distribution\n",
    "upper = df.loc[df.overall==5].sample(frac=.08)\n",
    "unchange = df.loc[df.overall==4].sample(frac=.2)\n",
    "unchange2 = df.loc[df.overall==3].sample(frac=.4)\n",
    "low = df.loc[(df.overall<3)].sample(frac=0.8, replace=True)\n",
    "df_sampled = pd.concat([upper,unchange,low,unchange2],axis=0).sample(frac=1)\n",
    "df_sampled.overall.value_counts()"
   ]
  },
  {
   "cell_type": "code",
   "execution_count": 10,
   "metadata": {},
   "outputs": [
    {
     "data": {
      "text/plain": [
       "Index(['asin', 'reviewText', 'overall', 'imUrl', 'description', 'descriptions',\n",
       "       'review_vec'],\n",
       "      dtype='object')"
      ]
     },
     "execution_count": 10,
     "metadata": {},
     "output_type": "execute_result"
    }
   ],
   "source": [
    "df_sampled.keys()"
   ]
  },
  {
   "cell_type": "markdown",
   "metadata": {},
   "source": [
    "## 1.Exploratory data analysis"
   ]
  },
  {
   "cell_type": "code",
   "execution_count": 11,
   "metadata": {},
   "outputs": [],
   "source": [
    "uni_asin_val,uni_rev_val,uni_ovl_val= df_sampled['asin'].unique(),df_sampled['reviewText'].unique(),df_sampled['overall'].unique()"
   ]
  },
  {
   "cell_type": "code",
   "execution_count": 12,
   "metadata": {},
   "outputs": [
    {
     "data": {
      "text/plain": [
       "(10982, 72918, 5)"
      ]
     },
     "execution_count": 12,
     "metadata": {},
     "output_type": "execute_result"
    }
   ],
   "source": [
    "len(uni_asin_val),len(uni_rev_val),len(uni_ovl_val)"
   ]
  },
  {
   "cell_type": "code",
   "execution_count": 13,
   "metadata": {},
   "outputs": [
    {
     "data": {
      "text/plain": [
       "93639"
      ]
     },
     "execution_count": 13,
     "metadata": {},
     "output_type": "execute_result"
    }
   ],
   "source": [
    "len(df_sampled)"
   ]
  },
  {
   "cell_type": "code",
   "execution_count": 14,
   "metadata": {},
   "outputs": [
    {
     "data": {
      "text/plain": [
       "array([5., 2., 3., 1., 4.])"
      ]
     },
     "execution_count": 14,
     "metadata": {},
     "output_type": "execute_result"
    }
   ],
   "source": [
    "df_sampled['overall'].unique()"
   ]
  },
  {
   "cell_type": "code",
   "execution_count": 15,
   "metadata": {},
   "outputs": [
    {
     "data": {
      "text/plain": [
       "436769"
      ]
     },
     "execution_count": 15,
     "metadata": {},
     "output_type": "execute_result"
    }
   ],
   "source": [
    "len(df)"
   ]
  },
  {
   "cell_type": "markdown",
   "metadata": {},
   "source": [
    "## 2. data process"
   ]
  },
  {
   "cell_type": "code",
   "execution_count": 16,
   "metadata": {},
   "outputs": [],
   "source": [
    "#gensim library to load pre-trained Word2Vec word embeddings from the Google News dataset.\n",
    "# import gensim\n",
    "# w2v = gensim.models.KeyedVectors.load_word2vec_format('../components/GoogleNews-vectors-negative300.bin', binary=True)"
   ]
  },
  {
   "cell_type": "markdown",
   "metadata": {},
   "source": [
    "### import essential package"
   ]
  },
  {
   "cell_type": "code",
   "execution_count": 17,
   "metadata": {},
   "outputs": [
    {
     "name": "stdout",
     "output_type": "stream",
     "text": [
      "WARNING:tensorflow:From C:\\Users\\lemon\\anaconda3\\lib\\site-packages\\keras\\src\\losses.py:2976: The name tf.losses.sparse_softmax_cross_entropy is deprecated. Please use tf.compat.v1.losses.sparse_softmax_cross_entropy instead.\n",
      "\n"
     ]
    },
    {
     "data": {
      "text/plain": [
       "<torch._C.Generator at 0x23c268361f0>"
      ]
     },
     "execution_count": 17,
     "metadata": {},
     "output_type": "execute_result"
    }
   ],
   "source": [
    "## import essential package\n",
    "import numpy as np\n",
    "import pandas as pd\n",
    "import random\n",
    "import json, time \n",
    "from tqdm import tqdm \n",
    "from sklearn.metrics import accuracy_score, classification_report\n",
    "import torch\n",
    "import torch.nn as nn\n",
    "import torch.nn.functional as F\n",
    "import torch.optim as optim\n",
    "from torch.utils.data import TensorDataset, DataLoader, RandomSampler, SequentialSampler\n",
    "from transformers import DistilBertConfig, AdamW, get_cosine_schedule_with_warmup\n",
    "import torch\n",
    "import transformers as ppb\n",
    "import warnings\n",
    "warnings.filterwarnings('ignore')\n",
    "\n",
    "# set seed\n",
    "seed = 666\n",
    "random.seed(seed)\n",
    "np.random.seed(seed)\n",
    "torch.cuda.manual_seed(seed)\n",
    "torch.manual_seed(seed)"
   ]
  },
  {
   "cell_type": "markdown",
   "metadata": {},
   "source": [
    "### import pretrianed model"
   ]
  },
  {
   "cell_type": "code",
   "execution_count": 18,
   "metadata": {},
   "outputs": [
    {
     "name": "stderr",
     "output_type": "stream",
     "text": [
      "Some weights of the model checkpoint at distilbert-base-uncased were not used when initializing DistilBertModel: ['vocab_layer_norm.weight', 'vocab_layer_norm.bias', 'vocab_projector.bias', 'vocab_transform.weight', 'vocab_transform.bias']\n",
      "- This IS expected if you are initializing DistilBertModel from the checkpoint of a model trained on another task or with another architecture (e.g. initializing a BertForSequenceClassification model from a BertForPreTraining model).\n",
      "- This IS NOT expected if you are initializing DistilBertModel from the checkpoint of a model that you expect to be exactly identical (initializing a BertForSequenceClassification model from a BertForSequenceClassification model).\n"
     ]
    }
   ],
   "source": [
    "#download distilBERT as the model has fewer paras and relatively comparable performance as bert\n",
    "#for DistilBERT\n",
    "# For DistilBERT:\n",
    "model_class, tokenizer_class, pretrained_weights = (ppb.DistilBertModel, ppb.DistilBertTokenizer, 'distilbert-base-uncased')\n",
    "# Load pretrained model/tokenizer\n",
    "tokenizer = tokenizer_class.from_pretrained(pretrained_weights)\n",
    "model = model_class.from_pretrained(pretrained_weights)"
   ]
  },
  {
   "cell_type": "markdown",
   "metadata": {},
   "source": [
    "### data preprosessing tokenizer"
   ]
  },
  {
   "cell_type": "code",
   "execution_count": 19,
   "metadata": {},
   "outputs": [
    {
     "data": {
      "text/plain": [
       "DistilBertModel(\n",
       "  (embeddings): Embeddings(\n",
       "    (word_embeddings): Embedding(30522, 768, padding_idx=0)\n",
       "    (position_embeddings): Embedding(512, 768)\n",
       "    (LayerNorm): LayerNorm((768,), eps=1e-12, elementwise_affine=True)\n",
       "    (dropout): Dropout(p=0.1, inplace=False)\n",
       "  )\n",
       "  (transformer): Transformer(\n",
       "    (layer): ModuleList(\n",
       "      (0-5): 6 x TransformerBlock(\n",
       "        (attention): MultiHeadSelfAttention(\n",
       "          (dropout): Dropout(p=0.1, inplace=False)\n",
       "          (q_lin): Linear(in_features=768, out_features=768, bias=True)\n",
       "          (k_lin): Linear(in_features=768, out_features=768, bias=True)\n",
       "          (v_lin): Linear(in_features=768, out_features=768, bias=True)\n",
       "          (out_lin): Linear(in_features=768, out_features=768, bias=True)\n",
       "        )\n",
       "        (sa_layer_norm): LayerNorm((768,), eps=1e-12, elementwise_affine=True)\n",
       "        (ffn): FFN(\n",
       "          (dropout): Dropout(p=0.1, inplace=False)\n",
       "          (lin1): Linear(in_features=768, out_features=3072, bias=True)\n",
       "          (lin2): Linear(in_features=3072, out_features=768, bias=True)\n",
       "          (activation): GELUActivation()\n",
       "        )\n",
       "        (output_layer_norm): LayerNorm((768,), eps=1e-12, elementwise_affine=True)\n",
       "      )\n",
       "    )\n",
       "  )\n",
       ")"
      ]
     },
     "execution_count": 19,
     "metadata": {},
     "output_type": "execute_result"
    }
   ],
   "source": [
    "model"
   ]
  },
  {
   "cell_type": "code",
   "execution_count": null,
   "metadata": {},
   "outputs": [],
   "source": []
  },
  {
   "cell_type": "code",
   "execution_count": 20,
   "metadata": {},
   "outputs": [],
   "source": [
    "# dec_length_dic={}\n",
    "# ext_lis_dec=[]\n",
    "# for ind,i in enumerate(list_tokenized_train_dec.values):\n",
    "#     if len(i) not in dec_length_dic:\n",
    "#         dec_length_dic[len(i)]=1\n",
    "#     else:\n",
    "#         dec_length_dic[len(i)]+=1\n",
    "#     if len(i)>500:\n",
    "#         ext_lis_dec.append(ind)\n",
    "        \n",
    "# rev_length_dic={}\n",
    "# ext_lis_rev=[]\n",
    "# for ind,i in enumerate(list_tokenized_train_rev.values):\n",
    "#     if len(i) not in rev_length_dic:\n",
    "#         rev_length_dic[len(i)]=1\n",
    "#     else:\n",
    "#         rev_length_dic[len(i)]+=1\n",
    "#     if len(i)>500:\n",
    "#         ext_lis_rev.append(ind)"
   ]
  },
  {
   "cell_type": "code",
   "execution_count": 21,
   "metadata": {},
   "outputs": [],
   "source": [
    "# dec_length_lis=[]\n",
    "# for i in range(max_len_dec):\n",
    "#     if i in dec_length_dic:\n",
    "#         dec_length_lis.append(dec_length_dic[i])\n",
    "#     else:\n",
    "#         dec_length_lis.append(0)\n",
    "    "
   ]
  },
  {
   "cell_type": "code",
   "execution_count": 22,
   "metadata": {},
   "outputs": [],
   "source": [
    "# import matplotlib.pyplot as plt\n",
    "# plt.figure(figsize=(12,8))\n",
    "# plt.plot(range(max_len_dec),np.cumsum(np.array(dec_length_lis)))\n",
    "# plt.show()"
   ]
  },
  {
   "cell_type": "code",
   "execution_count": 23,
   "metadata": {},
   "outputs": [],
   "source": [
    "# np.cumsum(np.array(dec_length_lis))[400]"
   ]
  },
  {
   "cell_type": "code",
   "execution_count": 24,
   "metadata": {},
   "outputs": [],
   "source": [
    "# np.cumsum(np.array(dec_length_lis))[5000]"
   ]
  },
  {
   "cell_type": "code",
   "execution_count": 25,
   "metadata": {},
   "outputs": [],
   "source": [
    "# rev_length_lis=[]\n",
    "# for i in range(max_len_rev):\n",
    "#     if i in rev_length_dic:\n",
    "#         rev_length_lis.append(rev_length_dic[i])\n",
    "#     else:\n",
    "#         rev_length_lis.append(0)"
   ]
  },
  {
   "cell_type": "code",
   "execution_count": 26,
   "metadata": {},
   "outputs": [],
   "source": [
    "# import matplotlib.pyplot as plt\n",
    "# plt.figure(figsize=(12,8))\n",
    "# plt.plot(range(max_len_rev),np.cumsum(np.array(rev_length_lis)))\n",
    "# plt.show()"
   ]
  },
  {
   "cell_type": "code",
   "execution_count": 27,
   "metadata": {},
   "outputs": [],
   "source": [
    "# np.cumsum(np.array(rev_length_lis))[1000]"
   ]
  },
  {
   "cell_type": "code",
   "execution_count": null,
   "metadata": {},
   "outputs": [],
   "source": []
  },
  {
   "cell_type": "code",
   "execution_count": null,
   "metadata": {},
   "outputs": [],
   "source": []
  },
  {
   "cell_type": "code",
   "execution_count": 28,
   "metadata": {},
   "outputs": [],
   "source": [
    "if not os.path.exists(\"test.npy\"):\n",
    "    #pad all into same length\n",
    "    max_len_dec=50\n",
    "    ## Masking\n",
    "    # The value 0 for attention_mask (aka input_mask) only works on the padding section\n",
    "    # np.where(condition, x, y) outputs x if condition is met, y if not\n",
    "    # padded_dec=np.array([i + [0] * (max_len_dec - len(i)) if len(i)==max_len_dec else i for i in list_tokenized_train_dec.values ])\n",
    "    # attention_mask_dec=np.where(padded_dec !=0,1,0)\n",
    "\n",
    "    max_len_rev=462\n",
    "\n",
    "    # padded_rev=np.array([i + [0] * (max_len_rev- len(i)) if len(i)==max_len_rev else i  for i in list_tokenized_train_rev.values])\n",
    "    # attention_mask_rev=np.where(padded_rev !=0,1,0)\n",
    "    input_ids_dec,input_ids_rev,input_masks_dec, input_masks_rev=[],[],[],[]\n",
    "    labels_dec,labels_rev=[],[]\n",
    "    for ind, sen in enumerate(list(df_sampled.descriptions)):\n",
    "        encode_dict= tokenizer.encode_plus(text=sen, max_length=max_len_dec, padding=\"max_length\",truncation=True)\n",
    "        input_ids_dec.append(encode_dict['input_ids'])\n",
    "        input_masks_dec.append(encode_dict['attention_mask'])\n",
    "    for ind, sen in enumerate(list(df_sampled.reviewText)):\n",
    "        encode_dict= tokenizer.encode_plus(text=sen, max_length=max_len_rev, padding=\"max_length\",truncation=True)\n",
    "        input_ids_rev.append(encode_dict['input_ids'])\n",
    "        input_masks_rev.append(encode_dict['attention_mask'])    \n",
    "    labels=list(df_sampled['overall'])\n",
    "    asin= list(df_sampled['asin'])\n",
    "    input_ids_dec, input_masks_dec,input_ids_rev, input_masks_rev = np.array(input_ids_dec), np.array(input_masks_dec),np.array(input_ids_rev), np.array(input_masks_rev)\n",
    "    labels,asin = np.array(labels),np.array(asin)\n",
    "    \n",
    "    #torch.cuda.empty_cache()\n",
    "    # random set order\n",
    "    total_num=input_ids_dec.shape[0]\n",
    "    idxes = np.arange(total_num)\n",
    "    np.random.shuffle(idxes)\n",
    "    print(idxes.shape, idxes[:10])\n",
    "    train_ratio,val_ratio,test_ratio=0.8,0.1,0.1\n",
    "    #generate file, long time to go\n",
    "    # 8:1:1 to train set, validation set and test set\n",
    "    input_ids_dec_train, input_ids_dec_valid, input_ids_dec_test = input_ids_dec[idxes[:int(total_num*train_ratio)]], input_ids_dec[idxes[int(total_num*train_ratio):int(total_num*(train_ratio+val_ratio))]], input_ids_dec[idxes[-int(total_num* test_ratio):]]\n",
    "    input_masks_dec_train, input_masks_dec_valid, input_masks_dec_test = input_masks_dec[idxes[:int(total_num*train_ratio)]], input_masks_dec[idxes[int(total_num*train_ratio):int(total_num*(train_ratio+val_ratio))]], input_masks_dec[idxes[-int(total_num* test_ratio):]]\n",
    "\n",
    "    input_ids_rev_train, input_ids_rev_valid, input_ids_rev_test = input_ids_rev[idxes[:int(total_num*train_ratio)]], input_ids_rev[idxes[int(total_num*train_ratio):int(total_num*(train_ratio+val_ratio))]], input_ids_rev[idxes[-int(total_num* test_ratio):]]\n",
    "    input_masks_rev_train, input_masks_rev_valid, input_masks_rev_test = input_masks_rev[idxes[:int(total_num*train_ratio)]], input_masks_rev[idxes[int(total_num*train_ratio):int(total_num*(train_ratio+val_ratio))]], input_masks_rev[idxes[-int(total_num* test_ratio):]]\n",
    "    y_train, y_valid, y_test = labels[idxes[:int(total_num*train_ratio)]], labels[idxes[int(total_num*train_ratio):int(total_num*(train_ratio+val_ratio))]], labels[idxes[-int(total_num* test_ratio):]]\n",
    "    asin_train, asin_valid, asin_test = asin[idxes[:int(total_num*train_ratio)]], asin[idxes[int(total_num*train_ratio):int(total_num*(train_ratio+val_ratio))]], asin[idxes[-int(total_num* test_ratio):]]\n",
    "    print(input_ids_dec_train.shape, y_train.shape, input_ids_rev_valid.shape, y_valid.shape, \n",
    "          input_ids_dec_test.shape, y_test.shape)\n",
    "    save_list=[input_ids_dec_train, input_ids_dec_valid, input_ids_dec_test,input_masks_dec_train, input_masks_dec_valid, input_masks_dec_test,\n",
    "    input_ids_rev_train, input_ids_rev_valid, input_ids_rev_test,input_masks_rev_train, input_masks_rev_valid, input_masks_rev_test,\n",
    "    y_train, y_valid, y_test,asin_train, asin_valid, asin_test]\n",
    "    with open('test.npy','wb') as f:\n",
    "        for arr in save_list:\n",
    "            np.save(f,arr)\n",
    "else:\n",
    "    with open('test.npy', 'rb') as f:\n",
    "        input_ids_dec_train=np.load(f)\n",
    "        input_ids_dec_valid=np.load(f)\n",
    "        input_ids_dec_test=np.load(f)\n",
    "        input_masks_dec_train=np.load(f)\n",
    "        input_masks_dec_valid=np.load(f)\n",
    "        input_masks_dec_test=np.load(f)\n",
    "        input_ids_rev_train=np.load(f)\n",
    "        input_ids_rev_valid=np.load(f)\n",
    "        input_ids_rev_test=np.load(f)\n",
    "        input_masks_rev_train=np.load(f)\n",
    "        input_masks_rev_valid=np.load(f)\n",
    "        input_masks_rev_test=np.load(f)\n",
    "        y_train=np.load(f)\n",
    "        y_valid=np.load(f)\n",
    "        y_test=np.load(f)\n",
    "        asin_train=np.load(f)\n",
    "        asin_valid=np.load(f)\n",
    "        asin_test=np.load(f)"
   ]
  },
  {
   "cell_type": "code",
   "execution_count": 29,
   "metadata": {},
   "outputs": [],
   "source": [
    "#data agumentation step\n",
    "train_transform = transforms.Compose([\n",
    "    transforms.RandomResizedCrop(224, scale=(0.08, 1.0), ratio=(3.0 / 4.0, 4.0 / 3.0)),\n",
    "    transforms.RandomHorizontalFlip(),\n",
    "    transforms.RandomRotation(degrees=15),\n",
    "    transforms.ColorJitter(brightness=0.4, contrast=0.4, saturation=0.4),\n",
    "    transforms.RandomGrayscale(p=0.1),\n",
    "    transforms.ToTensor(),\n",
    "    transforms.Normalize([0.485, 0.456, 0.406], [0.229, 0.224, 0.225])\n",
    "])\n",
    "\n",
    "test_transform = transforms.Compose([\n",
    "    transforms.Resize(256),\n",
    "    transforms.CenterCrop(224),\n",
    "    transforms.ToTensor(),\n",
    "    transforms.Normalize([0.485, 0.456, 0.406], [0.229, 0.224, 0.225])\n",
    "])\n",
    "\n",
    "class ReviewDataSet(Dataset):\n",
    "    def __init__(self, dec_ids,masks_dec, ids_rev, masks_rev,asin,rating, transform):\n",
    "        self.dec_ids = dec_ids\n",
    "        self.masks_dec = masks_dec\n",
    "        self.ids_rev = ids_rev\n",
    "        self.masks_rev= masks_rev\n",
    "        self.asin=asin\n",
    "        self.rating =rating\n",
    "        self.transform = transform\n",
    "\n",
    "    def __len__(self):\n",
    "        return len(self.rating)\n",
    "\n",
    "    def __getitem__(self, index):\n",
    "        image_path = os.path.join('../images/', f\"{self.asin[index]}.jpg\")\n",
    "        image = Image.open(image_path).convert(\"RGB\")\n",
    "        image = self.transform(image)\n",
    "        dec_ids=self.dec_ids[index]\n",
    "        masks_dec=self.masks_dec[index]\n",
    "        ids_rev=self.ids_rev[index]\n",
    "        masks_rev=self.masks_rev[index]\n",
    "        rating = self.rating[index]\n",
    "        return dec_ids,masks_dec,ids_rev,ids_rev,image,int(rating)\n",
    "\n",
    "batch_size = 16\n",
    "\n",
    "train_set = ReviewDataSet(input_ids_dec_train,input_masks_dec_train, input_ids_rev_train, input_masks_rev_train,asin_train,y_train, transform=train_transform)\n",
    "train_loader = DataLoader(train_set, batch_size=batch_size, shuffle=True, num_workers=0, pin_memory=True)\n",
    "\n",
    "valid_set = ReviewDataSet(input_ids_dec_valid,input_masks_dec_valid, input_ids_rev_valid, input_masks_rev_valid,asin_valid,y_valid, transform=test_transform)\n",
    "valid_loader = DataLoader(valid_set, batch_size=batch_size, shuffle=True, num_workers=0, pin_memory=True)\n",
    "\n",
    "test_set = ReviewDataSet(input_ids_dec_test,input_masks_dec_test, input_ids_rev_test, input_masks_rev_test,asin_test,y_test, transform=test_transform)\n",
    "test_loader = DataLoader(test_set, batch_size=batch_size, shuffle=True, num_workers=0, pin_memory=True)\n"
   ]
  },
  {
   "cell_type": "markdown",
   "metadata": {},
   "source": [
    "### BERT"
   ]
  },
  {
   "cell_type": "code",
   "execution_count": 30,
   "metadata": {},
   "outputs": [],
   "source": [
    "#input_ids_dec= torch.LongTensor(padded_dec[0])"
   ]
  },
  {
   "cell_type": "code",
   "execution_count": 31,
   "metadata": {},
   "outputs": [],
   "source": [
    "#attention_mask_rev\n"
   ]
  },
  {
   "cell_type": "code",
   "execution_count": 32,
   "metadata": {},
   "outputs": [],
   "source": [
    "import torch\n",
    "import torch.nn.functional as F\n",
    "\n",
    "\n",
    "# class CIN(torch.nn.Module):\n",
    "#     def __init__(self, input_dim, num_layers=2):\n",
    "#         super(CIN, self).__init__()\n",
    "#         # CIN 网络有几层，也就是要几阶\n",
    "#         self.num_layers = num_layers\n",
    "#         # 一维卷积层\n",
    "#         self.conv_layers = torch.nn.ModuleList()\n",
    "#         fc_input_dim = 0\n",
    "#         for i in range(self.num_layers):\n",
    "#             ''' in_channels: 输入信号的通道 向量的维度 ,input_dim的长度指的是特征的总数\n",
    "#                 out_channels:卷积产生的通道。有多少个out_channels，就需要多少个1维卷积 \n",
    "#                 kerner_size :卷积核的尺寸，卷积核的大小为(k,)，第二个维度是由in_channels来决定的，所以实际上卷积大小为kerner_size*in_channels\n",
    "#                 stride : 卷积步长 \n",
    "#                 dilation :卷积核元素之间的间距'''\n",
    "#             self.conv_layers.append(\n",
    "       \n",
    "#                 torch.nn.Conv1d(in_channels=input_dim * input_dim, out_channels=input_dim, kernel_size=1,\n",
    "#                                 stride=1, dilation=1, bias=True))\n",
    "#             fc_input_dim += input_dim\n",
    "#         self.fc = torch.nn.Linear(fc_input_dim, 1)\n",
    "\n",
    "#     def forward(self, x):\n",
    "#         xs = list()\n",
    "#         '''举例  x.shape = [1,22,16] 1表示batch_size,表示有几维数据，22表示特征的维数，16是embedding层的向量大小\n",
    "#         经过 x.unsqueeze(2)后 x.shape = [1,22,1,16]\n",
    "#         经过 x.unsqueeze(1)后 x.shape = [1,1,22,16]  \n",
    "#         x.unsqueeze(2) * x.unsqueeze(1) 后   x.shape =[1,22,22,16]\n",
    "#         进过卷积层后变为 x.shape =[1,16,16]\n",
    "#         经过 sum pooling  变为 1维\n",
    "#          '''\n",
    "#         x0, h = x.unsqueeze(2), x\n",
    "#         for i in range(self.num_layers):\n",
    "#             h1 = h.unsqueeze(1)\n",
    "#             x = x0 * h1\n",
    "#             batch_size, f0_dim, fin_dim, embed_dim = x.shape\n",
    "#             x = x.view(batch_size, f0_dim * fin_dim, embed_dim)\n",
    "#             x = F.relu(self.conv_layers[i](x))\n",
    "#             h = x\n",
    "#             xs.append(x)\n",
    "#         return self.fc(torch.sum(torch.cat(xs, dim=1), 2))"
   ]
  },
  {
   "cell_type": "code",
   "execution_count": 33,
   "metadata": {},
   "outputs": [],
   "source": [
    "import torch\n",
    "import torch.nn as nn\n",
    "from transformers import DistilBertModel, DistilBertTokenizer\n",
    "torch.cuda.empty_cache()\n",
    "# base_model = torchvision.models.efficientnet_v2_s(weights=EfficientNet_V2_S_Weights.DEFAULT)\n",
    "base_model = torchvision.models.mobilenet_v3_small(pretrained=True) #this should be smaller imo\n",
    "# Remove the last fully connected layer from the base_model\n",
    "base_model.classifier = nn.Sequential(*list(base_model.classifier.children())[:-1])\n",
    "\n",
    "class Multi_model(nn.Module):\n",
    "    def __init__(self, bert_path):\n",
    "        super(Multi_model, self).__init__()\n",
    "\n",
    "        # DistilBERT for text encoding\n",
    "        self.config = DistilBertConfig.from_pretrained(bert_path) \n",
    "        # mobile_net\n",
    "        self.mobile_net = base_model\n",
    "        self.bert = model_class.from_pretrained(bert_path) #Load pre-trained model weights\n",
    "        #self.bert2 = model_class.from_pretrained(bert_path) #Load pre-trained model weights\n",
    "        \n",
    "        # Self-attention for image\n",
    "        # CIN\n",
    "            \n",
    "\n",
    "\n",
    "        # Classifier\n",
    "        self.fc = nn.Sequential(\n",
    "            nn.Linear(1792, 512),\n",
    "            nn.BatchNorm1d(512),\n",
    "            nn.LeakyReLU(),\n",
    "            nn.Dropout(p=0.5),\n",
    "            nn.Linear(512, 1),\n",
    "            nn.Sigmoid()\n",
    "        )\n",
    "#         input_dim=1792\n",
    "#         self.num_layers =  2\n",
    "#         # 一维卷积层\n",
    "#         self.conv_layers = torch.nn.ModuleList()\n",
    "#         fc_input_dim = 0\n",
    "#         for i in range(self.num_layers):\n",
    "#             self.conv_layers.append(\n",
    "    \n",
    "#                 torch.nn.Conv1d(in_channels=input_dim * input_dim, out_channels=input_dim, kernel_size=1,\n",
    "#                                 stride=1, dilation=1, bias=True))\n",
    "#             fc_input_dim += input_dim\n",
    "        #self.fc = torch.nn.Linear(fc_input_dim, 1)\n",
    "    def forward(self, inds_dec, masks_dec, inds_rev, masks_rev,  i):\n",
    "        # Text encoding with DistilBERT\n",
    "        inds=torch.cat((inds_dec, inds_rev), dim=-1)\n",
    "        #print(f\"ind dim is {inds.shape}\")\n",
    "        masks=torch.cat((masks_dec, masks_rev), dim=-1)\n",
    "        #print(f\"masks dim is {masks.shape}\")\n",
    "        output = self.bert(inds,masks) ## [batchsize, len, 768]\n",
    "        #print(f\"1dec_output shape is {dec_output.shape}\")\n",
    "        #print(f\"inds_rev masks_rev shape is {inds_rev.shape, masks_rev.shape}\")\n",
    "        #rev_output = self.bert2(inds_rev, masks_rev)\n",
    "        #print(f'output is {output}')\n",
    "        output = output[0][:, 0, :]  ##池化后的输出 [bs, config.hidden_size]\n",
    "        #print(f'output is {output}')\n",
    "        #print(f\"2dec_output shape is {dec_output.shape}\") #dec_output shape is torch.Size([16, 768])\n",
    "        #rev_output = rev_output[0][:, 0, :]\n",
    "        #print(f\"2rev_output shape is {rev_output.shape}\")\n",
    "        # Image encoding with self-attention and pooling\n",
    "        image_features = self.mobile_net(i)\n",
    "        #print('shape of image_features')\n",
    "        \n",
    "        #print(f'output,image_features is {output.shape}{image_features.shape}')\n",
    "        \n",
    "        # Concatenate features\n",
    "        output = torch.cat((output, image_features),  dim=-1)\n",
    "        \n",
    "        #output=rev_output\n",
    "        #print(f\"output shape is {output.shape}\")\n",
    "        # Predictions\n",
    "        predictions = self.fc(output)*5## [bs, classes] \n",
    "        #print(f'predictions is {predictions}')\n",
    "\n",
    "        return predictions.squeeze(-1)\n"
   ]
  },
  {
   "cell_type": "code",
   "execution_count": 34,
   "metadata": {},
   "outputs": [
    {
     "name": "stderr",
     "output_type": "stream",
     "text": [
      "Some weights of the model checkpoint at distilbert-base-uncased were not used when initializing DistilBertModel: ['vocab_layer_norm.weight', 'vocab_layer_norm.bias', 'vocab_projector.bias', 'vocab_transform.weight', 'vocab_transform.bias']\n",
      "- This IS expected if you are initializing DistilBertModel from the checkpoint of a model trained on another task or with another architecture (e.g. initializing a BertForSequenceClassification model from a BertForPreTraining model).\n",
      "- This IS NOT expected if you are initializing DistilBertModel from the checkpoint of a model that you expect to be exactly identical (initializing a BertForSequenceClassification model from a BertForSequenceClassification model).\n"
     ]
    }
   ],
   "source": [
    "def get_parameter_number(model):\n",
    "    #  get the size of parms\n",
    "    total_num = sum(p.numel() for p in model.parameters())\n",
    "    trainable_num = sum(p.numel() for p in model.parameters() if p.requires_grad)\n",
    "    return 'Total parameters: {}, Trainable parameters: {}'.format(total_num, trainable_num)\n",
    "device = torch.device(\"cuda\" if torch.cuda.is_available() else \"cpu\")\n",
    "model = Multi_model(pretrained_weights).to(device)\n",
    "#only let the model train the last layer and fc layer\n",
    "unfreeze_layers=['layer.10','layer.5','bert.pooler','fc',\"features.11\"]\n",
    "# for name, param in model.named_parameters():\n",
    "#     print(name,param.size())\n",
    "for name ,param in model.named_parameters():\n",
    "    param.requires_grad = False\n",
    "    for ele in unfreeze_layers:\n",
    "        if ele in name and \"mobile_net\" not in name:\n",
    "            #print(ele)\n",
    "            param.requires_grad = True\n",
    "            break\n",
    "#model=torch.load('full_model.pth').to(device)"
   ]
  },
  {
   "cell_type": "code",
   "execution_count": 35,
   "metadata": {},
   "outputs": [
    {
     "name": "stdout",
     "output_type": "stream",
     "text": [
      "Total parameters: 68800289, Trainable parameters: 8007425\n"
     ]
    }
   ],
   "source": [
    "print(get_parameter_number(model))"
   ]
  },
  {
   "cell_type": "code",
   "execution_count": 36,
   "metadata": {},
   "outputs": [
    {
     "data": {
      "text/plain": [
       "'fc.4.bias'"
      ]
     },
     "execution_count": 36,
     "metadata": {},
     "output_type": "execute_result"
    }
   ],
   "source": [
    "name"
   ]
  },
  {
   "cell_type": "code",
   "execution_count": 37,
   "metadata": {},
   "outputs": [
    {
     "data": {
      "text/plain": [
       "'fc'"
      ]
     },
     "execution_count": 37,
     "metadata": {},
     "output_type": "execute_result"
    }
   ],
   "source": [
    "ele"
   ]
  },
  {
   "cell_type": "code",
   "execution_count": 38,
   "metadata": {},
   "outputs": [
    {
     "name": "stdout",
     "output_type": "stream",
     "text": [
      "mobile_net.features.0.0.weight torch.Size([16, 3, 3, 3])\n",
      "mobile_net.features.0.1.weight torch.Size([16])\n",
      "mobile_net.features.0.1.bias torch.Size([16])\n",
      "mobile_net.features.1.block.0.0.weight torch.Size([16, 1, 3, 3])\n",
      "mobile_net.features.1.block.0.1.weight torch.Size([16])\n",
      "mobile_net.features.1.block.0.1.bias torch.Size([16])\n",
      "mobile_net.features.1.block.1.fc1.weight torch.Size([8, 16, 1, 1])\n",
      "mobile_net.features.1.block.1.fc1.bias torch.Size([8])\n",
      "mobile_net.features.1.block.1.fc2.weight torch.Size([16, 8, 1, 1])\n",
      "mobile_net.features.1.block.1.fc2.bias torch.Size([16])\n",
      "mobile_net.features.1.block.2.0.weight torch.Size([16, 16, 1, 1])\n",
      "mobile_net.features.1.block.2.1.weight torch.Size([16])\n",
      "mobile_net.features.1.block.2.1.bias torch.Size([16])\n",
      "mobile_net.features.2.block.0.0.weight torch.Size([72, 16, 1, 1])\n",
      "mobile_net.features.2.block.0.1.weight torch.Size([72])\n",
      "mobile_net.features.2.block.0.1.bias torch.Size([72])\n",
      "mobile_net.features.2.block.1.0.weight torch.Size([72, 1, 3, 3])\n",
      "mobile_net.features.2.block.1.1.weight torch.Size([72])\n",
      "mobile_net.features.2.block.1.1.bias torch.Size([72])\n",
      "mobile_net.features.2.block.2.0.weight torch.Size([24, 72, 1, 1])\n",
      "mobile_net.features.2.block.2.1.weight torch.Size([24])\n",
      "mobile_net.features.2.block.2.1.bias torch.Size([24])\n",
      "mobile_net.features.3.block.0.0.weight torch.Size([88, 24, 1, 1])\n",
      "mobile_net.features.3.block.0.1.weight torch.Size([88])\n",
      "mobile_net.features.3.block.0.1.bias torch.Size([88])\n",
      "mobile_net.features.3.block.1.0.weight torch.Size([88, 1, 3, 3])\n",
      "mobile_net.features.3.block.1.1.weight torch.Size([88])\n",
      "mobile_net.features.3.block.1.1.bias torch.Size([88])\n",
      "mobile_net.features.3.block.2.0.weight torch.Size([24, 88, 1, 1])\n",
      "mobile_net.features.3.block.2.1.weight torch.Size([24])\n",
      "mobile_net.features.3.block.2.1.bias torch.Size([24])\n",
      "mobile_net.features.4.block.0.0.weight torch.Size([96, 24, 1, 1])\n",
      "mobile_net.features.4.block.0.1.weight torch.Size([96])\n",
      "mobile_net.features.4.block.0.1.bias torch.Size([96])\n",
      "mobile_net.features.4.block.1.0.weight torch.Size([96, 1, 5, 5])\n",
      "mobile_net.features.4.block.1.1.weight torch.Size([96])\n",
      "mobile_net.features.4.block.1.1.bias torch.Size([96])\n",
      "mobile_net.features.4.block.2.fc1.weight torch.Size([24, 96, 1, 1])\n",
      "mobile_net.features.4.block.2.fc1.bias torch.Size([24])\n",
      "mobile_net.features.4.block.2.fc2.weight torch.Size([96, 24, 1, 1])\n",
      "mobile_net.features.4.block.2.fc2.bias torch.Size([96])\n",
      "mobile_net.features.4.block.3.0.weight torch.Size([40, 96, 1, 1])\n",
      "mobile_net.features.4.block.3.1.weight torch.Size([40])\n",
      "mobile_net.features.4.block.3.1.bias torch.Size([40])\n",
      "mobile_net.features.5.block.0.0.weight torch.Size([240, 40, 1, 1])\n",
      "mobile_net.features.5.block.0.1.weight torch.Size([240])\n",
      "mobile_net.features.5.block.0.1.bias torch.Size([240])\n",
      "mobile_net.features.5.block.1.0.weight torch.Size([240, 1, 5, 5])\n",
      "mobile_net.features.5.block.1.1.weight torch.Size([240])\n",
      "mobile_net.features.5.block.1.1.bias torch.Size([240])\n",
      "mobile_net.features.5.block.2.fc1.weight torch.Size([64, 240, 1, 1])\n",
      "mobile_net.features.5.block.2.fc1.bias torch.Size([64])\n",
      "mobile_net.features.5.block.2.fc2.weight torch.Size([240, 64, 1, 1])\n",
      "mobile_net.features.5.block.2.fc2.bias torch.Size([240])\n",
      "mobile_net.features.5.block.3.0.weight torch.Size([40, 240, 1, 1])\n",
      "mobile_net.features.5.block.3.1.weight torch.Size([40])\n",
      "mobile_net.features.5.block.3.1.bias torch.Size([40])\n",
      "mobile_net.features.6.block.0.0.weight torch.Size([240, 40, 1, 1])\n",
      "mobile_net.features.6.block.0.1.weight torch.Size([240])\n",
      "mobile_net.features.6.block.0.1.bias torch.Size([240])\n",
      "mobile_net.features.6.block.1.0.weight torch.Size([240, 1, 5, 5])\n",
      "mobile_net.features.6.block.1.1.weight torch.Size([240])\n",
      "mobile_net.features.6.block.1.1.bias torch.Size([240])\n",
      "mobile_net.features.6.block.2.fc1.weight torch.Size([64, 240, 1, 1])\n",
      "mobile_net.features.6.block.2.fc1.bias torch.Size([64])\n",
      "mobile_net.features.6.block.2.fc2.weight torch.Size([240, 64, 1, 1])\n",
      "mobile_net.features.6.block.2.fc2.bias torch.Size([240])\n",
      "mobile_net.features.6.block.3.0.weight torch.Size([40, 240, 1, 1])\n",
      "mobile_net.features.6.block.3.1.weight torch.Size([40])\n",
      "mobile_net.features.6.block.3.1.bias torch.Size([40])\n",
      "mobile_net.features.7.block.0.0.weight torch.Size([120, 40, 1, 1])\n",
      "mobile_net.features.7.block.0.1.weight torch.Size([120])\n",
      "mobile_net.features.7.block.0.1.bias torch.Size([120])\n",
      "mobile_net.features.7.block.1.0.weight torch.Size([120, 1, 5, 5])\n",
      "mobile_net.features.7.block.1.1.weight torch.Size([120])\n",
      "mobile_net.features.7.block.1.1.bias torch.Size([120])\n",
      "mobile_net.features.7.block.2.fc1.weight torch.Size([32, 120, 1, 1])\n",
      "mobile_net.features.7.block.2.fc1.bias torch.Size([32])\n",
      "mobile_net.features.7.block.2.fc2.weight torch.Size([120, 32, 1, 1])\n",
      "mobile_net.features.7.block.2.fc2.bias torch.Size([120])\n",
      "mobile_net.features.7.block.3.0.weight torch.Size([48, 120, 1, 1])\n",
      "mobile_net.features.7.block.3.1.weight torch.Size([48])\n",
      "mobile_net.features.7.block.3.1.bias torch.Size([48])\n",
      "mobile_net.features.8.block.0.0.weight torch.Size([144, 48, 1, 1])\n",
      "mobile_net.features.8.block.0.1.weight torch.Size([144])\n",
      "mobile_net.features.8.block.0.1.bias torch.Size([144])\n",
      "mobile_net.features.8.block.1.0.weight torch.Size([144, 1, 5, 5])\n",
      "mobile_net.features.8.block.1.1.weight torch.Size([144])\n",
      "mobile_net.features.8.block.1.1.bias torch.Size([144])\n",
      "mobile_net.features.8.block.2.fc1.weight torch.Size([40, 144, 1, 1])\n",
      "mobile_net.features.8.block.2.fc1.bias torch.Size([40])\n",
      "mobile_net.features.8.block.2.fc2.weight torch.Size([144, 40, 1, 1])\n",
      "mobile_net.features.8.block.2.fc2.bias torch.Size([144])\n",
      "mobile_net.features.8.block.3.0.weight torch.Size([48, 144, 1, 1])\n",
      "mobile_net.features.8.block.3.1.weight torch.Size([48])\n",
      "mobile_net.features.8.block.3.1.bias torch.Size([48])\n",
      "mobile_net.features.9.block.0.0.weight torch.Size([288, 48, 1, 1])\n",
      "mobile_net.features.9.block.0.1.weight torch.Size([288])\n",
      "mobile_net.features.9.block.0.1.bias torch.Size([288])\n",
      "mobile_net.features.9.block.1.0.weight torch.Size([288, 1, 5, 5])\n",
      "mobile_net.features.9.block.1.1.weight torch.Size([288])\n",
      "mobile_net.features.9.block.1.1.bias torch.Size([288])\n",
      "mobile_net.features.9.block.2.fc1.weight torch.Size([72, 288, 1, 1])\n",
      "mobile_net.features.9.block.2.fc1.bias torch.Size([72])\n",
      "mobile_net.features.9.block.2.fc2.weight torch.Size([288, 72, 1, 1])\n",
      "mobile_net.features.9.block.2.fc2.bias torch.Size([288])\n",
      "mobile_net.features.9.block.3.0.weight torch.Size([96, 288, 1, 1])\n",
      "mobile_net.features.9.block.3.1.weight torch.Size([96])\n",
      "mobile_net.features.9.block.3.1.bias torch.Size([96])\n",
      "mobile_net.features.10.block.0.0.weight torch.Size([576, 96, 1, 1])\n",
      "mobile_net.features.10.block.0.1.weight torch.Size([576])\n",
      "mobile_net.features.10.block.0.1.bias torch.Size([576])\n",
      "mobile_net.features.10.block.1.0.weight torch.Size([576, 1, 5, 5])\n",
      "mobile_net.features.10.block.1.1.weight torch.Size([576])\n",
      "mobile_net.features.10.block.1.1.bias torch.Size([576])\n",
      "mobile_net.features.10.block.2.fc1.weight torch.Size([144, 576, 1, 1])\n",
      "mobile_net.features.10.block.2.fc1.bias torch.Size([144])\n",
      "mobile_net.features.10.block.2.fc2.weight torch.Size([576, 144, 1, 1])\n",
      "mobile_net.features.10.block.2.fc2.bias torch.Size([576])\n",
      "mobile_net.features.10.block.3.0.weight torch.Size([96, 576, 1, 1])\n",
      "mobile_net.features.10.block.3.1.weight torch.Size([96])\n",
      "mobile_net.features.10.block.3.1.bias torch.Size([96])\n",
      "mobile_net.features.11.block.0.0.weight torch.Size([576, 96, 1, 1])\n",
      "mobile_net.features.11.block.0.1.weight torch.Size([576])\n",
      "mobile_net.features.11.block.0.1.bias torch.Size([576])\n",
      "mobile_net.features.11.block.1.0.weight torch.Size([576, 1, 5, 5])\n",
      "mobile_net.features.11.block.1.1.weight torch.Size([576])\n",
      "mobile_net.features.11.block.1.1.bias torch.Size([576])\n",
      "mobile_net.features.11.block.2.fc1.weight torch.Size([144, 576, 1, 1])\n",
      "mobile_net.features.11.block.2.fc1.bias torch.Size([144])\n",
      "mobile_net.features.11.block.2.fc2.weight torch.Size([576, 144, 1, 1])\n",
      "mobile_net.features.11.block.2.fc2.bias torch.Size([576])\n",
      "mobile_net.features.11.block.3.0.weight torch.Size([96, 576, 1, 1])\n",
      "mobile_net.features.11.block.3.1.weight torch.Size([96])\n",
      "mobile_net.features.11.block.3.1.bias torch.Size([96])\n",
      "mobile_net.features.12.0.weight torch.Size([576, 96, 1, 1])\n",
      "mobile_net.features.12.1.weight torch.Size([576])\n",
      "mobile_net.features.12.1.bias torch.Size([576])\n",
      "mobile_net.classifier.0.weight torch.Size([1024, 576])\n",
      "mobile_net.classifier.0.bias torch.Size([1024])\n",
      "bert.embeddings.word_embeddings.weight torch.Size([30522, 768])\n",
      "bert.embeddings.position_embeddings.weight torch.Size([512, 768])\n",
      "bert.embeddings.LayerNorm.weight torch.Size([768])\n",
      "bert.embeddings.LayerNorm.bias torch.Size([768])\n",
      "bert.transformer.layer.0.attention.q_lin.weight torch.Size([768, 768])\n",
      "bert.transformer.layer.0.attention.q_lin.bias torch.Size([768])\n",
      "bert.transformer.layer.0.attention.k_lin.weight torch.Size([768, 768])\n",
      "bert.transformer.layer.0.attention.k_lin.bias torch.Size([768])\n",
      "bert.transformer.layer.0.attention.v_lin.weight torch.Size([768, 768])\n",
      "bert.transformer.layer.0.attention.v_lin.bias torch.Size([768])\n",
      "bert.transformer.layer.0.attention.out_lin.weight torch.Size([768, 768])\n",
      "bert.transformer.layer.0.attention.out_lin.bias torch.Size([768])\n",
      "bert.transformer.layer.0.sa_layer_norm.weight torch.Size([768])\n",
      "bert.transformer.layer.0.sa_layer_norm.bias torch.Size([768])\n",
      "bert.transformer.layer.0.ffn.lin1.weight torch.Size([3072, 768])\n",
      "bert.transformer.layer.0.ffn.lin1.bias torch.Size([3072])\n",
      "bert.transformer.layer.0.ffn.lin2.weight torch.Size([768, 3072])\n",
      "bert.transformer.layer.0.ffn.lin2.bias torch.Size([768])\n",
      "bert.transformer.layer.0.output_layer_norm.weight torch.Size([768])\n",
      "bert.transformer.layer.0.output_layer_norm.bias torch.Size([768])\n",
      "bert.transformer.layer.1.attention.q_lin.weight torch.Size([768, 768])\n",
      "bert.transformer.layer.1.attention.q_lin.bias torch.Size([768])\n",
      "bert.transformer.layer.1.attention.k_lin.weight torch.Size([768, 768])\n",
      "bert.transformer.layer.1.attention.k_lin.bias torch.Size([768])\n",
      "bert.transformer.layer.1.attention.v_lin.weight torch.Size([768, 768])\n",
      "bert.transformer.layer.1.attention.v_lin.bias torch.Size([768])\n",
      "bert.transformer.layer.1.attention.out_lin.weight torch.Size([768, 768])\n",
      "bert.transformer.layer.1.attention.out_lin.bias torch.Size([768])\n",
      "bert.transformer.layer.1.sa_layer_norm.weight torch.Size([768])\n",
      "bert.transformer.layer.1.sa_layer_norm.bias torch.Size([768])\n",
      "bert.transformer.layer.1.ffn.lin1.weight torch.Size([3072, 768])\n",
      "bert.transformer.layer.1.ffn.lin1.bias torch.Size([3072])\n",
      "bert.transformer.layer.1.ffn.lin2.weight torch.Size([768, 3072])\n",
      "bert.transformer.layer.1.ffn.lin2.bias torch.Size([768])\n",
      "bert.transformer.layer.1.output_layer_norm.weight torch.Size([768])\n",
      "bert.transformer.layer.1.output_layer_norm.bias torch.Size([768])\n",
      "bert.transformer.layer.2.attention.q_lin.weight torch.Size([768, 768])\n",
      "bert.transformer.layer.2.attention.q_lin.bias torch.Size([768])\n",
      "bert.transformer.layer.2.attention.k_lin.weight torch.Size([768, 768])\n",
      "bert.transformer.layer.2.attention.k_lin.bias torch.Size([768])\n",
      "bert.transformer.layer.2.attention.v_lin.weight torch.Size([768, 768])\n",
      "bert.transformer.layer.2.attention.v_lin.bias torch.Size([768])\n",
      "bert.transformer.layer.2.attention.out_lin.weight torch.Size([768, 768])\n",
      "bert.transformer.layer.2.attention.out_lin.bias torch.Size([768])\n",
      "bert.transformer.layer.2.sa_layer_norm.weight torch.Size([768])\n",
      "bert.transformer.layer.2.sa_layer_norm.bias torch.Size([768])\n",
      "bert.transformer.layer.2.ffn.lin1.weight torch.Size([3072, 768])\n",
      "bert.transformer.layer.2.ffn.lin1.bias torch.Size([3072])\n",
      "bert.transformer.layer.2.ffn.lin2.weight torch.Size([768, 3072])\n",
      "bert.transformer.layer.2.ffn.lin2.bias torch.Size([768])\n",
      "bert.transformer.layer.2.output_layer_norm.weight torch.Size([768])\n",
      "bert.transformer.layer.2.output_layer_norm.bias torch.Size([768])\n",
      "bert.transformer.layer.3.attention.q_lin.weight torch.Size([768, 768])\n",
      "bert.transformer.layer.3.attention.q_lin.bias torch.Size([768])\n",
      "bert.transformer.layer.3.attention.k_lin.weight torch.Size([768, 768])\n",
      "bert.transformer.layer.3.attention.k_lin.bias torch.Size([768])\n",
      "bert.transformer.layer.3.attention.v_lin.weight torch.Size([768, 768])\n",
      "bert.transformer.layer.3.attention.v_lin.bias torch.Size([768])\n",
      "bert.transformer.layer.3.attention.out_lin.weight torch.Size([768, 768])\n",
      "bert.transformer.layer.3.attention.out_lin.bias torch.Size([768])\n",
      "bert.transformer.layer.3.sa_layer_norm.weight torch.Size([768])\n",
      "bert.transformer.layer.3.sa_layer_norm.bias torch.Size([768])\n",
      "bert.transformer.layer.3.ffn.lin1.weight torch.Size([3072, 768])\n",
      "bert.transformer.layer.3.ffn.lin1.bias torch.Size([3072])\n",
      "bert.transformer.layer.3.ffn.lin2.weight torch.Size([768, 3072])\n",
      "bert.transformer.layer.3.ffn.lin2.bias torch.Size([768])\n",
      "bert.transformer.layer.3.output_layer_norm.weight torch.Size([768])\n",
      "bert.transformer.layer.3.output_layer_norm.bias torch.Size([768])\n",
      "bert.transformer.layer.4.attention.q_lin.weight torch.Size([768, 768])\n",
      "bert.transformer.layer.4.attention.q_lin.bias torch.Size([768])\n",
      "bert.transformer.layer.4.attention.k_lin.weight torch.Size([768, 768])\n",
      "bert.transformer.layer.4.attention.k_lin.bias torch.Size([768])\n",
      "bert.transformer.layer.4.attention.v_lin.weight torch.Size([768, 768])\n",
      "bert.transformer.layer.4.attention.v_lin.bias torch.Size([768])\n",
      "bert.transformer.layer.4.attention.out_lin.weight torch.Size([768, 768])\n",
      "bert.transformer.layer.4.attention.out_lin.bias torch.Size([768])\n",
      "bert.transformer.layer.4.sa_layer_norm.weight torch.Size([768])\n",
      "bert.transformer.layer.4.sa_layer_norm.bias torch.Size([768])\n",
      "bert.transformer.layer.4.ffn.lin1.weight torch.Size([3072, 768])\n",
      "bert.transformer.layer.4.ffn.lin1.bias torch.Size([3072])\n",
      "bert.transformer.layer.4.ffn.lin2.weight torch.Size([768, 3072])\n",
      "bert.transformer.layer.4.ffn.lin2.bias torch.Size([768])\n",
      "bert.transformer.layer.4.output_layer_norm.weight torch.Size([768])\n",
      "bert.transformer.layer.4.output_layer_norm.bias torch.Size([768])\n",
      "bert.transformer.layer.5.attention.q_lin.weight torch.Size([768, 768])\n",
      "bert.transformer.layer.5.attention.q_lin.bias torch.Size([768])\n",
      "bert.transformer.layer.5.attention.k_lin.weight torch.Size([768, 768])\n",
      "bert.transformer.layer.5.attention.k_lin.bias torch.Size([768])\n",
      "bert.transformer.layer.5.attention.v_lin.weight torch.Size([768, 768])\n",
      "bert.transformer.layer.5.attention.v_lin.bias torch.Size([768])\n",
      "bert.transformer.layer.5.attention.out_lin.weight torch.Size([768, 768])\n",
      "bert.transformer.layer.5.attention.out_lin.bias torch.Size([768])\n",
      "bert.transformer.layer.5.sa_layer_norm.weight torch.Size([768])\n",
      "bert.transformer.layer.5.sa_layer_norm.bias torch.Size([768])\n",
      "bert.transformer.layer.5.ffn.lin1.weight torch.Size([3072, 768])\n",
      "bert.transformer.layer.5.ffn.lin1.bias torch.Size([3072])\n",
      "bert.transformer.layer.5.ffn.lin2.weight torch.Size([768, 3072])\n",
      "bert.transformer.layer.5.ffn.lin2.bias torch.Size([768])\n",
      "bert.transformer.layer.5.output_layer_norm.weight torch.Size([768])\n",
      "bert.transformer.layer.5.output_layer_norm.bias torch.Size([768])\n",
      "fc.0.weight torch.Size([512, 1792])\n",
      "fc.0.bias torch.Size([512])\n",
      "fc.1.weight torch.Size([512])\n",
      "fc.1.bias torch.Size([512])\n",
      "fc.4.weight torch.Size([1, 512])\n",
      "fc.4.bias torch.Size([1])\n"
     ]
    }
   ],
   "source": [
    "for name, param in model.named_parameters():\n",
    "    print(name,param.size())"
   ]
  },
  {
   "cell_type": "code",
   "execution_count": 39,
   "metadata": {},
   "outputs": [
    {
     "name": "stdout",
     "output_type": "stream",
     "text": [
      "bert.transformer.layer.5.attention.q_lin.weight torch.Size([768, 768])\n",
      "bert.transformer.layer.5.attention.q_lin.bias torch.Size([768])\n",
      "bert.transformer.layer.5.attention.k_lin.weight torch.Size([768, 768])\n",
      "bert.transformer.layer.5.attention.k_lin.bias torch.Size([768])\n",
      "bert.transformer.layer.5.attention.v_lin.weight torch.Size([768, 768])\n",
      "bert.transformer.layer.5.attention.v_lin.bias torch.Size([768])\n",
      "bert.transformer.layer.5.attention.out_lin.weight torch.Size([768, 768])\n",
      "bert.transformer.layer.5.attention.out_lin.bias torch.Size([768])\n",
      "bert.transformer.layer.5.sa_layer_norm.weight torch.Size([768])\n",
      "bert.transformer.layer.5.sa_layer_norm.bias torch.Size([768])\n",
      "bert.transformer.layer.5.ffn.lin1.weight torch.Size([3072, 768])\n",
      "bert.transformer.layer.5.ffn.lin1.bias torch.Size([3072])\n",
      "bert.transformer.layer.5.ffn.lin2.weight torch.Size([768, 3072])\n",
      "bert.transformer.layer.5.ffn.lin2.bias torch.Size([768])\n",
      "bert.transformer.layer.5.output_layer_norm.weight torch.Size([768])\n",
      "bert.transformer.layer.5.output_layer_norm.bias torch.Size([768])\n",
      "fc.0.weight torch.Size([512, 1792])\n",
      "fc.0.bias torch.Size([512])\n",
      "fc.1.weight torch.Size([512])\n",
      "fc.1.bias torch.Size([512])\n",
      "fc.4.weight torch.Size([1, 512])\n",
      "fc.4.bias torch.Size([1])\n"
     ]
    }
   ],
   "source": [
    "# #验证一下\n",
    "for name, param in model.named_parameters():\n",
    "    if param.requires_grad:\n",
    "        print(name,param.size())"
   ]
  },
  {
   "cell_type": "code",
   "execution_count": 40,
   "metadata": {},
   "outputs": [
    {
     "data": {
      "text/plain": [
       "Multi_model(\n",
       "  (mobile_net): MobileNetV3(\n",
       "    (features): Sequential(\n",
       "      (0): Conv2dNormActivation(\n",
       "        (0): Conv2d(3, 16, kernel_size=(3, 3), stride=(2, 2), padding=(1, 1), bias=False)\n",
       "        (1): BatchNorm2d(16, eps=0.001, momentum=0.01, affine=True, track_running_stats=True)\n",
       "        (2): Hardswish()\n",
       "      )\n",
       "      (1): InvertedResidual(\n",
       "        (block): Sequential(\n",
       "          (0): Conv2dNormActivation(\n",
       "            (0): Conv2d(16, 16, kernel_size=(3, 3), stride=(2, 2), padding=(1, 1), groups=16, bias=False)\n",
       "            (1): BatchNorm2d(16, eps=0.001, momentum=0.01, affine=True, track_running_stats=True)\n",
       "            (2): ReLU(inplace=True)\n",
       "          )\n",
       "          (1): SqueezeExcitation(\n",
       "            (avgpool): AdaptiveAvgPool2d(output_size=1)\n",
       "            (fc1): Conv2d(16, 8, kernel_size=(1, 1), stride=(1, 1))\n",
       "            (fc2): Conv2d(8, 16, kernel_size=(1, 1), stride=(1, 1))\n",
       "            (activation): ReLU()\n",
       "            (scale_activation): Hardsigmoid()\n",
       "          )\n",
       "          (2): Conv2dNormActivation(\n",
       "            (0): Conv2d(16, 16, kernel_size=(1, 1), stride=(1, 1), bias=False)\n",
       "            (1): BatchNorm2d(16, eps=0.001, momentum=0.01, affine=True, track_running_stats=True)\n",
       "          )\n",
       "        )\n",
       "      )\n",
       "      (2): InvertedResidual(\n",
       "        (block): Sequential(\n",
       "          (0): Conv2dNormActivation(\n",
       "            (0): Conv2d(16, 72, kernel_size=(1, 1), stride=(1, 1), bias=False)\n",
       "            (1): BatchNorm2d(72, eps=0.001, momentum=0.01, affine=True, track_running_stats=True)\n",
       "            (2): ReLU(inplace=True)\n",
       "          )\n",
       "          (1): Conv2dNormActivation(\n",
       "            (0): Conv2d(72, 72, kernel_size=(3, 3), stride=(2, 2), padding=(1, 1), groups=72, bias=False)\n",
       "            (1): BatchNorm2d(72, eps=0.001, momentum=0.01, affine=True, track_running_stats=True)\n",
       "            (2): ReLU(inplace=True)\n",
       "          )\n",
       "          (2): Conv2dNormActivation(\n",
       "            (0): Conv2d(72, 24, kernel_size=(1, 1), stride=(1, 1), bias=False)\n",
       "            (1): BatchNorm2d(24, eps=0.001, momentum=0.01, affine=True, track_running_stats=True)\n",
       "          )\n",
       "        )\n",
       "      )\n",
       "      (3): InvertedResidual(\n",
       "        (block): Sequential(\n",
       "          (0): Conv2dNormActivation(\n",
       "            (0): Conv2d(24, 88, kernel_size=(1, 1), stride=(1, 1), bias=False)\n",
       "            (1): BatchNorm2d(88, eps=0.001, momentum=0.01, affine=True, track_running_stats=True)\n",
       "            (2): ReLU(inplace=True)\n",
       "          )\n",
       "          (1): Conv2dNormActivation(\n",
       "            (0): Conv2d(88, 88, kernel_size=(3, 3), stride=(1, 1), padding=(1, 1), groups=88, bias=False)\n",
       "            (1): BatchNorm2d(88, eps=0.001, momentum=0.01, affine=True, track_running_stats=True)\n",
       "            (2): ReLU(inplace=True)\n",
       "          )\n",
       "          (2): Conv2dNormActivation(\n",
       "            (0): Conv2d(88, 24, kernel_size=(1, 1), stride=(1, 1), bias=False)\n",
       "            (1): BatchNorm2d(24, eps=0.001, momentum=0.01, affine=True, track_running_stats=True)\n",
       "          )\n",
       "        )\n",
       "      )\n",
       "      (4): InvertedResidual(\n",
       "        (block): Sequential(\n",
       "          (0): Conv2dNormActivation(\n",
       "            (0): Conv2d(24, 96, kernel_size=(1, 1), stride=(1, 1), bias=False)\n",
       "            (1): BatchNorm2d(96, eps=0.001, momentum=0.01, affine=True, track_running_stats=True)\n",
       "            (2): Hardswish()\n",
       "          )\n",
       "          (1): Conv2dNormActivation(\n",
       "            (0): Conv2d(96, 96, kernel_size=(5, 5), stride=(2, 2), padding=(2, 2), groups=96, bias=False)\n",
       "            (1): BatchNorm2d(96, eps=0.001, momentum=0.01, affine=True, track_running_stats=True)\n",
       "            (2): Hardswish()\n",
       "          )\n",
       "          (2): SqueezeExcitation(\n",
       "            (avgpool): AdaptiveAvgPool2d(output_size=1)\n",
       "            (fc1): Conv2d(96, 24, kernel_size=(1, 1), stride=(1, 1))\n",
       "            (fc2): Conv2d(24, 96, kernel_size=(1, 1), stride=(1, 1))\n",
       "            (activation): ReLU()\n",
       "            (scale_activation): Hardsigmoid()\n",
       "          )\n",
       "          (3): Conv2dNormActivation(\n",
       "            (0): Conv2d(96, 40, kernel_size=(1, 1), stride=(1, 1), bias=False)\n",
       "            (1): BatchNorm2d(40, eps=0.001, momentum=0.01, affine=True, track_running_stats=True)\n",
       "          )\n",
       "        )\n",
       "      )\n",
       "      (5): InvertedResidual(\n",
       "        (block): Sequential(\n",
       "          (0): Conv2dNormActivation(\n",
       "            (0): Conv2d(40, 240, kernel_size=(1, 1), stride=(1, 1), bias=False)\n",
       "            (1): BatchNorm2d(240, eps=0.001, momentum=0.01, affine=True, track_running_stats=True)\n",
       "            (2): Hardswish()\n",
       "          )\n",
       "          (1): Conv2dNormActivation(\n",
       "            (0): Conv2d(240, 240, kernel_size=(5, 5), stride=(1, 1), padding=(2, 2), groups=240, bias=False)\n",
       "            (1): BatchNorm2d(240, eps=0.001, momentum=0.01, affine=True, track_running_stats=True)\n",
       "            (2): Hardswish()\n",
       "          )\n",
       "          (2): SqueezeExcitation(\n",
       "            (avgpool): AdaptiveAvgPool2d(output_size=1)\n",
       "            (fc1): Conv2d(240, 64, kernel_size=(1, 1), stride=(1, 1))\n",
       "            (fc2): Conv2d(64, 240, kernel_size=(1, 1), stride=(1, 1))\n",
       "            (activation): ReLU()\n",
       "            (scale_activation): Hardsigmoid()\n",
       "          )\n",
       "          (3): Conv2dNormActivation(\n",
       "            (0): Conv2d(240, 40, kernel_size=(1, 1), stride=(1, 1), bias=False)\n",
       "            (1): BatchNorm2d(40, eps=0.001, momentum=0.01, affine=True, track_running_stats=True)\n",
       "          )\n",
       "        )\n",
       "      )\n",
       "      (6): InvertedResidual(\n",
       "        (block): Sequential(\n",
       "          (0): Conv2dNormActivation(\n",
       "            (0): Conv2d(40, 240, kernel_size=(1, 1), stride=(1, 1), bias=False)\n",
       "            (1): BatchNorm2d(240, eps=0.001, momentum=0.01, affine=True, track_running_stats=True)\n",
       "            (2): Hardswish()\n",
       "          )\n",
       "          (1): Conv2dNormActivation(\n",
       "            (0): Conv2d(240, 240, kernel_size=(5, 5), stride=(1, 1), padding=(2, 2), groups=240, bias=False)\n",
       "            (1): BatchNorm2d(240, eps=0.001, momentum=0.01, affine=True, track_running_stats=True)\n",
       "            (2): Hardswish()\n",
       "          )\n",
       "          (2): SqueezeExcitation(\n",
       "            (avgpool): AdaptiveAvgPool2d(output_size=1)\n",
       "            (fc1): Conv2d(240, 64, kernel_size=(1, 1), stride=(1, 1))\n",
       "            (fc2): Conv2d(64, 240, kernel_size=(1, 1), stride=(1, 1))\n",
       "            (activation): ReLU()\n",
       "            (scale_activation): Hardsigmoid()\n",
       "          )\n",
       "          (3): Conv2dNormActivation(\n",
       "            (0): Conv2d(240, 40, kernel_size=(1, 1), stride=(1, 1), bias=False)\n",
       "            (1): BatchNorm2d(40, eps=0.001, momentum=0.01, affine=True, track_running_stats=True)\n",
       "          )\n",
       "        )\n",
       "      )\n",
       "      (7): InvertedResidual(\n",
       "        (block): Sequential(\n",
       "          (0): Conv2dNormActivation(\n",
       "            (0): Conv2d(40, 120, kernel_size=(1, 1), stride=(1, 1), bias=False)\n",
       "            (1): BatchNorm2d(120, eps=0.001, momentum=0.01, affine=True, track_running_stats=True)\n",
       "            (2): Hardswish()\n",
       "          )\n",
       "          (1): Conv2dNormActivation(\n",
       "            (0): Conv2d(120, 120, kernel_size=(5, 5), stride=(1, 1), padding=(2, 2), groups=120, bias=False)\n",
       "            (1): BatchNorm2d(120, eps=0.001, momentum=0.01, affine=True, track_running_stats=True)\n",
       "            (2): Hardswish()\n",
       "          )\n",
       "          (2): SqueezeExcitation(\n",
       "            (avgpool): AdaptiveAvgPool2d(output_size=1)\n",
       "            (fc1): Conv2d(120, 32, kernel_size=(1, 1), stride=(1, 1))\n",
       "            (fc2): Conv2d(32, 120, kernel_size=(1, 1), stride=(1, 1))\n",
       "            (activation): ReLU()\n",
       "            (scale_activation): Hardsigmoid()\n",
       "          )\n",
       "          (3): Conv2dNormActivation(\n",
       "            (0): Conv2d(120, 48, kernel_size=(1, 1), stride=(1, 1), bias=False)\n",
       "            (1): BatchNorm2d(48, eps=0.001, momentum=0.01, affine=True, track_running_stats=True)\n",
       "          )\n",
       "        )\n",
       "      )\n",
       "      (8): InvertedResidual(\n",
       "        (block): Sequential(\n",
       "          (0): Conv2dNormActivation(\n",
       "            (0): Conv2d(48, 144, kernel_size=(1, 1), stride=(1, 1), bias=False)\n",
       "            (1): BatchNorm2d(144, eps=0.001, momentum=0.01, affine=True, track_running_stats=True)\n",
       "            (2): Hardswish()\n",
       "          )\n",
       "          (1): Conv2dNormActivation(\n",
       "            (0): Conv2d(144, 144, kernel_size=(5, 5), stride=(1, 1), padding=(2, 2), groups=144, bias=False)\n",
       "            (1): BatchNorm2d(144, eps=0.001, momentum=0.01, affine=True, track_running_stats=True)\n",
       "            (2): Hardswish()\n",
       "          )\n",
       "          (2): SqueezeExcitation(\n",
       "            (avgpool): AdaptiveAvgPool2d(output_size=1)\n",
       "            (fc1): Conv2d(144, 40, kernel_size=(1, 1), stride=(1, 1))\n",
       "            (fc2): Conv2d(40, 144, kernel_size=(1, 1), stride=(1, 1))\n",
       "            (activation): ReLU()\n",
       "            (scale_activation): Hardsigmoid()\n",
       "          )\n",
       "          (3): Conv2dNormActivation(\n",
       "            (0): Conv2d(144, 48, kernel_size=(1, 1), stride=(1, 1), bias=False)\n",
       "            (1): BatchNorm2d(48, eps=0.001, momentum=0.01, affine=True, track_running_stats=True)\n",
       "          )\n",
       "        )\n",
       "      )\n",
       "      (9): InvertedResidual(\n",
       "        (block): Sequential(\n",
       "          (0): Conv2dNormActivation(\n",
       "            (0): Conv2d(48, 288, kernel_size=(1, 1), stride=(1, 1), bias=False)\n",
       "            (1): BatchNorm2d(288, eps=0.001, momentum=0.01, affine=True, track_running_stats=True)\n",
       "            (2): Hardswish()\n",
       "          )\n",
       "          (1): Conv2dNormActivation(\n",
       "            (0): Conv2d(288, 288, kernel_size=(5, 5), stride=(2, 2), padding=(2, 2), groups=288, bias=False)\n",
       "            (1): BatchNorm2d(288, eps=0.001, momentum=0.01, affine=True, track_running_stats=True)\n",
       "            (2): Hardswish()\n",
       "          )\n",
       "          (2): SqueezeExcitation(\n",
       "            (avgpool): AdaptiveAvgPool2d(output_size=1)\n",
       "            (fc1): Conv2d(288, 72, kernel_size=(1, 1), stride=(1, 1))\n",
       "            (fc2): Conv2d(72, 288, kernel_size=(1, 1), stride=(1, 1))\n",
       "            (activation): ReLU()\n",
       "            (scale_activation): Hardsigmoid()\n",
       "          )\n",
       "          (3): Conv2dNormActivation(\n",
       "            (0): Conv2d(288, 96, kernel_size=(1, 1), stride=(1, 1), bias=False)\n",
       "            (1): BatchNorm2d(96, eps=0.001, momentum=0.01, affine=True, track_running_stats=True)\n",
       "          )\n",
       "        )\n",
       "      )\n",
       "      (10): InvertedResidual(\n",
       "        (block): Sequential(\n",
       "          (0): Conv2dNormActivation(\n",
       "            (0): Conv2d(96, 576, kernel_size=(1, 1), stride=(1, 1), bias=False)\n",
       "            (1): BatchNorm2d(576, eps=0.001, momentum=0.01, affine=True, track_running_stats=True)\n",
       "            (2): Hardswish()\n",
       "          )\n",
       "          (1): Conv2dNormActivation(\n",
       "            (0): Conv2d(576, 576, kernel_size=(5, 5), stride=(1, 1), padding=(2, 2), groups=576, bias=False)\n",
       "            (1): BatchNorm2d(576, eps=0.001, momentum=0.01, affine=True, track_running_stats=True)\n",
       "            (2): Hardswish()\n",
       "          )\n",
       "          (2): SqueezeExcitation(\n",
       "            (avgpool): AdaptiveAvgPool2d(output_size=1)\n",
       "            (fc1): Conv2d(576, 144, kernel_size=(1, 1), stride=(1, 1))\n",
       "            (fc2): Conv2d(144, 576, kernel_size=(1, 1), stride=(1, 1))\n",
       "            (activation): ReLU()\n",
       "            (scale_activation): Hardsigmoid()\n",
       "          )\n",
       "          (3): Conv2dNormActivation(\n",
       "            (0): Conv2d(576, 96, kernel_size=(1, 1), stride=(1, 1), bias=False)\n",
       "            (1): BatchNorm2d(96, eps=0.001, momentum=0.01, affine=True, track_running_stats=True)\n",
       "          )\n",
       "        )\n",
       "      )\n",
       "      (11): InvertedResidual(\n",
       "        (block): Sequential(\n",
       "          (0): Conv2dNormActivation(\n",
       "            (0): Conv2d(96, 576, kernel_size=(1, 1), stride=(1, 1), bias=False)\n",
       "            (1): BatchNorm2d(576, eps=0.001, momentum=0.01, affine=True, track_running_stats=True)\n",
       "            (2): Hardswish()\n",
       "          )\n",
       "          (1): Conv2dNormActivation(\n",
       "            (0): Conv2d(576, 576, kernel_size=(5, 5), stride=(1, 1), padding=(2, 2), groups=576, bias=False)\n",
       "            (1): BatchNorm2d(576, eps=0.001, momentum=0.01, affine=True, track_running_stats=True)\n",
       "            (2): Hardswish()\n",
       "          )\n",
       "          (2): SqueezeExcitation(\n",
       "            (avgpool): AdaptiveAvgPool2d(output_size=1)\n",
       "            (fc1): Conv2d(576, 144, kernel_size=(1, 1), stride=(1, 1))\n",
       "            (fc2): Conv2d(144, 576, kernel_size=(1, 1), stride=(1, 1))\n",
       "            (activation): ReLU()\n",
       "            (scale_activation): Hardsigmoid()\n",
       "          )\n",
       "          (3): Conv2dNormActivation(\n",
       "            (0): Conv2d(576, 96, kernel_size=(1, 1), stride=(1, 1), bias=False)\n",
       "            (1): BatchNorm2d(96, eps=0.001, momentum=0.01, affine=True, track_running_stats=True)\n",
       "          )\n",
       "        )\n",
       "      )\n",
       "      (12): Conv2dNormActivation(\n",
       "        (0): Conv2d(96, 576, kernel_size=(1, 1), stride=(1, 1), bias=False)\n",
       "        (1): BatchNorm2d(576, eps=0.001, momentum=0.01, affine=True, track_running_stats=True)\n",
       "        (2): Hardswish()\n",
       "      )\n",
       "    )\n",
       "    (avgpool): AdaptiveAvgPool2d(output_size=1)\n",
       "    (classifier): Sequential(\n",
       "      (0): Linear(in_features=576, out_features=1024, bias=True)\n",
       "      (1): Hardswish()\n",
       "      (2): Dropout(p=0.2, inplace=True)\n",
       "    )\n",
       "  )\n",
       "  (bert): DistilBertModel(\n",
       "    (embeddings): Embeddings(\n",
       "      (word_embeddings): Embedding(30522, 768, padding_idx=0)\n",
       "      (position_embeddings): Embedding(512, 768)\n",
       "      (LayerNorm): LayerNorm((768,), eps=1e-12, elementwise_affine=True)\n",
       "      (dropout): Dropout(p=0.1, inplace=False)\n",
       "    )\n",
       "    (transformer): Transformer(\n",
       "      (layer): ModuleList(\n",
       "        (0-5): 6 x TransformerBlock(\n",
       "          (attention): MultiHeadSelfAttention(\n",
       "            (dropout): Dropout(p=0.1, inplace=False)\n",
       "            (q_lin): Linear(in_features=768, out_features=768, bias=True)\n",
       "            (k_lin): Linear(in_features=768, out_features=768, bias=True)\n",
       "            (v_lin): Linear(in_features=768, out_features=768, bias=True)\n",
       "            (out_lin): Linear(in_features=768, out_features=768, bias=True)\n",
       "          )\n",
       "          (sa_layer_norm): LayerNorm((768,), eps=1e-12, elementwise_affine=True)\n",
       "          (ffn): FFN(\n",
       "            (dropout): Dropout(p=0.1, inplace=False)\n",
       "            (lin1): Linear(in_features=768, out_features=3072, bias=True)\n",
       "            (lin2): Linear(in_features=3072, out_features=768, bias=True)\n",
       "            (activation): GELUActivation()\n",
       "          )\n",
       "          (output_layer_norm): LayerNorm((768,), eps=1e-12, elementwise_affine=True)\n",
       "        )\n",
       "      )\n",
       "    )\n",
       "  )\n",
       "  (fc): Sequential(\n",
       "    (0): Linear(in_features=1792, out_features=512, bias=True)\n",
       "    (1): BatchNorm1d(512, eps=1e-05, momentum=0.1, affine=True, track_running_stats=True)\n",
       "    (2): LeakyReLU(negative_slope=0.01)\n",
       "    (3): Dropout(p=0.5, inplace=False)\n",
       "    (4): Linear(in_features=512, out_features=1, bias=True)\n",
       "    (5): Sigmoid()\n",
       "  )\n",
       ")"
      ]
     },
     "execution_count": 40,
     "metadata": {},
     "output_type": "execute_result"
    }
   ],
   "source": [
    "model"
   ]
  },
  {
   "cell_type": "code",
   "execution_count": 41,
   "metadata": {},
   "outputs": [
    {
     "name": "stderr",
     "output_type": "stream",
     "text": [
      "100%|██████████████████████████████████████████████████████████████████████████████| 4682/4682 [15:35<00:00,  5.00it/s]\n"
     ]
    },
    {
     "name": "stdout",
     "output_type": "stream",
     "text": [
      "[ Train | 001/200 ] loss = 1.21353, acc = 0.38237\n"
     ]
    },
    {
     "name": "stderr",
     "output_type": "stream",
     "text": [
      "100%|████████████████████████████████████████████████████████████████████████████████| 586/586 [01:27<00:00,  6.73it/s]\n"
     ]
    },
    {
     "name": "stdout",
     "output_type": "stream",
     "text": [
      "[ Valid | 001/200 ] loss = 0.84487, acc = 0.47792\n"
     ]
    },
    {
     "name": "stderr",
     "output_type": "stream",
     "text": [
      "100%|██████████████████████████████████████████████████████████████████████████████| 4682/4682 [15:33<00:00,  5.02it/s]\n"
     ]
    },
    {
     "name": "stdout",
     "output_type": "stream",
     "text": [
      "[ Train | 002/200 ] loss = 0.95768, acc = 0.43900\n"
     ]
    },
    {
     "name": "stderr",
     "output_type": "stream",
     "text": [
      "100%|████████████████████████████████████████████████████████████████████████████████| 586/586 [01:26<00:00,  6.76it/s]\n"
     ]
    },
    {
     "name": "stdout",
     "output_type": "stream",
     "text": [
      "[ Valid | 002/200 ] loss = 0.78494, acc = 0.51045\n"
     ]
    },
    {
     "name": "stderr",
     "output_type": "stream",
     "text": [
      "100%|██████████████████████████████████████████████████████████████████████████████| 4682/4682 [15:22<00:00,  5.07it/s]\n"
     ]
    },
    {
     "name": "stdout",
     "output_type": "stream",
     "text": [
      "[ Train | 003/200 ] loss = 0.86235, acc = 0.45772\n"
     ]
    },
    {
     "name": "stderr",
     "output_type": "stream",
     "text": [
      "100%|████████████████████████████████████████████████████████████████████████████████| 586/586 [01:27<00:00,  6.67it/s]\n"
     ]
    },
    {
     "name": "stdout",
     "output_type": "stream",
     "text": [
      "[ Valid | 003/200 ] loss = 0.74731, acc = 0.51408\n"
     ]
    },
    {
     "name": "stderr",
     "output_type": "stream",
     "text": [
      "100%|██████████████████████████████████████████████████████████████████████████████| 4682/4682 [15:18<00:00,  5.10it/s]\n"
     ]
    },
    {
     "name": "stdout",
     "output_type": "stream",
     "text": [
      "[ Train | 004/200 ] loss = 0.80666, acc = 0.47487\n"
     ]
    },
    {
     "name": "stderr",
     "output_type": "stream",
     "text": [
      "100%|████████████████████████████████████████████████████████████████████████████████| 586/586 [01:27<00:00,  6.66it/s]\n"
     ]
    },
    {
     "name": "stdout",
     "output_type": "stream",
     "text": [
      "[ Valid | 004/200 ] loss = 0.73228, acc = 0.53157\n"
     ]
    },
    {
     "name": "stderr",
     "output_type": "stream",
     "text": [
      "100%|██████████████████████████████████████████████████████████████████████████████| 4682/4682 [15:17<00:00,  5.10it/s]\n"
     ]
    },
    {
     "name": "stdout",
     "output_type": "stream",
     "text": [
      "[ Train | 005/200 ] loss = 0.76860, acc = 0.48487\n"
     ]
    },
    {
     "name": "stderr",
     "output_type": "stream",
     "text": [
      "100%|████████████████████████████████████████████████████████████████████████████████| 586/586 [01:27<00:00,  6.72it/s]\n"
     ]
    },
    {
     "name": "stdout",
     "output_type": "stream",
     "text": [
      "[ Valid | 005/200 ] loss = 0.69253, acc = 0.53264\n"
     ]
    },
    {
     "name": "stderr",
     "output_type": "stream",
     "text": [
      "100%|██████████████████████████████████████████████████████████████████████████████| 4682/4682 [15:31<00:00,  5.02it/s]\n"
     ]
    },
    {
     "name": "stdout",
     "output_type": "stream",
     "text": [
      "[ Train | 006/200 ] loss = 0.73050, acc = 0.49675\n"
     ]
    },
    {
     "name": "stderr",
     "output_type": "stream",
     "text": [
      "100%|████████████████████████████████████████████████████████████████████████████████| 586/586 [01:27<00:00,  6.73it/s]\n"
     ]
    },
    {
     "name": "stdout",
     "output_type": "stream",
     "text": [
      "did not increase valid_loss. break counter now at 1\n",
      "[ Valid | 006/200 ] loss = 0.69258, acc = 0.54565\n"
     ]
    },
    {
     "name": "stderr",
     "output_type": "stream",
     "text": [
      "100%|██████████████████████████████████████████████████████████████████████████████| 4682/4682 [15:19<00:00,  5.09it/s]\n"
     ]
    },
    {
     "name": "stdout",
     "output_type": "stream",
     "text": [
      "[ Train | 007/200 ] loss = 0.70387, acc = 0.50328\n"
     ]
    },
    {
     "name": "stderr",
     "output_type": "stream",
     "text": [
      "100%|████████████████████████████████████████████████████████████████████████████████| 586/586 [01:25<00:00,  6.82it/s]\n"
     ]
    },
    {
     "name": "stdout",
     "output_type": "stream",
     "text": [
      "[ Valid | 007/200 ] loss = 0.68389, acc = 0.55066\n"
     ]
    },
    {
     "name": "stderr",
     "output_type": "stream",
     "text": [
      "100%|██████████████████████████████████████████████████████████████████████████████| 4682/4682 [15:24<00:00,  5.06it/s]\n"
     ]
    },
    {
     "name": "stdout",
     "output_type": "stream",
     "text": [
      "[ Train | 008/200 ] loss = 0.67692, acc = 0.51217\n"
     ]
    },
    {
     "name": "stderr",
     "output_type": "stream",
     "text": [
      "100%|████████████████████████████████████████████████████████████████████████████████| 586/586 [01:26<00:00,  6.76it/s]\n"
     ]
    },
    {
     "name": "stdout",
     "output_type": "stream",
     "text": [
      "[ Valid | 008/200 ] loss = 0.67583, acc = 0.55141\n"
     ]
    },
    {
     "name": "stderr",
     "output_type": "stream",
     "text": [
      "100%|██████████████████████████████████████████████████████████████████████████████| 4682/4682 [15:28<00:00,  5.04it/s]\n"
     ]
    },
    {
     "name": "stdout",
     "output_type": "stream",
     "text": [
      "[ Train | 009/200 ] loss = 0.65060, acc = 0.52064\n"
     ]
    },
    {
     "name": "stderr",
     "output_type": "stream",
     "text": [
      "100%|████████████████████████████████████████████████████████████████████████████████| 586/586 [01:28<00:00,  6.61it/s]\n"
     ]
    },
    {
     "name": "stdout",
     "output_type": "stream",
     "text": [
      "[ Valid | 009/200 ] loss = 0.65433, acc = 0.56218\n"
     ]
    },
    {
     "name": "stderr",
     "output_type": "stream",
     "text": [
      "100%|██████████████████████████████████████████████████████████████████████████████| 4682/4682 [15:27<00:00,  5.05it/s]\n"
     ]
    },
    {
     "name": "stdout",
     "output_type": "stream",
     "text": [
      "[ Train | 010/200 ] loss = 0.62803, acc = 0.52859\n"
     ]
    },
    {
     "name": "stderr",
     "output_type": "stream",
     "text": [
      "100%|████████████████████████████████████████████████████████████████████████████████| 586/586 [01:27<00:00,  6.68it/s]\n"
     ]
    },
    {
     "name": "stdout",
     "output_type": "stream",
     "text": [
      "[ Valid | 010/200 ] loss = 0.64917, acc = 0.55109\n"
     ]
    },
    {
     "name": "stderr",
     "output_type": "stream",
     "text": [
      "100%|██████████████████████████████████████████████████████████████████████████████| 4682/4682 [15:26<00:00,  5.05it/s]\n"
     ]
    },
    {
     "name": "stdout",
     "output_type": "stream",
     "text": [
      "[ Train | 011/200 ] loss = 0.60348, acc = 0.53681\n"
     ]
    },
    {
     "name": "stderr",
     "output_type": "stream",
     "text": [
      "100%|████████████████████████████████████████████████████████████████████████████████| 586/586 [01:26<00:00,  6.76it/s]\n"
     ]
    },
    {
     "name": "stdout",
     "output_type": "stream",
     "text": [
      "[ Valid | 011/200 ] loss = 0.63630, acc = 0.55663\n"
     ]
    },
    {
     "name": "stderr",
     "output_type": "stream",
     "text": [
      "100%|██████████████████████████████████████████████████████████████████████████████| 4682/4682 [15:28<00:00,  5.04it/s]\n"
     ]
    },
    {
     "name": "stdout",
     "output_type": "stream",
     "text": [
      "[ Train | 012/200 ] loss = 0.58358, acc = 0.54271\n"
     ]
    },
    {
     "name": "stderr",
     "output_type": "stream",
     "text": [
      "100%|████████████████████████████████████████████████████████████████████████████████| 586/586 [01:27<00:00,  6.71it/s]\n"
     ]
    },
    {
     "name": "stdout",
     "output_type": "stream",
     "text": [
      "did not increase valid_loss. break counter now at 1\n",
      "[ Valid | 012/200 ] loss = 0.64145, acc = 0.56453\n"
     ]
    },
    {
     "name": "stderr",
     "output_type": "stream",
     "text": [
      "100%|██████████████████████████████████████████████████████████████████████████████| 4682/4682 [15:28<00:00,  5.04it/s]\n"
     ]
    },
    {
     "name": "stdout",
     "output_type": "stream",
     "text": [
      "[ Train | 013/200 ] loss = 0.55796, acc = 0.55082\n"
     ]
    },
    {
     "name": "stderr",
     "output_type": "stream",
     "text": [
      "100%|████████████████████████████████████████████████████████████████████████████████| 586/586 [01:26<00:00,  6.80it/s]\n"
     ]
    },
    {
     "name": "stdout",
     "output_type": "stream",
     "text": [
      "did not increase valid_loss. break counter now at 2\n",
      "[ Valid | 013/200 ] loss = 0.65422, acc = 0.56890\n"
     ]
    },
    {
     "name": "stderr",
     "output_type": "stream",
     "text": [
      "100%|██████████████████████████████████████████████████████████████████████████████| 4682/4682 [15:28<00:00,  5.04it/s]\n"
     ]
    },
    {
     "name": "stdout",
     "output_type": "stream",
     "text": [
      "[ Train | 014/200 ] loss = 0.54139, acc = 0.55969\n"
     ]
    },
    {
     "name": "stderr",
     "output_type": "stream",
     "text": [
      "100%|████████████████████████████████████████████████████████████████████████████████| 586/586 [01:28<00:00,  6.63it/s]\n"
     ]
    },
    {
     "name": "stdout",
     "output_type": "stream",
     "text": [
      "[ Valid | 014/200 ] loss = 0.63416, acc = 0.57626\n"
     ]
    },
    {
     "name": "stderr",
     "output_type": "stream",
     "text": [
      "100%|██████████████████████████████████████████████████████████████████████████████| 4682/4682 [15:27<00:00,  5.05it/s]\n"
     ]
    },
    {
     "name": "stdout",
     "output_type": "stream",
     "text": [
      "[ Train | 015/200 ] loss = 0.52069, acc = 0.56906\n"
     ]
    },
    {
     "name": "stderr",
     "output_type": "stream",
     "text": [
      "100%|████████████████████████████████████████████████████████████████████████████████| 586/586 [01:28<00:00,  6.60it/s]\n"
     ]
    },
    {
     "name": "stdout",
     "output_type": "stream",
     "text": [
      "did not increase valid_loss. break counter now at 1\n",
      "[ Valid | 015/200 ] loss = 0.64449, acc = 0.56890\n"
     ]
    },
    {
     "name": "stderr",
     "output_type": "stream",
     "text": [
      "100%|██████████████████████████████████████████████████████████████████████████████| 4682/4682 [14:47<00:00,  5.28it/s]\n"
     ]
    },
    {
     "name": "stdout",
     "output_type": "stream",
     "text": [
      "[ Train | 016/200 ] loss = 0.50291, acc = 0.57398\n"
     ]
    },
    {
     "name": "stderr",
     "output_type": "stream",
     "text": [
      "100%|████████████████████████████████████████████████████████████████████████████████| 586/586 [01:26<00:00,  6.76it/s]\n"
     ]
    },
    {
     "name": "stdout",
     "output_type": "stream",
     "text": [
      "did not increase valid_loss. break counter now at 2\n",
      "[ Valid | 016/200 ] loss = 0.65651, acc = 0.57167\n"
     ]
    },
    {
     "name": "stderr",
     "output_type": "stream",
     "text": [
      "100%|██████████████████████████████████████████████████████████████████████████████| 4682/4682 [15:31<00:00,  5.03it/s]\n"
     ]
    },
    {
     "name": "stdout",
     "output_type": "stream",
     "text": [
      "[ Train | 017/200 ] loss = 0.48254, acc = 0.58356\n"
     ]
    },
    {
     "name": "stderr",
     "output_type": "stream",
     "text": [
      "100%|████████████████████████████████████████████████████████████████████████████████| 586/586 [01:26<00:00,  6.80it/s]\n"
     ]
    },
    {
     "name": "stdout",
     "output_type": "stream",
     "text": [
      "[ Valid | 017/200 ] loss = 0.62424, acc = 0.57871\n"
     ]
    },
    {
     "name": "stderr",
     "output_type": "stream",
     "text": [
      "100%|██████████████████████████████████████████████████████████████████████████████| 4682/4682 [15:28<00:00,  5.04it/s]\n"
     ]
    },
    {
     "name": "stdout",
     "output_type": "stream",
     "text": [
      "[ Train | 018/200 ] loss = 0.46923, acc = 0.59143\n"
     ]
    },
    {
     "name": "stderr",
     "output_type": "stream",
     "text": [
      "100%|████████████████████████████████████████████████████████████████████████████████| 586/586 [01:27<00:00,  6.71it/s]\n"
     ]
    },
    {
     "name": "stdout",
     "output_type": "stream",
     "text": [
      "did not increase valid_loss. break counter now at 1\n",
      "[ Valid | 018/200 ] loss = 0.63061, acc = 0.58159\n"
     ]
    },
    {
     "name": "stderr",
     "output_type": "stream",
     "text": [
      "100%|██████████████████████████████████████████████████████████████████████████████| 4682/4682 [15:23<00:00,  5.07it/s]\n"
     ]
    },
    {
     "name": "stdout",
     "output_type": "stream",
     "text": [
      "[ Train | 019/200 ] loss = 0.45038, acc = 0.59871\n"
     ]
    },
    {
     "name": "stderr",
     "output_type": "stream",
     "text": [
      "100%|████████████████████████████████████████████████████████████████████████████████| 586/586 [01:28<00:00,  6.66it/s]\n"
     ]
    },
    {
     "name": "stdout",
     "output_type": "stream",
     "text": [
      "did not increase valid_loss. break counter now at 2\n",
      "[ Valid | 019/200 ] loss = 0.64399, acc = 0.59226\n"
     ]
    },
    {
     "name": "stderr",
     "output_type": "stream",
     "text": [
      "100%|██████████████████████████████████████████████████████████████████████████████| 4682/4682 [15:18<00:00,  5.10it/s]\n"
     ]
    },
    {
     "name": "stdout",
     "output_type": "stream",
     "text": [
      "[ Train | 020/200 ] loss = 0.43429, acc = 0.60793\n"
     ]
    },
    {
     "name": "stderr",
     "output_type": "stream",
     "text": [
      "100%|████████████████████████████████████████████████████████████████████████████████| 586/586 [01:27<00:00,  6.72it/s]\n"
     ]
    },
    {
     "name": "stdout",
     "output_type": "stream",
     "text": [
      "did not increase valid_loss. break counter now at 3\n",
      "[ Valid | 020/200 ] loss = 0.62441, acc = 0.58746\n"
     ]
    },
    {
     "name": "stderr",
     "output_type": "stream",
     "text": [
      "100%|██████████████████████████████████████████████████████████████████████████████| 4682/4682 [15:23<00:00,  5.07it/s]\n"
     ]
    },
    {
     "name": "stdout",
     "output_type": "stream",
     "text": [
      "[ Train | 021/200 ] loss = 0.41974, acc = 0.61299\n"
     ]
    },
    {
     "name": "stderr",
     "output_type": "stream",
     "text": [
      "100%|████████████████████████████████████████████████████████████████████████████████| 586/586 [01:27<00:00,  6.67it/s]\n"
     ]
    },
    {
     "name": "stdout",
     "output_type": "stream",
     "text": [
      "[ Valid | 021/200 ] loss = 0.62119, acc = 0.59727\n"
     ]
    },
    {
     "name": "stderr",
     "output_type": "stream",
     "text": [
      "100%|██████████████████████████████████████████████████████████████████████████████| 4682/4682 [15:25<00:00,  5.06it/s]\n"
     ]
    },
    {
     "name": "stdout",
     "output_type": "stream",
     "text": [
      "[ Train | 022/200 ] loss = 0.40552, acc = 0.62092\n"
     ]
    },
    {
     "name": "stderr",
     "output_type": "stream",
     "text": [
      "100%|████████████████████████████████████████████████████████████████████████████████| 586/586 [01:26<00:00,  6.74it/s]\n"
     ]
    },
    {
     "name": "stdout",
     "output_type": "stream",
     "text": [
      "[ Valid | 022/200 ] loss = 0.60648, acc = 0.59599\n"
     ]
    },
    {
     "name": "stderr",
     "output_type": "stream",
     "text": [
      "100%|██████████████████████████████████████████████████████████████████████████████| 4682/4682 [15:25<00:00,  5.06it/s]\n"
     ]
    },
    {
     "name": "stdout",
     "output_type": "stream",
     "text": [
      "[ Train | 023/200 ] loss = 0.39127, acc = 0.62540\n"
     ]
    },
    {
     "name": "stderr",
     "output_type": "stream",
     "text": [
      "100%|████████████████████████████████████████████████████████████████████████████████| 586/586 [01:27<00:00,  6.68it/s]\n"
     ]
    },
    {
     "name": "stdout",
     "output_type": "stream",
     "text": [
      "did not increase valid_loss. break counter now at 1\n",
      "[ Valid | 023/200 ] loss = 0.61384, acc = 0.60335\n"
     ]
    },
    {
     "name": "stderr",
     "output_type": "stream",
     "text": [
      "100%|██████████████████████████████████████████████████████████████████████████████| 4682/4682 [15:28<00:00,  5.04it/s]\n"
     ]
    },
    {
     "name": "stdout",
     "output_type": "stream",
     "text": [
      "[ Train | 024/200 ] loss = 0.38398, acc = 0.62979\n"
     ]
    },
    {
     "name": "stderr",
     "output_type": "stream",
     "text": [
      "100%|████████████████████████████████████████████████████████████████████████████████| 586/586 [01:27<00:00,  6.68it/s]\n"
     ]
    },
    {
     "name": "stdout",
     "output_type": "stream",
     "text": [
      "did not increase valid_loss. break counter now at 2\n",
      "[ Valid | 024/200 ] loss = 0.60856, acc = 0.60442\n"
     ]
    },
    {
     "name": "stderr",
     "output_type": "stream",
     "text": [
      "100%|██████████████████████████████████████████████████████████████████████████████| 4682/4682 [15:25<00:00,  5.06it/s]\n"
     ]
    },
    {
     "name": "stdout",
     "output_type": "stream",
     "text": [
      "[ Train | 025/200 ] loss = 0.36816, acc = 0.63993\n"
     ]
    },
    {
     "name": "stderr",
     "output_type": "stream",
     "text": [
      "100%|████████████████████████████████████████████████████████████████████████████████| 586/586 [01:28<00:00,  6.64it/s]\n"
     ]
    },
    {
     "name": "stdout",
     "output_type": "stream",
     "text": [
      "did not increase valid_loss. break counter now at 3\n",
      "[ Valid | 025/200 ] loss = 0.60859, acc = 0.60953\n"
     ]
    },
    {
     "name": "stderr",
     "output_type": "stream",
     "text": [
      "100%|██████████████████████████████████████████████████████████████████████████████| 4682/4682 [15:22<00:00,  5.08it/s]\n"
     ]
    },
    {
     "name": "stdout",
     "output_type": "stream",
     "text": [
      "[ Train | 026/200 ] loss = 0.35667, acc = 0.64645\n"
     ]
    },
    {
     "name": "stderr",
     "output_type": "stream",
     "text": [
      "100%|████████████████████████████████████████████████████████████████████████████████| 586/586 [01:26<00:00,  6.76it/s]\n"
     ]
    },
    {
     "name": "stdout",
     "output_type": "stream",
     "text": [
      "[ Valid | 026/200 ] loss = 0.60051, acc = 0.61337\n"
     ]
    },
    {
     "name": "stderr",
     "output_type": "stream",
     "text": [
      "100%|██████████████████████████████████████████████████████████████████████████████| 4682/4682 [15:27<00:00,  5.05it/s]\n"
     ]
    },
    {
     "name": "stdout",
     "output_type": "stream",
     "text": [
      "[ Train | 027/200 ] loss = 0.34780, acc = 0.65136\n"
     ]
    },
    {
     "name": "stderr",
     "output_type": "stream",
     "text": [
      "100%|████████████████████████████████████████████████████████████████████████████████| 586/586 [01:26<00:00,  6.76it/s]\n"
     ]
    },
    {
     "name": "stdout",
     "output_type": "stream",
     "text": [
      "[ Valid | 027/200 ] loss = 0.59833, acc = 0.61039\n"
     ]
    },
    {
     "name": "stderr",
     "output_type": "stream",
     "text": [
      "100%|██████████████████████████████████████████████████████████████████████████████| 4682/4682 [15:28<00:00,  5.04it/s]\n"
     ]
    },
    {
     "name": "stdout",
     "output_type": "stream",
     "text": [
      "[ Train | 028/200 ] loss = 0.33604, acc = 0.66064\n"
     ]
    },
    {
     "name": "stderr",
     "output_type": "stream",
     "text": [
      "100%|████████████████████████████████████████████████████████████████████████████████| 586/586 [01:26<00:00,  6.75it/s]\n"
     ]
    },
    {
     "name": "stdout",
     "output_type": "stream",
     "text": [
      "did not increase valid_loss. break counter now at 1\n",
      "[ Valid | 028/200 ] loss = 0.61246, acc = 0.60922\n"
     ]
    },
    {
     "name": "stderr",
     "output_type": "stream",
     "text": [
      "100%|██████████████████████████████████████████████████████████████████████████████| 4682/4682 [15:29<00:00,  5.04it/s]\n"
     ]
    },
    {
     "name": "stdout",
     "output_type": "stream",
     "text": [
      "[ Train | 029/200 ] loss = 0.33109, acc = 0.66287\n"
     ]
    },
    {
     "name": "stderr",
     "output_type": "stream",
     "text": [
      "100%|████████████████████████████████████████████████████████████████████████████████| 586/586 [01:27<00:00,  6.68it/s]\n"
     ]
    },
    {
     "name": "stdout",
     "output_type": "stream",
     "text": [
      "[ Valid | 029/200 ] loss = 0.58997, acc = 0.62148\n"
     ]
    },
    {
     "name": "stderr",
     "output_type": "stream",
     "text": [
      "100%|██████████████████████████████████████████████████████████████████████████████| 4682/4682 [15:27<00:00,  5.05it/s]\n"
     ]
    },
    {
     "name": "stdout",
     "output_type": "stream",
     "text": [
      "[ Train | 030/200 ] loss = 0.32188, acc = 0.66815\n"
     ]
    },
    {
     "name": "stderr",
     "output_type": "stream",
     "text": [
      "100%|████████████████████████████████████████████████████████████████████████████████| 586/586 [01:27<00:00,  6.66it/s]\n"
     ]
    },
    {
     "name": "stdout",
     "output_type": "stream",
     "text": [
      "[ Valid | 030/200 ] loss = 0.58881, acc = 0.61956\n"
     ]
    },
    {
     "name": "stderr",
     "output_type": "stream",
     "text": [
      "100%|██████████████████████████████████████████████████████████████████████████████| 4682/4682 [15:24<00:00,  5.06it/s]\n"
     ]
    },
    {
     "name": "stdout",
     "output_type": "stream",
     "text": [
      "[ Train | 031/200 ] loss = 0.31351, acc = 0.67556\n"
     ]
    },
    {
     "name": "stderr",
     "output_type": "stream",
     "text": [
      "100%|████████████████████████████████████████████████████████████████████████████████| 586/586 [01:27<00:00,  6.72it/s]\n"
     ]
    },
    {
     "name": "stdout",
     "output_type": "stream",
     "text": [
      "did not increase valid_loss. break counter now at 1\n",
      "[ Valid | 031/200 ] loss = 0.60109, acc = 0.61764\n"
     ]
    },
    {
     "name": "stderr",
     "output_type": "stream",
     "text": [
      "100%|██████████████████████████████████████████████████████████████████████████████| 4682/4682 [15:26<00:00,  5.05it/s]\n"
     ]
    },
    {
     "name": "stdout",
     "output_type": "stream",
     "text": [
      "[ Train | 032/200 ] loss = 0.30161, acc = 0.68140\n"
     ]
    },
    {
     "name": "stderr",
     "output_type": "stream",
     "text": [
      "100%|████████████████████████████████████████████████████████████████████████████████| 586/586 [01:27<00:00,  6.68it/s]\n"
     ]
    },
    {
     "name": "stdout",
     "output_type": "stream",
     "text": [
      "did not increase valid_loss. break counter now at 2\n",
      "[ Valid | 032/200 ] loss = 0.59396, acc = 0.62543\n"
     ]
    },
    {
     "name": "stderr",
     "output_type": "stream",
     "text": [
      "100%|██████████████████████████████████████████████████████████████████████████████| 4682/4682 [15:24<00:00,  5.06it/s]\n"
     ]
    },
    {
     "name": "stdout",
     "output_type": "stream",
     "text": [
      "[ Train | 033/200 ] loss = 0.30021, acc = 0.68402\n"
     ]
    },
    {
     "name": "stderr",
     "output_type": "stream",
     "text": [
      "100%|████████████████████████████████████████████████████████████████████████████████| 586/586 [01:26<00:00,  6.74it/s]\n"
     ]
    },
    {
     "name": "stdout",
     "output_type": "stream",
     "text": [
      "did not increase valid_loss. break counter now at 3\n",
      "[ Valid | 033/200 ] loss = 0.59777, acc = 0.62628\n"
     ]
    },
    {
     "name": "stderr",
     "output_type": "stream",
     "text": [
      "100%|██████████████████████████████████████████████████████████████████████████████| 4682/4682 [15:24<00:00,  5.06it/s]\n"
     ]
    },
    {
     "name": "stdout",
     "output_type": "stream",
     "text": [
      "[ Train | 034/200 ] loss = 0.29132, acc = 0.69253\n"
     ]
    },
    {
     "name": "stderr",
     "output_type": "stream",
     "text": [
      "100%|████████████████████████████████████████████████████████████████████████████████| 586/586 [01:26<00:00,  6.76it/s]\n"
     ]
    },
    {
     "name": "stdout",
     "output_type": "stream",
     "text": [
      "did not increase valid_loss. break counter now at 4\n",
      "[ Valid | 034/200 ] loss = 0.59696, acc = 0.62500\n"
     ]
    },
    {
     "name": "stderr",
     "output_type": "stream",
     "text": [
      "100%|██████████████████████████████████████████████████████████████████████████████| 4682/4682 [15:25<00:00,  5.06it/s]\n"
     ]
    },
    {
     "name": "stdout",
     "output_type": "stream",
     "text": [
      "[ Train | 035/200 ] loss = 0.28439, acc = 0.69605\n"
     ]
    },
    {
     "name": "stderr",
     "output_type": "stream",
     "text": [
      "100%|████████████████████████████████████████████████████████████████████████████████| 586/586 [01:27<00:00,  6.67it/s]\n"
     ]
    },
    {
     "name": "stdout",
     "output_type": "stream",
     "text": [
      "did not increase valid_loss. break counter now at 5\n",
      "[ Valid | 035/200 ] loss = 0.59472, acc = 0.63108\n"
     ]
    },
    {
     "name": "stderr",
     "output_type": "stream",
     "text": [
      "100%|██████████████████████████████████████████████████████████████████████████████| 4682/4682 [15:26<00:00,  5.05it/s]\n"
     ]
    },
    {
     "name": "stdout",
     "output_type": "stream",
     "text": [
      "[ Train | 036/200 ] loss = 0.27871, acc = 0.70095\n"
     ]
    },
    {
     "name": "stderr",
     "output_type": "stream",
     "text": [
      "100%|████████████████████████████████████████████████████████████████████████████████| 586/586 [01:29<00:00,  6.58it/s]\n"
     ]
    },
    {
     "name": "stdout",
     "output_type": "stream",
     "text": [
      "did not increase valid_loss. break counter now at 6\n",
      "[ Valid | 036/200 ] loss = 0.59612, acc = 0.62564\n"
     ]
    },
    {
     "name": "stderr",
     "output_type": "stream",
     "text": [
      "100%|██████████████████████████████████████████████████████████████████████████████| 4682/4682 [15:22<00:00,  5.07it/s]\n"
     ]
    },
    {
     "name": "stdout",
     "output_type": "stream",
     "text": [
      "[ Train | 037/200 ] loss = 0.27314, acc = 0.70537\n"
     ]
    },
    {
     "name": "stderr",
     "output_type": "stream",
     "text": [
      "100%|████████████████████████████████████████████████████████████████████████████████| 586/586 [01:27<00:00,  6.71it/s]\n"
     ]
    },
    {
     "name": "stdout",
     "output_type": "stream",
     "text": [
      "did not increase valid_loss. break counter now at 7\n",
      "[ Valid | 037/200 ] loss = 0.59565, acc = 0.63193\n"
     ]
    },
    {
     "name": "stderr",
     "output_type": "stream",
     "text": [
      "100%|██████████████████████████████████████████████████████████████████████████████| 4682/4682 [15:34<00:00,  5.01it/s]\n"
     ]
    },
    {
     "name": "stdout",
     "output_type": "stream",
     "text": [
      "[ Train | 038/200 ] loss = 0.26389, acc = 0.71274\n"
     ]
    },
    {
     "name": "stderr",
     "output_type": "stream",
     "text": [
      "100%|████████████████████████████████████████████████████████████████████████████████| 586/586 [01:28<00:00,  6.63it/s]\n"
     ]
    },
    {
     "name": "stdout",
     "output_type": "stream",
     "text": [
      "[ Valid | 038/200 ] loss = 0.58653, acc = 0.63279\n"
     ]
    },
    {
     "name": "stderr",
     "output_type": "stream",
     "text": [
      "100%|██████████████████████████████████████████████████████████████████████████████| 4682/4682 [15:31<00:00,  5.03it/s]\n"
     ]
    },
    {
     "name": "stdout",
     "output_type": "stream",
     "text": [
      "[ Train | 039/200 ] loss = 0.26207, acc = 0.71462\n"
     ]
    },
    {
     "name": "stderr",
     "output_type": "stream",
     "text": [
      "100%|████████████████████████████████████████████████████████████████████████████████| 586/586 [01:26<00:00,  6.80it/s]\n"
     ]
    },
    {
     "name": "stdout",
     "output_type": "stream",
     "text": [
      "[ Valid | 039/200 ] loss = 0.58519, acc = 0.63588\n"
     ]
    },
    {
     "name": "stderr",
     "output_type": "stream",
     "text": [
      "100%|██████████████████████████████████████████████████████████████████████████████| 4682/4682 [15:28<00:00,  5.04it/s]\n"
     ]
    },
    {
     "name": "stdout",
     "output_type": "stream",
     "text": [
      "[ Train | 040/200 ] loss = 0.25375, acc = 0.72176\n"
     ]
    },
    {
     "name": "stderr",
     "output_type": "stream",
     "text": [
      "100%|████████████████████████████████████████████████████████████████████████████████| 586/586 [01:28<00:00,  6.64it/s]\n"
     ]
    },
    {
     "name": "stdout",
     "output_type": "stream",
     "text": [
      "did not increase valid_loss. break counter now at 1\n",
      "[ Valid | 040/200 ] loss = 0.59107, acc = 0.63887\n"
     ]
    },
    {
     "name": "stderr",
     "output_type": "stream",
     "text": [
      "100%|██████████████████████████████████████████████████████████████████████████████| 4682/4682 [15:22<00:00,  5.07it/s]\n"
     ]
    },
    {
     "name": "stdout",
     "output_type": "stream",
     "text": [
      "[ Train | 041/200 ] loss = 0.24818, acc = 0.72454\n"
     ]
    },
    {
     "name": "stderr",
     "output_type": "stream",
     "text": [
      "100%|████████████████████████████████████████████████████████████████████████████████| 586/586 [01:28<00:00,  6.59it/s]\n"
     ]
    },
    {
     "name": "stdout",
     "output_type": "stream",
     "text": [
      "[ Valid | 041/200 ] loss = 0.57802, acc = 0.64015\n"
     ]
    },
    {
     "name": "stderr",
     "output_type": "stream",
     "text": [
      "100%|██████████████████████████████████████████████████████████████████████████████| 4682/4682 [15:29<00:00,  5.04it/s]\n"
     ]
    },
    {
     "name": "stdout",
     "output_type": "stream",
     "text": [
      "[ Train | 042/200 ] loss = 0.24686, acc = 0.72880\n"
     ]
    },
    {
     "name": "stderr",
     "output_type": "stream",
     "text": [
      "100%|████████████████████████████████████████████████████████████████████████████████| 586/586 [01:29<00:00,  6.55it/s]\n"
     ]
    },
    {
     "name": "stdout",
     "output_type": "stream",
     "text": [
      "did not increase valid_loss. break counter now at 1\n",
      "[ Valid | 042/200 ] loss = 0.57924, acc = 0.63727\n"
     ]
    },
    {
     "name": "stderr",
     "output_type": "stream",
     "text": [
      "100%|██████████████████████████████████████████████████████████████████████████████| 4682/4682 [15:33<00:00,  5.01it/s]\n"
     ]
    },
    {
     "name": "stdout",
     "output_type": "stream",
     "text": [
      "[ Train | 043/200 ] loss = 0.24208, acc = 0.72991\n"
     ]
    },
    {
     "name": "stderr",
     "output_type": "stream",
     "text": [
      "100%|████████████████████████████████████████████████████████████████████████████████| 586/586 [01:26<00:00,  6.77it/s]\n"
     ]
    },
    {
     "name": "stdout",
     "output_type": "stream",
     "text": [
      "[ Valid | 043/200 ] loss = 0.57785, acc = 0.64015\n"
     ]
    },
    {
     "name": "stderr",
     "output_type": "stream",
     "text": [
      "100%|██████████████████████████████████████████████████████████████████████████████| 4682/4682 [15:31<00:00,  5.02it/s]\n"
     ]
    },
    {
     "name": "stdout",
     "output_type": "stream",
     "text": [
      "[ Train | 044/200 ] loss = 0.23474, acc = 0.73452\n"
     ]
    },
    {
     "name": "stderr",
     "output_type": "stream",
     "text": [
      "100%|████████████████████████████████████████████████████████████████████████████████| 586/586 [01:26<00:00,  6.77it/s]\n"
     ]
    },
    {
     "name": "stdout",
     "output_type": "stream",
     "text": [
      "did not increase valid_loss. break counter now at 1\n",
      "[ Valid | 044/200 ] loss = 0.58126, acc = 0.63780\n"
     ]
    },
    {
     "name": "stderr",
     "output_type": "stream",
     "text": [
      "100%|██████████████████████████████████████████████████████████████████████████████| 4682/4682 [15:32<00:00,  5.02it/s]\n"
     ]
    },
    {
     "name": "stdout",
     "output_type": "stream",
     "text": [
      "[ Train | 045/200 ] loss = 0.23366, acc = 0.73714\n"
     ]
    },
    {
     "name": "stderr",
     "output_type": "stream",
     "text": [
      "100%|████████████████████████████████████████████████████████████████████████████████| 586/586 [01:27<00:00,  6.72it/s]\n"
     ]
    },
    {
     "name": "stdout",
     "output_type": "stream",
     "text": [
      "did not increase valid_loss. break counter now at 2\n",
      "[ Valid | 045/200 ] loss = 0.58512, acc = 0.64494\n"
     ]
    },
    {
     "name": "stderr",
     "output_type": "stream",
     "text": [
      "100%|██████████████████████████████████████████████████████████████████████████████| 4682/4682 [15:33<00:00,  5.02it/s]\n"
     ]
    },
    {
     "name": "stdout",
     "output_type": "stream",
     "text": [
      "[ Train | 046/200 ] loss = 0.22748, acc = 0.74359\n"
     ]
    },
    {
     "name": "stderr",
     "output_type": "stream",
     "text": [
      "100%|████████████████████████████████████████████████████████████████████████████████| 586/586 [01:27<00:00,  6.70it/s]\n"
     ]
    },
    {
     "name": "stdout",
     "output_type": "stream",
     "text": [
      "did not increase valid_loss. break counter now at 3\n",
      "[ Valid | 046/200 ] loss = 0.57993, acc = 0.63908\n"
     ]
    },
    {
     "name": "stderr",
     "output_type": "stream",
     "text": [
      "100%|██████████████████████████████████████████████████████████████████████████████| 4682/4682 [15:28<00:00,  5.04it/s]\n"
     ]
    },
    {
     "name": "stdout",
     "output_type": "stream",
     "text": [
      "[ Train | 047/200 ] loss = 0.22458, acc = 0.74732\n"
     ]
    },
    {
     "name": "stderr",
     "output_type": "stream",
     "text": [
      "100%|████████████████████████████████████████████████████████████████████████████████| 586/586 [01:29<00:00,  6.54it/s]\n"
     ]
    },
    {
     "name": "stdout",
     "output_type": "stream",
     "text": [
      "did not increase valid_loss. break counter now at 4\n",
      "[ Valid | 047/200 ] loss = 0.58527, acc = 0.63972\n"
     ]
    },
    {
     "name": "stderr",
     "output_type": "stream",
     "text": [
      "100%|██████████████████████████████████████████████████████████████████████████████| 4682/4682 [15:29<00:00,  5.04it/s]\n"
     ]
    },
    {
     "name": "stdout",
     "output_type": "stream",
     "text": [
      "[ Train | 048/200 ] loss = 0.22538, acc = 0.74757\n"
     ]
    },
    {
     "name": "stderr",
     "output_type": "stream",
     "text": [
      "100%|████████████████████████████████████████████████████████████████████████████████| 586/586 [01:28<00:00,  6.65it/s]\n"
     ]
    },
    {
     "name": "stdout",
     "output_type": "stream",
     "text": [
      "[ Valid | 048/200 ] loss = 0.57489, acc = 0.64324\n"
     ]
    },
    {
     "name": "stderr",
     "output_type": "stream",
     "text": [
      "100%|██████████████████████████████████████████████████████████████████████████████| 4682/4682 [15:30<00:00,  5.03it/s]\n"
     ]
    },
    {
     "name": "stdout",
     "output_type": "stream",
     "text": [
      "[ Train | 049/200 ] loss = 0.22029, acc = 0.75230\n"
     ]
    },
    {
     "name": "stderr",
     "output_type": "stream",
     "text": [
      "100%|████████████████████████████████████████████████████████████████████████████████| 586/586 [01:27<00:00,  6.72it/s]\n"
     ]
    },
    {
     "name": "stdout",
     "output_type": "stream",
     "text": [
      "did not increase valid_loss. break counter now at 1\n",
      "[ Valid | 049/200 ] loss = 0.58133, acc = 0.64441\n"
     ]
    },
    {
     "name": "stderr",
     "output_type": "stream",
     "text": [
      "100%|██████████████████████████████████████████████████████████████████████████████| 4682/4682 [15:23<00:00,  5.07it/s]\n"
     ]
    },
    {
     "name": "stdout",
     "output_type": "stream",
     "text": [
      "[ Train | 050/200 ] loss = 0.21666, acc = 0.75375\n"
     ]
    },
    {
     "name": "stderr",
     "output_type": "stream",
     "text": [
      "100%|████████████████████████████████████████████████████████████████████████████████| 586/586 [01:26<00:00,  6.74it/s]\n"
     ]
    },
    {
     "name": "stdout",
     "output_type": "stream",
     "text": [
      "did not increase valid_loss. break counter now at 2\n",
      "[ Valid | 050/200 ] loss = 0.57664, acc = 0.64260\n"
     ]
    },
    {
     "name": "stderr",
     "output_type": "stream",
     "text": [
      "100%|██████████████████████████████████████████████████████████████████████████████| 4682/4682 [15:32<00:00,  5.02it/s]\n"
     ]
    },
    {
     "name": "stdout",
     "output_type": "stream",
     "text": [
      "[ Train | 051/200 ] loss = 0.21282, acc = 0.75874\n"
     ]
    },
    {
     "name": "stderr",
     "output_type": "stream",
     "text": [
      "100%|████████████████████████████████████████████████████████████████████████████████| 586/586 [01:27<00:00,  6.70it/s]\n"
     ]
    },
    {
     "name": "stdout",
     "output_type": "stream",
     "text": [
      "did not increase valid_loss. break counter now at 3\n",
      "[ Valid | 051/200 ] loss = 0.60499, acc = 0.63695\n"
     ]
    },
    {
     "name": "stderr",
     "output_type": "stream",
     "text": [
      "100%|██████████████████████████████████████████████████████████████████████████████| 4682/4682 [15:26<00:00,  5.05it/s]\n"
     ]
    },
    {
     "name": "stdout",
     "output_type": "stream",
     "text": [
      "[ Train | 052/200 ] loss = 0.21056, acc = 0.76165\n"
     ]
    },
    {
     "name": "stderr",
     "output_type": "stream",
     "text": [
      "100%|████████████████████████████████████████████████████████████████████████████████| 586/586 [01:27<00:00,  6.68it/s]\n"
     ]
    },
    {
     "name": "stdout",
     "output_type": "stream",
     "text": [
      "did not increase valid_loss. break counter now at 4\n",
      "[ Valid | 052/200 ] loss = 0.57821, acc = 0.63993\n"
     ]
    },
    {
     "name": "stderr",
     "output_type": "stream",
     "text": [
      "100%|██████████████████████████████████████████████████████████████████████████████| 4682/4682 [15:23<00:00,  5.07it/s]\n"
     ]
    },
    {
     "name": "stdout",
     "output_type": "stream",
     "text": [
      "[ Train | 053/200 ] loss = 0.21196, acc = 0.75972\n"
     ]
    },
    {
     "name": "stderr",
     "output_type": "stream",
     "text": [
      "100%|████████████████████████████████████████████████████████████████████████████████| 586/586 [01:29<00:00,  6.57it/s]\n"
     ]
    },
    {
     "name": "stdout",
     "output_type": "stream",
     "text": [
      "did not increase valid_loss. break counter now at 5\n",
      "[ Valid | 053/200 ] loss = 0.59243, acc = 0.64196\n"
     ]
    },
    {
     "name": "stderr",
     "output_type": "stream",
     "text": [
      "100%|██████████████████████████████████████████████████████████████████████████████| 4682/4682 [15:25<00:00,  5.06it/s]\n"
     ]
    },
    {
     "name": "stdout",
     "output_type": "stream",
     "text": [
      "[ Train | 054/200 ] loss = 0.20511, acc = 0.76893\n"
     ]
    },
    {
     "name": "stderr",
     "output_type": "stream",
     "text": [
      "100%|████████████████████████████████████████████████████████████████████████████████| 586/586 [01:28<00:00,  6.65it/s]\n"
     ]
    },
    {
     "name": "stdout",
     "output_type": "stream",
     "text": [
      "did not increase valid_loss. break counter now at 6\n",
      "[ Valid | 054/200 ] loss = 0.57888, acc = 0.64377\n"
     ]
    },
    {
     "name": "stderr",
     "output_type": "stream",
     "text": [
      "100%|██████████████████████████████████████████████████████████████████████████████| 4682/4682 [15:24<00:00,  5.06it/s]\n"
     ]
    },
    {
     "name": "stdout",
     "output_type": "stream",
     "text": [
      "[ Train | 055/200 ] loss = 0.20114, acc = 0.77196\n"
     ]
    },
    {
     "name": "stderr",
     "output_type": "stream",
     "text": [
      "100%|████████████████████████████████████████████████████████████████████████████████| 586/586 [01:25<00:00,  6.83it/s]\n"
     ]
    },
    {
     "name": "stdout",
     "output_type": "stream",
     "text": [
      "did not increase valid_loss. break counter now at 7\n",
      "[ Valid | 055/200 ] loss = 0.59233, acc = 0.64260\n"
     ]
    },
    {
     "name": "stderr",
     "output_type": "stream",
     "text": [
      "100%|██████████████████████████████████████████████████████████████████████████████| 4682/4682 [15:29<00:00,  5.04it/s]\n"
     ]
    },
    {
     "name": "stdout",
     "output_type": "stream",
     "text": [
      "[ Train | 056/200 ] loss = 0.19901, acc = 0.77149\n"
     ]
    },
    {
     "name": "stderr",
     "output_type": "stream",
     "text": [
      "100%|████████████████████████████████████████████████████████████████████████████████| 586/586 [01:26<00:00,  6.76it/s]\n"
     ]
    },
    {
     "name": "stdout",
     "output_type": "stream",
     "text": [
      "did not increase valid_loss. break counter now at 8\n",
      "[ Valid | 056/200 ] loss = 0.58026, acc = 0.64793\n"
     ]
    },
    {
     "name": "stderr",
     "output_type": "stream",
     "text": [
      "100%|██████████████████████████████████████████████████████████████████████████████| 4682/4682 [15:29<00:00,  5.04it/s]\n"
     ]
    },
    {
     "name": "stdout",
     "output_type": "stream",
     "text": [
      "[ Train | 057/200 ] loss = 0.19546, acc = 0.77668\n"
     ]
    },
    {
     "name": "stderr",
     "output_type": "stream",
     "text": [
      "100%|████████████████████████████████████████████████████████████████████████████████| 586/586 [01:27<00:00,  6.70it/s]\n"
     ]
    },
    {
     "name": "stdout",
     "output_type": "stream",
     "text": [
      "did not increase valid_loss. break counter now at 9\n",
      "[ Valid | 057/200 ] loss = 0.58584, acc = 0.64804\n"
     ]
    },
    {
     "name": "stderr",
     "output_type": "stream",
     "text": [
      "100%|██████████████████████████████████████████████████████████████████████████████| 4682/4682 [14:59<00:00,  5.20it/s]\n"
     ]
    },
    {
     "name": "stdout",
     "output_type": "stream",
     "text": [
      "[ Train | 058/200 ] loss = 0.19645, acc = 0.77503\n"
     ]
    },
    {
     "name": "stderr",
     "output_type": "stream",
     "text": [
      "100%|████████████████████████████████████████████████████████████████████████████████| 586/586 [01:19<00:00,  7.35it/s]\n"
     ]
    },
    {
     "name": "stdout",
     "output_type": "stream",
     "text": [
      "did not increase valid_loss. break counter now at 10\n",
      "[ Valid | 058/200 ] loss = 0.57641, acc = 0.65102\n"
     ]
    },
    {
     "name": "stderr",
     "output_type": "stream",
     "text": [
      "100%|██████████████████████████████████████████████████████████████████████████████| 4682/4682 [15:30<00:00,  5.03it/s]\n"
     ]
    },
    {
     "name": "stdout",
     "output_type": "stream",
     "text": [
      "[ Train | 059/200 ] loss = 0.19101, acc = 0.78037\n"
     ]
    },
    {
     "name": "stderr",
     "output_type": "stream",
     "text": [
      "100%|████████████████████████████████████████████████████████████████████████████████| 586/586 [01:28<00:00,  6.62it/s]\n"
     ]
    },
    {
     "name": "stdout",
     "output_type": "stream",
     "text": [
      "[ Valid | 059/200 ] loss = 0.57449, acc = 0.65220\n"
     ]
    },
    {
     "name": "stderr",
     "output_type": "stream",
     "text": [
      "100%|██████████████████████████████████████████████████████████████████████████████| 4682/4682 [15:37<00:00,  4.99it/s]\n"
     ]
    },
    {
     "name": "stdout",
     "output_type": "stream",
     "text": [
      "[ Train | 060/200 ] loss = 0.18828, acc = 0.78274\n"
     ]
    },
    {
     "name": "stderr",
     "output_type": "stream",
     "text": [
      "100%|████████████████████████████████████████████████████████████████████████████████| 586/586 [01:26<00:00,  6.75it/s]\n"
     ]
    },
    {
     "name": "stdout",
     "output_type": "stream",
     "text": [
      "did not increase valid_loss. break counter now at 1\n",
      "[ Valid | 060/200 ] loss = 0.60062, acc = 0.64484\n"
     ]
    },
    {
     "name": "stderr",
     "output_type": "stream",
     "text": [
      "100%|██████████████████████████████████████████████████████████████████████████████| 4682/4682 [15:37<00:00,  4.99it/s]\n"
     ]
    },
    {
     "name": "stdout",
     "output_type": "stream",
     "text": [
      "[ Train | 061/200 ] loss = 0.18769, acc = 0.78500\n"
     ]
    },
    {
     "name": "stderr",
     "output_type": "stream",
     "text": [
      "100%|████████████████████████████████████████████████████████████████████████████████| 586/586 [01:27<00:00,  6.68it/s]\n"
     ]
    },
    {
     "name": "stdout",
     "output_type": "stream",
     "text": [
      "[ Valid | 061/200 ] loss = 0.56769, acc = 0.65017\n"
     ]
    },
    {
     "name": "stderr",
     "output_type": "stream",
     "text": [
      "100%|██████████████████████████████████████████████████████████████████████████████| 4682/4682 [15:35<00:00,  5.01it/s]\n"
     ]
    },
    {
     "name": "stdout",
     "output_type": "stream",
     "text": [
      "[ Train | 062/200 ] loss = 0.18689, acc = 0.78525\n"
     ]
    },
    {
     "name": "stderr",
     "output_type": "stream",
     "text": [
      "100%|████████████████████████████████████████████████████████████████████████████████| 586/586 [01:27<00:00,  6.73it/s]\n"
     ]
    },
    {
     "name": "stdout",
     "output_type": "stream",
     "text": [
      "did not increase valid_loss. break counter now at 1\n",
      "[ Valid | 062/200 ] loss = 0.57532, acc = 0.65156\n"
     ]
    },
    {
     "name": "stderr",
     "output_type": "stream",
     "text": [
      "100%|██████████████████████████████████████████████████████████████████████████████| 4682/4682 [15:34<00:00,  5.01it/s]\n"
     ]
    },
    {
     "name": "stdout",
     "output_type": "stream",
     "text": [
      "[ Train | 063/200 ] loss = 0.18469, acc = 0.79002\n"
     ]
    },
    {
     "name": "stderr",
     "output_type": "stream",
     "text": [
      "100%|████████████████████████████████████████████████████████████████████████████████| 586/586 [01:27<00:00,  6.69it/s]\n"
     ]
    },
    {
     "name": "stdout",
     "output_type": "stream",
     "text": [
      "did not increase valid_loss. break counter now at 2\n",
      "[ Valid | 063/200 ] loss = 0.60116, acc = 0.64366\n"
     ]
    },
    {
     "name": "stderr",
     "output_type": "stream",
     "text": [
      "100%|██████████████████████████████████████████████████████████████████████████████| 4682/4682 [15:30<00:00,  5.03it/s]\n"
     ]
    },
    {
     "name": "stdout",
     "output_type": "stream",
     "text": [
      "[ Train | 064/200 ] loss = 0.18416, acc = 0.78931\n"
     ]
    },
    {
     "name": "stderr",
     "output_type": "stream",
     "text": [
      "100%|████████████████████████████████████████████████████████████████████████████████| 586/586 [01:29<00:00,  6.56it/s]\n"
     ]
    },
    {
     "name": "stdout",
     "output_type": "stream",
     "text": [
      "did not increase valid_loss. break counter now at 3\n",
      "[ Valid | 064/200 ] loss = 0.57765, acc = 0.64889\n"
     ]
    },
    {
     "name": "stderr",
     "output_type": "stream",
     "text": [
      "100%|██████████████████████████████████████████████████████████████████████████████| 4682/4682 [15:34<00:00,  5.01it/s]\n"
     ]
    },
    {
     "name": "stdout",
     "output_type": "stream",
     "text": [
      "[ Train | 065/200 ] loss = 0.18095, acc = 0.79306\n"
     ]
    },
    {
     "name": "stderr",
     "output_type": "stream",
     "text": [
      "100%|████████████████████████████████████████████████████████████████████████████████| 586/586 [01:28<00:00,  6.63it/s]\n"
     ]
    },
    {
     "name": "stdout",
     "output_type": "stream",
     "text": [
      "did not increase valid_loss. break counter now at 4\n",
      "[ Valid | 065/200 ] loss = 0.58253, acc = 0.64761\n"
     ]
    },
    {
     "name": "stderr",
     "output_type": "stream",
     "text": [
      "100%|██████████████████████████████████████████████████████████████████████████████| 4682/4682 [15:34<00:00,  5.01it/s]\n"
     ]
    },
    {
     "name": "stdout",
     "output_type": "stream",
     "text": [
      "[ Train | 066/200 ] loss = 0.17650, acc = 0.79648\n"
     ]
    },
    {
     "name": "stderr",
     "output_type": "stream",
     "text": [
      "100%|████████████████████████████████████████████████████████████████████████████████| 586/586 [01:26<00:00,  6.74it/s]\n"
     ]
    },
    {
     "name": "stdout",
     "output_type": "stream",
     "text": [
      "[ Valid | 066/200 ] loss = 0.56645, acc = 0.64814\n"
     ]
    },
    {
     "name": "stderr",
     "output_type": "stream",
     "text": [
      "100%|██████████████████████████████████████████████████████████████████████████████| 4682/4682 [15:34<00:00,  5.01it/s]\n"
     ]
    },
    {
     "name": "stdout",
     "output_type": "stream",
     "text": [
      "[ Train | 067/200 ] loss = 0.17715, acc = 0.79924\n"
     ]
    },
    {
     "name": "stderr",
     "output_type": "stream",
     "text": [
      "100%|████████████████████████████████████████████████████████████████████████████████| 586/586 [01:26<00:00,  6.77it/s]\n"
     ]
    },
    {
     "name": "stdout",
     "output_type": "stream",
     "text": [
      "did not increase valid_loss. break counter now at 1\n",
      "[ Valid | 067/200 ] loss = 0.57979, acc = 0.65028\n"
     ]
    },
    {
     "name": "stderr",
     "output_type": "stream",
     "text": [
      "100%|██████████████████████████████████████████████████████████████████████████████| 4682/4682 [15:34<00:00,  5.01it/s]\n"
     ]
    },
    {
     "name": "stdout",
     "output_type": "stream",
     "text": [
      "[ Train | 068/200 ] loss = 0.17679, acc = 0.79779\n"
     ]
    },
    {
     "name": "stderr",
     "output_type": "stream",
     "text": [
      "100%|████████████████████████████████████████████████████████████████████████████████| 586/586 [01:27<00:00,  6.73it/s]\n"
     ]
    },
    {
     "name": "stdout",
     "output_type": "stream",
     "text": [
      "did not increase valid_loss. break counter now at 2\n",
      "[ Valid | 068/200 ] loss = 0.57347, acc = 0.64868\n"
     ]
    },
    {
     "name": "stderr",
     "output_type": "stream",
     "text": [
      "100%|██████████████████████████████████████████████████████████████████████████████| 4682/4682 [15:33<00:00,  5.02it/s]\n"
     ]
    },
    {
     "name": "stdout",
     "output_type": "stream",
     "text": [
      "[ Train | 069/200 ] loss = 0.17454, acc = 0.80116\n"
     ]
    },
    {
     "name": "stderr",
     "output_type": "stream",
     "text": [
      "100%|████████████████████████████████████████████████████████████████████████████████| 586/586 [01:26<00:00,  6.75it/s]\n"
     ]
    },
    {
     "name": "stdout",
     "output_type": "stream",
     "text": [
      "[ Valid | 069/200 ] loss = 0.56232, acc = 0.64964\n"
     ]
    },
    {
     "name": "stderr",
     "output_type": "stream",
     "text": [
      "100%|██████████████████████████████████████████████████████████████████████████████| 4682/4682 [15:27<00:00,  5.05it/s]\n"
     ]
    },
    {
     "name": "stdout",
     "output_type": "stream",
     "text": [
      "[ Train | 070/200 ] loss = 0.17200, acc = 0.80274\n"
     ]
    },
    {
     "name": "stderr",
     "output_type": "stream",
     "text": [
      "100%|████████████████████████████████████████████████████████████████████████████████| 586/586 [01:27<00:00,  6.72it/s]\n"
     ]
    },
    {
     "name": "stdout",
     "output_type": "stream",
     "text": [
      "[ Valid | 070/200 ] loss = 0.56166, acc = 0.65198\n"
     ]
    },
    {
     "name": "stderr",
     "output_type": "stream",
     "text": [
      "100%|██████████████████████████████████████████████████████████████████████████████| 4682/4682 [15:24<00:00,  5.06it/s]\n"
     ]
    },
    {
     "name": "stdout",
     "output_type": "stream",
     "text": [
      "[ Train | 071/200 ] loss = 0.17390, acc = 0.80262\n"
     ]
    },
    {
     "name": "stderr",
     "output_type": "stream",
     "text": [
      "100%|████████████████████████████████████████████████████████████████████████████████| 586/586 [01:27<00:00,  6.71it/s]\n"
     ]
    },
    {
     "name": "stdout",
     "output_type": "stream",
     "text": [
      "did not increase valid_loss. break counter now at 1\n",
      "[ Valid | 071/200 ] loss = 0.57923, acc = 0.64857\n"
     ]
    },
    {
     "name": "stderr",
     "output_type": "stream",
     "text": [
      "100%|██████████████████████████████████████████████████████████████████████████████| 4682/4682 [15:31<00:00,  5.03it/s]\n"
     ]
    },
    {
     "name": "stdout",
     "output_type": "stream",
     "text": [
      "[ Train | 072/200 ] loss = 0.17002, acc = 0.80589\n"
     ]
    },
    {
     "name": "stderr",
     "output_type": "stream",
     "text": [
      "100%|████████████████████████████████████████████████████████████████████████████████| 586/586 [01:26<00:00,  6.75it/s]\n"
     ]
    },
    {
     "name": "stdout",
     "output_type": "stream",
     "text": [
      "did not increase valid_loss. break counter now at 2\n",
      "[ Valid | 072/200 ] loss = 0.56621, acc = 0.65390\n"
     ]
    },
    {
     "name": "stderr",
     "output_type": "stream",
     "text": [
      "100%|██████████████████████████████████████████████████████████████████████████████| 4682/4682 [15:27<00:00,  5.05it/s]\n"
     ]
    },
    {
     "name": "stdout",
     "output_type": "stream",
     "text": [
      "[ Train | 073/200 ] loss = 0.16767, acc = 0.80900\n"
     ]
    },
    {
     "name": "stderr",
     "output_type": "stream",
     "text": [
      "100%|████████████████████████████████████████████████████████████████████████████████| 586/586 [01:25<00:00,  6.84it/s]\n"
     ]
    },
    {
     "name": "stdout",
     "output_type": "stream",
     "text": [
      "did not increase valid_loss. break counter now at 3\n",
      "[ Valid | 073/200 ] loss = 0.57231, acc = 0.65273\n"
     ]
    },
    {
     "name": "stderr",
     "output_type": "stream",
     "text": [
      "100%|██████████████████████████████████████████████████████████████████████████████| 4682/4682 [15:30<00:00,  5.03it/s]\n"
     ]
    },
    {
     "name": "stdout",
     "output_type": "stream",
     "text": [
      "[ Train | 074/200 ] loss = 0.16711, acc = 0.80872\n"
     ]
    },
    {
     "name": "stderr",
     "output_type": "stream",
     "text": [
      "100%|████████████████████████████████████████████████████████████████████████████████| 586/586 [01:27<00:00,  6.72it/s]\n"
     ]
    },
    {
     "name": "stdout",
     "output_type": "stream",
     "text": [
      "[ Valid | 074/200 ] loss = 0.55923, acc = 0.65412\n"
     ]
    },
    {
     "name": "stderr",
     "output_type": "stream",
     "text": [
      "100%|██████████████████████████████████████████████████████████████████████████████| 4682/4682 [15:30<00:00,  5.03it/s]\n"
     ]
    },
    {
     "name": "stdout",
     "output_type": "stream",
     "text": [
      "[ Train | 075/200 ] loss = 0.16595, acc = 0.81142\n"
     ]
    },
    {
     "name": "stderr",
     "output_type": "stream",
     "text": [
      "100%|████████████████████████████████████████████████████████████████████████████████| 586/586 [01:28<00:00,  6.61it/s]\n"
     ]
    },
    {
     "name": "stdout",
     "output_type": "stream",
     "text": [
      "did not increase valid_loss. break counter now at 1\n",
      "[ Valid | 075/200 ] loss = 0.57419, acc = 0.65358\n"
     ]
    },
    {
     "name": "stderr",
     "output_type": "stream",
     "text": [
      "100%|██████████████████████████████████████████████████████████████████████████████| 4682/4682 [15:32<00:00,  5.02it/s]\n"
     ]
    },
    {
     "name": "stdout",
     "output_type": "stream",
     "text": [
      "[ Train | 076/200 ] loss = 0.16181, acc = 0.81629\n"
     ]
    },
    {
     "name": "stderr",
     "output_type": "stream",
     "text": [
      "100%|████████████████████████████████████████████████████████████████████████████████| 586/586 [01:28<00:00,  6.62it/s]\n"
     ]
    },
    {
     "name": "stdout",
     "output_type": "stream",
     "text": [
      "did not increase valid_loss. break counter now at 2\n",
      "[ Valid | 076/200 ] loss = 0.57504, acc = 0.65230\n"
     ]
    },
    {
     "name": "stderr",
     "output_type": "stream",
     "text": [
      "100%|██████████████████████████████████████████████████████████████████████████████| 4682/4682 [15:28<00:00,  5.04it/s]\n"
     ]
    },
    {
     "name": "stdout",
     "output_type": "stream",
     "text": [
      "[ Train | 077/200 ] loss = 0.16261, acc = 0.81549\n"
     ]
    },
    {
     "name": "stderr",
     "output_type": "stream",
     "text": [
      "100%|████████████████████████████████████████████████████████████████████████████████| 586/586 [01:27<00:00,  6.72it/s]\n"
     ]
    },
    {
     "name": "stdout",
     "output_type": "stream",
     "text": [
      "[ Valid | 077/200 ] loss = 0.55800, acc = 0.65582\n"
     ]
    },
    {
     "name": "stderr",
     "output_type": "stream",
     "text": [
      "100%|██████████████████████████████████████████████████████████████████████████████| 4682/4682 [15:29<00:00,  5.03it/s]\n"
     ]
    },
    {
     "name": "stdout",
     "output_type": "stream",
     "text": [
      "[ Train | 078/200 ] loss = 0.15894, acc = 0.81880\n"
     ]
    },
    {
     "name": "stderr",
     "output_type": "stream",
     "text": [
      "100%|████████████████████████████████████████████████████████████████████████████████| 586/586 [01:26<00:00,  6.80it/s]\n"
     ]
    },
    {
     "name": "stdout",
     "output_type": "stream",
     "text": [
      "did not increase valid_loss. break counter now at 1\n",
      "[ Valid | 078/200 ] loss = 0.56614, acc = 0.65124\n"
     ]
    },
    {
     "name": "stderr",
     "output_type": "stream",
     "text": [
      "100%|██████████████████████████████████████████████████████████████████████████████| 4682/4682 [15:31<00:00,  5.03it/s]\n"
     ]
    },
    {
     "name": "stdout",
     "output_type": "stream",
     "text": [
      "[ Train | 079/200 ] loss = 0.16006, acc = 0.81907\n"
     ]
    },
    {
     "name": "stderr",
     "output_type": "stream",
     "text": [
      "100%|████████████████████████████████████████████████████████████████████████████████| 586/586 [01:26<00:00,  6.80it/s]\n"
     ]
    },
    {
     "name": "stdout",
     "output_type": "stream",
     "text": [
      "[ Valid | 079/200 ] loss = 0.55719, acc = 0.65433\n"
     ]
    },
    {
     "name": "stderr",
     "output_type": "stream",
     "text": [
      "100%|██████████████████████████████████████████████████████████████████████████████| 4682/4682 [15:28<00:00,  5.04it/s]\n"
     ]
    },
    {
     "name": "stdout",
     "output_type": "stream",
     "text": [
      "[ Train | 080/200 ] loss = 0.15913, acc = 0.82219\n"
     ]
    },
    {
     "name": "stderr",
     "output_type": "stream",
     "text": [
      "100%|████████████████████████████████████████████████████████████████████████████████| 586/586 [01:26<00:00,  6.75it/s]\n"
     ]
    },
    {
     "name": "stdout",
     "output_type": "stream",
     "text": [
      "did not increase valid_loss. break counter now at 1\n",
      "[ Valid | 080/200 ] loss = 0.56514, acc = 0.65358\n"
     ]
    },
    {
     "name": "stderr",
     "output_type": "stream",
     "text": [
      "100%|██████████████████████████████████████████████████████████████████████████████| 4682/4682 [15:32<00:00,  5.02it/s]\n"
     ]
    },
    {
     "name": "stdout",
     "output_type": "stream",
     "text": [
      "[ Train | 081/200 ] loss = 0.15411, acc = 0.82506\n"
     ]
    },
    {
     "name": "stderr",
     "output_type": "stream",
     "text": [
      "100%|████████████████████████████████████████████████████████████████████████████████| 586/586 [01:28<00:00,  6.63it/s]\n"
     ]
    },
    {
     "name": "stdout",
     "output_type": "stream",
     "text": [
      "did not increase valid_loss. break counter now at 2\n",
      "[ Valid | 081/200 ] loss = 0.56505, acc = 0.65774\n"
     ]
    },
    {
     "name": "stderr",
     "output_type": "stream",
     "text": [
      "100%|██████████████████████████████████████████████████████████████████████████████| 4682/4682 [15:33<00:00,  5.02it/s]\n"
     ]
    },
    {
     "name": "stdout",
     "output_type": "stream",
     "text": [
      "[ Train | 082/200 ] loss = 0.15204, acc = 0.82824\n"
     ]
    },
    {
     "name": "stderr",
     "output_type": "stream",
     "text": [
      "100%|████████████████████████████████████████████████████████████████████████████████| 586/586 [01:28<00:00,  6.63it/s]\n"
     ]
    },
    {
     "name": "stdout",
     "output_type": "stream",
     "text": [
      "did not increase valid_loss. break counter now at 3\n",
      "[ Valid | 082/200 ] loss = 0.56234, acc = 0.65326\n"
     ]
    },
    {
     "name": "stderr",
     "output_type": "stream",
     "text": [
      "100%|██████████████████████████████████████████████████████████████████████████████| 4682/4682 [15:31<00:00,  5.03it/s]\n"
     ]
    },
    {
     "name": "stdout",
     "output_type": "stream",
     "text": [
      "[ Train | 083/200 ] loss = 0.15198, acc = 0.82641\n"
     ]
    },
    {
     "name": "stderr",
     "output_type": "stream",
     "text": [
      "100%|████████████████████████████████████████████████████████████████████████████████| 586/586 [01:27<00:00,  6.71it/s]\n"
     ]
    },
    {
     "name": "stdout",
     "output_type": "stream",
     "text": [
      "[ Valid | 083/200 ] loss = 0.55209, acc = 0.65604\n"
     ]
    },
    {
     "name": "stderr",
     "output_type": "stream",
     "text": [
      " 33%|█████████████████████████▍                                                    | 1525/4682 [05:01<10:24,  5.06it/s]\n"
     ]
    },
    {
     "ename": "KeyboardInterrupt",
     "evalue": "",
     "output_type": "error",
     "traceback": [
      "\u001b[1;31m---------------------------------------------------------------------------\u001b[0m",
      "\u001b[1;31mKeyboardInterrupt\u001b[0m                         Traceback (most recent call last)",
      "Cell \u001b[1;32mIn[41], line 51\u001b[0m\n\u001b[0;32m     48\u001b[0m loss\u001b[38;5;241m.\u001b[39mbackward()\n\u001b[0;32m     50\u001b[0m \u001b[38;5;66;03m# Clip the gradient norms for stable training.\u001b[39;00m\n\u001b[1;32m---> 51\u001b[0m grad_norm \u001b[38;5;241m=\u001b[39m \u001b[43mnn\u001b[49m\u001b[38;5;241;43m.\u001b[39;49m\u001b[43mutils\u001b[49m\u001b[38;5;241;43m.\u001b[39;49m\u001b[43mclip_grad_norm_\u001b[49m\u001b[43m(\u001b[49m\u001b[43mmodel\u001b[49m\u001b[38;5;241;43m.\u001b[39;49m\u001b[43mparameters\u001b[49m\u001b[43m(\u001b[49m\u001b[43m)\u001b[49m\u001b[43m,\u001b[49m\u001b[43m \u001b[49m\u001b[43mmax_norm\u001b[49m\u001b[38;5;241;43m=\u001b[39;49m\u001b[38;5;241;43m10\u001b[39;49m\u001b[43m)\u001b[49m\n\u001b[0;32m     53\u001b[0m \u001b[38;5;66;03m# Update the parameters with computed gradients.\u001b[39;00m\n\u001b[0;32m     54\u001b[0m optimizer\u001b[38;5;241m.\u001b[39mstep()\n",
      "File \u001b[1;32m~\\anaconda3\\lib\\site-packages\\torch\\nn\\utils\\clip_grad.py:76\u001b[0m, in \u001b[0;36mclip_grad_norm_\u001b[1;34m(parameters, max_norm, norm_type, error_if_nonfinite, foreach)\u001b[0m\n\u001b[0;32m     74\u001b[0m \u001b[38;5;28;01mfor\u001b[39;00m ((device, _), [grads]) \u001b[38;5;129;01min\u001b[39;00m grouped_grads\u001b[38;5;241m.\u001b[39mitems():\n\u001b[0;32m     75\u001b[0m     \u001b[38;5;28;01mif\u001b[39;00m (foreach \u001b[38;5;129;01mis\u001b[39;00m \u001b[38;5;28;01mNone\u001b[39;00m \u001b[38;5;129;01mor\u001b[39;00m foreach) \u001b[38;5;129;01mand\u001b[39;00m _has_foreach_support(grads, device\u001b[38;5;241m=\u001b[39mdevice):\n\u001b[1;32m---> 76\u001b[0m         \u001b[43mtorch\u001b[49m\u001b[38;5;241;43m.\u001b[39;49m\u001b[43m_foreach_mul_\u001b[49m\u001b[43m(\u001b[49m\u001b[43mgrads\u001b[49m\u001b[43m,\u001b[49m\u001b[43m \u001b[49m\u001b[43mclip_coef_clamped\u001b[49m\u001b[38;5;241;43m.\u001b[39;49m\u001b[43mto\u001b[49m\u001b[43m(\u001b[49m\u001b[43mdevice\u001b[49m\u001b[43m)\u001b[49m\u001b[43m)\u001b[49m  \u001b[38;5;66;03m# type: ignore[call-overload]\u001b[39;00m\n\u001b[0;32m     77\u001b[0m     \u001b[38;5;28;01melif\u001b[39;00m foreach:\n\u001b[0;32m     78\u001b[0m         \u001b[38;5;28;01mraise\u001b[39;00m \u001b[38;5;167;01mRuntimeError\u001b[39;00m(\u001b[38;5;124mf\u001b[39m\u001b[38;5;124m'\u001b[39m\u001b[38;5;124mforeach=True was passed, but can\u001b[39m\u001b[38;5;130;01m\\'\u001b[39;00m\u001b[38;5;124mt use the foreach API on \u001b[39m\u001b[38;5;132;01m{\u001b[39;00mdevice\u001b[38;5;241m.\u001b[39mtype\u001b[38;5;132;01m}\u001b[39;00m\u001b[38;5;124m tensors\u001b[39m\u001b[38;5;124m'\u001b[39m)\n",
      "\u001b[1;31mKeyboardInterrupt\u001b[0m: "
     ]
    }
   ],
   "source": [
    "# Hyperparameters  \n",
    "n_epochs = 200\n",
    "lr = 2e-5\n",
    "best_loss = float('inf')\n",
    "break_counter = 0 #early stopping \n",
    "\n",
    "# loss and optimizers \n",
    "criterion = nn.MSELoss()\n",
    "\n",
    "optimizer = torch.optim.AdamW(filter(lambda p: p.requires_grad, model.parameters()) , lr=lr , weight_decay=1e-4)\n",
    "# scheduler = LambdaLR(optimizer, lr_lambda=lambda epoch: 1/(epoch+1))\n",
    "scheduler=torch.optim.lr_scheduler.CosineAnnealingWarmRestarts(optimizer,T_0=15)\n",
    "\n",
    "# export beast model path: \n",
    "path = './model_image.pth'\n",
    "\n",
    "# Metrics - for plotting later \n",
    "valid_acc_plot = []\n",
    "train_acc_plot = []\n",
    "valid_loss_plot = []\n",
    "train_loss_plot = []\n",
    "\n",
    "for epoch in range(n_epochs): \n",
    "    \n",
    "    # enable training model \n",
    "    model.train() \n",
    "    train_loss = []\n",
    "    train_accs = []\n",
    "    \n",
    "    # training loop\n",
    "    for batch in tqdm(train_loader):\n",
    "        \n",
    "        # data points \n",
    "        inds_dec, masks_dec, inds_rev, masks_rev, i,rating = batch\n",
    "\n",
    "        labels = rating.to(device).float()\n",
    "        #print(f\"inds, masks, inds_rev, masks_rev, i.shape.rating.shape is {inds_dec.shape} {masks_dec.shape} {inds_rev.shape} {masks_rev.shape} {i.shape} {rating.shape}\")\n",
    "        # Forward the data. (Make sure data and model are on the same device.)\n",
    "        logits = model(inds_dec.to(device),masks_dec.to(device),inds_rev.to(device),masks_rev.to(device),i.to(device)).float()\n",
    "        \n",
    "        # loss \n",
    "        loss = criterion(logits, labels.to(device))\n",
    "\n",
    "        # Gradients stored in the parameters in the previous step should be cleared out first.\n",
    "        optimizer.zero_grad()\n",
    "\n",
    "        # Compute the gradients for parameters.\n",
    "        loss.backward()\n",
    "\n",
    "        # Clip the gradient norms for stable training.\n",
    "        grad_norm = nn.utils.clip_grad_norm_(model.parameters(), max_norm=10)\n",
    "\n",
    "        # Update the parameters with computed gradients.\n",
    "        optimizer.step()\n",
    "        scheduler.step()\n",
    "\n",
    "        # Compute the accuracy for current batch.\n",
    "        # acc = (logits.argmax(dim=-1) == labels.to(device)).float().mean()\n",
    "        acc = sum(logits.round()==labels.to(device)).item()/len(labels)\n",
    "\n",
    "        # Record the loss and accuracy.\n",
    "        train_loss.append(loss.item())\n",
    "        train_accs.append(acc)\n",
    "    \n",
    "    # The average loss and accuracy of the training set is the average of the recorded values.\n",
    "    train_loss = sum(train_loss) / len(train_loss)\n",
    "    train_acc = sum(train_accs) / len(train_accs)\n",
    "    \n",
    "    print(f\"[ Train | {epoch + 1:03d}/{n_epochs:03d} ] loss = {train_loss:.5f}, acc = {train_acc:.5f}\")\n",
    "    \n",
    "    # evaluation mode \n",
    "    model.eval()\n",
    "    valid_loss = []\n",
    "    valid_accs = []\n",
    "    \n",
    "    for batch in tqdm(valid_loader):\n",
    "        inds_dec, masks_dec, inds_rev, masks_rev, i,rating = batch\n",
    "        labels=  rating.to(device).float()       \n",
    "        # We don't need gradient in validation.\n",
    "        with torch.no_grad():\n",
    "            \n",
    "            logits = model(inds_dec.to(device),masks_dec.to(device),inds_rev.to(device),masks_rev.to(device),i.to(device)).float()\n",
    "\n",
    "        # We can still compute the loss (but not the gradient).\n",
    "        loss = criterion(logits, labels.to(device))\n",
    "\n",
    "        # Compute the accuracy for current batch.\n",
    "        acc = sum(logits.round()==labels.to(device)).item()/len(labels)\n",
    "\n",
    "        # Record the loss and accuracy.\n",
    "        valid_loss.append(loss.item())\n",
    "        valid_accs.append(acc)\n",
    "\n",
    "    # The average loss and accuracy for entire validation set is the average of the recorded values.\n",
    "    valid_loss = sum(valid_loss) / len(valid_loss)\n",
    "    valid_acc = sum(valid_accs) / len(valid_accs)\n",
    "    \n",
    "    # model saving \n",
    "    if valid_loss < best_loss:\n",
    "        torch.save(model.state_dict(), path)\n",
    "        best_loss = valid_loss \n",
    "        # resetting the counter \n",
    "        break_counter = 0\n",
    "    else:\n",
    "        break_counter += 1\n",
    "        print(f'did not increase valid_loss. break counter now at {break_counter}')\n",
    "        \n",
    "    # early-stopping\n",
    "    if break_counter > 100:\n",
    "        print(f'overfitting at {epoch}')\n",
    "        break\n",
    "        \n",
    "    # Print the information.\n",
    "    print(f\"[ Valid | {epoch + 1:03d}/{n_epochs:03d} ] loss = {valid_loss:.5f}, acc = {valid_acc:.5f}\")\n",
    "    \n",
    "    valid_acc_plot.append(valid_acc)\n",
    "    train_acc_plot.append(train_acc)\n",
    "    valid_loss_plot.append(valid_loss)\n",
    "    train_loss_plot.append(train_loss)"
   ]
  },
  {
   "cell_type": "code",
   "execution_count": null,
   "metadata": {},
   "outputs": [],
   "source": [
    "\n",
    "\n"
   ]
  },
  {
   "cell_type": "code",
   "execution_count": null,
   "metadata": {},
   "outputs": [],
   "source": [
    "model"
   ]
  },
  {
   "cell_type": "code",
   "execution_count": null,
   "metadata": {},
   "outputs": [],
   "source": [
    "# Exporting \n",
    "import pickle \n",
    "\n",
    "export_list = []\n",
    "for i in range(len(valid_acc_plot)):\n",
    "    export = {\n",
    "        'train_acc' : train_acc_plot[i],\n",
    "        'valid_acc' : valid_acc_plot[i],\n",
    "        'train_loss' : train_loss_plot[i],\n",
    "        'valid_loss' : valid_loss_plot[i],\n",
    "    }\n",
    "    export_list.append(export)\n",
    "\n",
    "\n",
    "with open('./image_text.pkl','wb') as handle:\n",
    "    pickle.dump(export_list, handle)"
   ]
  },
  {
   "cell_type": "code",
   "execution_count": 42,
   "metadata": {},
   "outputs": [
    {
     "data": {
      "image/png": "[encoded data removed]",
      "text/plain": [
       "<Figure size 640x480 with 2 Axes>"
      ]
     },
     "metadata": {},
     "output_type": "display_data"
    }
   ],
   "source": [
    "##plot the loss\n",
    "\n",
    "# Plotting\n",
    "fig, ax1 = plt.subplots()\n",
    "\n",
    "# Plotting accuracy on the first y-axis\n",
    "ax1.set_xlabel('Epochs')\n",
    "ax1.set_ylabel('Accuracy', color='tab:blue')\n",
    "ax1.plot(train_acc_plot, label='Train Accuracy', color='tab:blue', linestyle='dashed', marker='o')\n",
    "ax1.plot(valid_acc_plot, label='Validation Accuracy', color='tab:blue', marker='x')\n",
    "ax1.tick_params(axis='y', labelcolor='tab:blue')\n",
    "\n",
    "# Creating a second y-axis to plot loss\n",
    "ax2 = ax1.twinx()\n",
    "ax2.set_ylabel('Loss', color='tab:red')\n",
    "ax2.plot(train_loss_plot, label='Train Loss', color='tab:red', linestyle='dashed', marker='o')\n",
    "ax2.plot(valid_loss_plot, label='Validation Loss', color='tab:red', marker='x')\n",
    "ax2.tick_params(axis='y', labelcolor='tab:red')\n",
    "\n",
    "# Title and legend\n",
    "plt.title('Training and Validation Metrics')\n",
    "fig.tight_layout()\n",
    "fig.legend(loc='upper left', bbox_to_anchor=(0.1, 0.9))\n",
    "\n",
    "# Show the plot\n",
    "plt.show()"
   ]
  },
  {
   "cell_type": "code",
   "execution_count": null,
   "metadata": {},
   "outputs": [],
   "source": [
    "max(valid_acc_plot)"
   ]
  },
  {
   "cell_type": "code",
   "execution_count": 44,
   "metadata": {},
   "outputs": [],
   "source": [
    "import copy\n",
    "orginnal_model=copy.deepcopy(model)"
   ]
  },
  {
   "cell_type": "code",
   "execution_count": 56,
   "metadata": {},
   "outputs": [],
   "source": [
    "model=copy.deepcopy(orginnal_model)"
   ]
  },
  {
   "cell_type": "code",
   "execution_count": 66,
   "metadata": {},
   "outputs": [
    {
     "data": {
      "text/plain": [
       "<All keys matched successfully>"
      ]
     },
     "execution_count": 66,
     "metadata": {},
     "output_type": "execute_result"
    }
   ],
   "source": [
    "model.load_state_dict(torch.load('./model_image.pth'))"
   ]
  },
  {
   "cell_type": "code",
   "execution_count": 69,
   "metadata": {},
   "outputs": [
    {
     "name": "stderr",
     "output_type": "stream",
     "text": [
      "100%|████████████████████████████████████████████████████████████████████████████████| 586/586 [01:25<00:00,  6.84it/s]"
     ]
    },
    {
     "name": "stdout",
     "output_type": "stream",
     "text": [
      "Test Accuracy: 0.66004\n",
      "Mean Squared Error (MSE): 0.54597\n"
     ]
    },
    {
     "name": "stderr",
     "output_type": "stream",
     "text": [
      "\n"
     ]
    }
   ],
   "source": [
    "# Evaluation mode\n",
    "model.eval()\n",
    "\n",
    "# Lists to store predictions and labels\n",
    "test_predictions = []\n",
    "test_labels = []\n",
    "\n",
    "# Test loop\n",
    "for batch in tqdm(test_loader):\n",
    "    inds_dec, masks_dec, inds_rev, masks_rev, i, rating = batch\n",
    "    labels = rating.to(device).float()\n",
    "\n",
    "    # Disable gradient computation during evaluation\n",
    "    with torch.no_grad():\n",
    "        logits = model(inds_dec.to(device), masks_dec.to(device), inds_rev.to(device), masks_rev.to(device), i.to(device)).float()\n",
    "\n",
    "    # Record predictions and labels\n",
    "    test_predictions.extend(logits.cpu().numpy())\n",
    "    test_labels.extend(labels.cpu().numpy())\n",
    "\n",
    "# Convert lists to NumPy arrays\n",
    "test_predictions = np.array(test_predictions)\n",
    "test_labels = np.array(test_labels)\n",
    "\n",
    "# Calculate accuracy\n",
    "test_accuracy = np.sum(test_predictions.round() == test_labels) / len(test_labels)\n",
    "print(f\"Test Accuracy: {test_accuracy:.5f}\")\n",
    "\n",
    "import torch\n",
    "import torch.nn as nn\n",
    "\n",
    "# Assuming test_labels and test_predictions are NumPy arrays\n",
    "test_labels_tensor = torch.from_numpy(test_labels)\n",
    "test_predictions_tensor = torch.from_numpy(test_predictions)\n",
    "\n",
    "# Convert to torch tensors if they are not already\n",
    "criterion = nn.MSELoss()\n",
    "\n",
    "# Calculate MSE\n",
    "mse_loss = criterion(test_predictions_tensor.float(), test_labels_tensor.float())\n",
    "\n",
    "# Convert MSE to a Python number\n",
    "mse_value = mse_loss.item()\n",
    "\n",
    "print(f\"Mean Squared Error (MSE): {mse_value:.5f}\")\n"
   ]
  },
  {
   "cell_type": "code",
   "execution_count": 68,
   "metadata": {},
   "outputs": [
    {
     "name": "stdout",
     "output_type": "stream",
     "text": [
      "Mean Squared Error (MSE): 0.55176\n"
     ]
    }
   ],
   "source": []
  },
  {
   "cell_type": "code",
   "execution_count": 62,
   "metadata": {},
   "outputs": [
    {
     "data": {
      "text/plain": [
       "(9363,)"
      ]
     },
     "execution_count": 62,
     "metadata": {},
     "output_type": "execute_result"
    }
   ],
   "source": [
    "test_labels.shape"
   ]
  },
  {
   "cell_type": "code",
   "execution_count": null,
   "metadata": {},
   "outputs": [],
   "source": []
  }
 ],
 "metadata": {
  "kernelspec": {
   "display_name": "Python 3 (ipykernel)",
   "language": "python",
   "name": "python3"
  },
  "language_info": {
   "codemirror_mode": {
    "name": "ipython",
    "version": 3
   },
   "file_extension": ".py",
   "mimetype": "text/x-python",
   "name": "python",
   "nbconvert_exporter": "python",
   "pygments_lexer": "ipython3",
   "version": "3.9.13"
  }
 },
 "nbformat": 4,
 "nbformat_minor": 2
}
