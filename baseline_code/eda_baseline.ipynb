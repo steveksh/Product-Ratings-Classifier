{
 "cells": [
  {
   "cell_type": "markdown",
   "metadata": {},
   "source": [
    "You can explore other ploting libraries like plotly, altair and highcharts"
   ]
  },
  {
   "cell_type": "code",
   "execution_count": 4,
   "metadata": {},
   "outputs": [],
   "source": [
    "import pickle\n",
    "import pandas as pd \n",
    "import numpy as np \n",
    "import plotly.graph_objects as go\n",
    "import plotly\n",
    "plotly.offline.init_notebook_mode()\n",
    "import sys\n",
    "sys.path.append('../')\n",
    "from modules.json_reader import *\n",
    "\n",
    "with open('../components/review_embedding.pkl', 'rb') as handle:\n",
    "    x = pickle.load(handle)\n",
    "df = pd.DataFrame(x)\n",
    "\n",
    "# make sure the data is stored in raw_data\n",
    "metadata = metadata_loader(\"../raw_data/meta_Video_Games.json.gz\").\\\n",
    "           dropna().\\\n",
    "           reset_index(drop=True)\n",
    "\n",
    "df_merged = df.merge(metadata,how='inner',on='asin')"
   ]
  },
  {
   "cell_type": "markdown",
   "metadata": {},
   "source": [
    "Class Imbalance is very dangerous and we need address it accordingly"
   ]
  },
  {
   "cell_type": "code",
   "execution_count": 5,
   "metadata": {},
   "outputs": [
    {
     "data": {
      "application/vnd.plotly.v1+json": {
       "config": {
        "linkText": "Export to plot.ly",
        "plotlyServerURL": "https://plot.ly",
        "showLink": false
       },
       "data": [
        {
         "hole": 0.3,
         "labels": [
          5,
          4,
          3,
          1,
          2
         ],
         "type": "pie",
         "values": [
          118427,
          54351,
          28041,
          14592,
          13556
         ]
        }
       ],
       "layout": {
        "autosize": false,
        "height": 450,
        "minreducedheight": 250,
        "minreducedwidth": 250,
        "template": {
         "data": {
          "bar": [
           {
            "error_x": {
             "color": "#2a3f5f"
            },
            "error_y": {
             "color": "#2a3f5f"
            },
            "marker": {
             "line": {
              "color": "#E5ECF6",
              "width": 0.5
             },
             "pattern": {
              "fillmode": "overlay",
              "size": 10,
              "solidity": 0.2
             }
            },
            "type": "bar"
           }
          ],
          "barpolar": [
           {
            "marker": {
             "line": {
              "color": "#E5ECF6",
              "width": 0.5
             },
             "pattern": {
              "fillmode": "overlay",
              "size": 10,
              "solidity": 0.2
             }
            },
            "type": "barpolar"
           }
          ],
          "carpet": [
           {
            "aaxis": {
             "endlinecolor": "#2a3f5f",
             "gridcolor": "white",
             "linecolor": "white",
             "minorgridcolor": "white",
             "startlinecolor": "#2a3f5f"
            },
            "baxis": {
             "endlinecolor": "#2a3f5f",
             "gridcolor": "white",
             "linecolor": "white",
             "minorgridcolor": "white",
             "startlinecolor": "#2a3f5f"
            },
            "type": "carpet"
           }
          ],
          "choropleth": [
           {
            "colorbar": {
             "outlinewidth": 0,
             "ticks": ""
            },
            "type": "choropleth"
           }
          ],
          "contour": [
           {
            "colorbar": {
             "outlinewidth": 0,
             "ticks": ""
            },
            "colorscale": [
             [
              0,
              "#0d0887"
             ],
             [
              0.1111111111111111,
              "#46039f"
             ],
             [
              0.2222222222222222,
              "#7201a8"
             ],
             [
              0.3333333333333333,
              "#9c179e"
             ],
             [
              0.4444444444444444,
              "#bd3786"
             ],
             [
              0.5555555555555556,
              "#d8576b"
             ],
             [
              0.6666666666666666,
              "#ed7953"
             ],
             [
              0.7777777777777778,
              "#fb9f3a"
             ],
             [
              0.8888888888888888,
              "#fdca26"
             ],
             [
              1,
              "#f0f921"
             ]
            ],
            "type": "contour"
           }
          ],
          "contourcarpet": [
           {
            "colorbar": {
             "outlinewidth": 0,
             "ticks": ""
            },
            "type": "contourcarpet"
           }
          ],
          "heatmap": [
           {
            "colorbar": {
             "outlinewidth": 0,
             "ticks": ""
            },
            "colorscale": [
             [
              0,
              "#0d0887"
             ],
             [
              0.1111111111111111,
              "#46039f"
             ],
             [
              0.2222222222222222,
              "#7201a8"
             ],
             [
              0.3333333333333333,
              "#9c179e"
             ],
             [
              0.4444444444444444,
              "#bd3786"
             ],
             [
              0.5555555555555556,
              "#d8576b"
             ],
             [
              0.6666666666666666,
              "#ed7953"
             ],
             [
              0.7777777777777778,
              "#fb9f3a"
             ],
             [
              0.8888888888888888,
              "#fdca26"
             ],
             [
              1,
              "#f0f921"
             ]
            ],
            "type": "heatmap"
           }
          ],
          "heatmapgl": [
           {
            "colorbar": {
             "outlinewidth": 0,
             "ticks": ""
            },
            "colorscale": [
             [
              0,
              "#0d0887"
             ],
             [
              0.1111111111111111,
              "#46039f"
             ],
             [
              0.2222222222222222,
              "#7201a8"
             ],
             [
              0.3333333333333333,
              "#9c179e"
             ],
             [
              0.4444444444444444,
              "#bd3786"
             ],
             [
              0.5555555555555556,
              "#d8576b"
             ],
             [
              0.6666666666666666,
              "#ed7953"
             ],
             [
              0.7777777777777778,
              "#fb9f3a"
             ],
             [
              0.8888888888888888,
              "#fdca26"
             ],
             [
              1,
              "#f0f921"
             ]
            ],
            "type": "heatmapgl"
           }
          ],
          "histogram": [
           {
            "marker": {
             "pattern": {
              "fillmode": "overlay",
              "size": 10,
              "solidity": 0.2
             }
            },
            "type": "histogram"
           }
          ],
          "histogram2d": [
           {
            "colorbar": {
             "outlinewidth": 0,
             "ticks": ""
            },
            "colorscale": [
             [
              0,
              "#0d0887"
             ],
             [
              0.1111111111111111,
              "#46039f"
             ],
             [
              0.2222222222222222,
              "#7201a8"
             ],
             [
              0.3333333333333333,
              "#9c179e"
             ],
             [
              0.4444444444444444,
              "#bd3786"
             ],
             [
              0.5555555555555556,
              "#d8576b"
             ],
             [
              0.6666666666666666,
              "#ed7953"
             ],
             [
              0.7777777777777778,
              "#fb9f3a"
             ],
             [
              0.8888888888888888,
              "#fdca26"
             ],
             [
              1,
              "#f0f921"
             ]
            ],
            "type": "histogram2d"
           }
          ],
          "histogram2dcontour": [
           {
            "colorbar": {
             "outlinewidth": 0,
             "ticks": ""
            },
            "colorscale": [
             [
              0,
              "#0d0887"
             ],
             [
              0.1111111111111111,
              "#46039f"
             ],
             [
              0.2222222222222222,
              "#7201a8"
             ],
             [
              0.3333333333333333,
              "#9c179e"
             ],
             [
              0.4444444444444444,
              "#bd3786"
             ],
             [
              0.5555555555555556,
              "#d8576b"
             ],
             [
              0.6666666666666666,
              "#ed7953"
             ],
             [
              0.7777777777777778,
              "#fb9f3a"
             ],
             [
              0.8888888888888888,
              "#fdca26"
             ],
             [
              1,
              "#f0f921"
             ]
            ],
            "type": "histogram2dcontour"
           }
          ],
          "mesh3d": [
           {
            "colorbar": {
             "outlinewidth": 0,
             "ticks": ""
            },
            "type": "mesh3d"
           }
          ],
          "parcoords": [
           {
            "line": {
             "colorbar": {
              "outlinewidth": 0,
              "ticks": ""
             }
            },
            "type": "parcoords"
           }
          ],
          "pie": [
           {
            "automargin": true,
            "type": "pie"
           }
          ],
          "scatter": [
           {
            "fillpattern": {
             "fillmode": "overlay",
             "size": 10,
             "solidity": 0.2
            },
            "type": "scatter"
           }
          ],
          "scatter3d": [
           {
            "line": {
             "colorbar": {
              "outlinewidth": 0,
              "ticks": ""
             }
            },
            "marker": {
             "colorbar": {
              "outlinewidth": 0,
              "ticks": ""
             }
            },
            "type": "scatter3d"
           }
          ],
          "scattercarpet": [
           {
            "marker": {
             "colorbar": {
              "outlinewidth": 0,
              "ticks": ""
             }
            },
            "type": "scattercarpet"
           }
          ],
          "scattergeo": [
           {
            "marker": {
             "colorbar": {
              "outlinewidth": 0,
              "ticks": ""
             }
            },
            "type": "scattergeo"
           }
          ],
          "scattergl": [
           {
            "marker": {
             "colorbar": {
              "outlinewidth": 0,
              "ticks": ""
             }
            },
            "type": "scattergl"
           }
          ],
          "scattermapbox": [
           {
            "marker": {
             "colorbar": {
              "outlinewidth": 0,
              "ticks": ""
             }
            },
            "type": "scattermapbox"
           }
          ],
          "scatterpolar": [
           {
            "marker": {
             "colorbar": {
              "outlinewidth": 0,
              "ticks": ""
             }
            },
            "type": "scatterpolar"
           }
          ],
          "scatterpolargl": [
           {
            "marker": {
             "colorbar": {
              "outlinewidth": 0,
              "ticks": ""
             }
            },
            "type": "scatterpolargl"
           }
          ],
          "scatterternary": [
           {
            "marker": {
             "colorbar": {
              "outlinewidth": 0,
              "ticks": ""
             }
            },
            "type": "scatterternary"
           }
          ],
          "surface": [
           {
            "colorbar": {
             "outlinewidth": 0,
             "ticks": ""
            },
            "colorscale": [
             [
              0,
              "#0d0887"
             ],
             [
              0.1111111111111111,
              "#46039f"
             ],
             [
              0.2222222222222222,
              "#7201a8"
             ],
             [
              0.3333333333333333,
              "#9c179e"
             ],
             [
              0.4444444444444444,
              "#bd3786"
             ],
             [
              0.5555555555555556,
              "#d8576b"
             ],
             [
              0.6666666666666666,
              "#ed7953"
             ],
             [
              0.7777777777777778,
              "#fb9f3a"
             ],
             [
              0.8888888888888888,
              "#fdca26"
             ],
             [
              1,
              "#f0f921"
             ]
            ],
            "type": "surface"
           }
          ],
          "table": [
           {
            "cells": {
             "fill": {
              "color": "#EBF0F8"
             },
             "line": {
              "color": "white"
             }
            },
            "header": {
             "fill": {
              "color": "#C8D4E3"
             },
             "line": {
              "color": "white"
             }
            },
            "type": "table"
           }
          ]
         },
         "layout": {
          "annotationdefaults": {
           "arrowcolor": "#2a3f5f",
           "arrowhead": 0,
           "arrowwidth": 1
          },
          "autotypenumbers": "strict",
          "coloraxis": {
           "colorbar": {
            "outlinewidth": 0,
            "ticks": ""
           }
          },
          "colorscale": {
           "diverging": [
            [
             0,
             "#8e0152"
            ],
            [
             0.1,
             "#c51b7d"
            ],
            [
             0.2,
             "#de77ae"
            ],
            [
             0.3,
             "#f1b6da"
            ],
            [
             0.4,
             "#fde0ef"
            ],
            [
             0.5,
             "#f7f7f7"
            ],
            [
             0.6,
             "#e6f5d0"
            ],
            [
             0.7,
             "#b8e186"
            ],
            [
             0.8,
             "#7fbc41"
            ],
            [
             0.9,
             "#4d9221"
            ],
            [
             1,
             "#276419"
            ]
           ],
           "sequential": [
            [
             0,
             "#0d0887"
            ],
            [
             0.1111111111111111,
             "#46039f"
            ],
            [
             0.2222222222222222,
             "#7201a8"
            ],
            [
             0.3333333333333333,
             "#9c179e"
            ],
            [
             0.4444444444444444,
             "#bd3786"
            ],
            [
             0.5555555555555556,
             "#d8576b"
            ],
            [
             0.6666666666666666,
             "#ed7953"
            ],
            [
             0.7777777777777778,
             "#fb9f3a"
            ],
            [
             0.8888888888888888,
             "#fdca26"
            ],
            [
             1,
             "#f0f921"
            ]
           ],
           "sequentialminus": [
            [
             0,
             "#0d0887"
            ],
            [
             0.1111111111111111,
             "#46039f"
            ],
            [
             0.2222222222222222,
             "#7201a8"
            ],
            [
             0.3333333333333333,
             "#9c179e"
            ],
            [
             0.4444444444444444,
             "#bd3786"
            ],
            [
             0.5555555555555556,
             "#d8576b"
            ],
            [
             0.6666666666666666,
             "#ed7953"
            ],
            [
             0.7777777777777778,
             "#fb9f3a"
            ],
            [
             0.8888888888888888,
             "#fdca26"
            ],
            [
             1,
             "#f0f921"
            ]
           ]
          },
          "colorway": [
           "#636efa",
           "#EF553B",
           "#00cc96",
           "#ab63fa",
           "#FFA15A",
           "#19d3f3",
           "#FF6692",
           "#B6E880",
           "#FF97FF",
           "#FECB52"
          ],
          "font": {
           "color": "#2a3f5f"
          },
          "geo": {
           "bgcolor": "white",
           "lakecolor": "white",
           "landcolor": "#E5ECF6",
           "showlakes": true,
           "showland": true,
           "subunitcolor": "white"
          },
          "hoverlabel": {
           "align": "left"
          },
          "hovermode": "closest",
          "mapbox": {
           "style": "light"
          },
          "paper_bgcolor": "white",
          "plot_bgcolor": "#E5ECF6",
          "polar": {
           "angularaxis": {
            "gridcolor": "white",
            "linecolor": "white",
            "ticks": ""
           },
           "bgcolor": "#E5ECF6",
           "radialaxis": {
            "gridcolor": "white",
            "linecolor": "white",
            "ticks": ""
           }
          },
          "scene": {
           "xaxis": {
            "backgroundcolor": "#E5ECF6",
            "gridcolor": "white",
            "gridwidth": 2,
            "linecolor": "white",
            "showbackground": true,
            "ticks": "",
            "zerolinecolor": "white"
           },
           "yaxis": {
            "backgroundcolor": "#E5ECF6",
            "gridcolor": "white",
            "gridwidth": 2,
            "linecolor": "white",
            "showbackground": true,
            "ticks": "",
            "zerolinecolor": "white"
           },
           "zaxis": {
            "backgroundcolor": "#E5ECF6",
            "gridcolor": "white",
            "gridwidth": 2,
            "linecolor": "white",
            "showbackground": true,
            "ticks": "",
            "zerolinecolor": "white"
           }
          },
          "shapedefaults": {
           "line": {
            "color": "#2a3f5f"
           }
          },
          "ternary": {
           "aaxis": {
            "gridcolor": "white",
            "linecolor": "white",
            "ticks": ""
           },
           "baxis": {
            "gridcolor": "white",
            "linecolor": "white",
            "ticks": ""
           },
           "bgcolor": "#E5ECF6",
           "caxis": {
            "gridcolor": "white",
            "linecolor": "white",
            "ticks": ""
           }
          },
          "title": {
           "x": 0.05
          },
          "xaxis": {
           "automargin": true,
           "gridcolor": "white",
           "linecolor": "white",
           "ticks": "",
           "title": {
            "standoff": 15
           },
           "zerolinecolor": "white",
           "zerolinewidth": 2
          },
          "yaxis": {
           "automargin": true,
           "gridcolor": "white",
           "linecolor": "white",
           "ticks": "",
           "title": {
            "standoff": 15
           },
           "zerolinecolor": "white",
           "zerolinewidth": 2
          }
         }
        },
        "title": {
         "text": "Amazon Product Review Rating Aggregated Count"
        },
        "width": 450
       }
      }
     },
     "metadata": {},
     "output_type": "display_data"
    }
   ],
   "source": [
    "labels = list(df.overall.value_counts().to_dict().keys())\n",
    "data = df.overall.value_counts().to_list()\n",
    "\n",
    "# Use `hole` to create a donut-like pie chart\n",
    "fig = go.Figure(data=[go.Pie(labels=labels, values=data, hole=.3)])\n",
    "\n",
    "fig.update_layout(\n",
    "    title_text=\"Amazon Product Review Rating Aggregated Count\",\n",
    "    autosize=False,\n",
    "    minreducedwidth=250,\n",
    "    minreducedheight=250,\n",
    "    width=450,\n",
    "    height=450\n",
    ")\n",
    "plotly.offline.iplot(fig) "
   ]
  },
  {
   "cell_type": "markdown",
   "metadata": {},
   "source": [
    "Length of each product review might be interesting to know as well "
   ]
  },
  {
   "cell_type": "code",
   "execution_count": 9,
   "metadata": {},
   "outputs": [
    {
     "data": {
      "application/vnd.plotly.v1+json": {
       "config": {
        "linkText": "Export to plot.ly",
        "plotlyServerURL": "https://plot.ly",
        "showLink": false
       },
       "data": [
        {
         "alignmentgroup": "True",
         "hovertemplate": "categories=E-l-e-c-t-r-o-n-i-c-s---C-o-m-p-u-t-e-r-s- -&- -A-c-c-e-s-s-o-r-i-e-s---C-a-b-l-e-s- -&- -A-c-c-e-s-s-o-r-i-e-s<br>overall=%{x}<br>length=%{y}<extra></extra>",
         "legendgroup": "E-l-e-c-t-r-o-n-i-c-s---C-o-m-p-u-t-e-r-s- -&- -A-c-c-e-s-s-o-r-i-e-s---C-a-b-l-e-s- -&- -A-c-c-e-s-s-o-r-i-e-s",
         "marker": {
          "color": "#636efa",
          "pattern": {
           "shape": ""
          }
         },
         "name": "E-l-e-c-t-r-o-n-i-c-s---C-o-m-p-u-t-e-r-s- -&- -A-c-c-e-s-s-o-r-i-e-s---C-a-b-l-e-s- -&- -A-c-c-e-s-s-o-r-i-e-s",
         "offsetgroup": "E-l-e-c-t-r-o-n-i-c-s---C-o-m-p-u-t-e-r-s- -&- -A-c-c-e-s-s-o-r-i-e-s---C-a-b-l-e-s- -&- -A-c-c-e-s-s-o-r-i-e-s",
         "orientation": "v",
         "showlegend": true,
         "textposition": "auto",
         "texttemplate": "%{y:.2s}",
         "type": "bar",
         "x": [
          1,
          2,
          3,
          4,
          5
         ],
         "xaxis": "x",
         "y": [
          170.33333333333334,
          927.3333333333334,
          245.2,
          354.5,
          188.02702702702703
         ],
         "yaxis": "y"
        },
        {
         "alignmentgroup": "True",
         "hovertemplate": "categories=E-l-e-c-t-r-o-n-i-c-s---C-o-m-p-u-t-e-r-s- -&- -A-c-c-e-s-s-o-r-i-e-s---C-a-b-l-e-s- -&- -A-c-c-e-s-s-o-r-i-e-s---C-a-b-l-e-s- -&- -I-n-t-e-r-c-o-n-n-e-c-t-s---U-S-B- -C-a-b-l-e-s<br>overall=%{x}<br>length=%{y}<extra></extra>",
         "legendgroup": "E-l-e-c-t-r-o-n-i-c-s---C-o-m-p-u-t-e-r-s- -&- -A-c-c-e-s-s-o-r-i-e-s---C-a-b-l-e-s- -&- -A-c-c-e-s-s-o-r-i-e-s---C-a-b-l-e-s- -&- -I-n-t-e-r-c-o-n-n-e-c-t-s---U-S-B- -C-a-b-l-e-s",
         "marker": {
          "color": "#EF553B",
          "pattern": {
           "shape": ""
          }
         },
         "name": "E-l-e-c-t-r-o-n-i-c-s---C-o-m-p-u-t-e-r-s- -&- -A-c-c-e-s-s-o-r-i-e-s---C-a-b-l-e-s- -&- -A-c-c-e-s-s-o-r-i-e-s---C-a-b-l-e-s- -&- -I-n-t-e-r-c-o-n-n-e-c-t-s---U-S-B- -C-a-b-l-e-s",
         "offsetgroup": "E-l-e-c-t-r-o-n-i-c-s---C-o-m-p-u-t-e-r-s- -&- -A-c-c-e-s-s-o-r-i-e-s---C-a-b-l-e-s- -&- -A-c-c-e-s-s-o-r-i-e-s---C-a-b-l-e-s- -&- -I-n-t-e-r-c-o-n-n-e-c-t-s---U-S-B- -C-a-b-l-e-s",
         "orientation": "v",
         "showlegend": true,
         "textposition": "auto",
         "texttemplate": "%{y:.2s}",
         "type": "bar",
         "x": [
          1,
          3,
          4,
          5
         ],
         "xaxis": "x",
         "y": [
          1001,
          394.8,
          239,
          239.16666666666666
         ],
         "yaxis": "y"
        },
        {
         "alignmentgroup": "True",
         "hovertemplate": "categories=V-i-d-e-o- -G-a-m-e-s<br>overall=%{x}<br>length=%{y}<extra></extra>",
         "legendgroup": "V-i-d-e-o- -G-a-m-e-s",
         "marker": {
          "color": "#00cc96",
          "pattern": {
           "shape": ""
          }
         },
         "name": "V-i-d-e-o- -G-a-m-e-s",
         "offsetgroup": "V-i-d-e-o- -G-a-m-e-s",
         "orientation": "v",
         "showlegend": true,
         "textposition": "auto",
         "texttemplate": "%{y:.2s}",
         "type": "bar",
         "x": [
          1,
          2,
          3,
          4,
          5
         ],
         "xaxis": "x",
         "y": [
          185.5,
          224.66666666666666,
          524,
          345,
          403.125
         ],
         "yaxis": "y"
        },
        {
         "alignmentgroup": "True",
         "hovertemplate": "categories=V-i-d-e-o- -G-a-m-e-s---M-o-r-e- -S-y-s-t-e-m-s---S-e-g-a- -G-e-n-e-s-i-s---H-a-r-d-w-a-r-e---A-c-c-e-s-s-o-r-i-e-s<br>overall=%{x}<br>length=%{y}<extra></extra>",
         "legendgroup": "V-i-d-e-o- -G-a-m-e-s---M-o-r-e- -S-y-s-t-e-m-s---S-e-g-a- -G-e-n-e-s-i-s---H-a-r-d-w-a-r-e---A-c-c-e-s-s-o-r-i-e-s",
         "marker": {
          "color": "#ab63fa",
          "pattern": {
           "shape": ""
          }
         },
         "name": "V-i-d-e-o- -G-a-m-e-s---M-o-r-e- -S-y-s-t-e-m-s---S-e-g-a- -G-e-n-e-s-i-s---H-a-r-d-w-a-r-e---A-c-c-e-s-s-o-r-i-e-s",
         "offsetgroup": "V-i-d-e-o- -G-a-m-e-s---M-o-r-e- -S-y-s-t-e-m-s---S-e-g-a- -G-e-n-e-s-i-s---H-a-r-d-w-a-r-e---A-c-c-e-s-s-o-r-i-e-s",
         "orientation": "v",
         "showlegend": true,
         "textposition": "auto",
         "texttemplate": "%{y:.2s}",
         "type": "bar",
         "x": [
          1,
          3,
          4,
          5
         ],
         "xaxis": "x",
         "y": [
          374.4,
          114.5,
          121,
          274.6896551724138
         ],
         "yaxis": "y"
        },
        {
         "alignmentgroup": "True",
         "hovertemplate": "categories=V-i-d-e-o- -G-a-m-e-s---N-i-n-t-e-n-d-o- -D-S---C-o-n-s-o-l-e-s<br>overall=%{x}<br>length=%{y}<extra></extra>",
         "legendgroup": "V-i-d-e-o- -G-a-m-e-s---N-i-n-t-e-n-d-o- -D-S---C-o-n-s-o-l-e-s",
         "marker": {
          "color": "#FFA15A",
          "pattern": {
           "shape": ""
          }
         },
         "name": "V-i-d-e-o- -G-a-m-e-s---N-i-n-t-e-n-d-o- -D-S---C-o-n-s-o-l-e-s",
         "offsetgroup": "V-i-d-e-o- -G-a-m-e-s---N-i-n-t-e-n-d-o- -D-S---C-o-n-s-o-l-e-s",
         "orientation": "v",
         "showlegend": true,
         "textposition": "auto",
         "texttemplate": "%{y:.2s}",
         "type": "bar",
         "x": [
          1,
          2,
          4,
          5
         ],
         "xaxis": "x",
         "y": [
          120,
          1269,
          1228.5,
          557.6
         ],
         "yaxis": "y"
        },
        {
         "alignmentgroup": "True",
         "hovertemplate": "categories=V-i-d-e-o- -G-a-m-e-s---P-C---A-c-c-e-s-s-o-r-i-e-s---C-o-n-t-r-o-l-l-e-r-s---G-a-m-e-p-a-d-s<br>overall=%{x}<br>length=%{y}<extra></extra>",
         "legendgroup": "V-i-d-e-o- -G-a-m-e-s---P-C---A-c-c-e-s-s-o-r-i-e-s---C-o-n-t-r-o-l-l-e-r-s---G-a-m-e-p-a-d-s",
         "marker": {
          "color": "#19d3f3",
          "pattern": {
           "shape": ""
          }
         },
         "name": "V-i-d-e-o- -G-a-m-e-s---P-C---A-c-c-e-s-s-o-r-i-e-s---C-o-n-t-r-o-l-l-e-r-s---G-a-m-e-p-a-d-s",
         "offsetgroup": "V-i-d-e-o- -G-a-m-e-s---P-C---A-c-c-e-s-s-o-r-i-e-s---C-o-n-t-r-o-l-l-e-r-s---G-a-m-e-p-a-d-s",
         "orientation": "v",
         "showlegend": true,
         "textposition": "auto",
         "texttemplate": "%{y:.2s}",
         "type": "bar",
         "x": [
          1,
          2,
          3,
          4,
          5
         ],
         "xaxis": "x",
         "y": [
          789.6666666666666,
          887,
          1494.7777777777778,
          1547,
          1385.4736842105262
         ],
         "yaxis": "y"
        },
        {
         "alignmentgroup": "True",
         "hovertemplate": "categories=V-i-d-e-o- -G-a-m-e-s---P-C---A-c-c-e-s-s-o-r-i-e-s---C-o-n-t-r-o-l-l-e-r-s---J-o-y-s-t-i-c-k-s<br>overall=%{x}<br>length=%{y}<extra></extra>",
         "legendgroup": "V-i-d-e-o- -G-a-m-e-s---P-C---A-c-c-e-s-s-o-r-i-e-s---C-o-n-t-r-o-l-l-e-r-s---J-o-y-s-t-i-c-k-s",
         "marker": {
          "color": "#FF6692",
          "pattern": {
           "shape": ""
          }
         },
         "name": "V-i-d-e-o- -G-a-m-e-s---P-C---A-c-c-e-s-s-o-r-i-e-s---C-o-n-t-r-o-l-l-e-r-s---J-o-y-s-t-i-c-k-s",
         "offsetgroup": "V-i-d-e-o- -G-a-m-e-s---P-C---A-c-c-e-s-s-o-r-i-e-s---C-o-n-t-r-o-l-l-e-r-s---J-o-y-s-t-i-c-k-s",
         "orientation": "v",
         "showlegend": true,
         "textposition": "auto",
         "texttemplate": "%{y:.2s}",
         "type": "bar",
         "x": [
          1,
          3,
          4,
          5
         ],
         "xaxis": "x",
         "y": [
          117.66666666666667,
          373,
          423,
          334.6666666666667
         ],
         "yaxis": "y"
        },
        {
         "alignmentgroup": "True",
         "hovertemplate": "categories=V-i-d-e-o- -G-a-m-e-s---P-l-a-y-S-t-a-t-i-o-n- -3---A-c-c-e-s-s-o-r-i-e-s---C-o-n-t-r-o-l-l-e-r-s---R-e-m-o-t-e-s<br>overall=%{x}<br>length=%{y}<extra></extra>",
         "legendgroup": "V-i-d-e-o- -G-a-m-e-s---P-l-a-y-S-t-a-t-i-o-n- -3---A-c-c-e-s-s-o-r-i-e-s---C-o-n-t-r-o-l-l-e-r-s---R-e-m-o-t-e-s",
         "marker": {
          "color": "#B6E880",
          "pattern": {
           "shape": ""
          }
         },
         "name": "V-i-d-e-o- -G-a-m-e-s---P-l-a-y-S-t-a-t-i-o-n- -3---A-c-c-e-s-s-o-r-i-e-s---C-o-n-t-r-o-l-l-e-r-s---R-e-m-o-t-e-s",
         "offsetgroup": "V-i-d-e-o- -G-a-m-e-s---P-l-a-y-S-t-a-t-i-o-n- -3---A-c-c-e-s-s-o-r-i-e-s---C-o-n-t-r-o-l-l-e-r-s---R-e-m-o-t-e-s",
         "orientation": "v",
         "showlegend": true,
         "textposition": "auto",
         "texttemplate": "%{y:.2s}",
         "type": "bar",
         "x": [
          1,
          2,
          4,
          5
         ],
         "xaxis": "x",
         "y": [
          702,
          579,
          140.5,
          273.3333333333333
         ],
         "yaxis": "y"
        },
        {
         "alignmentgroup": "True",
         "hovertemplate": "categories=V-i-d-e-o- -G-a-m-e-s---P-l-a-y-S-t-a-t-i-o-n- -V-i-t-a---G-a-m-e-s<br>overall=%{x}<br>length=%{y}<extra></extra>",
         "legendgroup": "V-i-d-e-o- -G-a-m-e-s---P-l-a-y-S-t-a-t-i-o-n- -V-i-t-a---G-a-m-e-s",
         "marker": {
          "color": "#FF97FF",
          "pattern": {
           "shape": ""
          }
         },
         "name": "V-i-d-e-o- -G-a-m-e-s---P-l-a-y-S-t-a-t-i-o-n- -V-i-t-a---G-a-m-e-s",
         "offsetgroup": "V-i-d-e-o- -G-a-m-e-s---P-l-a-y-S-t-a-t-i-o-n- -V-i-t-a---G-a-m-e-s",
         "orientation": "v",
         "showlegend": true,
         "textposition": "auto",
         "texttemplate": "%{y:.2s}",
         "type": "bar",
         "x": [
          1,
          2,
          3,
          4,
          5
         ],
         "xaxis": "x",
         "y": [
          1247.5,
          799.5714285714286,
          1109.5555555555557,
          887.8636363636364,
          1112.2467532467533
         ],
         "yaxis": "y"
        },
        {
         "alignmentgroup": "True",
         "hovertemplate": "categories=V-i-d-e-o- -G-a-m-e-s---W-i-i---A-c-c-e-s-s-o-r-i-e-s---C-o-n-t-r-o-l-l-e-r-s---R-a-c-i-n-g- -W-h-e-e-l-s<br>overall=%{x}<br>length=%{y}<extra></extra>",
         "legendgroup": "V-i-d-e-o- -G-a-m-e-s---W-i-i---A-c-c-e-s-s-o-r-i-e-s---C-o-n-t-r-o-l-l-e-r-s---R-a-c-i-n-g- -W-h-e-e-l-s",
         "marker": {
          "color": "#FECB52",
          "pattern": {
           "shape": ""
          }
         },
         "name": "V-i-d-e-o- -G-a-m-e-s---W-i-i---A-c-c-e-s-s-o-r-i-e-s---C-o-n-t-r-o-l-l-e-r-s---R-a-c-i-n-g- -W-h-e-e-l-s",
         "offsetgroup": "V-i-d-e-o- -G-a-m-e-s---W-i-i---A-c-c-e-s-s-o-r-i-e-s---C-o-n-t-r-o-l-l-e-r-s---R-a-c-i-n-g- -W-h-e-e-l-s",
         "orientation": "v",
         "showlegend": true,
         "textposition": "auto",
         "texttemplate": "%{y:.2s}",
         "type": "bar",
         "x": [
          1,
          2,
          3,
          4,
          5
         ],
         "xaxis": "x",
         "y": [
          298.3333333333333,
          317,
          252.5,
          346.6666666666667,
          210.15384615384616
         ],
         "yaxis": "y"
        },
        {
         "alignmentgroup": "True",
         "hovertemplate": "categories=V-i-d-e-o- -G-a-m-e-s---W-i-i---A-c-c-e-s-s-o-r-i-e-s---C-o-n-t-r-o-l-l-e-r-s---R-e-m-o-t-e-s<br>overall=%{x}<br>length=%{y}<extra></extra>",
         "legendgroup": "V-i-d-e-o- -G-a-m-e-s---W-i-i---A-c-c-e-s-s-o-r-i-e-s---C-o-n-t-r-o-l-l-e-r-s---R-e-m-o-t-e-s",
         "marker": {
          "color": "#636efa",
          "pattern": {
           "shape": ""
          }
         },
         "name": "V-i-d-e-o- -G-a-m-e-s---W-i-i---A-c-c-e-s-s-o-r-i-e-s---C-o-n-t-r-o-l-l-e-r-s---R-e-m-o-t-e-s",
         "offsetgroup": "V-i-d-e-o- -G-a-m-e-s---W-i-i---A-c-c-e-s-s-o-r-i-e-s---C-o-n-t-r-o-l-l-e-r-s---R-e-m-o-t-e-s",
         "orientation": "v",
         "showlegend": true,
         "textposition": "auto",
         "texttemplate": "%{y:.2s}",
         "type": "bar",
         "x": [
          1,
          2,
          3,
          4,
          5
         ],
         "xaxis": "x",
         "y": [
          304.5,
          179,
          454.75,
          266.7142857142857,
          161
         ],
         "yaxis": "y"
        },
        {
         "alignmentgroup": "True",
         "hovertemplate": "categories=V-i-d-e-o- -G-a-m-e-s---W-i-i---A-c-c-e-s-s-o-r-i-e-s---M-e-m-o-r-y<br>overall=%{x}<br>length=%{y}<extra></extra>",
         "legendgroup": "V-i-d-e-o- -G-a-m-e-s---W-i-i---A-c-c-e-s-s-o-r-i-e-s---M-e-m-o-r-y",
         "marker": {
          "color": "#EF553B",
          "pattern": {
           "shape": ""
          }
         },
         "name": "V-i-d-e-o- -G-a-m-e-s---W-i-i---A-c-c-e-s-s-o-r-i-e-s---M-e-m-o-r-y",
         "offsetgroup": "V-i-d-e-o- -G-a-m-e-s---W-i-i---A-c-c-e-s-s-o-r-i-e-s---M-e-m-o-r-y",
         "orientation": "v",
         "showlegend": true,
         "textposition": "auto",
         "texttemplate": "%{y:.2s}",
         "type": "bar",
         "x": [
          1,
          4,
          5
         ],
         "xaxis": "x",
         "y": [
          116,
          259.5,
          132.44444444444446
         ],
         "yaxis": "y"
        },
        {
         "alignmentgroup": "True",
         "hovertemplate": "categories=V-i-d-e-o- -G-a-m-e-s---X-b-o-x- -3-6-0---A-c-c-e-s-s-o-r-i-e-s---C-a-b-l-e-s- -&- -A-d-a-p-t-e-r-s---C-a-b-l-e-s<br>overall=%{x}<br>length=%{y}<extra></extra>",
         "legendgroup": "V-i-d-e-o- -G-a-m-e-s---X-b-o-x- -3-6-0---A-c-c-e-s-s-o-r-i-e-s---C-a-b-l-e-s- -&- -A-d-a-p-t-e-r-s---C-a-b-l-e-s",
         "marker": {
          "color": "#00cc96",
          "pattern": {
           "shape": ""
          }
         },
         "name": "V-i-d-e-o- -G-a-m-e-s---X-b-o-x- -3-6-0---A-c-c-e-s-s-o-r-i-e-s---C-a-b-l-e-s- -&- -A-d-a-p-t-e-r-s---C-a-b-l-e-s",
         "offsetgroup": "V-i-d-e-o- -G-a-m-e-s---X-b-o-x- -3-6-0---A-c-c-e-s-s-o-r-i-e-s---C-a-b-l-e-s- -&- -A-d-a-p-t-e-r-s---C-a-b-l-e-s",
         "orientation": "v",
         "showlegend": true,
         "textposition": "auto",
         "texttemplate": "%{y:.2s}",
         "type": "bar",
         "x": [
          1,
          4,
          5
         ],
         "xaxis": "x",
         "y": [
          199,
          138,
          336
         ],
         "yaxis": "y"
        },
        {
         "alignmentgroup": "True",
         "hovertemplate": "categories=V-i-d-e-o- -G-a-m-e-s---X-b-o-x- -3-6-0---A-c-c-e-s-s-o-r-i-e-s---H-e-a-d-s-e-t-s<br>overall=%{x}<br>length=%{y}<extra></extra>",
         "legendgroup": "V-i-d-e-o- -G-a-m-e-s---X-b-o-x- -3-6-0---A-c-c-e-s-s-o-r-i-e-s---H-e-a-d-s-e-t-s",
         "marker": {
          "color": "#ab63fa",
          "pattern": {
           "shape": ""
          }
         },
         "name": "V-i-d-e-o- -G-a-m-e-s---X-b-o-x- -3-6-0---A-c-c-e-s-s-o-r-i-e-s---H-e-a-d-s-e-t-s",
         "offsetgroup": "V-i-d-e-o- -G-a-m-e-s---X-b-o-x- -3-6-0---A-c-c-e-s-s-o-r-i-e-s---H-e-a-d-s-e-t-s",
         "orientation": "v",
         "showlegend": true,
         "textposition": "auto",
         "texttemplate": "%{y:.2s}",
         "type": "bar",
         "x": [
          1,
          2,
          3,
          4,
          5
         ],
         "xaxis": "x",
         "y": [
          438.14285714285717,
          295.6666666666667,
          179.25,
          275.42857142857144,
          187.4
         ],
         "yaxis": "y"
        },
        {
         "alignmentgroup": "True",
         "hovertemplate": "categories=V-i-d-e-o- -G-a-m-e-s---X-b-o-x- -3-6-0---A-c-c-e-s-s-o-r-i-e-s---M-e-m-o-r-y<br>overall=%{x}<br>length=%{y}<extra></extra>",
         "legendgroup": "V-i-d-e-o- -G-a-m-e-s---X-b-o-x- -3-6-0---A-c-c-e-s-s-o-r-i-e-s---M-e-m-o-r-y",
         "marker": {
          "color": "#FFA15A",
          "pattern": {
           "shape": ""
          }
         },
         "name": "V-i-d-e-o- -G-a-m-e-s---X-b-o-x- -3-6-0---A-c-c-e-s-s-o-r-i-e-s---M-e-m-o-r-y",
         "offsetgroup": "V-i-d-e-o- -G-a-m-e-s---X-b-o-x- -3-6-0---A-c-c-e-s-s-o-r-i-e-s---M-e-m-o-r-y",
         "orientation": "v",
         "showlegend": true,
         "textposition": "auto",
         "texttemplate": "%{y:.2s}",
         "type": "bar",
         "x": [
          1,
          2,
          4,
          5
         ],
         "xaxis": "x",
         "y": [
          106,
          339,
          271.3333333333333,
          260.8125
         ],
         "yaxis": "y"
        },
        {
         "alignmentgroup": "True",
         "hovertemplate": "categories=V-i-d-e-o- -G-a-m-e-s---M-o-r-e- -S-y-s-t-e-m-s---S-u-p-e-r- -N-i-n-t-e-n-d-o---H-a-r-d-w-a-r-e---A-c-c-e-s-s-o-r-i-e-s<br>overall=%{x}<br>length=%{y}<extra></extra>",
         "legendgroup": "V-i-d-e-o- -G-a-m-e-s---M-o-r-e- -S-y-s-t-e-m-s---S-u-p-e-r- -N-i-n-t-e-n-d-o---H-a-r-d-w-a-r-e---A-c-c-e-s-s-o-r-i-e-s",
         "marker": {
          "color": "#19d3f3",
          "pattern": {
           "shape": ""
          }
         },
         "name": "V-i-d-e-o- -G-a-m-e-s---M-o-r-e- -S-y-s-t-e-m-s---S-u-p-e-r- -N-i-n-t-e-n-d-o---H-a-r-d-w-a-r-e---A-c-c-e-s-s-o-r-i-e-s",
         "offsetgroup": "V-i-d-e-o- -G-a-m-e-s---M-o-r-e- -S-y-s-t-e-m-s---S-u-p-e-r- -N-i-n-t-e-n-d-o---H-a-r-d-w-a-r-e---A-c-c-e-s-s-o-r-i-e-s",
         "orientation": "v",
         "showlegend": true,
         "textposition": "auto",
         "texttemplate": "%{y:.2s}",
         "type": "bar",
         "x": [
          2,
          3,
          4
         ],
         "xaxis": "x",
         "y": [
          590,
          719,
          322.8
         ],
         "yaxis": "y"
        },
        {
         "alignmentgroup": "True",
         "hovertemplate": "categories=V-i-d-e-o- -G-a-m-e-s---W-i-i<br>overall=%{x}<br>length=%{y}<extra></extra>",
         "legendgroup": "V-i-d-e-o- -G-a-m-e-s---W-i-i",
         "marker": {
          "color": "#FF6692",
          "pattern": {
           "shape": ""
          }
         },
         "name": "V-i-d-e-o- -G-a-m-e-s---W-i-i",
         "offsetgroup": "V-i-d-e-o- -G-a-m-e-s---W-i-i",
         "orientation": "v",
         "showlegend": true,
         "textposition": "auto",
         "texttemplate": "%{y:.2s}",
         "type": "bar",
         "x": [
          2,
          3,
          4,
          5
         ],
         "xaxis": "x",
         "y": [
          226,
          196.6,
          218,
          319.7142857142857
         ],
         "yaxis": "y"
        },
        {
         "alignmentgroup": "True",
         "hovertemplate": "categories=V-i-d-e-o- -G-a-m-e-s---W-i-i---A-c-c-e-s-s-o-r-i-e-s---S-e-n-s-o-r- -B-a-r-s<br>overall=%{x}<br>length=%{y}<extra></extra>",
         "legendgroup": "V-i-d-e-o- -G-a-m-e-s---W-i-i---A-c-c-e-s-s-o-r-i-e-s---S-e-n-s-o-r- -B-a-r-s",
         "marker": {
          "color": "#B6E880",
          "pattern": {
           "shape": ""
          }
         },
         "name": "V-i-d-e-o- -G-a-m-e-s---W-i-i---A-c-c-e-s-s-o-r-i-e-s---S-e-n-s-o-r- -B-a-r-s",
         "offsetgroup": "V-i-d-e-o- -G-a-m-e-s---W-i-i---A-c-c-e-s-s-o-r-i-e-s---S-e-n-s-o-r- -B-a-r-s",
         "orientation": "v",
         "showlegend": true,
         "textposition": "auto",
         "texttemplate": "%{y:.2s}",
         "type": "bar",
         "x": [
          2,
          5
         ],
         "xaxis": "x",
         "y": [
          1083,
          276
         ],
         "yaxis": "y"
        },
        {
         "alignmentgroup": "True",
         "hovertemplate": "categories=V-i-d-e-o- -G-a-m-e-s---X-b-o-x- -3-6-0---A-c-c-e-s-s-o-r-i-e-s---B-a-t-t-e-r-i-e-s- -&- -C-h-a-r-g-e-r-s---B-a-t-t-e-r-i-e-s<br>overall=%{x}<br>length=%{y}<extra></extra>",
         "legendgroup": "V-i-d-e-o- -G-a-m-e-s---X-b-o-x- -3-6-0---A-c-c-e-s-s-o-r-i-e-s---B-a-t-t-e-r-i-e-s- -&- -C-h-a-r-g-e-r-s---B-a-t-t-e-r-i-e-s",
         "marker": {
          "color": "#FF97FF",
          "pattern": {
           "shape": ""
          }
         },
         "name": "V-i-d-e-o- -G-a-m-e-s---X-b-o-x- -3-6-0---A-c-c-e-s-s-o-r-i-e-s---B-a-t-t-e-r-i-e-s- -&- -C-h-a-r-g-e-r-s---B-a-t-t-e-r-i-e-s",
         "offsetgroup": "V-i-d-e-o- -G-a-m-e-s---X-b-o-x- -3-6-0---A-c-c-e-s-s-o-r-i-e-s---B-a-t-t-e-r-i-e-s- -&- -C-h-a-r-g-e-r-s---B-a-t-t-e-r-i-e-s",
         "orientation": "v",
         "showlegend": true,
         "textposition": "auto",
         "texttemplate": "%{y:.2s}",
         "type": "bar",
         "x": [
          2,
          3,
          4,
          5
         ],
         "xaxis": "x",
         "y": [
          1157,
          111,
          136,
          243.16666666666666
         ],
         "yaxis": "y"
        },
        {
         "alignmentgroup": "True",
         "hovertemplate": "categories=V-i-d-e-o- -G-a-m-e-s---X-b-o-x- -3-6-0---A-c-c-e-s-s-o-r-i-e-s---C-o-n-t-r-o-l-l-e-r-s<br>overall=%{x}<br>length=%{y}<extra></extra>",
         "legendgroup": "V-i-d-e-o- -G-a-m-e-s---X-b-o-x- -3-6-0---A-c-c-e-s-s-o-r-i-e-s---C-o-n-t-r-o-l-l-e-r-s",
         "marker": {
          "color": "#FECB52",
          "pattern": {
           "shape": ""
          }
         },
         "name": "V-i-d-e-o- -G-a-m-e-s---X-b-o-x- -3-6-0---A-c-c-e-s-s-o-r-i-e-s---C-o-n-t-r-o-l-l-e-r-s",
         "offsetgroup": "V-i-d-e-o- -G-a-m-e-s---X-b-o-x- -3-6-0---A-c-c-e-s-s-o-r-i-e-s---C-o-n-t-r-o-l-l-e-r-s",
         "orientation": "v",
         "showlegend": true,
         "textposition": "auto",
         "texttemplate": "%{y:.2s}",
         "type": "bar",
         "x": [
          2,
          4,
          5
         ],
         "xaxis": "x",
         "y": [
          400.5,
          440,
          564.5
         ],
         "yaxis": "y"
        },
        {
         "alignmentgroup": "True",
         "hovertemplate": "categories=V-i-d-e-o- -G-a-m-e-s---N-i-n-t-e-n-d-o- -3-D-S---A-c-c-e-s-s-o-r-i-e-s---C-a-s-e-s- -&- -P-r-o-t-e-c-t-o-r-s<br>overall=%{x}<br>length=%{y}<extra></extra>",
         "legendgroup": "V-i-d-e-o- -G-a-m-e-s---N-i-n-t-e-n-d-o- -3-D-S---A-c-c-e-s-s-o-r-i-e-s---C-a-s-e-s- -&- -P-r-o-t-e-c-t-o-r-s",
         "marker": {
          "color": "#636efa",
          "pattern": {
           "shape": ""
          }
         },
         "name": "V-i-d-e-o- -G-a-m-e-s---N-i-n-t-e-n-d-o- -3-D-S---A-c-c-e-s-s-o-r-i-e-s---C-a-s-e-s- -&- -P-r-o-t-e-c-t-o-r-s",
         "offsetgroup": "V-i-d-e-o- -G-a-m-e-s---N-i-n-t-e-n-d-o- -3-D-S---A-c-c-e-s-s-o-r-i-e-s---C-a-s-e-s- -&- -P-r-o-t-e-c-t-o-r-s",
         "orientation": "v",
         "showlegend": true,
         "textposition": "auto",
         "texttemplate": "%{y:.2s}",
         "type": "bar",
         "x": [
          4,
          5
         ],
         "xaxis": "x",
         "y": [
          385.25,
          603.3333333333334
         ],
         "yaxis": "y"
        },
        {
         "alignmentgroup": "True",
         "hovertemplate": "categories=V-i-d-e-o- -G-a-m-e-s---N-i-n-t-e-n-d-o- -3-D-S---G-a-m-e-s<br>overall=%{x}<br>length=%{y}<extra></extra>",
         "legendgroup": "V-i-d-e-o- -G-a-m-e-s---N-i-n-t-e-n-d-o- -3-D-S---G-a-m-e-s",
         "marker": {
          "color": "#EF553B",
          "pattern": {
           "shape": ""
          }
         },
         "name": "V-i-d-e-o- -G-a-m-e-s---N-i-n-t-e-n-d-o- -3-D-S---G-a-m-e-s",
         "offsetgroup": "V-i-d-e-o- -G-a-m-e-s---N-i-n-t-e-n-d-o- -3-D-S---G-a-m-e-s",
         "orientation": "v",
         "showlegend": true,
         "textposition": "auto",
         "texttemplate": "%{y:.2s}",
         "type": "bar",
         "x": [
          4,
          5
         ],
         "xaxis": "x",
         "y": [
          2943.6666666666665,
          1806.3333333333333
         ],
         "yaxis": "y"
        }
       ],
       "layout": {
        "autosize": false,
        "barmode": "relative",
        "height": 800,
        "legend": {
         "title": {
          "text": "categories"
         },
         "tracegroupgap": 0
        },
        "minreducedheight": 250,
        "minreducedwidth": 250,
        "template": {
         "data": {
          "bar": [
           {
            "error_x": {
             "color": "#2a3f5f"
            },
            "error_y": {
             "color": "#2a3f5f"
            },
            "marker": {
             "line": {
              "color": "#E5ECF6",
              "width": 0.5
             },
             "pattern": {
              "fillmode": "overlay",
              "size": 10,
              "solidity": 0.2
             }
            },
            "type": "bar"
           }
          ],
          "barpolar": [
           {
            "marker": {
             "line": {
              "color": "#E5ECF6",
              "width": 0.5
             },
             "pattern": {
              "fillmode": "overlay",
              "size": 10,
              "solidity": 0.2
             }
            },
            "type": "barpolar"
           }
          ],
          "carpet": [
           {
            "aaxis": {
             "endlinecolor": "#2a3f5f",
             "gridcolor": "white",
             "linecolor": "white",
             "minorgridcolor": "white",
             "startlinecolor": "#2a3f5f"
            },
            "baxis": {
             "endlinecolor": "#2a3f5f",
             "gridcolor": "white",
             "linecolor": "white",
             "minorgridcolor": "white",
             "startlinecolor": "#2a3f5f"
            },
            "type": "carpet"
           }
          ],
          "choropleth": [
           {
            "colorbar": {
             "outlinewidth": 0,
             "ticks": ""
            },
            "type": "choropleth"
           }
          ],
          "contour": [
           {
            "colorbar": {
             "outlinewidth": 0,
             "ticks": ""
            },
            "colorscale": [
             [
              0,
              "#0d0887"
             ],
             [
              0.1111111111111111,
              "#46039f"
             ],
             [
              0.2222222222222222,
              "#7201a8"
             ],
             [
              0.3333333333333333,
              "#9c179e"
             ],
             [
              0.4444444444444444,
              "#bd3786"
             ],
             [
              0.5555555555555556,
              "#d8576b"
             ],
             [
              0.6666666666666666,
              "#ed7953"
             ],
             [
              0.7777777777777778,
              "#fb9f3a"
             ],
             [
              0.8888888888888888,
              "#fdca26"
             ],
             [
              1,
              "#f0f921"
             ]
            ],
            "type": "contour"
           }
          ],
          "contourcarpet": [
           {
            "colorbar": {
             "outlinewidth": 0,
             "ticks": ""
            },
            "type": "contourcarpet"
           }
          ],
          "heatmap": [
           {
            "colorbar": {
             "outlinewidth": 0,
             "ticks": ""
            },
            "colorscale": [
             [
              0,
              "#0d0887"
             ],
             [
              0.1111111111111111,
              "#46039f"
             ],
             [
              0.2222222222222222,
              "#7201a8"
             ],
             [
              0.3333333333333333,
              "#9c179e"
             ],
             [
              0.4444444444444444,
              "#bd3786"
             ],
             [
              0.5555555555555556,
              "#d8576b"
             ],
             [
              0.6666666666666666,
              "#ed7953"
             ],
             [
              0.7777777777777778,
              "#fb9f3a"
             ],
             [
              0.8888888888888888,
              "#fdca26"
             ],
             [
              1,
              "#f0f921"
             ]
            ],
            "type": "heatmap"
           }
          ],
          "heatmapgl": [
           {
            "colorbar": {
             "outlinewidth": 0,
             "ticks": ""
            },
            "colorscale": [
             [
              0,
              "#0d0887"
             ],
             [
              0.1111111111111111,
              "#46039f"
             ],
             [
              0.2222222222222222,
              "#7201a8"
             ],
             [
              0.3333333333333333,
              "#9c179e"
             ],
             [
              0.4444444444444444,
              "#bd3786"
             ],
             [
              0.5555555555555556,
              "#d8576b"
             ],
             [
              0.6666666666666666,
              "#ed7953"
             ],
             [
              0.7777777777777778,
              "#fb9f3a"
             ],
             [
              0.8888888888888888,
              "#fdca26"
             ],
             [
              1,
              "#f0f921"
             ]
            ],
            "type": "heatmapgl"
           }
          ],
          "histogram": [
           {
            "marker": {
             "pattern": {
              "fillmode": "overlay",
              "size": 10,
              "solidity": 0.2
             }
            },
            "type": "histogram"
           }
          ],
          "histogram2d": [
           {
            "colorbar": {
             "outlinewidth": 0,
             "ticks": ""
            },
            "colorscale": [
             [
              0,
              "#0d0887"
             ],
             [
              0.1111111111111111,
              "#46039f"
             ],
             [
              0.2222222222222222,
              "#7201a8"
             ],
             [
              0.3333333333333333,
              "#9c179e"
             ],
             [
              0.4444444444444444,
              "#bd3786"
             ],
             [
              0.5555555555555556,
              "#d8576b"
             ],
             [
              0.6666666666666666,
              "#ed7953"
             ],
             [
              0.7777777777777778,
              "#fb9f3a"
             ],
             [
              0.8888888888888888,
              "#fdca26"
             ],
             [
              1,
              "#f0f921"
             ]
            ],
            "type": "histogram2d"
           }
          ],
          "histogram2dcontour": [
           {
            "colorbar": {
             "outlinewidth": 0,
             "ticks": ""
            },
            "colorscale": [
             [
              0,
              "#0d0887"
             ],
             [
              0.1111111111111111,
              "#46039f"
             ],
             [
              0.2222222222222222,
              "#7201a8"
             ],
             [
              0.3333333333333333,
              "#9c179e"
             ],
             [
              0.4444444444444444,
              "#bd3786"
             ],
             [
              0.5555555555555556,
              "#d8576b"
             ],
             [
              0.6666666666666666,
              "#ed7953"
             ],
             [
              0.7777777777777778,
              "#fb9f3a"
             ],
             [
              0.8888888888888888,
              "#fdca26"
             ],
             [
              1,
              "#f0f921"
             ]
            ],
            "type": "histogram2dcontour"
           }
          ],
          "mesh3d": [
           {
            "colorbar": {
             "outlinewidth": 0,
             "ticks": ""
            },
            "type": "mesh3d"
           }
          ],
          "parcoords": [
           {
            "line": {
             "colorbar": {
              "outlinewidth": 0,
              "ticks": ""
             }
            },
            "type": "parcoords"
           }
          ],
          "pie": [
           {
            "automargin": true,
            "type": "pie"
           }
          ],
          "scatter": [
           {
            "fillpattern": {
             "fillmode": "overlay",
             "size": 10,
             "solidity": 0.2
            },
            "type": "scatter"
           }
          ],
          "scatter3d": [
           {
            "line": {
             "colorbar": {
              "outlinewidth": 0,
              "ticks": ""
             }
            },
            "marker": {
             "colorbar": {
              "outlinewidth": 0,
              "ticks": ""
             }
            },
            "type": "scatter3d"
           }
          ],
          "scattercarpet": [
           {
            "marker": {
             "colorbar": {
              "outlinewidth": 0,
              "ticks": ""
             }
            },
            "type": "scattercarpet"
           }
          ],
          "scattergeo": [
           {
            "marker": {
             "colorbar": {
              "outlinewidth": 0,
              "ticks": ""
             }
            },
            "type": "scattergeo"
           }
          ],
          "scattergl": [
           {
            "marker": {
             "colorbar": {
              "outlinewidth": 0,
              "ticks": ""
             }
            },
            "type": "scattergl"
           }
          ],
          "scattermapbox": [
           {
            "marker": {
             "colorbar": {
              "outlinewidth": 0,
              "ticks": ""
             }
            },
            "type": "scattermapbox"
           }
          ],
          "scatterpolar": [
           {
            "marker": {
             "colorbar": {
              "outlinewidth": 0,
              "ticks": ""
             }
            },
            "type": "scatterpolar"
           }
          ],
          "scatterpolargl": [
           {
            "marker": {
             "colorbar": {
              "outlinewidth": 0,
              "ticks": ""
             }
            },
            "type": "scatterpolargl"
           }
          ],
          "scatterternary": [
           {
            "marker": {
             "colorbar": {
              "outlinewidth": 0,
              "ticks": ""
             }
            },
            "type": "scatterternary"
           }
          ],
          "surface": [
           {
            "colorbar": {
             "outlinewidth": 0,
             "ticks": ""
            },
            "colorscale": [
             [
              0,
              "#0d0887"
             ],
             [
              0.1111111111111111,
              "#46039f"
             ],
             [
              0.2222222222222222,
              "#7201a8"
             ],
             [
              0.3333333333333333,
              "#9c179e"
             ],
             [
              0.4444444444444444,
              "#bd3786"
             ],
             [
              0.5555555555555556,
              "#d8576b"
             ],
             [
              0.6666666666666666,
              "#ed7953"
             ],
             [
              0.7777777777777778,
              "#fb9f3a"
             ],
             [
              0.8888888888888888,
              "#fdca26"
             ],
             [
              1,
              "#f0f921"
             ]
            ],
            "type": "surface"
           }
          ],
          "table": [
           {
            "cells": {
             "fill": {
              "color": "#EBF0F8"
             },
             "line": {
              "color": "white"
             }
            },
            "header": {
             "fill": {
              "color": "#C8D4E3"
             },
             "line": {
              "color": "white"
             }
            },
            "type": "table"
           }
          ]
         },
         "layout": {
          "annotationdefaults": {
           "arrowcolor": "#2a3f5f",
           "arrowhead": 0,
           "arrowwidth": 1
          },
          "autotypenumbers": "strict",
          "coloraxis": {
           "colorbar": {
            "outlinewidth": 0,
            "ticks": ""
           }
          },
          "colorscale": {
           "diverging": [
            [
             0,
             "#8e0152"
            ],
            [
             0.1,
             "#c51b7d"
            ],
            [
             0.2,
             "#de77ae"
            ],
            [
             0.3,
             "#f1b6da"
            ],
            [
             0.4,
             "#fde0ef"
            ],
            [
             0.5,
             "#f7f7f7"
            ],
            [
             0.6,
             "#e6f5d0"
            ],
            [
             0.7,
             "#b8e186"
            ],
            [
             0.8,
             "#7fbc41"
            ],
            [
             0.9,
             "#4d9221"
            ],
            [
             1,
             "#276419"
            ]
           ],
           "sequential": [
            [
             0,
             "#0d0887"
            ],
            [
             0.1111111111111111,
             "#46039f"
            ],
            [
             0.2222222222222222,
             "#7201a8"
            ],
            [
             0.3333333333333333,
             "#9c179e"
            ],
            [
             0.4444444444444444,
             "#bd3786"
            ],
            [
             0.5555555555555556,
             "#d8576b"
            ],
            [
             0.6666666666666666,
             "#ed7953"
            ],
            [
             0.7777777777777778,
             "#fb9f3a"
            ],
            [
             0.8888888888888888,
             "#fdca26"
            ],
            [
             1,
             "#f0f921"
            ]
           ],
           "sequentialminus": [
            [
             0,
             "#0d0887"
            ],
            [
             0.1111111111111111,
             "#46039f"
            ],
            [
             0.2222222222222222,
             "#7201a8"
            ],
            [
             0.3333333333333333,
             "#9c179e"
            ],
            [
             0.4444444444444444,
             "#bd3786"
            ],
            [
             0.5555555555555556,
             "#d8576b"
            ],
            [
             0.6666666666666666,
             "#ed7953"
            ],
            [
             0.7777777777777778,
             "#fb9f3a"
            ],
            [
             0.8888888888888888,
             "#fdca26"
            ],
            [
             1,
             "#f0f921"
            ]
           ]
          },
          "colorway": [
           "#636efa",
           "#EF553B",
           "#00cc96",
           "#ab63fa",
           "#FFA15A",
           "#19d3f3",
           "#FF6692",
           "#B6E880",
           "#FF97FF",
           "#FECB52"
          ],
          "font": {
           "color": "#2a3f5f"
          },
          "geo": {
           "bgcolor": "white",
           "lakecolor": "white",
           "landcolor": "#E5ECF6",
           "showlakes": true,
           "showland": true,
           "subunitcolor": "white"
          },
          "hoverlabel": {
           "align": "left"
          },
          "hovermode": "closest",
          "mapbox": {
           "style": "light"
          },
          "paper_bgcolor": "white",
          "plot_bgcolor": "#E5ECF6",
          "polar": {
           "angularaxis": {
            "gridcolor": "white",
            "linecolor": "white",
            "ticks": ""
           },
           "bgcolor": "#E5ECF6",
           "radialaxis": {
            "gridcolor": "white",
            "linecolor": "white",
            "ticks": ""
           }
          },
          "scene": {
           "xaxis": {
            "backgroundcolor": "#E5ECF6",
            "gridcolor": "white",
            "gridwidth": 2,
            "linecolor": "white",
            "showbackground": true,
            "ticks": "",
            "zerolinecolor": "white"
           },
           "yaxis": {
            "backgroundcolor": "#E5ECF6",
            "gridcolor": "white",
            "gridwidth": 2,
            "linecolor": "white",
            "showbackground": true,
            "ticks": "",
            "zerolinecolor": "white"
           },
           "zaxis": {
            "backgroundcolor": "#E5ECF6",
            "gridcolor": "white",
            "gridwidth": 2,
            "linecolor": "white",
            "showbackground": true,
            "ticks": "",
            "zerolinecolor": "white"
           }
          },
          "shapedefaults": {
           "line": {
            "color": "#2a3f5f"
           }
          },
          "ternary": {
           "aaxis": {
            "gridcolor": "white",
            "linecolor": "white",
            "ticks": ""
           },
           "baxis": {
            "gridcolor": "white",
            "linecolor": "white",
            "ticks": ""
           },
           "bgcolor": "#E5ECF6",
           "caxis": {
            "gridcolor": "white",
            "linecolor": "white",
            "ticks": ""
           }
          },
          "title": {
           "x": 0.05
          },
          "xaxis": {
           "automargin": true,
           "gridcolor": "white",
           "linecolor": "white",
           "ticks": "",
           "title": {
            "standoff": 15
           },
           "zerolinecolor": "white",
           "zerolinewidth": 2
          },
          "yaxis": {
           "automargin": true,
           "gridcolor": "white",
           "linecolor": "white",
           "ticks": "",
           "title": {
            "standoff": 15
           },
           "zerolinecolor": "white",
           "zerolinewidth": 2
          }
         }
        },
        "title": {
         "text": "Average review length per rating class and product category"
        },
        "width": 1850,
        "xaxis": {
         "anchor": "y",
         "domain": [
          0,
          1
         ],
         "title": {
          "text": "overall"
         }
        },
        "yaxis": {
         "anchor": "x",
         "domain": [
          0,
          1
         ],
         "title": {
          "text": "length"
         }
        }
       }
      }
     },
     "metadata": {},
     "output_type": "display_data"
    }
   ],
   "source": [
    "import plotly.express as px\n",
    "df_merged.categories = df_merged.categories.apply(lambda x: '-'.join(x))\n",
    "df_merged['length'] = df_merged['reviewText'].apply(lambda x: len(x))\n",
    "length_analysis = df_merged.groupby(['overall','categories'],as_index=False)['length'].mean()\n",
    "\n",
    "fig = px.bar(length_analysis, y='length', x='overall', text_auto='.2s',color='categories',\n",
    "            title=\"Default: various text sizes, positions and angles\")\n",
    "\n",
    "fig.update_layout(\n",
    "    title_text=\"Average review length per rating class and product category\",\n",
    "    autosize=False,\n",
    "    minreducedwidth=250,\n",
    "    minreducedheight=250,\n",
    "    width=1850,\n",
    "    height=800\n",
    ")\n",
    "plotly.offline.iplot(fig) "
   ]
  },
  {
   "cell_type": "markdown",
   "metadata": {},
   "source": [
    "I see that you have a density plot for price, but you can maybe try adding dimensionality to plots with aggregations. Most of the time, a simple density plot will not bring a lot of data insights to stakeholders. \n",
    "More dimension and break downs will convince your target audience \n",
    "\n",
    "Interesting enough, expensive products are rated higher ! Product Quality?!"
   ]
  },
  {
   "cell_type": "code",
   "execution_count": 10,
   "metadata": {},
   "outputs": [
    {
     "data": {
      "application/vnd.plotly.v1+json": {
       "config": {
        "linkText": "Export to plot.ly",
        "plotlyServerURL": "https://plot.ly",
        "showLink": false
       },
       "data": [
        {
         "alignmentgroup": "True",
         "boxpoints": "all",
         "hovertemplate": "overall=%{x}<br>price=%{y}<extra></extra>",
         "legendgroup": "",
         "marker": {
          "color": "#636efa"
         },
         "name": "",
         "notched": false,
         "offsetgroup": "",
         "orientation": "v",
         "showlegend": false,
         "type": "box",
         "x": [
          5,
          5,
          5,
          5,
          5,
          5,
          5,
          5,
          4,
          1,
          4,
          5,
          3,
          4,
          5,
          5,
          5,
          5,
          5,
          5,
          5,
          3,
          5,
          5,
          5,
          5,
          5,
          5,
          4,
          3,
          5,
          3,
          2,
          5,
          5,
          5,
          5,
          5,
          5,
          5,
          5,
          3,
          4,
          2,
          4,
          4,
          4,
          4,
          3,
          5,
          5,
          5,
          5,
          5,
          5,
          5,
          5,
          5,
          5,
          4,
          1,
          5,
          5,
          5,
          5,
          5,
          5,
          3,
          4,
          3,
          3,
          4,
          5,
          3,
          5,
          5,
          5,
          5,
          3,
          5,
          5,
          5,
          4,
          2,
          4,
          1,
          3,
          2,
          4,
          3,
          1,
          5,
          2,
          4,
          3,
          5,
          1,
          5,
          4,
          4,
          5,
          4,
          1,
          2,
          5,
          5,
          4,
          4,
          5,
          4,
          1,
          3,
          4,
          1,
          1,
          5,
          5,
          5,
          4,
          4,
          4,
          4,
          5,
          5,
          5,
          2,
          5,
          5,
          5,
          4,
          5,
          5,
          5,
          3,
          5,
          4,
          5,
          5,
          5,
          5,
          5,
          5,
          1,
          4,
          5,
          3,
          2,
          3,
          1,
          5,
          1,
          4,
          4,
          5,
          5,
          5,
          5,
          4,
          5,
          5,
          5,
          4,
          5,
          5,
          5,
          5,
          5,
          5,
          5,
          3,
          1,
          3,
          3,
          5,
          5,
          5,
          4,
          2,
          5,
          1,
          5,
          5,
          1,
          4,
          5,
          5,
          5,
          5,
          5,
          5,
          5,
          5,
          5,
          5,
          4,
          3,
          5,
          2,
          5,
          5,
          5,
          5,
          2,
          5,
          4,
          3,
          5,
          5,
          5,
          3,
          5,
          5,
          5,
          3,
          5,
          3,
          5,
          5,
          5,
          4,
          1,
          4,
          5,
          5,
          5,
          5,
          5,
          5,
          5,
          4,
          5,
          5,
          5,
          5,
          1,
          5,
          1,
          5,
          5,
          5,
          5,
          5,
          5,
          5,
          3,
          5,
          1,
          5,
          5,
          5,
          5,
          5,
          5,
          5,
          5,
          4,
          5,
          3,
          1,
          1,
          5,
          5,
          5,
          4,
          4,
          5,
          3,
          4,
          2,
          5,
          5,
          5,
          5,
          1,
          5,
          3,
          5,
          3,
          5,
          5,
          5,
          5,
          1,
          5,
          5,
          4,
          5,
          2,
          5,
          1,
          3,
          2,
          5,
          5,
          5,
          5,
          5,
          5,
          5,
          5,
          4,
          4,
          5,
          5,
          5,
          5,
          5,
          5,
          1,
          5,
          4,
          5,
          5,
          5,
          5,
          5,
          5,
          5,
          5,
          5,
          5,
          5,
          4,
          5,
          5,
          5,
          5,
          5,
          1,
          5,
          5,
          5,
          5,
          5,
          5,
          5,
          2,
          5,
          5,
          5,
          5,
          5,
          5,
          2,
          4,
          5,
          3,
          4,
          4,
          5,
          3,
          5,
          5,
          5,
          5,
          5,
          4,
          5,
          5,
          5,
          5,
          4,
          5,
          2,
          4,
          5,
          5,
          5,
          5,
          3,
          5,
          4,
          5,
          5,
          5,
          5,
          4,
          5,
          3,
          3,
          1,
          3,
          5,
          5,
          5,
          5,
          5,
          5,
          5,
          5,
          5,
          5,
          4,
          5,
          5,
          5,
          5,
          5,
          5,
          5,
          3,
          5,
          3,
          5,
          5,
          4,
          5,
          5,
          4,
          4,
          5,
          5,
          4,
          5,
          5,
          5,
          4,
          5,
          4,
          5,
          5,
          4,
          5,
          5,
          4,
          4,
          5,
          5,
          5,
          5,
          2,
          5,
          5,
          5,
          5,
          5,
          5,
          5,
          5,
          3,
          5,
          5,
          5,
          4,
          5,
          5,
          5,
          5,
          5,
          5,
          5,
          5,
          5,
          5,
          5,
          5,
          4,
          5,
          5,
          4,
          5,
          4,
          5,
          5,
          5,
          5,
          5,
          5,
          5,
          5,
          5,
          4,
          1,
          4,
          5,
          4,
          5,
          4,
          2,
          5,
          2,
          5,
          5,
          5,
          4,
          5,
          5,
          2,
          5,
          5,
          5,
          5,
          5,
          4,
          5,
          5,
          4,
          5,
          5,
          5,
          5,
          5,
          4,
          5,
          5,
          5,
          5,
          5,
          5,
          4,
          5,
          5,
          5,
          4,
          5,
          5,
          5,
          1,
          5,
          5,
          4,
          5,
          5,
          1,
          3,
          5,
          4,
          5,
          1,
          5,
          4,
          4,
          5,
          5,
          5,
          1,
          4,
          5,
          5,
          5,
          5,
          5,
          5,
          5,
          5,
          5,
          5,
          4,
          1,
          3,
          2,
          4,
          2,
          2,
          5,
          1,
          4,
          2,
          5,
          4,
          5,
          4,
          4,
          5,
          5,
          4,
          4,
          3,
          5,
          4,
          5,
          3,
          4,
          2,
          5,
          4,
          3,
          1,
          2,
          4,
          5,
          5,
          3,
          2,
          5,
          1,
          5,
          1,
          3,
          1,
          5,
          3,
          1,
          3,
          4,
          5,
          5,
          4,
          5,
          4,
          3,
          4,
          4,
          5,
          5,
          5,
          4,
          1,
          2,
          4,
          3,
          5,
          5,
          5,
          5,
          4,
          2,
          1,
          4,
          4,
          5,
          5,
          4,
          5,
          4,
          5,
          4,
          5,
          5,
          5,
          3,
          2,
          5,
          5,
          5,
          4,
          2,
          4,
          4,
          2,
          5,
          2
         ],
         "x0": " ",
         "xaxis": "x",
         "y": [
          4.42,
          4.42,
          4.42,
          4.42,
          4.42,
          4.42,
          4.42,
          4.42,
          4.42,
          4.42,
          4.42,
          4.42,
          8.9,
          8.9,
          8.9,
          8.9,
          8.9,
          8.9,
          8.9,
          8.9,
          8.9,
          8.9,
          8.9,
          8.9,
          8.9,
          8.9,
          8.9,
          8.9,
          8.9,
          8.9,
          8.9,
          8.9,
          8.9,
          8.9,
          8.9,
          8.9,
          8.9,
          8.9,
          8.9,
          8.9,
          8.9,
          0.23,
          0.23,
          0.23,
          0.23,
          0.23,
          0.23,
          0.23,
          5.23,
          5.23,
          5.23,
          5.23,
          5.23,
          5.23,
          5.23,
          5.23,
          5.23,
          5.23,
          5.23,
          5.23,
          5.23,
          5.23,
          5.23,
          5.23,
          5.23,
          5.23,
          5.23,
          5.23,
          5.23,
          5.23,
          5.23,
          5.23,
          5.23,
          5.23,
          5.23,
          2.86,
          2.86,
          2.86,
          2.86,
          2.86,
          2.86,
          2.86,
          2.86,
          2.86,
          4.18,
          4.18,
          4.18,
          4.18,
          4.18,
          4.18,
          4.18,
          4.18,
          4.18,
          4.18,
          4.18,
          4.18,
          4.18,
          4.18,
          4.18,
          4.18,
          4.18,
          4.18,
          4.18,
          4.18,
          4.18,
          4.18,
          4.18,
          4.18,
          4.18,
          4.18,
          4.18,
          4.18,
          4.18,
          4.18,
          4.18,
          4.18,
          4.18,
          4.18,
          4.18,
          4.18,
          4.18,
          4.18,
          9.79,
          9.79,
          9.79,
          9.79,
          9.79,
          9.79,
          9.79,
          9.79,
          9.79,
          9.79,
          9.79,
          9.79,
          9.79,
          9.79,
          9.79,
          9.79,
          9.79,
          9.79,
          9.79,
          9.79,
          9.79,
          9.79,
          9.79,
          9.79,
          9.79,
          9.79,
          9.79,
          9.79,
          9.79,
          13.68,
          13.68,
          13.68,
          13.68,
          13.68,
          13.68,
          13.68,
          13.68,
          13.68,
          13.68,
          13.68,
          13.68,
          13.68,
          13.68,
          13.68,
          13.68,
          13.68,
          13.68,
          13.68,
          13.68,
          13.68,
          13.68,
          13.68,
          13.68,
          13.68,
          13.68,
          13.68,
          13.68,
          13.68,
          13.68,
          13.68,
          13.68,
          13.68,
          13.68,
          13.68,
          13.68,
          13.68,
          13.68,
          13.68,
          13.68,
          13.68,
          13.68,
          13.68,
          13.68,
          13.68,
          13.68,
          13.68,
          13.68,
          13.68,
          13.68,
          13.68,
          13.68,
          13.68,
          13.68,
          13.68,
          13.68,
          5.5,
          5.5,
          5.5,
          5.5,
          5.5,
          5.5,
          5.5,
          5.5,
          5.5,
          5.5,
          5.5,
          3.04,
          3.04,
          3.04,
          3.04,
          4.95,
          4.95,
          4.95,
          4.95,
          4.95,
          4.95,
          4.95,
          4.95,
          4.95,
          4.95,
          4.95,
          4.95,
          4.95,
          4.95,
          4.95,
          4.95,
          4.95,
          4.95,
          4.95,
          4.95,
          4.95,
          4.95,
          4.95,
          0.98,
          0.98,
          0.98,
          0.98,
          0.98,
          0.98,
          0.98,
          0.98,
          0.98,
          0.98,
          0.98,
          0.98,
          0.98,
          0.98,
          0.98,
          4.09,
          4.09,
          4.09,
          4.09,
          4.09,
          4.09,
          4.09,
          4.09,
          4.09,
          4.09,
          4.09,
          4.09,
          4.09,
          4.09,
          4.09,
          4.09,
          4.09,
          4.09,
          4.09,
          4.09,
          4.09,
          4.09,
          4.09,
          4.09,
          4.09,
          4.09,
          4.09,
          4.09,
          4.09,
          4.09,
          4.09,
          153.99,
          153.99,
          153.99,
          153.99,
          153.99,
          153.99,
          153.99,
          153.99,
          153.99,
          153.99,
          153.99,
          153.99,
          153.99,
          153.99,
          153.99,
          153.99,
          153.99,
          153.99,
          153.99,
          153.99,
          153.99,
          153.99,
          153.99,
          153.99,
          153.99,
          153.99,
          153.99,
          153.99,
          153.99,
          153.99,
          153.99,
          153.99,
          153.99,
          153.99,
          153.99,
          153.99,
          399.99,
          399.99,
          399.99,
          399.99,
          399.99,
          399.99,
          399.99,
          399.99,
          399.99,
          399.99,
          399.99,
          399.99,
          399.99,
          399.99,
          399.99,
          399.99,
          399.99,
          399.99,
          399.99,
          399.99,
          399.99,
          399.99,
          399.99,
          399.99,
          399.99,
          399.99,
          399.99,
          399.99,
          399.99,
          399.99,
          399.99,
          399.99,
          399.99,
          399.99,
          399.99,
          399.99,
          399.99,
          399.99,
          399.99,
          399.99,
          399.99,
          399.99,
          399.99,
          399.99,
          399.99,
          399.99,
          399.99,
          399.99,
          399.99,
          399.99,
          399.99,
          399.99,
          399.99,
          399.99,
          399.99,
          399.99,
          399.99,
          399.99,
          399.99,
          399.99,
          399.99,
          399.99,
          399.99,
          399.99,
          399.99,
          399.99,
          399.99,
          399.99,
          399.99,
          399.99,
          399.99,
          399.99,
          399.99,
          399.99,
          399.99,
          399.99,
          399.99,
          399.99,
          399.99,
          399.99,
          399.99,
          399.99,
          399.99,
          399.99,
          399.99,
          399.99,
          399.99,
          399.99,
          399.99,
          399.99,
          399.99,
          399.99,
          399.99,
          399.99,
          399.99,
          399.99,
          399.99,
          399.99,
          399.99,
          399.99,
          9.19,
          9.19,
          9.19,
          9.19,
          9.19,
          9.19,
          9.19,
          9.19,
          9.19,
          12.49,
          12.49,
          12.49,
          12.49,
          12.49,
          12.49,
          12.49,
          49.95,
          49.95,
          49.95,
          49.95,
          49.95,
          49.95,
          49.95,
          49.95,
          49.95,
          49.95,
          49.95,
          49.95,
          49.95,
          49.95,
          49.95,
          49.95,
          49.95,
          49.95,
          49.95,
          44.78,
          44.78,
          44.78,
          44.78,
          44.78,
          8.81,
          8.81,
          8.81,
          8.81,
          8.81,
          8.81,
          8.81,
          8.81,
          8.81,
          11.86,
          11.86,
          11.86,
          11.86,
          11.86,
          47.99,
          47.99,
          47.99,
          47.99,
          47.99,
          47.99,
          44.89,
          44.89,
          44.89,
          44.89,
          44.89,
          44.89,
          44.89,
          44.89,
          44.89,
          44.89,
          44.89,
          44.89,
          44.89,
          44.89,
          44.89,
          44.89,
          44.89,
          44.89,
          44.89,
          44.89,
          44.89,
          44.89,
          44.89,
          44.89,
          44.89,
          45.17,
          45.17,
          45.17,
          45.17,
          45.17,
          45.17,
          45.17,
          8.52,
          8.52,
          8.52,
          8.52,
          8.52,
          8.52,
          8.52,
          8.52,
          8.52,
          8.52,
          8.52,
          8.52,
          8.52,
          8.52,
          8.52,
          8.52,
          8.52,
          8.52,
          8.52,
          8.52,
          8.52,
          8.52,
          8.52,
          8.52,
          40.85,
          40.85,
          4.99,
          4.99,
          4.99,
          4.99,
          4.99,
          4.99,
          4.99,
          4.99,
          4.99,
          4.99,
          4.99,
          4.99,
          14.99,
          14.99,
          14.99,
          14.99,
          14.99,
          14.99,
          14.99,
          14.99,
          14.99,
          14.99,
          14.99,
          14.99,
          14.99,
          14.99,
          14.99,
          14.99,
          14.99,
          14.99,
          14.99,
          14.99,
          14.99,
          14.99,
          14.99,
          14.99,
          14.99,
          14.99,
          14.99,
          14.99,
          14.99,
          14.99,
          14.99,
          14.99,
          14.99,
          14.99,
          14.99,
          14.99,
          14.99,
          14.99,
          14.99,
          14.99,
          14.99,
          14.99,
          14.99,
          14.99,
          14.99,
          14.99,
          14.99,
          14.99,
          14.99,
          14.99,
          14.99,
          14.99,
          14.99,
          14.99,
          14.99,
          13.92,
          13.92,
          13.92,
          13.92,
          13.92,
          13.92,
          13.92,
          35.69,
          35.69,
          35.69,
          35.69,
          35.69,
          35.69,
          36.86,
          36.86,
          36.86,
          36.86,
          36.86,
          36.86,
          36.86,
          36.86,
          36.86,
          36.86,
          36.86,
          36.86,
          36.86,
          36.86,
          36.86,
          36.86,
          36.86
         ],
         "y0": " ",
         "yaxis": "y"
        }
       ],
       "layout": {
        "autosize": true,
        "boxmode": "group",
        "height": 600,
        "legend": {
         "tracegroupgap": 0
        },
        "margin": {
         "t": 60
        },
        "template": {
         "data": {
          "bar": [
           {
            "error_x": {
             "color": "#2a3f5f"
            },
            "error_y": {
             "color": "#2a3f5f"
            },
            "marker": {
             "line": {
              "color": "#E5ECF6",
              "width": 0.5
             },
             "pattern": {
              "fillmode": "overlay",
              "size": 10,
              "solidity": 0.2
             }
            },
            "type": "bar"
           }
          ],
          "barpolar": [
           {
            "marker": {
             "line": {
              "color": "#E5ECF6",
              "width": 0.5
             },
             "pattern": {
              "fillmode": "overlay",
              "size": 10,
              "solidity": 0.2
             }
            },
            "type": "barpolar"
           }
          ],
          "carpet": [
           {
            "aaxis": {
             "endlinecolor": "#2a3f5f",
             "gridcolor": "white",
             "linecolor": "white",
             "minorgridcolor": "white",
             "startlinecolor": "#2a3f5f"
            },
            "baxis": {
             "endlinecolor": "#2a3f5f",
             "gridcolor": "white",
             "linecolor": "white",
             "minorgridcolor": "white",
             "startlinecolor": "#2a3f5f"
            },
            "type": "carpet"
           }
          ],
          "choropleth": [
           {
            "colorbar": {
             "outlinewidth": 0,
             "ticks": ""
            },
            "type": "choropleth"
           }
          ],
          "contour": [
           {
            "colorbar": {
             "outlinewidth": 0,
             "ticks": ""
            },
            "colorscale": [
             [
              0,
              "#0d0887"
             ],
             [
              0.1111111111111111,
              "#46039f"
             ],
             [
              0.2222222222222222,
              "#7201a8"
             ],
             [
              0.3333333333333333,
              "#9c179e"
             ],
             [
              0.4444444444444444,
              "#bd3786"
             ],
             [
              0.5555555555555556,
              "#d8576b"
             ],
             [
              0.6666666666666666,
              "#ed7953"
             ],
             [
              0.7777777777777778,
              "#fb9f3a"
             ],
             [
              0.8888888888888888,
              "#fdca26"
             ],
             [
              1,
              "#f0f921"
             ]
            ],
            "type": "contour"
           }
          ],
          "contourcarpet": [
           {
            "colorbar": {
             "outlinewidth": 0,
             "ticks": ""
            },
            "type": "contourcarpet"
           }
          ],
          "heatmap": [
           {
            "colorbar": {
             "outlinewidth": 0,
             "ticks": ""
            },
            "colorscale": [
             [
              0,
              "#0d0887"
             ],
             [
              0.1111111111111111,
              "#46039f"
             ],
             [
              0.2222222222222222,
              "#7201a8"
             ],
             [
              0.3333333333333333,
              "#9c179e"
             ],
             [
              0.4444444444444444,
              "#bd3786"
             ],
             [
              0.5555555555555556,
              "#d8576b"
             ],
             [
              0.6666666666666666,
              "#ed7953"
             ],
             [
              0.7777777777777778,
              "#fb9f3a"
             ],
             [
              0.8888888888888888,
              "#fdca26"
             ],
             [
              1,
              "#f0f921"
             ]
            ],
            "type": "heatmap"
           }
          ],
          "heatmapgl": [
           {
            "colorbar": {
             "outlinewidth": 0,
             "ticks": ""
            },
            "colorscale": [
             [
              0,
              "#0d0887"
             ],
             [
              0.1111111111111111,
              "#46039f"
             ],
             [
              0.2222222222222222,
              "#7201a8"
             ],
             [
              0.3333333333333333,
              "#9c179e"
             ],
             [
              0.4444444444444444,
              "#bd3786"
             ],
             [
              0.5555555555555556,
              "#d8576b"
             ],
             [
              0.6666666666666666,
              "#ed7953"
             ],
             [
              0.7777777777777778,
              "#fb9f3a"
             ],
             [
              0.8888888888888888,
              "#fdca26"
             ],
             [
              1,
              "#f0f921"
             ]
            ],
            "type": "heatmapgl"
           }
          ],
          "histogram": [
           {
            "marker": {
             "pattern": {
              "fillmode": "overlay",
              "size": 10,
              "solidity": 0.2
             }
            },
            "type": "histogram"
           }
          ],
          "histogram2d": [
           {
            "colorbar": {
             "outlinewidth": 0,
             "ticks": ""
            },
            "colorscale": [
             [
              0,
              "#0d0887"
             ],
             [
              0.1111111111111111,
              "#46039f"
             ],
             [
              0.2222222222222222,
              "#7201a8"
             ],
             [
              0.3333333333333333,
              "#9c179e"
             ],
             [
              0.4444444444444444,
              "#bd3786"
             ],
             [
              0.5555555555555556,
              "#d8576b"
             ],
             [
              0.6666666666666666,
              "#ed7953"
             ],
             [
              0.7777777777777778,
              "#fb9f3a"
             ],
             [
              0.8888888888888888,
              "#fdca26"
             ],
             [
              1,
              "#f0f921"
             ]
            ],
            "type": "histogram2d"
           }
          ],
          "histogram2dcontour": [
           {
            "colorbar": {
             "outlinewidth": 0,
             "ticks": ""
            },
            "colorscale": [
             [
              0,
              "#0d0887"
             ],
             [
              0.1111111111111111,
              "#46039f"
             ],
             [
              0.2222222222222222,
              "#7201a8"
             ],
             [
              0.3333333333333333,
              "#9c179e"
             ],
             [
              0.4444444444444444,
              "#bd3786"
             ],
             [
              0.5555555555555556,
              "#d8576b"
             ],
             [
              0.6666666666666666,
              "#ed7953"
             ],
             [
              0.7777777777777778,
              "#fb9f3a"
             ],
             [
              0.8888888888888888,
              "#fdca26"
             ],
             [
              1,
              "#f0f921"
             ]
            ],
            "type": "histogram2dcontour"
           }
          ],
          "mesh3d": [
           {
            "colorbar": {
             "outlinewidth": 0,
             "ticks": ""
            },
            "type": "mesh3d"
           }
          ],
          "parcoords": [
           {
            "line": {
             "colorbar": {
              "outlinewidth": 0,
              "ticks": ""
             }
            },
            "type": "parcoords"
           }
          ],
          "pie": [
           {
            "automargin": true,
            "type": "pie"
           }
          ],
          "scatter": [
           {
            "fillpattern": {
             "fillmode": "overlay",
             "size": 10,
             "solidity": 0.2
            },
            "type": "scatter"
           }
          ],
          "scatter3d": [
           {
            "line": {
             "colorbar": {
              "outlinewidth": 0,
              "ticks": ""
             }
            },
            "marker": {
             "colorbar": {
              "outlinewidth": 0,
              "ticks": ""
             }
            },
            "type": "scatter3d"
           }
          ],
          "scattercarpet": [
           {
            "marker": {
             "colorbar": {
              "outlinewidth": 0,
              "ticks": ""
             }
            },
            "type": "scattercarpet"
           }
          ],
          "scattergeo": [
           {
            "marker": {
             "colorbar": {
              "outlinewidth": 0,
              "ticks": ""
             }
            },
            "type": "scattergeo"
           }
          ],
          "scattergl": [
           {
            "marker": {
             "colorbar": {
              "outlinewidth": 0,
              "ticks": ""
             }
            },
            "type": "scattergl"
           }
          ],
          "scattermapbox": [
           {
            "marker": {
             "colorbar": {
              "outlinewidth": 0,
              "ticks": ""
             }
            },
            "type": "scattermapbox"
           }
          ],
          "scatterpolar": [
           {
            "marker": {
             "colorbar": {
              "outlinewidth": 0,
              "ticks": ""
             }
            },
            "type": "scatterpolar"
           }
          ],
          "scatterpolargl": [
           {
            "marker": {
             "colorbar": {
              "outlinewidth": 0,
              "ticks": ""
             }
            },
            "type": "scatterpolargl"
           }
          ],
          "scatterternary": [
           {
            "marker": {
             "colorbar": {
              "outlinewidth": 0,
              "ticks": ""
             }
            },
            "type": "scatterternary"
           }
          ],
          "surface": [
           {
            "colorbar": {
             "outlinewidth": 0,
             "ticks": ""
            },
            "colorscale": [
             [
              0,
              "#0d0887"
             ],
             [
              0.1111111111111111,
              "#46039f"
             ],
             [
              0.2222222222222222,
              "#7201a8"
             ],
             [
              0.3333333333333333,
              "#9c179e"
             ],
             [
              0.4444444444444444,
              "#bd3786"
             ],
             [
              0.5555555555555556,
              "#d8576b"
             ],
             [
              0.6666666666666666,
              "#ed7953"
             ],
             [
              0.7777777777777778,
              "#fb9f3a"
             ],
             [
              0.8888888888888888,
              "#fdca26"
             ],
             [
              1,
              "#f0f921"
             ]
            ],
            "type": "surface"
           }
          ],
          "table": [
           {
            "cells": {
             "fill": {
              "color": "#EBF0F8"
             },
             "line": {
              "color": "white"
             }
            },
            "header": {
             "fill": {
              "color": "#C8D4E3"
             },
             "line": {
              "color": "white"
             }
            },
            "type": "table"
           }
          ]
         },
         "layout": {
          "annotationdefaults": {
           "arrowcolor": "#2a3f5f",
           "arrowhead": 0,
           "arrowwidth": 1
          },
          "autotypenumbers": "strict",
          "coloraxis": {
           "colorbar": {
            "outlinewidth": 0,
            "ticks": ""
           }
          },
          "colorscale": {
           "diverging": [
            [
             0,
             "#8e0152"
            ],
            [
             0.1,
             "#c51b7d"
            ],
            [
             0.2,
             "#de77ae"
            ],
            [
             0.3,
             "#f1b6da"
            ],
            [
             0.4,
             "#fde0ef"
            ],
            [
             0.5,
             "#f7f7f7"
            ],
            [
             0.6,
             "#e6f5d0"
            ],
            [
             0.7,
             "#b8e186"
            ],
            [
             0.8,
             "#7fbc41"
            ],
            [
             0.9,
             "#4d9221"
            ],
            [
             1,
             "#276419"
            ]
           ],
           "sequential": [
            [
             0,
             "#0d0887"
            ],
            [
             0.1111111111111111,
             "#46039f"
            ],
            [
             0.2222222222222222,
             "#7201a8"
            ],
            [
             0.3333333333333333,
             "#9c179e"
            ],
            [
             0.4444444444444444,
             "#bd3786"
            ],
            [
             0.5555555555555556,
             "#d8576b"
            ],
            [
             0.6666666666666666,
             "#ed7953"
            ],
            [
             0.7777777777777778,
             "#fb9f3a"
            ],
            [
             0.8888888888888888,
             "#fdca26"
            ],
            [
             1,
             "#f0f921"
            ]
           ],
           "sequentialminus": [
            [
             0,
             "#0d0887"
            ],
            [
             0.1111111111111111,
             "#46039f"
            ],
            [
             0.2222222222222222,
             "#7201a8"
            ],
            [
             0.3333333333333333,
             "#9c179e"
            ],
            [
             0.4444444444444444,
             "#bd3786"
            ],
            [
             0.5555555555555556,
             "#d8576b"
            ],
            [
             0.6666666666666666,
             "#ed7953"
            ],
            [
             0.7777777777777778,
             "#fb9f3a"
            ],
            [
             0.8888888888888888,
             "#fdca26"
            ],
            [
             1,
             "#f0f921"
            ]
           ]
          },
          "colorway": [
           "#636efa",
           "#EF553B",
           "#00cc96",
           "#ab63fa",
           "#FFA15A",
           "#19d3f3",
           "#FF6692",
           "#B6E880",
           "#FF97FF",
           "#FECB52"
          ],
          "font": {
           "color": "#2a3f5f"
          },
          "geo": {
           "bgcolor": "white",
           "lakecolor": "white",
           "landcolor": "#E5ECF6",
           "showlakes": true,
           "showland": true,
           "subunitcolor": "white"
          },
          "hoverlabel": {
           "align": "left"
          },
          "hovermode": "closest",
          "mapbox": {
           "style": "light"
          },
          "paper_bgcolor": "white",
          "plot_bgcolor": "#E5ECF6",
          "polar": {
           "angularaxis": {
            "gridcolor": "white",
            "linecolor": "white",
            "ticks": ""
           },
           "bgcolor": "#E5ECF6",
           "radialaxis": {
            "gridcolor": "white",
            "linecolor": "white",
            "ticks": ""
           }
          },
          "scene": {
           "xaxis": {
            "backgroundcolor": "#E5ECF6",
            "gridcolor": "white",
            "gridwidth": 2,
            "linecolor": "white",
            "showbackground": true,
            "ticks": "",
            "zerolinecolor": "white"
           },
           "yaxis": {
            "backgroundcolor": "#E5ECF6",
            "gridcolor": "white",
            "gridwidth": 2,
            "linecolor": "white",
            "showbackground": true,
            "ticks": "",
            "zerolinecolor": "white"
           },
           "zaxis": {
            "backgroundcolor": "#E5ECF6",
            "gridcolor": "white",
            "gridwidth": 2,
            "linecolor": "white",
            "showbackground": true,
            "ticks": "",
            "zerolinecolor": "white"
           }
          },
          "shapedefaults": {
           "line": {
            "color": "#2a3f5f"
           }
          },
          "ternary": {
           "aaxis": {
            "gridcolor": "white",
            "linecolor": "white",
            "ticks": ""
           },
           "baxis": {
            "gridcolor": "white",
            "linecolor": "white",
            "ticks": ""
           },
           "bgcolor": "#E5ECF6",
           "caxis": {
            "gridcolor": "white",
            "linecolor": "white",
            "ticks": ""
           }
          },
          "title": {
           "x": 0.05
          },
          "xaxis": {
           "automargin": true,
           "gridcolor": "white",
           "linecolor": "white",
           "ticks": "",
           "title": {
            "standoff": 15
           },
           "zerolinecolor": "white",
           "zerolinewidth": 2
          },
          "yaxis": {
           "automargin": true,
           "gridcolor": "white",
           "linecolor": "white",
           "ticks": "",
           "title": {
            "standoff": 15
           },
           "zerolinecolor": "white",
           "zerolinewidth": 2
          }
         }
        },
        "title": {
         "text": "Boxplot and Data Distribution of each Rating Class"
        },
        "width": 800,
        "xaxis": {
         "anchor": "y",
         "domain": [
          0,
          1
         ],
         "title": {
          "text": "overall"
         }
        },
        "yaxis": {
         "anchor": "x",
         "domain": [
          0,
          1
         ],
         "title": {
          "text": "price"
         }
        }
       }
      }
     },
     "metadata": {},
     "output_type": "display_data"
    }
   ],
   "source": [
    "import plotly.express as px\n",
    "\n",
    "# values = []\n",
    "# for i in [1,2]:\n",
    "#     values.append(df_merged.loc[df_merged.overall==i].price.to_numpy())\n",
    "\n",
    "group_labels = ['Group 1', 'Group 2', 'Group 3', 'Group 4', 'Group 5']\n",
    "# lets sample. Too naive to plot raw data points - its too large\n",
    "fig = px.box(df_merged, x=\"overall\", y=\"price\", points=\"all\")\n",
    "fig.update_layout(\n",
    "    title_text=\"Boxplot and Data Distribution of each Rating Class\",\n",
    "    autosize=True,\n",
    "    width=800,\n",
    "    height=600\n",
    ")\n",
    "plotly.offline.iplot(fig) "
   ]
  },
  {
   "cell_type": "markdown",
   "metadata": {},
   "source": [
    "I think it will be interesting to also show how the products are embedded in a 2D space. This will give us a better understanding of the performance of the sentence transformer"
   ]
  },
  {
   "cell_type": "code",
   "execution_count": 12,
   "metadata": {},
   "outputs": [],
   "source": [
    "metadata = metadata_loader(\"../raw_data/meta_Video_Games.json.gz\").\\\n",
    "           dropna().\\\n",
    "           reset_index(drop=True)"
   ]
  },
  {
   "cell_type": "code",
   "execution_count": 13,
   "metadata": {},
   "outputs": [],
   "source": [
    "with open('../components/product_embedding.pkl', 'rb') as handle:\n",
    "    x = pickle.load(handle)\n",
    "products = pd.DataFrame(x)\n",
    "\n",
    "ls = []\n",
    "for i in range(len(products)):\n",
    "    ls.append(products['embedding'][i].tolist())\n",
    "array_data = np.array(ls)"
   ]
  },
  {
   "cell_type": "code",
   "execution_count": 14,
   "metadata": {},
   "outputs": [
    {
     "data": {
      "application/vnd.plotly.v1+json": {
       "config": {
        "linkText": "Export to plot.ly",
        "plotlyServerURL": "https://plot.ly",
        "showLink": false
       },
       "data": [
        {
         "hovertemplate": "title=64MB 1019 Block Memory Card compatible for Wii &amp; Gamecube<br>pca1=%{x}<br>pca2=%{y}<extra></extra>",
         "legendgroup": "64MB 1019 Block Memory Card compatible for Wii &amp; Gamecube",
         "marker": {
          "color": "#636efa",
          "symbol": "circle"
         },
         "mode": "markers",
         "name": "64MB 1019 Block Memory Card compatible for Wii &amp; Gamecube",
         "orientation": "v",
         "showlegend": true,
         "type": "scatter",
         "x": [
          0.13308745887020842
         ],
         "xaxis": "x",
         "y": [
          3.686789116526589
         ],
         "yaxis": "y"
        },
        {
         "hovertemplate": "title=2 Pack - Gator Crunch Wii Gamecube 6FT Extension Cable / Cord (Lifetime Warranty, Bulk packaging)<br>pca1=%{x}<br>pca2=%{y}<extra></extra>",
         "legendgroup": "2 Pack - Gator Crunch Wii Gamecube 6FT Extension Cable / Cord (Lifetime Warranty, Bulk packaging)",
         "marker": {
          "color": "#EF553B",
          "symbol": "circle"
         },
         "mode": "markers",
         "name": "2 Pack - Gator Crunch Wii Gamecube 6FT Extension Cable / Cord (Lifetime Warranty, Bulk packaging)",
         "orientation": "v",
         "showlegend": true,
         "type": "scatter",
         "x": [
          -0.18679857660201996
         ],
         "xaxis": "x",
         "y": [
          2.8959094909789704
         ],
         "yaxis": "y"
        },
        {
         "hovertemplate": "title=Super Nintendo Entertainment System SNES Generic Super Nintendo Classic Controller<br>pca1=%{x}<br>pca2=%{y}<extra></extra>",
         "legendgroup": "Super Nintendo Entertainment System SNES Generic Super Nintendo Classic Controller",
         "marker": {
          "color": "#00cc96",
          "symbol": "circle"
         },
         "mode": "markers",
         "name": "Super Nintendo Entertainment System SNES Generic Super Nintendo Classic Controller",
         "orientation": "v",
         "showlegend": true,
         "type": "scatter",
         "x": [
          1.2679518250477084
         ],
         "xaxis": "x",
         "y": [
          4.327328850809302
         ],
         "yaxis": "y"
        },
        {
         "hovertemplate": "title=Data &amp; Power USB Cable for Sony PSP<br>pca1=%{x}<br>pca2=%{y}<extra></extra>",
         "legendgroup": "Data &amp; Power USB Cable for Sony PSP",
         "marker": {
          "color": "#ab63fa",
          "symbol": "circle"
         },
         "mode": "markers",
         "name": "Data &amp; Power USB Cable for Sony PSP",
         "orientation": "v",
         "showlegend": true,
         "type": "scatter",
         "x": [
          1.1286132032595007
         ],
         "xaxis": "x",
         "y": [
          3.957741815141203
         ],
         "yaxis": "y"
        },
        {
         "hovertemplate": "title=Generic Xbox 360 Controller Battery Cover, White<br>pca1=%{x}<br>pca2=%{y}<extra></extra>",
         "legendgroup": "Generic Xbox 360 Controller Battery Cover, White",
         "marker": {
          "color": "#FFA15A",
          "symbol": "circle"
         },
         "mode": "markers",
         "name": "Generic Xbox 360 Controller Battery Cover, White",
         "orientation": "v",
         "showlegend": true,
         "type": "scatter",
         "x": [
          4.1541272085579255
         ],
         "xaxis": "x",
         "y": [
          2.5129490860132657
         ],
         "yaxis": "y"
        },
        {
         "hovertemplate": "title=Generic Headset with Microphone - Xbox 360<br>pca1=%{x}<br>pca2=%{y}<extra></extra>",
         "legendgroup": "Generic Headset with Microphone - Xbox 360",
         "marker": {
          "color": "#19d3f3",
          "symbol": "circle"
         },
         "mode": "markers",
         "name": "Generic Headset with Microphone - Xbox 360",
         "orientation": "v",
         "showlegend": true,
         "type": "scatter",
         "x": [
          1.1343135832614595
         ],
         "xaxis": "x",
         "y": [
          2.1722987503743525
         ],
         "yaxis": "y"
        },
        {
         "hovertemplate": "title=Mario Kart Racing Wheel for Wii (2pcs Bundle) (Bulk Packaging), Color May Vary<br>pca1=%{x}<br>pca2=%{y}<extra></extra>",
         "legendgroup": "Mario Kart Racing Wheel for Wii (2pcs Bundle) (Bulk Packaging), Color May Vary",
         "marker": {
          "color": "#FF6692",
          "symbol": "circle"
         },
         "mode": "markers",
         "name": "Mario Kart Racing Wheel for Wii (2pcs Bundle) (Bulk Packaging), Color May Vary",
         "orientation": "v",
         "showlegend": true,
         "type": "scatter",
         "x": [
          0.3456046810983398
         ],
         "xaxis": "x",
         "y": [
          3.175234573544777
         ],
         "yaxis": "y"
        },
        {
         "hovertemplate": "title=Remote Controller and Nunchuk Nunchuck Combo Bundle Set<br>pca1=%{x}<br>pca2=%{y}<extra></extra>",
         "legendgroup": "Remote Controller and Nunchuk Nunchuck Combo Bundle Set",
         "marker": {
          "color": "#B6E880",
          "symbol": "circle"
         },
         "mode": "markers",
         "name": "Remote Controller and Nunchuk Nunchuck Combo Bundle Set",
         "orientation": "v",
         "showlegend": true,
         "type": "scatter",
         "x": [
          0.9496967446532135
         ],
         "xaxis": "x",
         "y": [
          4.028269397907243
         ],
         "yaxis": "y"
        },
        {
         "hovertemplate": "title=Nintendo Wii Wheel - PINK<br>pca1=%{x}<br>pca2=%{y}<extra></extra>",
         "legendgroup": "Nintendo Wii Wheel - PINK",
         "marker": {
          "color": "#FF97FF",
          "symbol": "circle"
         },
         "mode": "markers",
         "name": "Nintendo Wii Wheel - PINK",
         "orientation": "v",
         "showlegend": true,
         "type": "scatter",
         "x": [
          1.5476226879993653
         ],
         "xaxis": "x",
         "y": [
          3.288394382373743
         ],
         "yaxis": "y"
        },
        {
         "hovertemplate": "title=Xbox 360 HD VGA Audio/Video Cable 6ft<br>pca1=%{x}<br>pca2=%{y}<extra></extra>",
         "legendgroup": "Xbox 360 HD VGA Audio/Video Cable 6ft",
         "marker": {
          "color": "#FECB52",
          "symbol": "circle"
         },
         "mode": "markers",
         "name": "Xbox 360 HD VGA Audio/Video Cable 6ft",
         "orientation": "v",
         "showlegend": true,
         "type": "scatter",
         "x": [
          1.0857708326018285
         ],
         "xaxis": "x",
         "y": [
          3.817443669895462
         ],
         "yaxis": "y"
        },
        {
         "hovertemplate": "title=Sega Genesis 1 Standard AV Cable (Bulk Packaging)<br>pca1=%{x}<br>pca2=%{y}<extra></extra>",
         "legendgroup": "Sega Genesis 1 Standard AV Cable (Bulk Packaging)",
         "marker": {
          "color": "#636efa",
          "symbol": "circle"
         },
         "mode": "markers",
         "name": "Sega Genesis 1 Standard AV Cable (Bulk Packaging)",
         "orientation": "v",
         "showlegend": true,
         "type": "scatter",
         "x": [
          -0.6130764612918014
         ],
         "xaxis": "x",
         "y": [
          1.9477236940846514
         ],
         "yaxis": "y"
        },
        {
         "hovertemplate": "title=Sega Genesis 2 &amp; 3 Standard AV Cable (Bulk Packaging)<br>pca1=%{x}<br>pca2=%{y}<extra></extra>",
         "legendgroup": "Sega Genesis 2 &amp; 3 Standard AV Cable (Bulk Packaging)",
         "marker": {
          "color": "#EF553B",
          "symbol": "circle"
         },
         "mode": "markers",
         "name": "Sega Genesis 2 &amp; 3 Standard AV Cable (Bulk Packaging)",
         "orientation": "v",
         "showlegend": true,
         "type": "scatter",
         "x": [
          -0.6130764612918014
         ],
         "xaxis": "x",
         "y": [
          1.9477236940846514
         ],
         "yaxis": "y"
        },
        {
         "hovertemplate": "title=Wii Nunchuk / Nunchuck Controller<br>pca1=%{x}<br>pca2=%{y}<extra></extra>",
         "legendgroup": "Wii Nunchuk / Nunchuck Controller",
         "marker": {
          "color": "#00cc96",
          "symbol": "circle"
         },
         "mode": "markers",
         "name": "Wii Nunchuk / Nunchuck Controller",
         "orientation": "v",
         "showlegend": true,
         "type": "scatter",
         "x": [
          -1.5998895356989928
         ],
         "xaxis": "x",
         "y": [
          1.1599287935927607
         ],
         "yaxis": "y"
        },
        {
         "hovertemplate": "title=Nintendo DSi XL - Midnight Blue<br>pca1=%{x}<br>pca2=%{y}<extra></extra>",
         "legendgroup": "Nintendo DSi XL - Midnight Blue",
         "marker": {
          "color": "#ab63fa",
          "symbol": "circle"
         },
         "mode": "markers",
         "name": "Nintendo DSi XL - Midnight Blue",
         "orientation": "v",
         "showlegend": true,
         "type": "scatter",
         "x": [
          10.357423685660264
         ],
         "xaxis": "x",
         "y": [
          -0.9288600792439904
         ],
         "yaxis": "y"
        },
        {
         "hovertemplate": "title=Assassin's Creed III Liberation PlayStation Vita Wi-Fi Bundle<br>pca1=%{x}<br>pca2=%{y}<extra></extra>",
         "legendgroup": "Assassin's Creed III Liberation PlayStation Vita Wi-Fi Bundle",
         "marker": {
          "color": "#FFA15A",
          "symbol": "circle"
         },
         "mode": "markers",
         "name": "Assassin's Creed III Liberation PlayStation Vita Wi-Fi Bundle",
         "orientation": "v",
         "showlegend": true,
         "type": "scatter",
         "x": [
          10.357423685660264
         ],
         "xaxis": "x",
         "y": [
          -0.9288600792439904
         ],
         "yaxis": "y"
        },
        {
         "hovertemplate": "title=Wii Motion Plus - Black (Bulk Packaging)<br>pca1=%{x}<br>pca2=%{y}<extra></extra>",
         "legendgroup": "Wii Motion Plus - Black (Bulk Packaging)",
         "marker": {
          "color": "#19d3f3",
          "symbol": "circle"
         },
         "mode": "markers",
         "name": "Wii Motion Plus - Black (Bulk Packaging)",
         "orientation": "v",
         "showlegend": true,
         "type": "scatter",
         "x": [
          -1.644990615076451
         ],
         "xaxis": "x",
         "y": [
          1.0082129044474146
         ],
         "yaxis": "y"
        },
        {
         "hovertemplate": "title=Wii Wireless Remote Control (Non OEM) + Case(Without Retail Package)<br>pca1=%{x}<br>pca2=%{y}<extra></extra>",
         "legendgroup": "Wii Wireless Remote Control (Non OEM) + Case(Without Retail Package)",
         "marker": {
          "color": "#FF6692",
          "symbol": "circle"
         },
         "mode": "markers",
         "name": "Wii Wireless Remote Control (Non OEM) + Case(Without Retail Package)",
         "orientation": "v",
         "showlegend": true,
         "type": "scatter",
         "x": [
          -0.4206988774245337
         ],
         "xaxis": "x",
         "y": [
          3.6138784186549593
         ],
         "yaxis": "y"
        },
        {
         "hovertemplate": "title=Nintendo DSi XL - 20 In 1 Special Edition Silver Starter Kit<br>pca1=%{x}<br>pca2=%{y}<extra></extra>",
         "legendgroup": "Nintendo DSi XL - 20 In 1 Special Edition Silver Starter Kit",
         "marker": {
          "color": "#B6E880",
          "symbol": "circle"
         },
         "mode": "markers",
         "name": "Nintendo DSi XL - 20 In 1 Special Edition Silver Starter Kit",
         "orientation": "v",
         "showlegend": true,
         "type": "scatter",
         "x": [
          10.357423685660264
         ],
         "xaxis": "x",
         "y": [
          -0.9288600792439904
         ],
         "yaxis": "y"
        },
        {
         "hovertemplate": "title=Nintendo DSi XL 20 in 1 Starter Kit - Gold<br>pca1=%{x}<br>pca2=%{y}<extra></extra>",
         "legendgroup": "Nintendo DSi XL 20 in 1 Starter Kit - Gold",
         "marker": {
          "color": "#FF97FF",
          "symbol": "circle"
         },
         "mode": "markers",
         "name": "Nintendo DSi XL 20 in 1 Starter Kit - Gold",
         "orientation": "v",
         "showlegend": true,
         "type": "scatter",
         "x": [
          10.357423685660264
         ],
         "xaxis": "x",
         "y": [
          -0.9288600792439904
         ],
         "yaxis": "y"
        },
        {
         "hovertemplate": "title=Nintendo 3DS Pull and Go Folio - Blue<br>pca1=%{x}<br>pca2=%{y}<extra></extra>",
         "legendgroup": "Nintendo 3DS Pull and Go Folio - Blue",
         "marker": {
          "color": "#FECB52",
          "symbol": "circle"
         },
         "mode": "markers",
         "name": "Nintendo 3DS Pull and Go Folio - Blue",
         "orientation": "v",
         "showlegend": true,
         "type": "scatter",
         "x": [
          -1.1401511331610574
         ],
         "xaxis": "x",
         "y": [
          2.7098974201572514
         ],
         "yaxis": "y"
        },
        {
         "hovertemplate": "title=DS Universal Pull and Go Folio - Pink<br>pca1=%{x}<br>pca2=%{y}<extra></extra>",
         "legendgroup": "DS Universal Pull and Go Folio - Pink",
         "marker": {
          "color": "#636efa",
          "symbol": "circle"
         },
         "mode": "markers",
         "name": "DS Universal Pull and Go Folio - Pink",
         "orientation": "v",
         "showlegend": true,
         "type": "scatter",
         "x": [
          -1.2026920638617757
         ],
         "xaxis": "x",
         "y": [
          2.763491595360575
         ],
         "yaxis": "y"
        },
        {
         "hovertemplate": "title=250GB HDD Hard Disk Drive for Microsoft Xbox 360 Slim (Generic)<br>pca1=%{x}<br>pca2=%{y}<extra></extra>",
         "legendgroup": "250GB HDD Hard Disk Drive for Microsoft Xbox 360 Slim (Generic)",
         "marker": {
          "color": "#EF553B",
          "symbol": "circle"
         },
         "mode": "markers",
         "name": "250GB HDD Hard Disk Drive for Microsoft Xbox 360 Slim (Generic)",
         "orientation": "v",
         "showlegend": true,
         "type": "scatter",
         "x": [
          -1.479582939611327
         ],
         "xaxis": "x",
         "y": [
          0.30384721037617346
         ],
         "yaxis": "y"
        },
        {
         "hovertemplate": "title=Chimaera Wireless Gaming Headset<br>pca1=%{x}<br>pca2=%{y}<extra></extra>",
         "legendgroup": "Chimaera Wireless Gaming Headset",
         "marker": {
          "color": "#00cc96",
          "symbol": "circle"
         },
         "mode": "markers",
         "name": "Chimaera Wireless Gaming Headset",
         "orientation": "v",
         "showlegend": true,
         "type": "scatter",
         "x": [
          -1.5955898303247358
         ],
         "xaxis": "x",
         "y": [
          0.008095518988120125
         ],
         "yaxis": "y"
        },
        {
         "hovertemplate": "title=White Motion Plus Adapter + Silicone Sleeve for Nintendo Wii<br>pca1=%{x}<br>pca2=%{y}<extra></extra>",
         "legendgroup": "White Motion Plus Adapter + Silicone Sleeve for Nintendo Wii",
         "marker": {
          "color": "#ab63fa",
          "symbol": "circle"
         },
         "mode": "markers",
         "name": "White Motion Plus Adapter + Silicone Sleeve for Nintendo Wii",
         "orientation": "v",
         "showlegend": true,
         "type": "scatter",
         "x": [
          -1.5474133970879727
         ],
         "xaxis": "x",
         "y": [
          0.33276915583720296
         ],
         "yaxis": "y"
        },
        {
         "hovertemplate": "title=Gold Chrome XBOX 360 Controller Shell Kit<br>pca1=%{x}<br>pca2=%{y}<extra></extra>",
         "legendgroup": "Gold Chrome XBOX 360 Controller Shell Kit",
         "marker": {
          "color": "#FFA15A",
          "symbol": "circle"
         },
         "mode": "markers",
         "name": "Gold Chrome XBOX 360 Controller Shell Kit",
         "orientation": "v",
         "showlegend": true,
         "type": "scatter",
         "x": [
          -1.4227510084255524
         ],
         "xaxis": "x",
         "y": [
          1.988634775133416
         ],
         "yaxis": "y"
        },
        {
         "hovertemplate": "title=320GB HDD Compatible with Xbox 360 Slim<br>pca1=%{x}<br>pca2=%{y}<extra></extra>",
         "legendgroup": "320GB HDD Compatible with Xbox 360 Slim",
         "marker": {
          "color": "#19d3f3",
          "symbol": "circle"
         },
         "mode": "markers",
         "name": "320GB HDD Compatible with Xbox 360 Slim",
         "orientation": "v",
         "showlegend": true,
         "type": "scatter",
         "x": [
          -1.436592699215558
         ],
         "xaxis": "x",
         "y": [
          1.0951311348090103
         ],
         "yaxis": "y"
        },
        {
         "hovertemplate": "title=PDP Afterglow AX.4 Communicator for Xbox360 - Green<br>pca1=%{x}<br>pca2=%{y}<extra></extra>",
         "legendgroup": "PDP Afterglow AX.4 Communicator for Xbox360 - Green",
         "marker": {
          "color": "#FF6692",
          "symbol": "circle"
         },
         "mode": "markers",
         "name": "PDP Afterglow AX.4 Communicator for Xbox360 - Green",
         "orientation": "v",
         "showlegend": true,
         "type": "scatter",
         "x": [
          0.8015509858029749
         ],
         "xaxis": "x",
         "y": [
          1.1226358548556377
         ],
         "yaxis": "y"
        },
        {
         "hovertemplate": "title=PDP Afterglow AX.4 Communicator for Xbox 360 - Blue<br>pca1=%{x}<br>pca2=%{y}<extra></extra>",
         "legendgroup": "PDP Afterglow AX.4 Communicator for Xbox 360 - Blue",
         "marker": {
          "color": "#B6E880",
          "symbol": "circle"
         },
         "mode": "markers",
         "name": "PDP Afterglow AX.4 Communicator for Xbox 360 - Blue",
         "orientation": "v",
         "showlegend": true,
         "type": "scatter",
         "x": [
          0.8887757140366032
         ],
         "xaxis": "x",
         "y": [
          0.9253108469321482
         ],
         "yaxis": "y"
        },
        {
         "hovertemplate": "title=Black 250GB 250 GB Hard Drive Disk HDD for Xbox 360 SLIM<br>pca1=%{x}<br>pca2=%{y}<extra></extra>",
         "legendgroup": "Black 250GB 250 GB Hard Drive Disk HDD for Xbox 360 SLIM",
         "marker": {
          "color": "#FF97FF",
          "symbol": "circle"
         },
         "mode": "markers",
         "name": "Black 250GB 250 GB Hard Drive Disk HDD for Xbox 360 SLIM",
         "orientation": "v",
         "showlegend": true,
         "type": "scatter",
         "x": [
          -1.2789312632520977
         ],
         "xaxis": "x",
         "y": [
          1.8023163792039492
         ],
         "yaxis": "y"
        },
        {
         "hovertemplate": "title=250G HDD Hard Disk Drive For Microsoft Xbox 360 Slim<br>pca1=%{x}<br>pca2=%{y}<extra></extra>",
         "legendgroup": "250G HDD Hard Disk Drive For Microsoft Xbox 360 Slim",
         "marker": {
          "color": "#FECB52",
          "symbol": "circle"
         },
         "mode": "markers",
         "name": "250G HDD Hard Disk Drive For Microsoft Xbox 360 Slim",
         "orientation": "v",
         "showlegend": true,
         "type": "scatter",
         "x": [
          -0.8414820973433548
         ],
         "xaxis": "x",
         "y": [
          2.7113417699798767
         ],
         "yaxis": "y"
        },
        {
         "hovertemplate": "title=Wireless Pc Usb Gaming Receiver for Xbox 360/xbox360<br>pca1=%{x}<br>pca2=%{y}<extra></extra>",
         "legendgroup": "Wireless Pc Usb Gaming Receiver for Xbox 360/xbox360",
         "marker": {
          "color": "#636efa",
          "symbol": "circle"
         },
         "mode": "markers",
         "name": "Wireless Pc Usb Gaming Receiver for Xbox 360/xbox360",
         "orientation": "v",
         "showlegend": true,
         "type": "scatter",
         "x": [
          -1.6202537759980737
         ],
         "xaxis": "x",
         "y": [
          1.354594525980754
         ],
         "yaxis": "y"
        },
        {
         "hovertemplate": "title=320GB HDD Hard Drive for Xbox 360 Slim - Generic Version<br>pca1=%{x}<br>pca2=%{y}<extra></extra>",
         "legendgroup": "320GB HDD Hard Drive for Xbox 360 Slim - Generic Version",
         "marker": {
          "color": "#EF553B",
          "symbol": "circle"
         },
         "mode": "markers",
         "name": "320GB HDD Hard Drive for Xbox 360 Slim - Generic Version",
         "orientation": "v",
         "showlegend": true,
         "type": "scatter",
         "x": [
          -1.3776731556374548
         ],
         "xaxis": "x",
         "y": [
          0.5442103168324388
         ],
         "yaxis": "y"
        },
        {
         "hovertemplate": "title=HDE&reg; White Replacement Kit Xbox 360 Controller Shell + Button Parts<br>pca1=%{x}<br>pca2=%{y}<extra></extra>",
         "legendgroup": "HDE&reg; White Replacement Kit Xbox 360 Controller Shell + Button Parts",
         "marker": {
          "color": "#00cc96",
          "symbol": "circle"
         },
         "mode": "markers",
         "name": "HDE&reg; White Replacement Kit Xbox 360 Controller Shell + Button Parts",
         "orientation": "v",
         "showlegend": true,
         "type": "scatter",
         "x": [
          -1.7220926175384972
         ],
         "xaxis": "x",
         "y": [
          0.3859734588846157
         ],
         "yaxis": "y"
        },
        {
         "hovertemplate": "title=HDE &reg; Black Replacement Xbox 360 Controller Shell + Buttons<br>pca1=%{x}<br>pca2=%{y}<extra></extra>",
         "legendgroup": "HDE &reg; Black Replacement Xbox 360 Controller Shell + Buttons",
         "marker": {
          "color": "#ab63fa",
          "symbol": "circle"
         },
         "mode": "markers",
         "name": "HDE &reg; Black Replacement Xbox 360 Controller Shell + Buttons",
         "orientation": "v",
         "showlegend": true,
         "type": "scatter",
         "x": [
          -1.7220926175384972
         ],
         "xaxis": "x",
         "y": [
          0.3859734588846157
         ],
         "yaxis": "y"
        },
        {
         "hovertemplate": "title=MOGA Mobile Gaming System for Android 2.3+<br>pca1=%{x}<br>pca2=%{y}<extra></extra>",
         "legendgroup": "MOGA Mobile Gaming System for Android 2.3+",
         "marker": {
          "color": "#FFA15A",
          "symbol": "circle"
         },
         "mode": "markers",
         "name": "MOGA Mobile Gaming System for Android 2.3+",
         "orientation": "v",
         "showlegend": true,
         "type": "scatter",
         "x": [
          10.357423685660264
         ],
         "xaxis": "x",
         "y": [
          -0.9288600792439904
         ],
         "yaxis": "y"
        },
        {
         "hovertemplate": "title=[Upgraded Version] Ultra-comfort Black &amp; Orange Wireless Bluetooth Ps3 Controller for the Playstation 3 Console By Avalid<br>pca1=%{x}<br>pca2=%{y}<extra></extra>",
         "legendgroup": "[Upgraded Version] Ultra-comfort Black &amp; Orange Wireless Bluetooth Ps3 Controller for the Playstation 3 Console By Avalid",
         "marker": {
          "color": "#19d3f3",
          "symbol": "circle"
         },
         "mode": "markers",
         "name": "[Upgraded Version] Ultra-comfort Black &amp; Orange Wireless Bluetooth Ps3 Controller for the Playstation 3 Console By Avalid",
         "orientation": "v",
         "showlegend": true,
         "type": "scatter",
         "x": [
          -1.3158906747006867
         ],
         "xaxis": "x",
         "y": [
          1.450098298395671
         ],
         "yaxis": "y"
        },
        {
         "hovertemplate": "title=Fosmon Soft Silicone Skin Case for Nintendo Wii U Gamepad (Purple)<br>pca1=%{x}<br>pca2=%{y}<extra></extra>",
         "legendgroup": "Fosmon Soft Silicone Skin Case for Nintendo Wii U Gamepad (Purple)",
         "marker": {
          "color": "#FF6692",
          "symbol": "circle"
         },
         "mode": "markers",
         "name": "Fosmon Soft Silicone Skin Case for Nintendo Wii U Gamepad (Purple)",
         "orientation": "v",
         "showlegend": true,
         "type": "scatter",
         "x": [
          -1.5330017299827494
         ],
         "xaxis": "x",
         "y": [
          0.2649401703614039
         ],
         "yaxis": "y"
        },
        {
         "hovertemplate": "title=Fosmon Soft Silicone Skin Case for Nintendo Wii U Gamepad (Black)<br>pca1=%{x}<br>pca2=%{y}<extra></extra>",
         "legendgroup": "Fosmon Soft Silicone Skin Case for Nintendo Wii U Gamepad (Black)",
         "marker": {
          "color": "#B6E880",
          "symbol": "circle"
         },
         "mode": "markers",
         "name": "Fosmon Soft Silicone Skin Case for Nintendo Wii U Gamepad (Black)",
         "orientation": "v",
         "showlegend": true,
         "type": "scatter",
         "x": [
          -1.5330017299827494
         ],
         "xaxis": "x",
         "y": [
          0.2649401703614039
         ],
         "yaxis": "y"
        },
        {
         "hovertemplate": "title=BELPAIR Wii Motion Plus Adapter Sensor Tracking for Nintendo Wii Remote Controller(wh...<br>pca1=%{x}<br>pca2=%{y}<extra></extra>",
         "legendgroup": "BELPAIR Wii Motion Plus Adapter Sensor Tracking for Nintendo Wii Remote Controller(wh...",
         "marker": {
          "color": "#FF97FF",
          "symbol": "circle"
         },
         "mode": "markers",
         "name": "BELPAIR Wii Motion Plus Adapter Sensor Tracking for Nintendo Wii Remote Controller(wh...",
         "orientation": "v",
         "showlegend": true,
         "type": "scatter",
         "x": [
          -1.773810957668512
         ],
         "xaxis": "x",
         "y": [
          0.5153569761051937
         ],
         "yaxis": "y"
        },
        {
         "hovertemplate": "title=DBPOWER&reg; Remote + Nunchuk Nunchuck Controller Combo Set Bundle Built-in Motionplus for Nintendo Wii (Pink)<br>pca1=%{x}<br>pca2=%{y}<extra></extra>",
         "legendgroup": "DBPOWER&reg; Remote + Nunchuk Nunchuck Controller Combo Set Bundle Built-in Motionplus for Nintendo Wii (Pink)",
         "marker": {
          "color": "#FECB52",
          "symbol": "circle"
         },
         "mode": "markers",
         "name": "DBPOWER&reg; Remote + Nunchuk Nunchuck Controller Combo Set Bundle Built-in Motionplus for Nintendo Wii (Pink)",
         "orientation": "v",
         "showlegend": true,
         "type": "scatter",
         "x": [
          -1.977302953541183
         ],
         "xaxis": "x",
         "y": [
          0.02079080008664523
         ],
         "yaxis": "y"
        },
        {
         "hovertemplate": "title=DBPOWER&reg; Remote + Nunchuk Nunchuck Controller Combo Set Bundle Built-in Motionplus for Nintendo Wii (White)<br>pca1=%{x}<br>pca2=%{y}<extra></extra>",
         "legendgroup": "DBPOWER&reg; Remote + Nunchuk Nunchuck Controller Combo Set Bundle Built-in Motionplus for Nintendo Wii (White)",
         "marker": {
          "color": "#636efa",
          "symbol": "circle"
         },
         "mode": "markers",
         "name": "DBPOWER&reg; Remote + Nunchuk Nunchuck Controller Combo Set Bundle Built-in Motionplus for Nintendo Wii (White)",
         "orientation": "v",
         "showlegend": true,
         "type": "scatter",
         "x": [
          -1.977302953541183
         ],
         "xaxis": "x",
         "y": [
          0.02079080008664523
         ],
         "yaxis": "y"
        },
        {
         "hovertemplate": "title=DBPOWER&reg; Remote + Nunchuk Nunchuck Controller Combo Set Bundle Built-in Motionplus for Nintendo Wii (Red)<br>pca1=%{x}<br>pca2=%{y}<extra></extra>",
         "legendgroup": "DBPOWER&reg; Remote + Nunchuk Nunchuck Controller Combo Set Bundle Built-in Motionplus for Nintendo Wii (Red)",
         "marker": {
          "color": "#EF553B",
          "symbol": "circle"
         },
         "mode": "markers",
         "name": "DBPOWER&reg; Remote + Nunchuk Nunchuck Controller Combo Set Bundle Built-in Motionplus for Nintendo Wii (Red)",
         "orientation": "v",
         "showlegend": true,
         "type": "scatter",
         "x": [
          -1.3098953719068613
         ],
         "xaxis": "x",
         "y": [
          1.162214998246892
         ],
         "yaxis": "y"
        },
        {
         "hovertemplate": "title=HDE Nintendo 64 N64 Wired Classic Controller Pad (Black)<br>pca1=%{x}<br>pca2=%{y}<extra></extra>",
         "legendgroup": "HDE Nintendo 64 N64 Wired Classic Controller Pad (Black)",
         "marker": {
          "color": "#00cc96",
          "symbol": "circle"
         },
         "mode": "markers",
         "name": "HDE Nintendo 64 N64 Wired Classic Controller Pad (Black)",
         "orientation": "v",
         "showlegend": true,
         "type": "scatter",
         "x": [
          -1.6268353050925155
         ],
         "xaxis": "x",
         "y": [
          0.8365086346942135
         ],
         "yaxis": "y"
        },
        {
         "hovertemplate": "title=BELPAIR 2X Silicone Skin Case Cover For Nintendo Wii Remote Controller &#65288;Remote...<br>pca1=%{x}<br>pca2=%{y}<extra></extra>",
         "legendgroup": "BELPAIR 2X Silicone Skin Case Cover For Nintendo Wii Remote Controller &#65288;Remote...",
         "marker": {
          "color": "#ab63fa",
          "symbol": "circle"
         },
         "mode": "markers",
         "name": "BELPAIR 2X Silicone Skin Case Cover For Nintendo Wii Remote Controller &#65288;Remote...",
         "orientation": "v",
         "showlegend": true,
         "type": "scatter",
         "x": [
          -1.4112917666201954
         ],
         "xaxis": "x",
         "y": [
          1.9673050968347954
         ],
         "yaxis": "y"
        },
        {
         "hovertemplate": "title=Conception II: Children of the Seven Stars - Nintendo 3DS<br>pca1=%{x}<br>pca2=%{y}<extra></extra>",
         "legendgroup": "Conception II: Children of the Seven Stars - Nintendo 3DS",
         "marker": {
          "color": "#FFA15A",
          "symbol": "circle"
         },
         "mode": "markers",
         "name": "Conception II: Children of the Seven Stars - Nintendo 3DS",
         "orientation": "v",
         "showlegend": true,
         "type": "scatter",
         "x": [
          -1.7144708909088051
         ],
         "xaxis": "x",
         "y": [
          -0.3301062338044304
         ],
         "yaxis": "y"
        },
        {
         "hovertemplate": "title=Conception II: Children of the Seven Stars - PlayStation Vita<br>pca1=%{x}<br>pca2=%{y}<extra></extra>",
         "legendgroup": "Conception II: Children of the Seven Stars - PlayStation Vita",
         "marker": {
          "color": "#19d3f3",
          "symbol": "circle"
         },
         "mode": "markers",
         "name": "Conception II: Children of the Seven Stars - PlayStation Vita",
         "orientation": "v",
         "showlegend": true,
         "type": "scatter",
         "x": [
          -1.7144708909088051
         ],
         "xaxis": "x",
         "y": [
          -0.3301062338044304
         ],
         "yaxis": "y"
        },
        {
         "hovertemplate": "title=HDE Controller Shell Case Cover Replacement Kit for Xbox 360 w/ Button Set, Torx Screwdriver, &amp; Crosshead Screwdriver (Gold)<br>pca1=%{x}<br>pca2=%{y}<extra></extra>",
         "legendgroup": "HDE Controller Shell Case Cover Replacement Kit for Xbox 360 w/ Button Set, Torx Screwdriver, &amp; Crosshead Screwdriver (Gold)",
         "marker": {
          "color": "#FF6692",
          "symbol": "circle"
         },
         "mode": "markers",
         "name": "HDE Controller Shell Case Cover Replacement Kit for Xbox 360 w/ Button Set, Torx Screwdriver, &amp; Crosshead Screwdriver (Gold)",
         "orientation": "v",
         "showlegend": true,
         "type": "scatter",
         "x": [
          -1.7651432471097082
         ],
         "xaxis": "x",
         "y": [
          0.24083074003196325
         ],
         "yaxis": "y"
        },
        {
         "hovertemplate": "title=HDE Controller Shell Case Cover Replacement Kit for Xbox 360 w/ Button Set, Torx Screwdriver, &amp; Crosshead Screwdriver (Clear Blue)<br>pca1=%{x}<br>pca2=%{y}<extra></extra>",
         "legendgroup": "HDE Controller Shell Case Cover Replacement Kit for Xbox 360 w/ Button Set, Torx Screwdriver, &amp; Crosshead Screwdriver (Clear Blue)",
         "marker": {
          "color": "#B6E880",
          "symbol": "circle"
         },
         "mode": "markers",
         "name": "HDE Controller Shell Case Cover Replacement Kit for Xbox 360 w/ Button Set, Torx Screwdriver, &amp; Crosshead Screwdriver (Clear Blue)",
         "orientation": "v",
         "showlegend": true,
         "type": "scatter",
         "x": [
          -1.7651432471097082
         ],
         "xaxis": "x",
         "y": [
          0.24083074003196325
         ],
         "yaxis": "y"
        },
        {
         "hovertemplate": "title=HDE Controller Shell Case Cover Replacement Kit for Xbox 360 w/ Button Set, Torx Screwdriver, &amp; Crosshead Screwdriver (Orange)<br>pca1=%{x}<br>pca2=%{y}<extra></extra>",
         "legendgroup": "HDE Controller Shell Case Cover Replacement Kit for Xbox 360 w/ Button Set, Torx Screwdriver, &amp; Crosshead Screwdriver (Orange)",
         "marker": {
          "color": "#FF97FF",
          "symbol": "circle"
         },
         "mode": "markers",
         "name": "HDE Controller Shell Case Cover Replacement Kit for Xbox 360 w/ Button Set, Torx Screwdriver, &amp; Crosshead Screwdriver (Orange)",
         "orientation": "v",
         "showlegend": true,
         "type": "scatter",
         "x": [
          -1.7651432471097082
         ],
         "xaxis": "x",
         "y": [
          0.24083074003196325
         ],
         "yaxis": "y"
        },
        {
         "hovertemplate": "title=HDE Controller Shell Case Cover Replacement Kit for Xbox 360 w/ Button Set, Torx Screwdriver, &amp; Crosshead Screwdriver (Black)<br>pca1=%{x}<br>pca2=%{y}<extra></extra>",
         "legendgroup": "HDE Controller Shell Case Cover Replacement Kit for Xbox 360 w/ Button Set, Torx Screwdriver, &amp; Crosshead Screwdriver (Black)",
         "marker": {
          "color": "#FECB52",
          "symbol": "circle"
         },
         "mode": "markers",
         "name": "HDE Controller Shell Case Cover Replacement Kit for Xbox 360 w/ Button Set, Torx Screwdriver, &amp; Crosshead Screwdriver (Black)",
         "orientation": "v",
         "showlegend": true,
         "type": "scatter",
         "x": [
          -1.7651432471097082
         ],
         "xaxis": "x",
         "y": [
          0.24083074003196325
         ],
         "yaxis": "y"
        },
        {
         "hovertemplate": "title=HDE Controller Shell Case Cover Replacement Kit for Xbox 360 w/ Button Set, Torx Screwdriver, &amp; Crosshead Screwdriver (Clear)<br>pca1=%{x}<br>pca2=%{y}<extra></extra>",
         "legendgroup": "HDE Controller Shell Case Cover Replacement Kit for Xbox 360 w/ Button Set, Torx Screwdriver, &amp; Crosshead Screwdriver (Clear)",
         "marker": {
          "color": "#636efa",
          "symbol": "circle"
         },
         "mode": "markers",
         "name": "HDE Controller Shell Case Cover Replacement Kit for Xbox 360 w/ Button Set, Torx Screwdriver, &amp; Crosshead Screwdriver (Clear)",
         "orientation": "v",
         "showlegend": true,
         "type": "scatter",
         "x": [
          -1.7651432471097082
         ],
         "xaxis": "x",
         "y": [
          0.24083074003196325
         ],
         "yaxis": "y"
        },
        {
         "hovertemplate": "title=HDE Controller Shell Case Cover Replacement Kit for Xbox 360 w/ Button Set, Torx Screwdriver, &amp; Crosshead Screwdriver (Pink)<br>pca1=%{x}<br>pca2=%{y}<extra></extra>",
         "legendgroup": "HDE Controller Shell Case Cover Replacement Kit for Xbox 360 w/ Button Set, Torx Screwdriver, &amp; Crosshead Screwdriver (Pink)",
         "marker": {
          "color": "#EF553B",
          "symbol": "circle"
         },
         "mode": "markers",
         "name": "HDE Controller Shell Case Cover Replacement Kit for Xbox 360 w/ Button Set, Torx Screwdriver, &amp; Crosshead Screwdriver (Pink)",
         "orientation": "v",
         "showlegend": true,
         "type": "scatter",
         "x": [
          -1.7651432471097082
         ],
         "xaxis": "x",
         "y": [
          0.24083074003196325
         ],
         "yaxis": "y"
        },
        {
         "hovertemplate": "title=HDE Controller Shell Case Cover Replacement Kit for Xbox 360 w/ Button Set, Torx Screwdriver, &amp; Crosshead Screwdriver (Blue)<br>pca1=%{x}<br>pca2=%{y}<extra></extra>",
         "legendgroup": "HDE Controller Shell Case Cover Replacement Kit for Xbox 360 w/ Button Set, Torx Screwdriver, &amp; Crosshead Screwdriver (Blue)",
         "marker": {
          "color": "#00cc96",
          "symbol": "circle"
         },
         "mode": "markers",
         "name": "HDE Controller Shell Case Cover Replacement Kit for Xbox 360 w/ Button Set, Torx Screwdriver, &amp; Crosshead Screwdriver (Blue)",
         "orientation": "v",
         "showlegend": true,
         "type": "scatter",
         "x": [
          -1.7651432471097082
         ],
         "xaxis": "x",
         "y": [
          0.24083074003196325
         ],
         "yaxis": "y"
        },
        {
         "hovertemplate": "title=10ft PS4 Controller Charging Cable for Playstation 4 Dual Shock 4<br>pca1=%{x}<br>pca2=%{y}<extra></extra>",
         "legendgroup": "10ft PS4 Controller Charging Cable for Playstation 4 Dual Shock 4",
         "marker": {
          "color": "#ab63fa",
          "symbol": "circle"
         },
         "mode": "markers",
         "name": "10ft PS4 Controller Charging Cable for Playstation 4 Dual Shock 4",
         "orientation": "v",
         "showlegend": true,
         "type": "scatter",
         "x": [
          -1.305385422532371
         ],
         "xaxis": "x",
         "y": [
          2.369150932235016
         ],
         "yaxis": "y"
        },
        {
         "hovertemplate": "title=Skque&reg; Silicone Thumb Stick Grip Cap Cover for Sony PlayStation 4 Controller, Blue<br>pca1=%{x}<br>pca2=%{y}<extra></extra>",
         "legendgroup": "Skque&reg; Silicone Thumb Stick Grip Cap Cover for Sony PlayStation 4 Controller, Blue",
         "marker": {
          "color": "#FFA15A",
          "symbol": "circle"
         },
         "mode": "markers",
         "name": "Skque&reg; Silicone Thumb Stick Grip Cap Cover for Sony PlayStation 4 Controller, Blue",
         "orientation": "v",
         "showlegend": true,
         "type": "scatter",
         "x": [
          -0.38418281275237615
         ],
         "xaxis": "x",
         "y": [
          2.273663819451556
         ],
         "yaxis": "y"
        },
        {
         "hovertemplate": "title=Skque&reg; Silicone Thumb Stick Grip Cap Cover for Sony PlayStation 4 Controller, Red<br>pca1=%{x}<br>pca2=%{y}<extra></extra>",
         "legendgroup": "Skque&reg; Silicone Thumb Stick Grip Cap Cover for Sony PlayStation 4 Controller, Red",
         "marker": {
          "color": "#19d3f3",
          "symbol": "circle"
         },
         "mode": "markers",
         "name": "Skque&reg; Silicone Thumb Stick Grip Cap Cover for Sony PlayStation 4 Controller, Red",
         "orientation": "v",
         "showlegend": true,
         "type": "scatter",
         "x": [
          -0.38418281275237615
         ],
         "xaxis": "x",
         "y": [
          2.273663819451556
         ],
         "yaxis": "y"
        },
        {
         "hovertemplate": "title=Skque&reg; Silicone Thumb Stick Grip Cap Cover for Sony PlayStation 4 Controller, Black<br>pca1=%{x}<br>pca2=%{y}<extra></extra>",
         "legendgroup": "Skque&reg; Silicone Thumb Stick Grip Cap Cover for Sony PlayStation 4 Controller, Black",
         "marker": {
          "color": "#FF6692",
          "symbol": "circle"
         },
         "mode": "markers",
         "name": "Skque&reg; Silicone Thumb Stick Grip Cap Cover for Sony PlayStation 4 Controller, Black",
         "orientation": "v",
         "showlegend": true,
         "type": "scatter",
         "x": [
          -0.38418281275237615
         ],
         "xaxis": "x",
         "y": [
          2.273663819451556
         ],
         "yaxis": "y"
        },
        {
         "hovertemplate": "title=Skque&reg; Silicone Thumb Stick Grip Cap Cover for Sony PlayStation 4 Controller, Clear<br>pca1=%{x}<br>pca2=%{y}<extra></extra>",
         "legendgroup": "Skque&reg; Silicone Thumb Stick Grip Cap Cover for Sony PlayStation 4 Controller, Clear",
         "marker": {
          "color": "#B6E880",
          "symbol": "circle"
         },
         "mode": "markers",
         "name": "Skque&reg; Silicone Thumb Stick Grip Cap Cover for Sony PlayStation 4 Controller, Clear",
         "orientation": "v",
         "showlegend": true,
         "type": "scatter",
         "x": [
          -0.38418281275237615
         ],
         "xaxis": "x",
         "y": [
          2.273663819451556
         ],
         "yaxis": "y"
        },
        {
         "hovertemplate": "title=2 X Soft Silicone Gel Rubber Grip Controller Protecting Cover For Xbox One - Black<br>pca1=%{x}<br>pca2=%{y}<extra></extra>",
         "legendgroup": "2 X Soft Silicone Gel Rubber Grip Controller Protecting Cover For Xbox One - Black",
         "marker": {
          "color": "#FF97FF",
          "symbol": "circle"
         },
         "mode": "markers",
         "name": "2 X Soft Silicone Gel Rubber Grip Controller Protecting Cover For Xbox One - Black",
         "orientation": "v",
         "showlegend": true,
         "type": "scatter",
         "x": [
          -1.3807350768181303
         ],
         "xaxis": "x",
         "y": [
          1.6390924266205171
         ],
         "yaxis": "y"
        },
        {
         "hovertemplate": "title=2 X Soft Silicone Gel Rubber Grip Controller Protecting Cover For Xbox One - Red<br>pca1=%{x}<br>pca2=%{y}<extra></extra>",
         "legendgroup": "2 X Soft Silicone Gel Rubber Grip Controller Protecting Cover For Xbox One - Red",
         "marker": {
          "color": "#FECB52",
          "symbol": "circle"
         },
         "mode": "markers",
         "name": "2 X Soft Silicone Gel Rubber Grip Controller Protecting Cover For Xbox One - Red",
         "orientation": "v",
         "showlegend": true,
         "type": "scatter",
         "x": [
          -1.3839690775179618
         ],
         "xaxis": "x",
         "y": [
          1.6583859113969883
         ],
         "yaxis": "y"
        },
        {
         "hovertemplate": "title=Pack of 4 Color Combo Flexible Silicone Protective Case For Sony PS4 Game Controller - Black/Red/Blue/White<br>pca1=%{x}<br>pca2=%{y}<extra></extra>",
         "legendgroup": "Pack of 4 Color Combo Flexible Silicone Protective Case For Sony PS4 Game Controller - Black/Red/Blue/White",
         "marker": {
          "color": "#636efa",
          "symbol": "circle"
         },
         "mode": "markers",
         "name": "Pack of 4 Color Combo Flexible Silicone Protective Case For Sony PS4 Game Controller - Black/Red/Blue/White",
         "orientation": "v",
         "showlegend": true,
         "type": "scatter",
         "x": [
          -1.4235469052454637
         ],
         "xaxis": "x",
         "y": [
          1.4386431170391982
         ],
         "yaxis": "y"
        },
        {
         "hovertemplate": "title=Skque&reg; Soft Silicone Skin Case Cover for Nintendo 2DS, Black<br>pca1=%{x}<br>pca2=%{y}<extra></extra>",
         "legendgroup": "Skque&reg; Soft Silicone Skin Case Cover for Nintendo 2DS, Black",
         "marker": {
          "color": "#EF553B",
          "symbol": "circle"
         },
         "mode": "markers",
         "name": "Skque&reg; Soft Silicone Skin Case Cover for Nintendo 2DS, Black",
         "orientation": "v",
         "showlegend": true,
         "type": "scatter",
         "x": [
          0.3005483314546205
         ],
         "xaxis": "x",
         "y": [
          3.6269882686418216
         ],
         "yaxis": "y"
        },
        {
         "hovertemplate": "title=Skque&reg; Soft Silicone Skin Case Cover for Nintendo 2DS, Pink<br>pca1=%{x}<br>pca2=%{y}<extra></extra>",
         "legendgroup": "Skque&reg; Soft Silicone Skin Case Cover for Nintendo 2DS, Pink",
         "marker": {
          "color": "#00cc96",
          "symbol": "circle"
         },
         "mode": "markers",
         "name": "Skque&reg; Soft Silicone Skin Case Cover for Nintendo 2DS, Pink",
         "orientation": "v",
         "showlegend": true,
         "type": "scatter",
         "x": [
          0.3766210165453946
         ],
         "xaxis": "x",
         "y": [
          3.64817747256
         ],
         "yaxis": "y"
        }
       ],
       "layout": {
        "legend": {
         "title": {
          "text": "title"
         },
         "tracegroupgap": 0
        },
        "margin": {
         "t": 60
        },
        "template": {
         "data": {
          "bar": [
           {
            "error_x": {
             "color": "#2a3f5f"
            },
            "error_y": {
             "color": "#2a3f5f"
            },
            "marker": {
             "line": {
              "color": "#E5ECF6",
              "width": 0.5
             },
             "pattern": {
              "fillmode": "overlay",
              "size": 10,
              "solidity": 0.2
             }
            },
            "type": "bar"
           }
          ],
          "barpolar": [
           {
            "marker": {
             "line": {
              "color": "#E5ECF6",
              "width": 0.5
             },
             "pattern": {
              "fillmode": "overlay",
              "size": 10,
              "solidity": 0.2
             }
            },
            "type": "barpolar"
           }
          ],
          "carpet": [
           {
            "aaxis": {
             "endlinecolor": "#2a3f5f",
             "gridcolor": "white",
             "linecolor": "white",
             "minorgridcolor": "white",
             "startlinecolor": "#2a3f5f"
            },
            "baxis": {
             "endlinecolor": "#2a3f5f",
             "gridcolor": "white",
             "linecolor": "white",
             "minorgridcolor": "white",
             "startlinecolor": "#2a3f5f"
            },
            "type": "carpet"
           }
          ],
          "choropleth": [
           {
            "colorbar": {
             "outlinewidth": 0,
             "ticks": ""
            },
            "type": "choropleth"
           }
          ],
          "contour": [
           {
            "colorbar": {
             "outlinewidth": 0,
             "ticks": ""
            },
            "colorscale": [
             [
              0,
              "#0d0887"
             ],
             [
              0.1111111111111111,
              "#46039f"
             ],
             [
              0.2222222222222222,
              "#7201a8"
             ],
             [
              0.3333333333333333,
              "#9c179e"
             ],
             [
              0.4444444444444444,
              "#bd3786"
             ],
             [
              0.5555555555555556,
              "#d8576b"
             ],
             [
              0.6666666666666666,
              "#ed7953"
             ],
             [
              0.7777777777777778,
              "#fb9f3a"
             ],
             [
              0.8888888888888888,
              "#fdca26"
             ],
             [
              1,
              "#f0f921"
             ]
            ],
            "type": "contour"
           }
          ],
          "contourcarpet": [
           {
            "colorbar": {
             "outlinewidth": 0,
             "ticks": ""
            },
            "type": "contourcarpet"
           }
          ],
          "heatmap": [
           {
            "colorbar": {
             "outlinewidth": 0,
             "ticks": ""
            },
            "colorscale": [
             [
              0,
              "#0d0887"
             ],
             [
              0.1111111111111111,
              "#46039f"
             ],
             [
              0.2222222222222222,
              "#7201a8"
             ],
             [
              0.3333333333333333,
              "#9c179e"
             ],
             [
              0.4444444444444444,
              "#bd3786"
             ],
             [
              0.5555555555555556,
              "#d8576b"
             ],
             [
              0.6666666666666666,
              "#ed7953"
             ],
             [
              0.7777777777777778,
              "#fb9f3a"
             ],
             [
              0.8888888888888888,
              "#fdca26"
             ],
             [
              1,
              "#f0f921"
             ]
            ],
            "type": "heatmap"
           }
          ],
          "heatmapgl": [
           {
            "colorbar": {
             "outlinewidth": 0,
             "ticks": ""
            },
            "colorscale": [
             [
              0,
              "#0d0887"
             ],
             [
              0.1111111111111111,
              "#46039f"
             ],
             [
              0.2222222222222222,
              "#7201a8"
             ],
             [
              0.3333333333333333,
              "#9c179e"
             ],
             [
              0.4444444444444444,
              "#bd3786"
             ],
             [
              0.5555555555555556,
              "#d8576b"
             ],
             [
              0.6666666666666666,
              "#ed7953"
             ],
             [
              0.7777777777777778,
              "#fb9f3a"
             ],
             [
              0.8888888888888888,
              "#fdca26"
             ],
             [
              1,
              "#f0f921"
             ]
            ],
            "type": "heatmapgl"
           }
          ],
          "histogram": [
           {
            "marker": {
             "pattern": {
              "fillmode": "overlay",
              "size": 10,
              "solidity": 0.2
             }
            },
            "type": "histogram"
           }
          ],
          "histogram2d": [
           {
            "colorbar": {
             "outlinewidth": 0,
             "ticks": ""
            },
            "colorscale": [
             [
              0,
              "#0d0887"
             ],
             [
              0.1111111111111111,
              "#46039f"
             ],
             [
              0.2222222222222222,
              "#7201a8"
             ],
             [
              0.3333333333333333,
              "#9c179e"
             ],
             [
              0.4444444444444444,
              "#bd3786"
             ],
             [
              0.5555555555555556,
              "#d8576b"
             ],
             [
              0.6666666666666666,
              "#ed7953"
             ],
             [
              0.7777777777777778,
              "#fb9f3a"
             ],
             [
              0.8888888888888888,
              "#fdca26"
             ],
             [
              1,
              "#f0f921"
             ]
            ],
            "type": "histogram2d"
           }
          ],
          "histogram2dcontour": [
           {
            "colorbar": {
             "outlinewidth": 0,
             "ticks": ""
            },
            "colorscale": [
             [
              0,
              "#0d0887"
             ],
             [
              0.1111111111111111,
              "#46039f"
             ],
             [
              0.2222222222222222,
              "#7201a8"
             ],
             [
              0.3333333333333333,
              "#9c179e"
             ],
             [
              0.4444444444444444,
              "#bd3786"
             ],
             [
              0.5555555555555556,
              "#d8576b"
             ],
             [
              0.6666666666666666,
              "#ed7953"
             ],
             [
              0.7777777777777778,
              "#fb9f3a"
             ],
             [
              0.8888888888888888,
              "#fdca26"
             ],
             [
              1,
              "#f0f921"
             ]
            ],
            "type": "histogram2dcontour"
           }
          ],
          "mesh3d": [
           {
            "colorbar": {
             "outlinewidth": 0,
             "ticks": ""
            },
            "type": "mesh3d"
           }
          ],
          "parcoords": [
           {
            "line": {
             "colorbar": {
              "outlinewidth": 0,
              "ticks": ""
             }
            },
            "type": "parcoords"
           }
          ],
          "pie": [
           {
            "automargin": true,
            "type": "pie"
           }
          ],
          "scatter": [
           {
            "fillpattern": {
             "fillmode": "overlay",
             "size": 10,
             "solidity": 0.2
            },
            "type": "scatter"
           }
          ],
          "scatter3d": [
           {
            "line": {
             "colorbar": {
              "outlinewidth": 0,
              "ticks": ""
             }
            },
            "marker": {
             "colorbar": {
              "outlinewidth": 0,
              "ticks": ""
             }
            },
            "type": "scatter3d"
           }
          ],
          "scattercarpet": [
           {
            "marker": {
             "colorbar": {
              "outlinewidth": 0,
              "ticks": ""
             }
            },
            "type": "scattercarpet"
           }
          ],
          "scattergeo": [
           {
            "marker": {
             "colorbar": {
              "outlinewidth": 0,
              "ticks": ""
             }
            },
            "type": "scattergeo"
           }
          ],
          "scattergl": [
           {
            "marker": {
             "colorbar": {
              "outlinewidth": 0,
              "ticks": ""
             }
            },
            "type": "scattergl"
           }
          ],
          "scattermapbox": [
           {
            "marker": {
             "colorbar": {
              "outlinewidth": 0,
              "ticks": ""
             }
            },
            "type": "scattermapbox"
           }
          ],
          "scatterpolar": [
           {
            "marker": {
             "colorbar": {
              "outlinewidth": 0,
              "ticks": ""
             }
            },
            "type": "scatterpolar"
           }
          ],
          "scatterpolargl": [
           {
            "marker": {
             "colorbar": {
              "outlinewidth": 0,
              "ticks": ""
             }
            },
            "type": "scatterpolargl"
           }
          ],
          "scatterternary": [
           {
            "marker": {
             "colorbar": {
              "outlinewidth": 0,
              "ticks": ""
             }
            },
            "type": "scatterternary"
           }
          ],
          "surface": [
           {
            "colorbar": {
             "outlinewidth": 0,
             "ticks": ""
            },
            "colorscale": [
             [
              0,
              "#0d0887"
             ],
             [
              0.1111111111111111,
              "#46039f"
             ],
             [
              0.2222222222222222,
              "#7201a8"
             ],
             [
              0.3333333333333333,
              "#9c179e"
             ],
             [
              0.4444444444444444,
              "#bd3786"
             ],
             [
              0.5555555555555556,
              "#d8576b"
             ],
             [
              0.6666666666666666,
              "#ed7953"
             ],
             [
              0.7777777777777778,
              "#fb9f3a"
             ],
             [
              0.8888888888888888,
              "#fdca26"
             ],
             [
              1,
              "#f0f921"
             ]
            ],
            "type": "surface"
           }
          ],
          "table": [
           {
            "cells": {
             "fill": {
              "color": "#EBF0F8"
             },
             "line": {
              "color": "white"
             }
            },
            "header": {
             "fill": {
              "color": "#C8D4E3"
             },
             "line": {
              "color": "white"
             }
            },
            "type": "table"
           }
          ]
         },
         "layout": {
          "annotationdefaults": {
           "arrowcolor": "#2a3f5f",
           "arrowhead": 0,
           "arrowwidth": 1
          },
          "autotypenumbers": "strict",
          "coloraxis": {
           "colorbar": {
            "outlinewidth": 0,
            "ticks": ""
           }
          },
          "colorscale": {
           "diverging": [
            [
             0,
             "#8e0152"
            ],
            [
             0.1,
             "#c51b7d"
            ],
            [
             0.2,
             "#de77ae"
            ],
            [
             0.3,
             "#f1b6da"
            ],
            [
             0.4,
             "#fde0ef"
            ],
            [
             0.5,
             "#f7f7f7"
            ],
            [
             0.6,
             "#e6f5d0"
            ],
            [
             0.7,
             "#b8e186"
            ],
            [
             0.8,
             "#7fbc41"
            ],
            [
             0.9,
             "#4d9221"
            ],
            [
             1,
             "#276419"
            ]
           ],
           "sequential": [
            [
             0,
             "#0d0887"
            ],
            [
             0.1111111111111111,
             "#46039f"
            ],
            [
             0.2222222222222222,
             "#7201a8"
            ],
            [
             0.3333333333333333,
             "#9c179e"
            ],
            [
             0.4444444444444444,
             "#bd3786"
            ],
            [
             0.5555555555555556,
             "#d8576b"
            ],
            [
             0.6666666666666666,
             "#ed7953"
            ],
            [
             0.7777777777777778,
             "#fb9f3a"
            ],
            [
             0.8888888888888888,
             "#fdca26"
            ],
            [
             1,
             "#f0f921"
            ]
           ],
           "sequentialminus": [
            [
             0,
             "#0d0887"
            ],
            [
             0.1111111111111111,
             "#46039f"
            ],
            [
             0.2222222222222222,
             "#7201a8"
            ],
            [
             0.3333333333333333,
             "#9c179e"
            ],
            [
             0.4444444444444444,
             "#bd3786"
            ],
            [
             0.5555555555555556,
             "#d8576b"
            ],
            [
             0.6666666666666666,
             "#ed7953"
            ],
            [
             0.7777777777777778,
             "#fb9f3a"
            ],
            [
             0.8888888888888888,
             "#fdca26"
            ],
            [
             1,
             "#f0f921"
            ]
           ]
          },
          "colorway": [
           "#636efa",
           "#EF553B",
           "#00cc96",
           "#ab63fa",
           "#FFA15A",
           "#19d3f3",
           "#FF6692",
           "#B6E880",
           "#FF97FF",
           "#FECB52"
          ],
          "font": {
           "color": "#2a3f5f"
          },
          "geo": {
           "bgcolor": "white",
           "lakecolor": "white",
           "landcolor": "#E5ECF6",
           "showlakes": true,
           "showland": true,
           "subunitcolor": "white"
          },
          "hoverlabel": {
           "align": "left"
          },
          "hovermode": "closest",
          "mapbox": {
           "style": "light"
          },
          "paper_bgcolor": "white",
          "plot_bgcolor": "#E5ECF6",
          "polar": {
           "angularaxis": {
            "gridcolor": "white",
            "linecolor": "white",
            "ticks": ""
           },
           "bgcolor": "#E5ECF6",
           "radialaxis": {
            "gridcolor": "white",
            "linecolor": "white",
            "ticks": ""
           }
          },
          "scene": {
           "xaxis": {
            "backgroundcolor": "#E5ECF6",
            "gridcolor": "white",
            "gridwidth": 2,
            "linecolor": "white",
            "showbackground": true,
            "ticks": "",
            "zerolinecolor": "white"
           },
           "yaxis": {
            "backgroundcolor": "#E5ECF6",
            "gridcolor": "white",
            "gridwidth": 2,
            "linecolor": "white",
            "showbackground": true,
            "ticks": "",
            "zerolinecolor": "white"
           },
           "zaxis": {
            "backgroundcolor": "#E5ECF6",
            "gridcolor": "white",
            "gridwidth": 2,
            "linecolor": "white",
            "showbackground": true,
            "ticks": "",
            "zerolinecolor": "white"
           }
          },
          "shapedefaults": {
           "line": {
            "color": "#2a3f5f"
           }
          },
          "ternary": {
           "aaxis": {
            "gridcolor": "white",
            "linecolor": "white",
            "ticks": ""
           },
           "baxis": {
            "gridcolor": "white",
            "linecolor": "white",
            "ticks": ""
           },
           "bgcolor": "#E5ECF6",
           "caxis": {
            "gridcolor": "white",
            "linecolor": "white",
            "ticks": ""
           }
          },
          "title": {
           "x": 0.05
          },
          "xaxis": {
           "automargin": true,
           "gridcolor": "white",
           "linecolor": "white",
           "ticks": "",
           "title": {
            "standoff": 15
           },
           "zerolinecolor": "white",
           "zerolinewidth": 2
          },
          "yaxis": {
           "automargin": true,
           "gridcolor": "white",
           "linecolor": "white",
           "ticks": "",
           "title": {
            "standoff": 15
           },
           "zerolinecolor": "white",
           "zerolinewidth": 2
          }
         }
        },
        "xaxis": {
         "anchor": "y",
         "domain": [
          0,
          1
         ],
         "title": {
          "text": "pca1"
         }
        },
        "yaxis": {
         "anchor": "x",
         "domain": [
          0,
          1
         ],
         "title": {
          "text": "pca2"
         }
        }
       }
      }
     },
     "metadata": {},
     "output_type": "display_data"
    }
   ],
   "source": [
    "from sklearn.decomposition import PCA\n",
    "import plotly.express as px\n",
    "\n",
    "pca = PCA(n_components=2)\n",
    "result = pca.fit_transform(array_data)\n",
    "result = pd.DataFrame(result,columns=['pca1','pca2'])\n",
    "result = pd.concat([result,products.asin],axis=1).merge(metadata[['title','asin','price','description']],how='left',on='asin').dropna()\n",
    "\n",
    "fig = px.scatter(result , x=\"pca1\", y=\"pca2\",color=\"title\")\n",
    "plotly.offline.iplot(fig) "
   ]
  },
  {
   "cell_type": "code",
   "execution_count": 15,
   "metadata": {},
   "outputs": [
    {
     "data": {
      "application/vnd.plotly.v1+json": {
       "config": {
        "linkText": "Export to plot.ly",
        "plotlyServerURL": "https://plot.ly",
        "showLink": false
       },
       "data": [
        {
         "hovertemplate": "title=64MB 1019 Block Memory Card compatible for Wii &amp; Gamecube<br>pca1=%{x}<br>pca2=%{y}<br>pca3=%{z}<extra></extra>",
         "legendgroup": "64MB 1019 Block Memory Card compatible for Wii &amp; Gamecube",
         "marker": {
          "color": "#636efa",
          "symbol": "circle"
         },
         "mode": "markers",
         "name": "64MB 1019 Block Memory Card compatible for Wii &amp; Gamecube",
         "scene": "scene",
         "showlegend": true,
         "type": "scatter3d",
         "x": [
          0.1330874588716508
         ],
         "y": [
          3.68678864136057
         ],
         "z": [
          1.9838952975643105
         ]
        },
        {
         "hovertemplate": "title=2 Pack - Gator Crunch Wii Gamecube 6FT Extension Cable / Cord (Lifetime Warranty, Bulk packaging)<br>pca1=%{x}<br>pca2=%{y}<br>pca3=%{z}<extra></extra>",
         "legendgroup": "2 Pack - Gator Crunch Wii Gamecube 6FT Extension Cable / Cord (Lifetime Warranty, Bulk packaging)",
         "marker": {
          "color": "#EF553B",
          "symbol": "circle"
         },
         "mode": "markers",
         "name": "2 Pack - Gator Crunch Wii Gamecube 6FT Extension Cable / Cord (Lifetime Warranty, Bulk packaging)",
         "scene": "scene",
         "showlegend": true,
         "type": "scatter3d",
         "x": [
          -0.18679857660329297
         ],
         "y": [
          2.8959099552984684
         ],
         "z": [
          1.5752585941926938
         ]
        },
        {
         "hovertemplate": "title=Super Nintendo Entertainment System SNES Generic Super Nintendo Classic Controller<br>pca1=%{x}<br>pca2=%{y}<br>pca3=%{z}<extra></extra>",
         "legendgroup": "Super Nintendo Entertainment System SNES Generic Super Nintendo Classic Controller",
         "marker": {
          "color": "#00cc96",
          "symbol": "circle"
         },
         "mode": "markers",
         "name": "Super Nintendo Entertainment System SNES Generic Super Nintendo Classic Controller",
         "scene": "scene",
         "showlegend": true,
         "type": "scatter3d",
         "x": [
          1.2679518250464026
         ],
         "y": [
          4.327329234584275
         ],
         "z": [
          0.0857716054814521
         ]
        },
        {
         "hovertemplate": "title=Data &amp; Power USB Cable for Sony PSP<br>pca1=%{x}<br>pca2=%{y}<br>pca3=%{z}<extra></extra>",
         "legendgroup": "Data &amp; Power USB Cable for Sony PSP",
         "marker": {
          "color": "#ab63fa",
          "symbol": "circle"
         },
         "mode": "markers",
         "name": "Data &amp; Power USB Cable for Sony PSP",
         "scene": "scene",
         "showlegend": true,
         "type": "scatter3d",
         "x": [
          1.128613203255721
         ],
         "y": [
          3.9577426590447633
         ],
         "z": [
          2.16432576592249
         ]
        },
        {
         "hovertemplate": "title=Generic Xbox 360 Controller Battery Cover, White<br>pca1=%{x}<br>pca2=%{y}<br>pca3=%{z}<extra></extra>",
         "legendgroup": "Generic Xbox 360 Controller Battery Cover, White",
         "marker": {
          "color": "#FFA15A",
          "symbol": "circle"
         },
         "mode": "markers",
         "name": "Generic Xbox 360 Controller Battery Cover, White",
         "scene": "scene",
         "showlegend": true,
         "type": "scatter3d",
         "x": [
          4.1541272085584575
         ],
         "y": [
          2.5129492087970964
         ],
         "z": [
          -0.6552118484051158
         ]
        },
        {
         "hovertemplate": "title=Generic Headset with Microphone - Xbox 360<br>pca1=%{x}<br>pca2=%{y}<br>pca3=%{z}<extra></extra>",
         "legendgroup": "Generic Headset with Microphone - Xbox 360",
         "marker": {
          "color": "#19d3f3",
          "symbol": "circle"
         },
         "mode": "markers",
         "name": "Generic Headset with Microphone - Xbox 360",
         "scene": "scene",
         "showlegend": true,
         "type": "scatter3d",
         "x": [
          1.1343135832625233
         ],
         "y": [
          2.172298428212628
         ],
         "z": [
          -0.4580144564927744
         ]
        },
        {
         "hovertemplate": "title=Mario Kart Racing Wheel for Wii (2pcs Bundle) (Bulk Packaging), Color May Vary<br>pca1=%{x}<br>pca2=%{y}<br>pca3=%{z}<extra></extra>",
         "legendgroup": "Mario Kart Racing Wheel for Wii (2pcs Bundle) (Bulk Packaging), Color May Vary",
         "marker": {
          "color": "#FF6692",
          "symbol": "circle"
         },
         "mode": "markers",
         "name": "Mario Kart Racing Wheel for Wii (2pcs Bundle) (Bulk Packaging), Color May Vary",
         "scene": "scene",
         "showlegend": true,
         "type": "scatter3d",
         "x": [
          0.3456046811004536
         ],
         "y": [
          3.175234147593981
         ],
         "z": [
          0.15825527855635194
         ]
        },
        {
         "hovertemplate": "title=Remote Controller and Nunchuk Nunchuck Combo Bundle Set<br>pca1=%{x}<br>pca2=%{y}<br>pca3=%{z}<extra></extra>",
         "legendgroup": "Remote Controller and Nunchuk Nunchuck Combo Bundle Set",
         "marker": {
          "color": "#B6E880",
          "symbol": "circle"
         },
         "mode": "markers",
         "name": "Remote Controller and Nunchuk Nunchuck Combo Bundle Set",
         "scene": "scene",
         "showlegend": true,
         "type": "scatter3d",
         "x": [
          0.9496967446521702
         ],
         "y": [
          4.028269660211978
         ],
         "z": [
          1.1256619468629132
         ]
        },
        {
         "hovertemplate": "title=Nintendo Wii Wheel - PINK<br>pca1=%{x}<br>pca2=%{y}<br>pca3=%{z}<extra></extra>",
         "legendgroup": "Nintendo Wii Wheel - PINK",
         "marker": {
          "color": "#FF97FF",
          "symbol": "circle"
         },
         "mode": "markers",
         "name": "Nintendo Wii Wheel - PINK",
         "scene": "scene",
         "showlegend": true,
         "type": "scatter3d",
         "x": [
          1.5476226879991355
         ],
         "y": [
          3.2883943603329877
         ],
         "z": [
          0.9991142230968811
         ]
        },
        {
         "hovertemplate": "title=Xbox 360 HD VGA Audio/Video Cable 6ft<br>pca1=%{x}<br>pca2=%{y}<br>pca3=%{z}<extra></extra>",
         "legendgroup": "Xbox 360 HD VGA Audio/Video Cable 6ft",
         "marker": {
          "color": "#FECB52",
          "symbol": "circle"
         },
         "mode": "markers",
         "name": "Xbox 360 HD VGA Audio/Video Cable 6ft",
         "scene": "scene",
         "showlegend": true,
         "type": "scatter3d",
         "x": [
          1.0857708326010203
         ],
         "y": [
          3.8174438440537153
         ],
         "z": [
          1.736048493604324
         ]
        },
        {
         "hovertemplate": "title=Sega Genesis 1 Standard AV Cable (Bulk Packaging)<br>pca1=%{x}<br>pca2=%{y}<br>pca3=%{z}<extra></extra>",
         "legendgroup": "Sega Genesis 1 Standard AV Cable (Bulk Packaging)",
         "marker": {
          "color": "#636efa",
          "symbol": "circle"
         },
         "mode": "markers",
         "name": "Sega Genesis 1 Standard AV Cable (Bulk Packaging)",
         "scene": "scene",
         "showlegend": true,
         "type": "scatter3d",
         "x": [
          -0.6130764612912516
         ],
         "y": [
          1.9477235148931658
         ],
         "z": [
          1.6986529978679064
         ]
        },
        {
         "hovertemplate": "title=Sega Genesis 2 &amp; 3 Standard AV Cable (Bulk Packaging)<br>pca1=%{x}<br>pca2=%{y}<br>pca3=%{z}<extra></extra>",
         "legendgroup": "Sega Genesis 2 &amp; 3 Standard AV Cable (Bulk Packaging)",
         "marker": {
          "color": "#EF553B",
          "symbol": "circle"
         },
         "mode": "markers",
         "name": "Sega Genesis 2 &amp; 3 Standard AV Cable (Bulk Packaging)",
         "scene": "scene",
         "showlegend": true,
         "type": "scatter3d",
         "x": [
          -0.6130764612912516
         ],
         "y": [
          1.9477235148931658
         ],
         "z": [
          1.6986529978679064
         ]
        },
        {
         "hovertemplate": "title=Wii Nunchuk / Nunchuck Controller<br>pca1=%{x}<br>pca2=%{y}<br>pca3=%{z}<extra></extra>",
         "legendgroup": "Wii Nunchuk / Nunchuck Controller",
         "marker": {
          "color": "#00cc96",
          "symbol": "circle"
         },
         "mode": "markers",
         "name": "Wii Nunchuk / Nunchuck Controller",
         "scene": "scene",
         "showlegend": true,
         "type": "scatter3d",
         "x": [
          -1.5998895357009832
         ],
         "y": [
          1.159929327708999
         ],
         "z": [
          1.638138353241156
         ]
        },
        {
         "hovertemplate": "title=Nintendo DSi XL - Midnight Blue<br>pca1=%{x}<br>pca2=%{y}<br>pca3=%{z}<extra></extra>",
         "legendgroup": "Nintendo DSi XL - Midnight Blue",
         "marker": {
          "color": "#ab63fa",
          "symbol": "circle"
         },
         "mode": "markers",
         "name": "Nintendo DSi XL - Midnight Blue",
         "scene": "scene",
         "showlegend": true,
         "type": "scatter3d",
         "x": [
          10.357423685660311
         ],
         "y": [
          -0.928860079881825
         ],
         "z": [
          0.14192878242921128
         ]
        },
        {
         "hovertemplate": "title=Assassin's Creed III Liberation PlayStation Vita Wi-Fi Bundle<br>pca1=%{x}<br>pca2=%{y}<br>pca3=%{z}<extra></extra>",
         "legendgroup": "Assassin's Creed III Liberation PlayStation Vita Wi-Fi Bundle",
         "marker": {
          "color": "#FFA15A",
          "symbol": "circle"
         },
         "mode": "markers",
         "name": "Assassin's Creed III Liberation PlayStation Vita Wi-Fi Bundle",
         "scene": "scene",
         "showlegend": true,
         "type": "scatter3d",
         "x": [
          10.357423685660311
         ],
         "y": [
          -0.928860079881825
         ],
         "z": [
          0.14192878242921128
         ]
        },
        {
         "hovertemplate": "title=Wii Motion Plus - Black (Bulk Packaging)<br>pca1=%{x}<br>pca2=%{y}<br>pca3=%{z}<extra></extra>",
         "legendgroup": "Wii Motion Plus - Black (Bulk Packaging)",
         "marker": {
          "color": "#19d3f3",
          "symbol": "circle"
         },
         "mode": "markers",
         "name": "Wii Motion Plus - Black (Bulk Packaging)",
         "scene": "scene",
         "showlegend": true,
         "type": "scatter3d",
         "x": [
          -1.6449906150774427
         ],
         "y": [
          1.0082132340597212
         ],
         "z": [
          1.9815761422746963
         ]
        },
        {
         "hovertemplate": "title=Wii Wireless Remote Control (Non OEM) + Case(Without Retail Package)<br>pca1=%{x}<br>pca2=%{y}<br>pca3=%{z}<extra></extra>",
         "legendgroup": "Wii Wireless Remote Control (Non OEM) + Case(Without Retail Package)",
         "marker": {
          "color": "#FF6692",
          "symbol": "circle"
         },
         "mode": "markers",
         "name": "Wii Wireless Remote Control (Non OEM) + Case(Without Retail Package)",
         "scene": "scene",
         "showlegend": true,
         "type": "scatter3d",
         "x": [
          -0.4206988774272797
         ],
         "y": [
          3.613879084528178
         ],
         "z": [
          2.0217151301340244
         ]
        },
        {
         "hovertemplate": "title=Nintendo DSi XL - 20 In 1 Special Edition Silver Starter Kit<br>pca1=%{x}<br>pca2=%{y}<br>pca3=%{z}<extra></extra>",
         "legendgroup": "Nintendo DSi XL - 20 In 1 Special Edition Silver Starter Kit",
         "marker": {
          "color": "#B6E880",
          "symbol": "circle"
         },
         "mode": "markers",
         "name": "Nintendo DSi XL - 20 In 1 Special Edition Silver Starter Kit",
         "scene": "scene",
         "showlegend": true,
         "type": "scatter3d",
         "x": [
          10.357423685660311
         ],
         "y": [
          -0.928860079881825
         ],
         "z": [
          0.14192878242921128
         ]
        },
        {
         "hovertemplate": "title=Nintendo DSi XL 20 in 1 Starter Kit - Gold<br>pca1=%{x}<br>pca2=%{y}<br>pca3=%{z}<extra></extra>",
         "legendgroup": "Nintendo DSi XL 20 in 1 Starter Kit - Gold",
         "marker": {
          "color": "#FF97FF",
          "symbol": "circle"
         },
         "mode": "markers",
         "name": "Nintendo DSi XL 20 in 1 Starter Kit - Gold",
         "scene": "scene",
         "showlegend": true,
         "type": "scatter3d",
         "x": [
          10.357423685660311
         ],
         "y": [
          -0.928860079881825
         ],
         "z": [
          0.14192878242921128
         ]
        },
        {
         "hovertemplate": "title=Nintendo 3DS Pull and Go Folio - Blue<br>pca1=%{x}<br>pca2=%{y}<br>pca3=%{z}<extra></extra>",
         "legendgroup": "Nintendo 3DS Pull and Go Folio - Blue",
         "marker": {
          "color": "#FECB52",
          "symbol": "circle"
         },
         "mode": "markers",
         "name": "Nintendo 3DS Pull and Go Folio - Blue",
         "scene": "scene",
         "showlegend": true,
         "type": "scatter3d",
         "x": [
          -1.140151133161533
         ],
         "y": [
          2.7098975333903477
         ],
         "z": [
          1.6641118118105547
         ]
        },
        {
         "hovertemplate": "title=DS Universal Pull and Go Folio - Pink<br>pca1=%{x}<br>pca2=%{y}<br>pca3=%{z}<extra></extra>",
         "legendgroup": "DS Universal Pull and Go Folio - Pink",
         "marker": {
          "color": "#636efa",
          "symbol": "circle"
         },
         "mode": "markers",
         "name": "DS Universal Pull and Go Folio - Pink",
         "scene": "scene",
         "showlegend": true,
         "type": "scatter3d",
         "x": [
          -1.2026920638622955
         ],
         "y": [
          2.763491703146829
         ],
         "z": [
          1.7901965395033286
         ]
        },
        {
         "hovertemplate": "title=250GB HDD Hard Disk Drive for Microsoft Xbox 360 Slim (Generic)<br>pca1=%{x}<br>pca2=%{y}<br>pca3=%{z}<extra></extra>",
         "legendgroup": "250GB HDD Hard Disk Drive for Microsoft Xbox 360 Slim (Generic)",
         "marker": {
          "color": "#EF553B",
          "symbol": "circle"
         },
         "mode": "markers",
         "name": "250GB HDD Hard Disk Drive for Microsoft Xbox 360 Slim (Generic)",
         "scene": "scene",
         "showlegend": true,
         "type": "scatter3d",
         "x": [
          -1.4795829396096547
         ],
         "y": [
          0.303846610212457
         ],
         "z": [
          1.2046191339120684
         ]
        },
        {
         "hovertemplate": "title=Chimaera Wireless Gaming Headset<br>pca1=%{x}<br>pca2=%{y}<br>pca3=%{z}<extra></extra>",
         "legendgroup": "Chimaera Wireless Gaming Headset",
         "marker": {
          "color": "#00cc96",
          "symbol": "circle"
         },
         "mode": "markers",
         "name": "Chimaera Wireless Gaming Headset",
         "scene": "scene",
         "showlegend": true,
         "type": "scatter3d",
         "x": [
          -1.5955898303248337
         ],
         "y": [
          0.008095571218425017
         ],
         "z": [
          1.0973920114170643
         ]
        },
        {
         "hovertemplate": "title=White Motion Plus Adapter + Silicone Sleeve for Nintendo Wii<br>pca1=%{x}<br>pca2=%{y}<br>pca3=%{z}<extra></extra>",
         "legendgroup": "White Motion Plus Adapter + Silicone Sleeve for Nintendo Wii",
         "marker": {
          "color": "#ab63fa",
          "symbol": "circle"
         },
         "mode": "markers",
         "name": "White Motion Plus Adapter + Silicone Sleeve for Nintendo Wii",
         "scene": "scene",
         "showlegend": true,
         "type": "scatter3d",
         "x": [
          -1.5474133970881472
         ],
         "y": [
          0.33276926431391357
         ],
         "z": [
          1.7457796060872597
         ]
        },
        {
         "hovertemplate": "title=Gold Chrome XBOX 360 Controller Shell Kit<br>pca1=%{x}<br>pca2=%{y}<br>pca3=%{z}<extra></extra>",
         "legendgroup": "Gold Chrome XBOX 360 Controller Shell Kit",
         "marker": {
          "color": "#FFA15A",
          "symbol": "circle"
         },
         "mode": "markers",
         "name": "Gold Chrome XBOX 360 Controller Shell Kit",
         "scene": "scene",
         "showlegend": true,
         "type": "scatter3d",
         "x": [
          -1.4227510084267228
         ],
         "y": [
          1.9886351898709063
         ],
         "z": [
          1.3480245893623959
         ]
        },
        {
         "hovertemplate": "title=320GB HDD Compatible with Xbox 360 Slim<br>pca1=%{x}<br>pca2=%{y}<br>pca3=%{z}<extra></extra>",
         "legendgroup": "320GB HDD Compatible with Xbox 360 Slim",
         "marker": {
          "color": "#19d3f3",
          "symbol": "circle"
         },
         "mode": "markers",
         "name": "320GB HDD Compatible with Xbox 360 Slim",
         "scene": "scene",
         "showlegend": true,
         "type": "scatter3d",
         "x": [
          -1.4365926992139386
         ],
         "y": [
          1.0951305786543497
         ],
         "z": [
          1.582724151399915
         ]
        },
        {
         "hovertemplate": "title=PDP Afterglow AX.4 Communicator for Xbox360 - Green<br>pca1=%{x}<br>pca2=%{y}<br>pca3=%{z}<extra></extra>",
         "legendgroup": "PDP Afterglow AX.4 Communicator for Xbox360 - Green",
         "marker": {
          "color": "#FF6692",
          "symbol": "circle"
         },
         "mode": "markers",
         "name": "PDP Afterglow AX.4 Communicator for Xbox360 - Green",
         "scene": "scene",
         "showlegend": true,
         "type": "scatter3d",
         "x": [
          0.801550985802093
         ],
         "y": [
          1.1226361192521868
         ],
         "z": [
          -0.11136465095308125
         ]
        },
        {
         "hovertemplate": "title=PDP Afterglow AX.4 Communicator for Xbox 360 - Blue<br>pca1=%{x}<br>pca2=%{y}<br>pca3=%{z}<extra></extra>",
         "legendgroup": "PDP Afterglow AX.4 Communicator for Xbox 360 - Blue",
         "marker": {
          "color": "#B6E880",
          "symbol": "circle"
         },
         "mode": "markers",
         "name": "PDP Afterglow AX.4 Communicator for Xbox 360 - Blue",
         "scene": "scene",
         "showlegend": true,
         "type": "scatter3d",
         "x": [
          0.8887757140360694
         ],
         "y": [
          0.9253110246609383
         ],
         "z": [
          -0.09115057276592697
         ]
        },
        {
         "hovertemplate": "title=Black 250GB 250 GB Hard Drive Disk HDD for Xbox 360 SLIM<br>pca1=%{x}<br>pca2=%{y}<br>pca3=%{z}<extra></extra>",
         "legendgroup": "Black 250GB 250 GB Hard Drive Disk HDD for Xbox 360 SLIM",
         "marker": {
          "color": "#FF97FF",
          "symbol": "circle"
         },
         "mode": "markers",
         "name": "Black 250GB 250 GB Hard Drive Disk HDD for Xbox 360 SLIM",
         "scene": "scene",
         "showlegend": true,
         "type": "scatter3d",
         "x": [
          -1.2789312632496976
         ],
         "y": [
          1.802315714689619
         ],
         "z": [
          1.3913914873990247
         ]
        },
        {
         "hovertemplate": "title=250G HDD Hard Disk Drive For Microsoft Xbox 360 Slim<br>pca1=%{x}<br>pca2=%{y}<br>pca3=%{z}<extra></extra>",
         "legendgroup": "250G HDD Hard Disk Drive For Microsoft Xbox 360 Slim",
         "marker": {
          "color": "#FECB52",
          "symbol": "circle"
         },
         "mode": "markers",
         "name": "250G HDD Hard Disk Drive For Microsoft Xbox 360 Slim",
         "scene": "scene",
         "showlegend": true,
         "type": "scatter3d",
         "x": [
          -0.8414820973426342
         ],
         "y": [
          2.7113415281956024
         ],
         "z": [
          1.2779631771038602
         ]
        },
        {
         "hovertemplate": "title=Wireless Pc Usb Gaming Receiver for Xbox 360/xbox360<br>pca1=%{x}<br>pca2=%{y}<br>pca3=%{z}<extra></extra>",
         "legendgroup": "Wireless Pc Usb Gaming Receiver for Xbox 360/xbox360",
         "marker": {
          "color": "#636efa",
          "symbol": "circle"
         },
         "mode": "markers",
         "name": "Wireless Pc Usb Gaming Receiver for Xbox 360/xbox360",
         "scene": "scene",
         "showlegend": true,
         "type": "scatter3d",
         "x": [
          -1.6202537759985995
         ],
         "y": [
          1.3545946844857828
         ],
         "z": [
          2.2204982149425767
         ]
        },
        {
         "hovertemplate": "title=320GB HDD Hard Drive for Xbox 360 Slim - Generic Version<br>pca1=%{x}<br>pca2=%{y}<br>pca3=%{z}<extra></extra>",
         "legendgroup": "320GB HDD Hard Drive for Xbox 360 Slim - Generic Version",
         "marker": {
          "color": "#EF553B",
          "symbol": "circle"
         },
         "mode": "markers",
         "name": "320GB HDD Hard Drive for Xbox 360 Slim - Generic Version",
         "scene": "scene",
         "showlegend": true,
         "type": "scatter3d",
         "x": [
          -1.3776731556358723
         ],
         "y": [
          0.544209761621449
         ],
         "z": [
          1.00448535204301
         ]
        },
        {
         "hovertemplate": "title=HDE&reg; White Replacement Kit Xbox 360 Controller Shell + Button Parts<br>pca1=%{x}<br>pca2=%{y}<br>pca3=%{z}<extra></extra>",
         "legendgroup": "HDE&reg; White Replacement Kit Xbox 360 Controller Shell + Button Parts",
         "marker": {
          "color": "#00cc96",
          "symbol": "circle"
         },
         "mode": "markers",
         "name": "HDE&reg; White Replacement Kit Xbox 360 Controller Shell + Button Parts",
         "scene": "scene",
         "showlegend": true,
         "type": "scatter3d",
         "x": [
          -1.7220926175387004
         ],
         "y": [
          0.3859736332775124
         ],
         "z": [
          -0.14245746219996602
         ]
        },
        {
         "hovertemplate": "title=HDE &reg; Black Replacement Xbox 360 Controller Shell + Buttons<br>pca1=%{x}<br>pca2=%{y}<br>pca3=%{z}<extra></extra>",
         "legendgroup": "HDE &reg; Black Replacement Xbox 360 Controller Shell + Buttons",
         "marker": {
          "color": "#ab63fa",
          "symbol": "circle"
         },
         "mode": "markers",
         "name": "HDE &reg; Black Replacement Xbox 360 Controller Shell + Buttons",
         "scene": "scene",
         "showlegend": true,
         "type": "scatter3d",
         "x": [
          -1.7220926175387004
         ],
         "y": [
          0.3859736332775124
         ],
         "z": [
          -0.14245746219996602
         ]
        },
        {
         "hovertemplate": "title=MOGA Mobile Gaming System for Android 2.3+<br>pca1=%{x}<br>pca2=%{y}<br>pca3=%{z}<extra></extra>",
         "legendgroup": "MOGA Mobile Gaming System for Android 2.3+",
         "marker": {
          "color": "#FFA15A",
          "symbol": "circle"
         },
         "mode": "markers",
         "name": "MOGA Mobile Gaming System for Android 2.3+",
         "scene": "scene",
         "showlegend": true,
         "type": "scatter3d",
         "x": [
          10.357423685660311
         ],
         "y": [
          -0.928860079881825
         ],
         "z": [
          0.14192878242921128
         ]
        },
        {
         "hovertemplate": "title=[Upgraded Version] Ultra-comfort Black &amp; Orange Wireless Bluetooth Ps3 Controller for the Playstation 3 Console By Avalid<br>pca1=%{x}<br>pca2=%{y}<br>pca3=%{z}<extra></extra>",
         "legendgroup": "[Upgraded Version] Ultra-comfort Black &amp; Orange Wireless Bluetooth Ps3 Controller for the Playstation 3 Console By Avalid",
         "marker": {
          "color": "#19d3f3",
          "symbol": "circle"
         },
         "mode": "markers",
         "name": "[Upgraded Version] Ultra-comfort Black &amp; Orange Wireless Bluetooth Ps3 Controller for the Playstation 3 Console By Avalid",
         "scene": "scene",
         "showlegend": true,
         "type": "scatter3d",
         "x": [
          -1.3158906747025467
         ],
         "y": [
          1.450098701937719
         ],
         "z": [
          1.2151856220670976
         ]
        },
        {
         "hovertemplate": "title=Fosmon Soft Silicone Skin Case for Nintendo Wii U Gamepad (Purple)<br>pca1=%{x}<br>pca2=%{y}<br>pca3=%{z}<extra></extra>",
         "legendgroup": "Fosmon Soft Silicone Skin Case for Nintendo Wii U Gamepad (Purple)",
         "marker": {
          "color": "#FF6692",
          "symbol": "circle"
         },
         "mode": "markers",
         "name": "Fosmon Soft Silicone Skin Case for Nintendo Wii U Gamepad (Purple)",
         "scene": "scene",
         "showlegend": true,
         "type": "scatter3d",
         "x": [
          -1.53300172998251
         ],
         "y": [
          0.2649400282372099
         ],
         "z": [
          1.5578455465438452
         ]
        },
        {
         "hovertemplate": "title=Fosmon Soft Silicone Skin Case for Nintendo Wii U Gamepad (Black)<br>pca1=%{x}<br>pca2=%{y}<br>pca3=%{z}<extra></extra>",
         "legendgroup": "Fosmon Soft Silicone Skin Case for Nintendo Wii U Gamepad (Black)",
         "marker": {
          "color": "#B6E880",
          "symbol": "circle"
         },
         "mode": "markers",
         "name": "Fosmon Soft Silicone Skin Case for Nintendo Wii U Gamepad (Black)",
         "scene": "scene",
         "showlegend": true,
         "type": "scatter3d",
         "x": [
          -1.53300172998251
         ],
         "y": [
          0.2649400282372099
         ],
         "z": [
          1.5578455465438452
         ]
        },
        {
         "hovertemplate": "title=BELPAIR Wii Motion Plus Adapter Sensor Tracking for Nintendo Wii Remote Controller(wh...<br>pca1=%{x}<br>pca2=%{y}<br>pca3=%{z}<extra></extra>",
         "legendgroup": "BELPAIR Wii Motion Plus Adapter Sensor Tracking for Nintendo Wii Remote Controller(wh...",
         "marker": {
          "color": "#FF97FF",
          "symbol": "circle"
         },
         "mode": "markers",
         "name": "BELPAIR Wii Motion Plus Adapter Sensor Tracking for Nintendo Wii Remote Controller(wh...",
         "scene": "scene",
         "showlegend": true,
         "type": "scatter3d",
         "x": [
          -1.7738109576698735
         ],
         "y": [
          0.5153573718308045
         ],
         "z": [
          1.3944341772699524
         ]
        },
        {
         "hovertemplate": "title=DBPOWER&reg; Remote + Nunchuk Nunchuck Controller Combo Set Bundle Built-in Motionplus for Nintendo Wii (Pink)<br>pca1=%{x}<br>pca2=%{y}<br>pca3=%{z}<extra></extra>",
         "legendgroup": "DBPOWER&reg; Remote + Nunchuk Nunchuck Controller Combo Set Bundle Built-in Motionplus for Nintendo Wii (Pink)",
         "marker": {
          "color": "#FECB52",
          "symbol": "circle"
         },
         "mode": "markers",
         "name": "DBPOWER&reg; Remote + Nunchuk Nunchuck Controller Combo Set Bundle Built-in Motionplus for Nintendo Wii (Pink)",
         "scene": "scene",
         "showlegend": true,
         "type": "scatter3d",
         "x": [
          -1.9773029535419369
         ],
         "y": [
          0.020790970483669603
         ],
         "z": [
          2.2161343550015684
         ]
        },
        {
         "hovertemplate": "title=DBPOWER&reg; Remote + Nunchuk Nunchuck Controller Combo Set Bundle Built-in Motionplus for Nintendo Wii (White)<br>pca1=%{x}<br>pca2=%{y}<br>pca3=%{z}<extra></extra>",
         "legendgroup": "DBPOWER&reg; Remote + Nunchuk Nunchuck Controller Combo Set Bundle Built-in Motionplus for Nintendo Wii (White)",
         "marker": {
          "color": "#636efa",
          "symbol": "circle"
         },
         "mode": "markers",
         "name": "DBPOWER&reg; Remote + Nunchuk Nunchuck Controller Combo Set Bundle Built-in Motionplus for Nintendo Wii (White)",
         "scene": "scene",
         "showlegend": true,
         "type": "scatter3d",
         "x": [
          -1.9773029535419369
         ],
         "y": [
          0.020790970483669603
         ],
         "z": [
          2.2161343550015684
         ]
        },
        {
         "hovertemplate": "title=DBPOWER&reg; Remote + Nunchuk Nunchuck Controller Combo Set Bundle Built-in Motionplus for Nintendo Wii (Red)<br>pca1=%{x}<br>pca2=%{y}<br>pca3=%{z}<extra></extra>",
         "legendgroup": "DBPOWER&reg; Remote + Nunchuk Nunchuck Controller Combo Set Bundle Built-in Motionplus for Nintendo Wii (Red)",
         "marker": {
          "color": "#EF553B",
          "symbol": "circle"
         },
         "mode": "markers",
         "name": "DBPOWER&reg; Remote + Nunchuk Nunchuck Controller Combo Set Bundle Built-in Motionplus for Nintendo Wii (Red)",
         "scene": "scene",
         "showlegend": true,
         "type": "scatter3d",
         "x": [
          -1.3098953719071416
         ],
         "y": [
          1.1622151014092796
         ],
         "z": [
          1.2695503397334904
         ]
        },
        {
         "hovertemplate": "title=HDE Nintendo 64 N64 Wired Classic Controller Pad (Black)<br>pca1=%{x}<br>pca2=%{y}<br>pca3=%{z}<extra></extra>",
         "legendgroup": "HDE Nintendo 64 N64 Wired Classic Controller Pad (Black)",
         "marker": {
          "color": "#00cc96",
          "symbol": "circle"
         },
         "mode": "markers",
         "name": "HDE Nintendo 64 N64 Wired Classic Controller Pad (Black)",
         "scene": "scene",
         "showlegend": true,
         "type": "scatter3d",
         "x": [
          -1.6268353050912436
         ],
         "y": [
          0.8365084588793541
         ],
         "z": [
          0.7468239674866683
         ]
        },
        {
         "hovertemplate": "title=BELPAIR 2X Silicone Skin Case Cover For Nintendo Wii Remote Controller &#65288;Remote...<br>pca1=%{x}<br>pca2=%{y}<br>pca3=%{z}<extra></extra>",
         "legendgroup": "BELPAIR 2X Silicone Skin Case Cover For Nintendo Wii Remote Controller &#65288;Remote...",
         "marker": {
          "color": "#ab63fa",
          "symbol": "circle"
         },
         "mode": "markers",
         "name": "BELPAIR 2X Silicone Skin Case Cover For Nintendo Wii Remote Controller &#65288;Remote...",
         "scene": "scene",
         "showlegend": true,
         "type": "scatter3d",
         "x": [
          -1.4112917666195783
         ],
         "y": [
          1.9673049756394905
         ],
         "z": [
          1.9616633793971652
         ]
        },
        {
         "hovertemplate": "title=Conception II: Children of the Seven Stars - Nintendo 3DS<br>pca1=%{x}<br>pca2=%{y}<br>pca3=%{z}<extra></extra>",
         "legendgroup": "Conception II: Children of the Seven Stars - Nintendo 3DS",
         "marker": {
          "color": "#FFA15A",
          "symbol": "circle"
         },
         "mode": "markers",
         "name": "Conception II: Children of the Seven Stars - Nintendo 3DS",
         "scene": "scene",
         "showlegend": true,
         "type": "scatter3d",
         "x": [
          -1.7144708909087687
         ],
         "y": [
          -0.3301063992137651
         ],
         "z": [
          -1.2274804453408412
         ]
        },
        {
         "hovertemplate": "title=Conception II: Children of the Seven Stars - PlayStation Vita<br>pca1=%{x}<br>pca2=%{y}<br>pca3=%{z}<extra></extra>",
         "legendgroup": "Conception II: Children of the Seven Stars - PlayStation Vita",
         "marker": {
          "color": "#19d3f3",
          "symbol": "circle"
         },
         "mode": "markers",
         "name": "Conception II: Children of the Seven Stars - PlayStation Vita",
         "scene": "scene",
         "showlegend": true,
         "type": "scatter3d",
         "x": [
          -1.7144708909087687
         ],
         "y": [
          -0.3301063992137651
         ],
         "z": [
          -1.2274804453408412
         ]
        },
        {
         "hovertemplate": "title=HDE Controller Shell Case Cover Replacement Kit for Xbox 360 w/ Button Set, Torx Screwdriver, &amp; Crosshead Screwdriver (Gold)<br>pca1=%{x}<br>pca2=%{y}<br>pca3=%{z}<extra></extra>",
         "legendgroup": "HDE Controller Shell Case Cover Replacement Kit for Xbox 360 w/ Button Set, Torx Screwdriver, &amp; Crosshead Screwdriver (Gold)",
         "marker": {
          "color": "#FF6692",
          "symbol": "circle"
         },
         "mode": "markers",
         "name": "HDE Controller Shell Case Cover Replacement Kit for Xbox 360 w/ Button Set, Torx Screwdriver, &amp; Crosshead Screwdriver (Gold)",
         "scene": "scene",
         "showlegend": true,
         "type": "scatter3d",
         "x": [
          -1.765143247109942
         ],
         "y": [
          0.24083096451259645
         ],
         "z": [
          0.3110575814651872
         ]
        },
        {
         "hovertemplate": "title=HDE Controller Shell Case Cover Replacement Kit for Xbox 360 w/ Button Set, Torx Screwdriver, &amp; Crosshead Screwdriver (Clear Blue)<br>pca1=%{x}<br>pca2=%{y}<br>pca3=%{z}<extra></extra>",
         "legendgroup": "HDE Controller Shell Case Cover Replacement Kit for Xbox 360 w/ Button Set, Torx Screwdriver, &amp; Crosshead Screwdriver (Clear Blue)",
         "marker": {
          "color": "#B6E880",
          "symbol": "circle"
         },
         "mode": "markers",
         "name": "HDE Controller Shell Case Cover Replacement Kit for Xbox 360 w/ Button Set, Torx Screwdriver, &amp; Crosshead Screwdriver (Clear Blue)",
         "scene": "scene",
         "showlegend": true,
         "type": "scatter3d",
         "x": [
          -1.765143247109942
         ],
         "y": [
          0.24083096451259645
         ],
         "z": [
          0.3110575814651872
         ]
        },
        {
         "hovertemplate": "title=HDE Controller Shell Case Cover Replacement Kit for Xbox 360 w/ Button Set, Torx Screwdriver, &amp; Crosshead Screwdriver (Orange)<br>pca1=%{x}<br>pca2=%{y}<br>pca3=%{z}<extra></extra>",
         "legendgroup": "HDE Controller Shell Case Cover Replacement Kit for Xbox 360 w/ Button Set, Torx Screwdriver, &amp; Crosshead Screwdriver (Orange)",
         "marker": {
          "color": "#FF97FF",
          "symbol": "circle"
         },
         "mode": "markers",
         "name": "HDE Controller Shell Case Cover Replacement Kit for Xbox 360 w/ Button Set, Torx Screwdriver, &amp; Crosshead Screwdriver (Orange)",
         "scene": "scene",
         "showlegend": true,
         "type": "scatter3d",
         "x": [
          -1.765143247109942
         ],
         "y": [
          0.24083096451259645
         ],
         "z": [
          0.3110575814651872
         ]
        },
        {
         "hovertemplate": "title=HDE Controller Shell Case Cover Replacement Kit for Xbox 360 w/ Button Set, Torx Screwdriver, &amp; Crosshead Screwdriver (Black)<br>pca1=%{x}<br>pca2=%{y}<br>pca3=%{z}<extra></extra>",
         "legendgroup": "HDE Controller Shell Case Cover Replacement Kit for Xbox 360 w/ Button Set, Torx Screwdriver, &amp; Crosshead Screwdriver (Black)",
         "marker": {
          "color": "#FECB52",
          "symbol": "circle"
         },
         "mode": "markers",
         "name": "HDE Controller Shell Case Cover Replacement Kit for Xbox 360 w/ Button Set, Torx Screwdriver, &amp; Crosshead Screwdriver (Black)",
         "scene": "scene",
         "showlegend": true,
         "type": "scatter3d",
         "x": [
          -1.765143247109942
         ],
         "y": [
          0.24083096451259645
         ],
         "z": [
          0.3110575814651872
         ]
        },
        {
         "hovertemplate": "title=HDE Controller Shell Case Cover Replacement Kit for Xbox 360 w/ Button Set, Torx Screwdriver, &amp; Crosshead Screwdriver (Clear)<br>pca1=%{x}<br>pca2=%{y}<br>pca3=%{z}<extra></extra>",
         "legendgroup": "HDE Controller Shell Case Cover Replacement Kit for Xbox 360 w/ Button Set, Torx Screwdriver, &amp; Crosshead Screwdriver (Clear)",
         "marker": {
          "color": "#636efa",
          "symbol": "circle"
         },
         "mode": "markers",
         "name": "HDE Controller Shell Case Cover Replacement Kit for Xbox 360 w/ Button Set, Torx Screwdriver, &amp; Crosshead Screwdriver (Clear)",
         "scene": "scene",
         "showlegend": true,
         "type": "scatter3d",
         "x": [
          -1.765143247109942
         ],
         "y": [
          0.24083096451259645
         ],
         "z": [
          0.3110575814651872
         ]
        },
        {
         "hovertemplate": "title=HDE Controller Shell Case Cover Replacement Kit for Xbox 360 w/ Button Set, Torx Screwdriver, &amp; Crosshead Screwdriver (Pink)<br>pca1=%{x}<br>pca2=%{y}<br>pca3=%{z}<extra></extra>",
         "legendgroup": "HDE Controller Shell Case Cover Replacement Kit for Xbox 360 w/ Button Set, Torx Screwdriver, &amp; Crosshead Screwdriver (Pink)",
         "marker": {
          "color": "#EF553B",
          "symbol": "circle"
         },
         "mode": "markers",
         "name": "HDE Controller Shell Case Cover Replacement Kit for Xbox 360 w/ Button Set, Torx Screwdriver, &amp; Crosshead Screwdriver (Pink)",
         "scene": "scene",
         "showlegend": true,
         "type": "scatter3d",
         "x": [
          -1.765143247109942
         ],
         "y": [
          0.24083096451259645
         ],
         "z": [
          0.3110575814651872
         ]
        },
        {
         "hovertemplate": "title=HDE Controller Shell Case Cover Replacement Kit for Xbox 360 w/ Button Set, Torx Screwdriver, &amp; Crosshead Screwdriver (Blue)<br>pca1=%{x}<br>pca2=%{y}<br>pca3=%{z}<extra></extra>",
         "legendgroup": "HDE Controller Shell Case Cover Replacement Kit for Xbox 360 w/ Button Set, Torx Screwdriver, &amp; Crosshead Screwdriver (Blue)",
         "marker": {
          "color": "#00cc96",
          "symbol": "circle"
         },
         "mode": "markers",
         "name": "HDE Controller Shell Case Cover Replacement Kit for Xbox 360 w/ Button Set, Torx Screwdriver, &amp; Crosshead Screwdriver (Blue)",
         "scene": "scene",
         "showlegend": true,
         "type": "scatter3d",
         "x": [
          -1.765143247109942
         ],
         "y": [
          0.24083096451259645
         ],
         "z": [
          0.3110575814651872
         ]
        },
        {
         "hovertemplate": "title=10ft PS4 Controller Charging Cable for Playstation 4 Dual Shock 4<br>pca1=%{x}<br>pca2=%{y}<br>pca3=%{z}<extra></extra>",
         "legendgroup": "10ft PS4 Controller Charging Cable for Playstation 4 Dual Shock 4",
         "marker": {
          "color": "#ab63fa",
          "symbol": "circle"
         },
         "mode": "markers",
         "name": "10ft PS4 Controller Charging Cable for Playstation 4 Dual Shock 4",
         "scene": "scene",
         "showlegend": true,
         "type": "scatter3d",
         "x": [
          -1.305385422534071
         ],
         "y": [
          2.3691516589977653
         ],
         "z": [
          1.0227970996993971
         ]
        },
        {
         "hovertemplate": "title=Skque&reg; Silicone Thumb Stick Grip Cap Cover for Sony PlayStation 4 Controller, Blue<br>pca1=%{x}<br>pca2=%{y}<br>pca3=%{z}<extra></extra>",
         "legendgroup": "Skque&reg; Silicone Thumb Stick Grip Cap Cover for Sony PlayStation 4 Controller, Blue",
         "marker": {
          "color": "#FFA15A",
          "symbol": "circle"
         },
         "mode": "markers",
         "name": "Skque&reg; Silicone Thumb Stick Grip Cap Cover for Sony PlayStation 4 Controller, Blue",
         "scene": "scene",
         "showlegend": true,
         "type": "scatter3d",
         "x": [
          -0.38418281275357896
         ],
         "y": [
          2.2736640874355674
         ],
         "z": [
          2.4770409250770764
         ]
        },
        {
         "hovertemplate": "title=Skque&reg; Silicone Thumb Stick Grip Cap Cover for Sony PlayStation 4 Controller, Red<br>pca1=%{x}<br>pca2=%{y}<br>pca3=%{z}<extra></extra>",
         "legendgroup": "Skque&reg; Silicone Thumb Stick Grip Cap Cover for Sony PlayStation 4 Controller, Red",
         "marker": {
          "color": "#19d3f3",
          "symbol": "circle"
         },
         "mode": "markers",
         "name": "Skque&reg; Silicone Thumb Stick Grip Cap Cover for Sony PlayStation 4 Controller, Red",
         "scene": "scene",
         "showlegend": true,
         "type": "scatter3d",
         "x": [
          -0.38418281275357896
         ],
         "y": [
          2.2736640874355674
         ],
         "z": [
          2.4770409250770764
         ]
        },
        {
         "hovertemplate": "title=Skque&reg; Silicone Thumb Stick Grip Cap Cover for Sony PlayStation 4 Controller, Black<br>pca1=%{x}<br>pca2=%{y}<br>pca3=%{z}<extra></extra>",
         "legendgroup": "Skque&reg; Silicone Thumb Stick Grip Cap Cover for Sony PlayStation 4 Controller, Black",
         "marker": {
          "color": "#FF6692",
          "symbol": "circle"
         },
         "mode": "markers",
         "name": "Skque&reg; Silicone Thumb Stick Grip Cap Cover for Sony PlayStation 4 Controller, Black",
         "scene": "scene",
         "showlegend": true,
         "type": "scatter3d",
         "x": [
          -0.38418281275357896
         ],
         "y": [
          2.2736640874355674
         ],
         "z": [
          2.4770409250770764
         ]
        },
        {
         "hovertemplate": "title=Skque&reg; Silicone Thumb Stick Grip Cap Cover for Sony PlayStation 4 Controller, Clear<br>pca1=%{x}<br>pca2=%{y}<br>pca3=%{z}<extra></extra>",
         "legendgroup": "Skque&reg; Silicone Thumb Stick Grip Cap Cover for Sony PlayStation 4 Controller, Clear",
         "marker": {
          "color": "#B6E880",
          "symbol": "circle"
         },
         "mode": "markers",
         "name": "Skque&reg; Silicone Thumb Stick Grip Cap Cover for Sony PlayStation 4 Controller, Clear",
         "scene": "scene",
         "showlegend": true,
         "type": "scatter3d",
         "x": [
          -0.38418281275357896
         ],
         "y": [
          2.2736640874355674
         ],
         "z": [
          2.4770409250770764
         ]
        },
        {
         "hovertemplate": "title=2 X Soft Silicone Gel Rubber Grip Controller Protecting Cover For Xbox One - Black<br>pca1=%{x}<br>pca2=%{y}<br>pca3=%{z}<extra></extra>",
         "legendgroup": "2 X Soft Silicone Gel Rubber Grip Controller Protecting Cover For Xbox One - Black",
         "marker": {
          "color": "#FF97FF",
          "symbol": "circle"
         },
         "mode": "markers",
         "name": "2 X Soft Silicone Gel Rubber Grip Controller Protecting Cover For Xbox One - Black",
         "scene": "scene",
         "showlegend": true,
         "type": "scatter3d",
         "x": [
          -1.380735076817936
         ],
         "y": [
          1.639092294172433
         ],
         "z": [
          1.6550060287628348
         ]
        },
        {
         "hovertemplate": "title=2 X Soft Silicone Gel Rubber Grip Controller Protecting Cover For Xbox One - Red<br>pca1=%{x}<br>pca2=%{y}<br>pca3=%{z}<extra></extra>",
         "legendgroup": "2 X Soft Silicone Gel Rubber Grip Controller Protecting Cover For Xbox One - Red",
         "marker": {
          "color": "#FECB52",
          "symbol": "circle"
         },
         "mode": "markers",
         "name": "2 X Soft Silicone Gel Rubber Grip Controller Protecting Cover For Xbox One - Red",
         "scene": "scene",
         "showlegend": true,
         "type": "scatter3d",
         "x": [
          -1.383969077517717
         ],
         "y": [
          1.658385768960245
         ],
         "z": [
          1.6556965009224376
         ]
        },
        {
         "hovertemplate": "title=Pack of 4 Color Combo Flexible Silicone Protective Case For Sony PS4 Game Controller - Black/Red/Blue/White<br>pca1=%{x}<br>pca2=%{y}<br>pca3=%{z}<extra></extra>",
         "legendgroup": "Pack of 4 Color Combo Flexible Silicone Protective Case For Sony PS4 Game Controller - Black/Red/Blue/White",
         "marker": {
          "color": "#636efa",
          "symbol": "circle"
         },
         "mode": "markers",
         "name": "Pack of 4 Color Combo Flexible Silicone Protective Case For Sony PS4 Game Controller - Black/Red/Blue/White",
         "scene": "scene",
         "showlegend": true,
         "type": "scatter3d",
         "x": [
          -1.4235469052444119
         ],
         "y": [
          1.4386426578150426
         ],
         "z": [
          2.0247831779665257
         ]
        },
        {
         "hovertemplate": "title=Skque&reg; Soft Silicone Skin Case Cover for Nintendo 2DS, Black<br>pca1=%{x}<br>pca2=%{y}<br>pca3=%{z}<extra></extra>",
         "legendgroup": "Skque&reg; Soft Silicone Skin Case Cover for Nintendo 2DS, Black",
         "marker": {
          "color": "#EF553B",
          "symbol": "circle"
         },
         "mode": "markers",
         "name": "Skque&reg; Soft Silicone Skin Case Cover for Nintendo 2DS, Black",
         "scene": "scene",
         "showlegend": true,
         "type": "scatter3d",
         "x": [
          0.3005483314546336
         ],
         "y": [
          3.626987991994137
         ],
         "z": [
          0.6572928385891449
         ]
        },
        {
         "hovertemplate": "title=Skque&reg; Soft Silicone Skin Case Cover for Nintendo 2DS, Pink<br>pca1=%{x}<br>pca2=%{y}<br>pca3=%{z}<extra></extra>",
         "legendgroup": "Skque&reg; Soft Silicone Skin Case Cover for Nintendo 2DS, Pink",
         "marker": {
          "color": "#00cc96",
          "symbol": "circle"
         },
         "mode": "markers",
         "name": "Skque&reg; Soft Silicone Skin Case Cover for Nintendo 2DS, Pink",
         "scene": "scene",
         "showlegend": true,
         "type": "scatter3d",
         "x": [
          0.3766210165451858
         ],
         "y": [
          3.6481772365291087
         ],
         "z": [
          0.5753832684401978
         ]
        }
       ],
       "layout": {
        "legend": {
         "title": {
          "text": "title"
         },
         "tracegroupgap": 0
        },
        "margin": {
         "t": 60
        },
        "scene": {
         "domain": {
          "x": [
           0,
           1
          ],
          "y": [
           0,
           1
          ]
         },
         "xaxis": {
          "title": {
           "text": "pca1"
          }
         },
         "yaxis": {
          "title": {
           "text": "pca2"
          }
         },
         "zaxis": {
          "title": {
           "text": "pca3"
          }
         }
        },
        "template": {
         "data": {
          "bar": [
           {
            "error_x": {
             "color": "#2a3f5f"
            },
            "error_y": {
             "color": "#2a3f5f"
            },
            "marker": {
             "line": {
              "color": "#E5ECF6",
              "width": 0.5
             },
             "pattern": {
              "fillmode": "overlay",
              "size": 10,
              "solidity": 0.2
             }
            },
            "type": "bar"
           }
          ],
          "barpolar": [
           {
            "marker": {
             "line": {
              "color": "#E5ECF6",
              "width": 0.5
             },
             "pattern": {
              "fillmode": "overlay",
              "size": 10,
              "solidity": 0.2
             }
            },
            "type": "barpolar"
           }
          ],
          "carpet": [
           {
            "aaxis": {
             "endlinecolor": "#2a3f5f",
             "gridcolor": "white",
             "linecolor": "white",
             "minorgridcolor": "white",
             "startlinecolor": "#2a3f5f"
            },
            "baxis": {
             "endlinecolor": "#2a3f5f",
             "gridcolor": "white",
             "linecolor": "white",
             "minorgridcolor": "white",
             "startlinecolor": "#2a3f5f"
            },
            "type": "carpet"
           }
          ],
          "choropleth": [
           {
            "colorbar": {
             "outlinewidth": 0,
             "ticks": ""
            },
            "type": "choropleth"
           }
          ],
          "contour": [
           {
            "colorbar": {
             "outlinewidth": 0,
             "ticks": ""
            },
            "colorscale": [
             [
              0,
              "#0d0887"
             ],
             [
              0.1111111111111111,
              "#46039f"
             ],
             [
              0.2222222222222222,
              "#7201a8"
             ],
             [
              0.3333333333333333,
              "#9c179e"
             ],
             [
              0.4444444444444444,
              "#bd3786"
             ],
             [
              0.5555555555555556,
              "#d8576b"
             ],
             [
              0.6666666666666666,
              "#ed7953"
             ],
             [
              0.7777777777777778,
              "#fb9f3a"
             ],
             [
              0.8888888888888888,
              "#fdca26"
             ],
             [
              1,
              "#f0f921"
             ]
            ],
            "type": "contour"
           }
          ],
          "contourcarpet": [
           {
            "colorbar": {
             "outlinewidth": 0,
             "ticks": ""
            },
            "type": "contourcarpet"
           }
          ],
          "heatmap": [
           {
            "colorbar": {
             "outlinewidth": 0,
             "ticks": ""
            },
            "colorscale": [
             [
              0,
              "#0d0887"
             ],
             [
              0.1111111111111111,
              "#46039f"
             ],
             [
              0.2222222222222222,
              "#7201a8"
             ],
             [
              0.3333333333333333,
              "#9c179e"
             ],
             [
              0.4444444444444444,
              "#bd3786"
             ],
             [
              0.5555555555555556,
              "#d8576b"
             ],
             [
              0.6666666666666666,
              "#ed7953"
             ],
             [
              0.7777777777777778,
              "#fb9f3a"
             ],
             [
              0.8888888888888888,
              "#fdca26"
             ],
             [
              1,
              "#f0f921"
             ]
            ],
            "type": "heatmap"
           }
          ],
          "heatmapgl": [
           {
            "colorbar": {
             "outlinewidth": 0,
             "ticks": ""
            },
            "colorscale": [
             [
              0,
              "#0d0887"
             ],
             [
              0.1111111111111111,
              "#46039f"
             ],
             [
              0.2222222222222222,
              "#7201a8"
             ],
             [
              0.3333333333333333,
              "#9c179e"
             ],
             [
              0.4444444444444444,
              "#bd3786"
             ],
             [
              0.5555555555555556,
              "#d8576b"
             ],
             [
              0.6666666666666666,
              "#ed7953"
             ],
             [
              0.7777777777777778,
              "#fb9f3a"
             ],
             [
              0.8888888888888888,
              "#fdca26"
             ],
             [
              1,
              "#f0f921"
             ]
            ],
            "type": "heatmapgl"
           }
          ],
          "histogram": [
           {
            "marker": {
             "pattern": {
              "fillmode": "overlay",
              "size": 10,
              "solidity": 0.2
             }
            },
            "type": "histogram"
           }
          ],
          "histogram2d": [
           {
            "colorbar": {
             "outlinewidth": 0,
             "ticks": ""
            },
            "colorscale": [
             [
              0,
              "#0d0887"
             ],
             [
              0.1111111111111111,
              "#46039f"
             ],
             [
              0.2222222222222222,
              "#7201a8"
             ],
             [
              0.3333333333333333,
              "#9c179e"
             ],
             [
              0.4444444444444444,
              "#bd3786"
             ],
             [
              0.5555555555555556,
              "#d8576b"
             ],
             [
              0.6666666666666666,
              "#ed7953"
             ],
             [
              0.7777777777777778,
              "#fb9f3a"
             ],
             [
              0.8888888888888888,
              "#fdca26"
             ],
             [
              1,
              "#f0f921"
             ]
            ],
            "type": "histogram2d"
           }
          ],
          "histogram2dcontour": [
           {
            "colorbar": {
             "outlinewidth": 0,
             "ticks": ""
            },
            "colorscale": [
             [
              0,
              "#0d0887"
             ],
             [
              0.1111111111111111,
              "#46039f"
             ],
             [
              0.2222222222222222,
              "#7201a8"
             ],
             [
              0.3333333333333333,
              "#9c179e"
             ],
             [
              0.4444444444444444,
              "#bd3786"
             ],
             [
              0.5555555555555556,
              "#d8576b"
             ],
             [
              0.6666666666666666,
              "#ed7953"
             ],
             [
              0.7777777777777778,
              "#fb9f3a"
             ],
             [
              0.8888888888888888,
              "#fdca26"
             ],
             [
              1,
              "#f0f921"
             ]
            ],
            "type": "histogram2dcontour"
           }
          ],
          "mesh3d": [
           {
            "colorbar": {
             "outlinewidth": 0,
             "ticks": ""
            },
            "type": "mesh3d"
           }
          ],
          "parcoords": [
           {
            "line": {
             "colorbar": {
              "outlinewidth": 0,
              "ticks": ""
             }
            },
            "type": "parcoords"
           }
          ],
          "pie": [
           {
            "automargin": true,
            "type": "pie"
           }
          ],
          "scatter": [
           {
            "fillpattern": {
             "fillmode": "overlay",
             "size": 10,
             "solidity": 0.2
            },
            "type": "scatter"
           }
          ],
          "scatter3d": [
           {
            "line": {
             "colorbar": {
              "outlinewidth": 0,
              "ticks": ""
             }
            },
            "marker": {
             "colorbar": {
              "outlinewidth": 0,
              "ticks": ""
             }
            },
            "type": "scatter3d"
           }
          ],
          "scattercarpet": [
           {
            "marker": {
             "colorbar": {
              "outlinewidth": 0,
              "ticks": ""
             }
            },
            "type": "scattercarpet"
           }
          ],
          "scattergeo": [
           {
            "marker": {
             "colorbar": {
              "outlinewidth": 0,
              "ticks": ""
             }
            },
            "type": "scattergeo"
           }
          ],
          "scattergl": [
           {
            "marker": {
             "colorbar": {
              "outlinewidth": 0,
              "ticks": ""
             }
            },
            "type": "scattergl"
           }
          ],
          "scattermapbox": [
           {
            "marker": {
             "colorbar": {
              "outlinewidth": 0,
              "ticks": ""
             }
            },
            "type": "scattermapbox"
           }
          ],
          "scatterpolar": [
           {
            "marker": {
             "colorbar": {
              "outlinewidth": 0,
              "ticks": ""
             }
            },
            "type": "scatterpolar"
           }
          ],
          "scatterpolargl": [
           {
            "marker": {
             "colorbar": {
              "outlinewidth": 0,
              "ticks": ""
             }
            },
            "type": "scatterpolargl"
           }
          ],
          "scatterternary": [
           {
            "marker": {
             "colorbar": {
              "outlinewidth": 0,
              "ticks": ""
             }
            },
            "type": "scatterternary"
           }
          ],
          "surface": [
           {
            "colorbar": {
             "outlinewidth": 0,
             "ticks": ""
            },
            "colorscale": [
             [
              0,
              "#0d0887"
             ],
             [
              0.1111111111111111,
              "#46039f"
             ],
             [
              0.2222222222222222,
              "#7201a8"
             ],
             [
              0.3333333333333333,
              "#9c179e"
             ],
             [
              0.4444444444444444,
              "#bd3786"
             ],
             [
              0.5555555555555556,
              "#d8576b"
             ],
             [
              0.6666666666666666,
              "#ed7953"
             ],
             [
              0.7777777777777778,
              "#fb9f3a"
             ],
             [
              0.8888888888888888,
              "#fdca26"
             ],
             [
              1,
              "#f0f921"
             ]
            ],
            "type": "surface"
           }
          ],
          "table": [
           {
            "cells": {
             "fill": {
              "color": "#EBF0F8"
             },
             "line": {
              "color": "white"
             }
            },
            "header": {
             "fill": {
              "color": "#C8D4E3"
             },
             "line": {
              "color": "white"
             }
            },
            "type": "table"
           }
          ]
         },
         "layout": {
          "annotationdefaults": {
           "arrowcolor": "#2a3f5f",
           "arrowhead": 0,
           "arrowwidth": 1
          },
          "autotypenumbers": "strict",
          "coloraxis": {
           "colorbar": {
            "outlinewidth": 0,
            "ticks": ""
           }
          },
          "colorscale": {
           "diverging": [
            [
             0,
             "#8e0152"
            ],
            [
             0.1,
             "#c51b7d"
            ],
            [
             0.2,
             "#de77ae"
            ],
            [
             0.3,
             "#f1b6da"
            ],
            [
             0.4,
             "#fde0ef"
            ],
            [
             0.5,
             "#f7f7f7"
            ],
            [
             0.6,
             "#e6f5d0"
            ],
            [
             0.7,
             "#b8e186"
            ],
            [
             0.8,
             "#7fbc41"
            ],
            [
             0.9,
             "#4d9221"
            ],
            [
             1,
             "#276419"
            ]
           ],
           "sequential": [
            [
             0,
             "#0d0887"
            ],
            [
             0.1111111111111111,
             "#46039f"
            ],
            [
             0.2222222222222222,
             "#7201a8"
            ],
            [
             0.3333333333333333,
             "#9c179e"
            ],
            [
             0.4444444444444444,
             "#bd3786"
            ],
            [
             0.5555555555555556,
             "#d8576b"
            ],
            [
             0.6666666666666666,
             "#ed7953"
            ],
            [
             0.7777777777777778,
             "#fb9f3a"
            ],
            [
             0.8888888888888888,
             "#fdca26"
            ],
            [
             1,
             "#f0f921"
            ]
           ],
           "sequentialminus": [
            [
             0,
             "#0d0887"
            ],
            [
             0.1111111111111111,
             "#46039f"
            ],
            [
             0.2222222222222222,
             "#7201a8"
            ],
            [
             0.3333333333333333,
             "#9c179e"
            ],
            [
             0.4444444444444444,
             "#bd3786"
            ],
            [
             0.5555555555555556,
             "#d8576b"
            ],
            [
             0.6666666666666666,
             "#ed7953"
            ],
            [
             0.7777777777777778,
             "#fb9f3a"
            ],
            [
             0.8888888888888888,
             "#fdca26"
            ],
            [
             1,
             "#f0f921"
            ]
           ]
          },
          "colorway": [
           "#636efa",
           "#EF553B",
           "#00cc96",
           "#ab63fa",
           "#FFA15A",
           "#19d3f3",
           "#FF6692",
           "#B6E880",
           "#FF97FF",
           "#FECB52"
          ],
          "font": {
           "color": "#2a3f5f"
          },
          "geo": {
           "bgcolor": "white",
           "lakecolor": "white",
           "landcolor": "#E5ECF6",
           "showlakes": true,
           "showland": true,
           "subunitcolor": "white"
          },
          "hoverlabel": {
           "align": "left"
          },
          "hovermode": "closest",
          "mapbox": {
           "style": "light"
          },
          "paper_bgcolor": "white",
          "plot_bgcolor": "#E5ECF6",
          "polar": {
           "angularaxis": {
            "gridcolor": "white",
            "linecolor": "white",
            "ticks": ""
           },
           "bgcolor": "#E5ECF6",
           "radialaxis": {
            "gridcolor": "white",
            "linecolor": "white",
            "ticks": ""
           }
          },
          "scene": {
           "xaxis": {
            "backgroundcolor": "#E5ECF6",
            "gridcolor": "white",
            "gridwidth": 2,
            "linecolor": "white",
            "showbackground": true,
            "ticks": "",
            "zerolinecolor": "white"
           },
           "yaxis": {
            "backgroundcolor": "#E5ECF6",
            "gridcolor": "white",
            "gridwidth": 2,
            "linecolor": "white",
            "showbackground": true,
            "ticks": "",
            "zerolinecolor": "white"
           },
           "zaxis": {
            "backgroundcolor": "#E5ECF6",
            "gridcolor": "white",
            "gridwidth": 2,
            "linecolor": "white",
            "showbackground": true,
            "ticks": "",
            "zerolinecolor": "white"
           }
          },
          "shapedefaults": {
           "line": {
            "color": "#2a3f5f"
           }
          },
          "ternary": {
           "aaxis": {
            "gridcolor": "white",
            "linecolor": "white",
            "ticks": ""
           },
           "baxis": {
            "gridcolor": "white",
            "linecolor": "white",
            "ticks": ""
           },
           "bgcolor": "#E5ECF6",
           "caxis": {
            "gridcolor": "white",
            "linecolor": "white",
            "ticks": ""
           }
          },
          "title": {
           "x": 0.05
          },
          "xaxis": {
           "automargin": true,
           "gridcolor": "white",
           "linecolor": "white",
           "ticks": "",
           "title": {
            "standoff": 15
           },
           "zerolinecolor": "white",
           "zerolinewidth": 2
          },
          "yaxis": {
           "automargin": true,
           "gridcolor": "white",
           "linecolor": "white",
           "ticks": "",
           "title": {
            "standoff": 15
           },
           "zerolinecolor": "white",
           "zerolinewidth": 2
          }
         }
        }
       }
      }
     },
     "metadata": {},
     "output_type": "display_data"
    }
   ],
   "source": [
    "# 3D \n",
    "pca = PCA(n_components=3)\n",
    "result = pca.fit_transform(array_data)\n",
    "result = pd.DataFrame(result,columns=['pca1','pca2','pca3'])\n",
    "result = pd.concat([result,products.asin],axis=1).merge(metadata[['title','asin','price','description']],how='left',on='asin').dropna()\n",
    "\n",
    "fig = px.scatter_3d(result, x='pca1', y='pca2', z='pca3',color=\"title\")\n",
    "plotly.offline.iplot(fig) "
   ]
  }
 ],
 "metadata": {
  "kernelspec": {
   "display_name": "Python 3",
   "language": "python",
   "name": "python3"
  },
  "language_info": {
   "codemirror_mode": {
    "name": "ipython",
    "version": 3
   },
   "file_extension": ".py",
   "mimetype": "text/x-python",
   "name": "python",
   "nbconvert_exporter": "python",
   "pygments_lexer": "ipython3",
   "version": "3.10.11"
  }
 },
 "nbformat": 4,
 "nbformat_minor": 2
}
