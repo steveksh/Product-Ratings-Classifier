{
 "cells": [
  {
   "cell_type": "markdown",
   "metadata": {},
   "source": [
    "You can explore other ploting libraries like plotly, altair and highcharts"
   ]
  },
  {
   "cell_type": "code",
   "execution_count": 1,
   "metadata": {},
   "outputs": [],
   "source": [
    "import pickle\n",
    "import pandas as pd \n",
    "import numpy as np \n",
    "import plotly.graph_objects as go\n",
    "import sys\n",
    "sys.path.append('../')\n",
    "from modules.json_reader import *\n",
    "\n",
    "with open('../components/review_embedding.pkl', 'rb') as handle:\n",
    "    x = pickle.load(handle)\n",
    "df = pd.DataFrame(x)\n",
    "\n",
    "# make sure the data is stored in raw_data\n",
    "metadata = metadata_loader(\"../raw_data/meta_Video_Games.json.gz\").\\\n",
    "           dropna().\\\n",
    "           reset_index(drop=True)\n",
    "\n",
    "df_merged = df.merge(metadata,how='inner',on='asin')"
   ]
  },
  {
   "cell_type": "markdown",
   "metadata": {},
   "source": [
    "Class Imbalance is very dangerous and we need address it accordingly"
   ]
  },
  {
   "cell_type": "code",
   "execution_count": 16,
   "metadata": {},
   "outputs": [
    {
     "data": {
      "application/vnd.plotly.v1+json": {
       "config": {
        "plotlyServerURL": "https://plot.ly"
       },
       "data": [
        {
         "hole": 0.3,
         "labels": [
          5,
          4,
          3,
          1,
          2
         ],
         "type": "pie",
         "values": [
          118427,
          54351,
          28041,
          14592,
          13556
         ]
        }
       ],
       "layout": {
        "autosize": false,
        "height": 450,
        "minreducedheight": 250,
        "minreducedwidth": 250,
        "template": {
         "data": {
          "bar": [
           {
            "error_x": {
             "color": "#2a3f5f"
            },
            "error_y": {
             "color": "#2a3f5f"
            },
            "marker": {
             "line": {
              "color": "#E5ECF6",
              "width": 0.5
             },
             "pattern": {
              "fillmode": "overlay",
              "size": 10,
              "solidity": 0.2
             }
            },
            "type": "bar"
           }
          ],
          "barpolar": [
           {
            "marker": {
             "line": {
              "color": "#E5ECF6",
              "width": 0.5
             },
             "pattern": {
              "fillmode": "overlay",
              "size": 10,
              "solidity": 0.2
             }
            },
            "type": "barpolar"
           }
          ],
          "carpet": [
           {
            "aaxis": {
             "endlinecolor": "#2a3f5f",
             "gridcolor": "white",
             "linecolor": "white",
             "minorgridcolor": "white",
             "startlinecolor": "#2a3f5f"
            },
            "baxis": {
             "endlinecolor": "#2a3f5f",
             "gridcolor": "white",
             "linecolor": "white",
             "minorgridcolor": "white",
             "startlinecolor": "#2a3f5f"
            },
            "type": "carpet"
           }
          ],
          "choropleth": [
           {
            "colorbar": {
             "outlinewidth": 0,
             "ticks": ""
            },
            "type": "choropleth"
           }
          ],
          "contour": [
           {
            "colorbar": {
             "outlinewidth": 0,
             "ticks": ""
            },
            "colorscale": [
             [
              0,
              "#0d0887"
             ],
             [
              0.1111111111111111,
              "#46039f"
             ],
             [
              0.2222222222222222,
              "#7201a8"
             ],
             [
              0.3333333333333333,
              "#9c179e"
             ],
             [
              0.4444444444444444,
              "#bd3786"
             ],
             [
              0.5555555555555556,
              "#d8576b"
             ],
             [
              0.6666666666666666,
              "#ed7953"
             ],
             [
              0.7777777777777778,
              "#fb9f3a"
             ],
             [
              0.8888888888888888,
              "#fdca26"
             ],
             [
              1,
              "#f0f921"
             ]
            ],
            "type": "contour"
           }
          ],
          "contourcarpet": [
           {
            "colorbar": {
             "outlinewidth": 0,
             "ticks": ""
            },
            "type": "contourcarpet"
           }
          ],
          "heatmap": [
           {
            "colorbar": {
             "outlinewidth": 0,
             "ticks": ""
            },
            "colorscale": [
             [
              0,
              "#0d0887"
             ],
             [
              0.1111111111111111,
              "#46039f"
             ],
             [
              0.2222222222222222,
              "#7201a8"
             ],
             [
              0.3333333333333333,
              "#9c179e"
             ],
             [
              0.4444444444444444,
              "#bd3786"
             ],
             [
              0.5555555555555556,
              "#d8576b"
             ],
             [
              0.6666666666666666,
              "#ed7953"
             ],
             [
              0.7777777777777778,
              "#fb9f3a"
             ],
             [
              0.8888888888888888,
              "#fdca26"
             ],
             [
              1,
              "#f0f921"
             ]
            ],
            "type": "heatmap"
           }
          ],
          "heatmapgl": [
           {
            "colorbar": {
             "outlinewidth": 0,
             "ticks": ""
            },
            "colorscale": [
             [
              0,
              "#0d0887"
             ],
             [
              0.1111111111111111,
              "#46039f"
             ],
             [
              0.2222222222222222,
              "#7201a8"
             ],
             [
              0.3333333333333333,
              "#9c179e"
             ],
             [
              0.4444444444444444,
              "#bd3786"
             ],
             [
              0.5555555555555556,
              "#d8576b"
             ],
             [
              0.6666666666666666,
              "#ed7953"
             ],
             [
              0.7777777777777778,
              "#fb9f3a"
             ],
             [
              0.8888888888888888,
              "#fdca26"
             ],
             [
              1,
              "#f0f921"
             ]
            ],
            "type": "heatmapgl"
           }
          ],
          "histogram": [
           {
            "marker": {
             "pattern": {
              "fillmode": "overlay",
              "size": 10,
              "solidity": 0.2
             }
            },
            "type": "histogram"
           }
          ],
          "histogram2d": [
           {
            "colorbar": {
             "outlinewidth": 0,
             "ticks": ""
            },
            "colorscale": [
             [
              0,
              "#0d0887"
             ],
             [
              0.1111111111111111,
              "#46039f"
             ],
             [
              0.2222222222222222,
              "#7201a8"
             ],
             [
              0.3333333333333333,
              "#9c179e"
             ],
             [
              0.4444444444444444,
              "#bd3786"
             ],
             [
              0.5555555555555556,
              "#d8576b"
             ],
             [
              0.6666666666666666,
              "#ed7953"
             ],
             [
              0.7777777777777778,
              "#fb9f3a"
             ],
             [
              0.8888888888888888,
              "#fdca26"
             ],
             [
              1,
              "#f0f921"
             ]
            ],
            "type": "histogram2d"
           }
          ],
          "histogram2dcontour": [
           {
            "colorbar": {
             "outlinewidth": 0,
             "ticks": ""
            },
            "colorscale": [
             [
              0,
              "#0d0887"
             ],
             [
              0.1111111111111111,
              "#46039f"
             ],
             [
              0.2222222222222222,
              "#7201a8"
             ],
             [
              0.3333333333333333,
              "#9c179e"
             ],
             [
              0.4444444444444444,
              "#bd3786"
             ],
             [
              0.5555555555555556,
              "#d8576b"
             ],
             [
              0.6666666666666666,
              "#ed7953"
             ],
             [
              0.7777777777777778,
              "#fb9f3a"
             ],
             [
              0.8888888888888888,
              "#fdca26"
             ],
             [
              1,
              "#f0f921"
             ]
            ],
            "type": "histogram2dcontour"
           }
          ],
          "mesh3d": [
           {
            "colorbar": {
             "outlinewidth": 0,
             "ticks": ""
            },
            "type": "mesh3d"
           }
          ],
          "parcoords": [
           {
            "line": {
             "colorbar": {
              "outlinewidth": 0,
              "ticks": ""
             }
            },
            "type": "parcoords"
           }
          ],
          "pie": [
           {
            "automargin": true,
            "type": "pie"
           }
          ],
          "scatter": [
           {
            "fillpattern": {
             "fillmode": "overlay",
             "size": 10,
             "solidity": 0.2
            },
            "type": "scatter"
           }
          ],
          "scatter3d": [
           {
            "line": {
             "colorbar": {
              "outlinewidth": 0,
              "ticks": ""
             }
            },
            "marker": {
             "colorbar": {
              "outlinewidth": 0,
              "ticks": ""
             }
            },
            "type": "scatter3d"
           }
          ],
          "scattercarpet": [
           {
            "marker": {
             "colorbar": {
              "outlinewidth": 0,
              "ticks": ""
             }
            },
            "type": "scattercarpet"
           }
          ],
          "scattergeo": [
           {
            "marker": {
             "colorbar": {
              "outlinewidth": 0,
              "ticks": ""
             }
            },
            "type": "scattergeo"
           }
          ],
          "scattergl": [
           {
            "marker": {
             "colorbar": {
              "outlinewidth": 0,
              "ticks": ""
             }
            },
            "type": "scattergl"
           }
          ],
          "scattermapbox": [
           {
            "marker": {
             "colorbar": {
              "outlinewidth": 0,
              "ticks": ""
             }
            },
            "type": "scattermapbox"
           }
          ],
          "scatterpolar": [
           {
            "marker": {
             "colorbar": {
              "outlinewidth": 0,
              "ticks": ""
             }
            },
            "type": "scatterpolar"
           }
          ],
          "scatterpolargl": [
           {
            "marker": {
             "colorbar": {
              "outlinewidth": 0,
              "ticks": ""
             }
            },
            "type": "scatterpolargl"
           }
          ],
          "scatterternary": [
           {
            "marker": {
             "colorbar": {
              "outlinewidth": 0,
              "ticks": ""
             }
            },
            "type": "scatterternary"
           }
          ],
          "surface": [
           {
            "colorbar": {
             "outlinewidth": 0,
             "ticks": ""
            },
            "colorscale": [
             [
              0,
              "#0d0887"
             ],
             [
              0.1111111111111111,
              "#46039f"
             ],
             [
              0.2222222222222222,
              "#7201a8"
             ],
             [
              0.3333333333333333,
              "#9c179e"
             ],
             [
              0.4444444444444444,
              "#bd3786"
             ],
             [
              0.5555555555555556,
              "#d8576b"
             ],
             [
              0.6666666666666666,
              "#ed7953"
             ],
             [
              0.7777777777777778,
              "#fb9f3a"
             ],
             [
              0.8888888888888888,
              "#fdca26"
             ],
             [
              1,
              "#f0f921"
             ]
            ],
            "type": "surface"
           }
          ],
          "table": [
           {
            "cells": {
             "fill": {
              "color": "#EBF0F8"
             },
             "line": {
              "color": "white"
             }
            },
            "header": {
             "fill": {
              "color": "#C8D4E3"
             },
             "line": {
              "color": "white"
             }
            },
            "type": "table"
           }
          ]
         },
         "layout": {
          "annotationdefaults": {
           "arrowcolor": "#2a3f5f",
           "arrowhead": 0,
           "arrowwidth": 1
          },
          "autotypenumbers": "strict",
          "coloraxis": {
           "colorbar": {
            "outlinewidth": 0,
            "ticks": ""
           }
          },
          "colorscale": {
           "diverging": [
            [
             0,
             "#8e0152"
            ],
            [
             0.1,
             "#c51b7d"
            ],
            [
             0.2,
             "#de77ae"
            ],
            [
             0.3,
             "#f1b6da"
            ],
            [
             0.4,
             "#fde0ef"
            ],
            [
             0.5,
             "#f7f7f7"
            ],
            [
             0.6,
             "#e6f5d0"
            ],
            [
             0.7,
             "#b8e186"
            ],
            [
             0.8,
             "#7fbc41"
            ],
            [
             0.9,
             "#4d9221"
            ],
            [
             1,
             "#276419"
            ]
           ],
           "sequential": [
            [
             0,
             "#0d0887"
            ],
            [
             0.1111111111111111,
             "#46039f"
            ],
            [
             0.2222222222222222,
             "#7201a8"
            ],
            [
             0.3333333333333333,
             "#9c179e"
            ],
            [
             0.4444444444444444,
             "#bd3786"
            ],
            [
             0.5555555555555556,
             "#d8576b"
            ],
            [
             0.6666666666666666,
             "#ed7953"
            ],
            [
             0.7777777777777778,
             "#fb9f3a"
            ],
            [
             0.8888888888888888,
             "#fdca26"
            ],
            [
             1,
             "#f0f921"
            ]
           ],
           "sequentialminus": [
            [
             0,
             "#0d0887"
            ],
            [
             0.1111111111111111,
             "#46039f"
            ],
            [
             0.2222222222222222,
             "#7201a8"
            ],
            [
             0.3333333333333333,
             "#9c179e"
            ],
            [
             0.4444444444444444,
             "#bd3786"
            ],
            [
             0.5555555555555556,
             "#d8576b"
            ],
            [
             0.6666666666666666,
             "#ed7953"
            ],
            [
             0.7777777777777778,
             "#fb9f3a"
            ],
            [
             0.8888888888888888,
             "#fdca26"
            ],
            [
             1,
             "#f0f921"
            ]
           ]
          },
          "colorway": [
           "#636efa",
           "#EF553B",
           "#00cc96",
           "#ab63fa",
           "#FFA15A",
           "#19d3f3",
           "#FF6692",
           "#B6E880",
           "#FF97FF",
           "#FECB52"
          ],
          "font": {
           "color": "#2a3f5f"
          },
          "geo": {
           "bgcolor": "white",
           "lakecolor": "white",
           "landcolor": "#E5ECF6",
           "showlakes": true,
           "showland": true,
           "subunitcolor": "white"
          },
          "hoverlabel": {
           "align": "left"
          },
          "hovermode": "closest",
          "mapbox": {
           "style": "light"
          },
          "paper_bgcolor": "white",
          "plot_bgcolor": "#E5ECF6",
          "polar": {
           "angularaxis": {
            "gridcolor": "white",
            "linecolor": "white",
            "ticks": ""
           },
           "bgcolor": "#E5ECF6",
           "radialaxis": {
            "gridcolor": "white",
            "linecolor": "white",
            "ticks": ""
           }
          },
          "scene": {
           "xaxis": {
            "backgroundcolor": "#E5ECF6",
            "gridcolor": "white",
            "gridwidth": 2,
            "linecolor": "white",
            "showbackground": true,
            "ticks": "",
            "zerolinecolor": "white"
           },
           "yaxis": {
            "backgroundcolor": "#E5ECF6",
            "gridcolor": "white",
            "gridwidth": 2,
            "linecolor": "white",
            "showbackground": true,
            "ticks": "",
            "zerolinecolor": "white"
           },
           "zaxis": {
            "backgroundcolor": "#E5ECF6",
            "gridcolor": "white",
            "gridwidth": 2,
            "linecolor": "white",
            "showbackground": true,
            "ticks": "",
            "zerolinecolor": "white"
           }
          },
          "shapedefaults": {
           "line": {
            "color": "#2a3f5f"
           }
          },
          "ternary": {
           "aaxis": {
            "gridcolor": "white",
            "linecolor": "white",
            "ticks": ""
           },
           "baxis": {
            "gridcolor": "white",
            "linecolor": "white",
            "ticks": ""
           },
           "bgcolor": "#E5ECF6",
           "caxis": {
            "gridcolor": "white",
            "linecolor": "white",
            "ticks": ""
           }
          },
          "title": {
           "x": 0.05
          },
          "xaxis": {
           "automargin": true,
           "gridcolor": "white",
           "linecolor": "white",
           "ticks": "",
           "title": {
            "standoff": 15
           },
           "zerolinecolor": "white",
           "zerolinewidth": 2
          },
          "yaxis": {
           "automargin": true,
           "gridcolor": "white",
           "linecolor": "white",
           "ticks": "",
           "title": {
            "standoff": 15
           },
           "zerolinecolor": "white",
           "zerolinewidth": 2
          }
         }
        },
        "title": {
         "text": "Amazon Product Review Rating Aggregated Count"
        },
        "width": 450
       }
      }
     },
     "metadata": {},
     "output_type": "display_data"
    }
   ],
   "source": [
    "labels = list(df.overall.value_counts().to_dict().keys())\n",
    "data = df.overall.value_counts().to_list()\n",
    "\n",
    "# Use `hole` to create a donut-like pie chart\n",
    "fig = go.Figure(data=[go.Pie(labels=labels, values=data, hole=.3)])\n",
    "\n",
    "fig.update_layout(\n",
    "    title_text=\"Amazon Product Review Rating Aggregated Count\",\n",
    "    autosize=False,\n",
    "    minreducedwidth=250,\n",
    "    minreducedheight=250,\n",
    "    width=450,\n",
    "    height=450\n",
    ")\n",
    "fig.show()"
   ]
  },
  {
   "cell_type": "markdown",
   "metadata": {},
   "source": [
    "Length of each product review might be interesting to know as well "
   ]
  },
  {
   "cell_type": "code",
   "execution_count": 127,
   "metadata": {},
   "outputs": [
    {
     "data": {
      "application/vnd.plotly.v1+json": {
       "config": {
        "plotlyServerURL": "https://plot.ly"
       },
       "data": [
        {
         "alignmentgroup": "True",
         "hovertemplate": "categories=Electronics-Computers & Accessories-Cables & Accessories<br>overall=%{x}<br>length=%{y}<extra></extra>",
         "legendgroup": "Electronics-Computers & Accessories-Cables & Accessories",
         "marker": {
          "color": "#636efa",
          "pattern": {
           "shape": ""
          }
         },
         "name": "Electronics-Computers & Accessories-Cables & Accessories",
         "offsetgroup": "Electronics-Computers & Accessories-Cables & Accessories",
         "orientation": "v",
         "showlegend": true,
         "textposition": "auto",
         "texttemplate": "%{y:.2s}",
         "type": "bar",
         "x": [
          1,
          2,
          3,
          4,
          5
         ],
         "xaxis": "x",
         "y": [
          170.33333333333334,
          927.3333333333334,
          245.2,
          354.5,
          188.02702702702703
         ],
         "yaxis": "y"
        },
        {
         "alignmentgroup": "True",
         "hovertemplate": "categories=Electronics-Computers & Accessories-Cables & Accessories-Cables & Interconnects-USB Cables<br>overall=%{x}<br>length=%{y}<extra></extra>",
         "legendgroup": "Electronics-Computers & Accessories-Cables & Accessories-Cables & Interconnects-USB Cables",
         "marker": {
          "color": "#EF553B",
          "pattern": {
           "shape": ""
          }
         },
         "name": "Electronics-Computers & Accessories-Cables & Accessories-Cables & Interconnects-USB Cables",
         "offsetgroup": "Electronics-Computers & Accessories-Cables & Accessories-Cables & Interconnects-USB Cables",
         "orientation": "v",
         "showlegend": true,
         "textposition": "auto",
         "texttemplate": "%{y:.2s}",
         "type": "bar",
         "x": [
          1,
          3,
          4,
          5
         ],
         "xaxis": "x",
         "y": [
          1001,
          394.8,
          239,
          239.16666666666666
         ],
         "yaxis": "y"
        },
        {
         "alignmentgroup": "True",
         "hovertemplate": "categories=Video Games<br>overall=%{x}<br>length=%{y}<extra></extra>",
         "legendgroup": "Video Games",
         "marker": {
          "color": "#00cc96",
          "pattern": {
           "shape": ""
          }
         },
         "name": "Video Games",
         "offsetgroup": "Video Games",
         "orientation": "v",
         "showlegend": true,
         "textposition": "auto",
         "texttemplate": "%{y:.2s}",
         "type": "bar",
         "x": [
          1,
          2,
          3,
          4,
          5
         ],
         "xaxis": "x",
         "y": [
          185.5,
          224.66666666666666,
          524,
          345,
          403.125
         ],
         "yaxis": "y"
        },
        {
         "alignmentgroup": "True",
         "hovertemplate": "categories=Video Games-More Systems-Sega Genesis-Hardware-Accessories<br>overall=%{x}<br>length=%{y}<extra></extra>",
         "legendgroup": "Video Games-More Systems-Sega Genesis-Hardware-Accessories",
         "marker": {
          "color": "#ab63fa",
          "pattern": {
           "shape": ""
          }
         },
         "name": "Video Games-More Systems-Sega Genesis-Hardware-Accessories",
         "offsetgroup": "Video Games-More Systems-Sega Genesis-Hardware-Accessories",
         "orientation": "v",
         "showlegend": true,
         "textposition": "auto",
         "texttemplate": "%{y:.2s}",
         "type": "bar",
         "x": [
          1,
          3,
          4,
          5
         ],
         "xaxis": "x",
         "y": [
          374.4,
          114.5,
          121,
          274.6896551724138
         ],
         "yaxis": "y"
        },
        {
         "alignmentgroup": "True",
         "hovertemplate": "categories=Video Games-Nintendo DS-Consoles<br>overall=%{x}<br>length=%{y}<extra></extra>",
         "legendgroup": "Video Games-Nintendo DS-Consoles",
         "marker": {
          "color": "#FFA15A",
          "pattern": {
           "shape": ""
          }
         },
         "name": "Video Games-Nintendo DS-Consoles",
         "offsetgroup": "Video Games-Nintendo DS-Consoles",
         "orientation": "v",
         "showlegend": true,
         "textposition": "auto",
         "texttemplate": "%{y:.2s}",
         "type": "bar",
         "x": [
          1,
          2,
          4,
          5
         ],
         "xaxis": "x",
         "y": [
          120,
          1269,
          1228.5,
          557.6
         ],
         "yaxis": "y"
        },
        {
         "alignmentgroup": "True",
         "hovertemplate": "categories=Video Games-PC-Accessories-Controllers-Gamepads<br>overall=%{x}<br>length=%{y}<extra></extra>",
         "legendgroup": "Video Games-PC-Accessories-Controllers-Gamepads",
         "marker": {
          "color": "#19d3f3",
          "pattern": {
           "shape": ""
          }
         },
         "name": "Video Games-PC-Accessories-Controllers-Gamepads",
         "offsetgroup": "Video Games-PC-Accessories-Controllers-Gamepads",
         "orientation": "v",
         "showlegend": true,
         "textposition": "auto",
         "texttemplate": "%{y:.2s}",
         "type": "bar",
         "x": [
          1,
          2,
          3,
          4,
          5
         ],
         "xaxis": "x",
         "y": [
          789.6666666666666,
          887,
          1494.7777777777778,
          1547,
          1385.4736842105262
         ],
         "yaxis": "y"
        },
        {
         "alignmentgroup": "True",
         "hovertemplate": "categories=Video Games-PC-Accessories-Controllers-Joysticks<br>overall=%{x}<br>length=%{y}<extra></extra>",
         "legendgroup": "Video Games-PC-Accessories-Controllers-Joysticks",
         "marker": {
          "color": "#FF6692",
          "pattern": {
           "shape": ""
          }
         },
         "name": "Video Games-PC-Accessories-Controllers-Joysticks",
         "offsetgroup": "Video Games-PC-Accessories-Controllers-Joysticks",
         "orientation": "v",
         "showlegend": true,
         "textposition": "auto",
         "texttemplate": "%{y:.2s}",
         "type": "bar",
         "x": [
          1,
          3,
          4,
          5
         ],
         "xaxis": "x",
         "y": [
          117.66666666666667,
          373,
          423,
          334.6666666666667
         ],
         "yaxis": "y"
        },
        {
         "alignmentgroup": "True",
         "hovertemplate": "categories=Video Games-PlayStation 3-Accessories-Controllers-Remotes<br>overall=%{x}<br>length=%{y}<extra></extra>",
         "legendgroup": "Video Games-PlayStation 3-Accessories-Controllers-Remotes",
         "marker": {
          "color": "#B6E880",
          "pattern": {
           "shape": ""
          }
         },
         "name": "Video Games-PlayStation 3-Accessories-Controllers-Remotes",
         "offsetgroup": "Video Games-PlayStation 3-Accessories-Controllers-Remotes",
         "orientation": "v",
         "showlegend": true,
         "textposition": "auto",
         "texttemplate": "%{y:.2s}",
         "type": "bar",
         "x": [
          1,
          2,
          4,
          5
         ],
         "xaxis": "x",
         "y": [
          702,
          579,
          140.5,
          273.3333333333333
         ],
         "yaxis": "y"
        },
        {
         "alignmentgroup": "True",
         "hovertemplate": "categories=Video Games-PlayStation Vita-Games<br>overall=%{x}<br>length=%{y}<extra></extra>",
         "legendgroup": "Video Games-PlayStation Vita-Games",
         "marker": {
          "color": "#FF97FF",
          "pattern": {
           "shape": ""
          }
         },
         "name": "Video Games-PlayStation Vita-Games",
         "offsetgroup": "Video Games-PlayStation Vita-Games",
         "orientation": "v",
         "showlegend": true,
         "textposition": "auto",
         "texttemplate": "%{y:.2s}",
         "type": "bar",
         "x": [
          1,
          2,
          3,
          4,
          5
         ],
         "xaxis": "x",
         "y": [
          1247.5,
          799.5714285714286,
          1109.5555555555557,
          887.8636363636364,
          1112.2467532467533
         ],
         "yaxis": "y"
        },
        {
         "alignmentgroup": "True",
         "hovertemplate": "categories=Video Games-Wii-Accessories-Controllers-Racing Wheels<br>overall=%{x}<br>length=%{y}<extra></extra>",
         "legendgroup": "Video Games-Wii-Accessories-Controllers-Racing Wheels",
         "marker": {
          "color": "#FECB52",
          "pattern": {
           "shape": ""
          }
         },
         "name": "Video Games-Wii-Accessories-Controllers-Racing Wheels",
         "offsetgroup": "Video Games-Wii-Accessories-Controllers-Racing Wheels",
         "orientation": "v",
         "showlegend": true,
         "textposition": "auto",
         "texttemplate": "%{y:.2s}",
         "type": "bar",
         "x": [
          1,
          2,
          3,
          4,
          5
         ],
         "xaxis": "x",
         "y": [
          298.3333333333333,
          317,
          252.5,
          346.6666666666667,
          210.15384615384616
         ],
         "yaxis": "y"
        },
        {
         "alignmentgroup": "True",
         "hovertemplate": "categories=Video Games-Wii-Accessories-Controllers-Remotes<br>overall=%{x}<br>length=%{y}<extra></extra>",
         "legendgroup": "Video Games-Wii-Accessories-Controllers-Remotes",
         "marker": {
          "color": "#636efa",
          "pattern": {
           "shape": ""
          }
         },
         "name": "Video Games-Wii-Accessories-Controllers-Remotes",
         "offsetgroup": "Video Games-Wii-Accessories-Controllers-Remotes",
         "orientation": "v",
         "showlegend": true,
         "textposition": "auto",
         "texttemplate": "%{y:.2s}",
         "type": "bar",
         "x": [
          1,
          2,
          3,
          4,
          5
         ],
         "xaxis": "x",
         "y": [
          304.5,
          179,
          454.75,
          266.7142857142857,
          161
         ],
         "yaxis": "y"
        },
        {
         "alignmentgroup": "True",
         "hovertemplate": "categories=Video Games-Wii-Accessories-Memory<br>overall=%{x}<br>length=%{y}<extra></extra>",
         "legendgroup": "Video Games-Wii-Accessories-Memory",
         "marker": {
          "color": "#EF553B",
          "pattern": {
           "shape": ""
          }
         },
         "name": "Video Games-Wii-Accessories-Memory",
         "offsetgroup": "Video Games-Wii-Accessories-Memory",
         "orientation": "v",
         "showlegend": true,
         "textposition": "auto",
         "texttemplate": "%{y:.2s}",
         "type": "bar",
         "x": [
          1,
          4,
          5
         ],
         "xaxis": "x",
         "y": [
          116,
          259.5,
          132.44444444444446
         ],
         "yaxis": "y"
        },
        {
         "alignmentgroup": "True",
         "hovertemplate": "categories=Video Games-Xbox 360-Accessories-Cables & Adapters-Cables<br>overall=%{x}<br>length=%{y}<extra></extra>",
         "legendgroup": "Video Games-Xbox 360-Accessories-Cables & Adapters-Cables",
         "marker": {
          "color": "#00cc96",
          "pattern": {
           "shape": ""
          }
         },
         "name": "Video Games-Xbox 360-Accessories-Cables & Adapters-Cables",
         "offsetgroup": "Video Games-Xbox 360-Accessories-Cables & Adapters-Cables",
         "orientation": "v",
         "showlegend": true,
         "textposition": "auto",
         "texttemplate": "%{y:.2s}",
         "type": "bar",
         "x": [
          1,
          4,
          5
         ],
         "xaxis": "x",
         "y": [
          199,
          138,
          336
         ],
         "yaxis": "y"
        },
        {
         "alignmentgroup": "True",
         "hovertemplate": "categories=Video Games-Xbox 360-Accessories-Headsets<br>overall=%{x}<br>length=%{y}<extra></extra>",
         "legendgroup": "Video Games-Xbox 360-Accessories-Headsets",
         "marker": {
          "color": "#ab63fa",
          "pattern": {
           "shape": ""
          }
         },
         "name": "Video Games-Xbox 360-Accessories-Headsets",
         "offsetgroup": "Video Games-Xbox 360-Accessories-Headsets",
         "orientation": "v",
         "showlegend": true,
         "textposition": "auto",
         "texttemplate": "%{y:.2s}",
         "type": "bar",
         "x": [
          1,
          2,
          3,
          4,
          5
         ],
         "xaxis": "x",
         "y": [
          438.14285714285717,
          295.6666666666667,
          179.25,
          275.42857142857144,
          187.4
         ],
         "yaxis": "y"
        },
        {
         "alignmentgroup": "True",
         "hovertemplate": "categories=Video Games-Xbox 360-Accessories-Memory<br>overall=%{x}<br>length=%{y}<extra></extra>",
         "legendgroup": "Video Games-Xbox 360-Accessories-Memory",
         "marker": {
          "color": "#FFA15A",
          "pattern": {
           "shape": ""
          }
         },
         "name": "Video Games-Xbox 360-Accessories-Memory",
         "offsetgroup": "Video Games-Xbox 360-Accessories-Memory",
         "orientation": "v",
         "showlegend": true,
         "textposition": "auto",
         "texttemplate": "%{y:.2s}",
         "type": "bar",
         "x": [
          1,
          2,
          4,
          5
         ],
         "xaxis": "x",
         "y": [
          106,
          339,
          271.3333333333333,
          260.8125
         ],
         "yaxis": "y"
        },
        {
         "alignmentgroup": "True",
         "hovertemplate": "categories=Video Games-More Systems-Super Nintendo-Hardware-Accessories<br>overall=%{x}<br>length=%{y}<extra></extra>",
         "legendgroup": "Video Games-More Systems-Super Nintendo-Hardware-Accessories",
         "marker": {
          "color": "#19d3f3",
          "pattern": {
           "shape": ""
          }
         },
         "name": "Video Games-More Systems-Super Nintendo-Hardware-Accessories",
         "offsetgroup": "Video Games-More Systems-Super Nintendo-Hardware-Accessories",
         "orientation": "v",
         "showlegend": true,
         "textposition": "auto",
         "texttemplate": "%{y:.2s}",
         "type": "bar",
         "x": [
          2,
          3,
          4
         ],
         "xaxis": "x",
         "y": [
          590,
          719,
          322.8
         ],
         "yaxis": "y"
        },
        {
         "alignmentgroup": "True",
         "hovertemplate": "categories=Video Games-Wii<br>overall=%{x}<br>length=%{y}<extra></extra>",
         "legendgroup": "Video Games-Wii",
         "marker": {
          "color": "#FF6692",
          "pattern": {
           "shape": ""
          }
         },
         "name": "Video Games-Wii",
         "offsetgroup": "Video Games-Wii",
         "orientation": "v",
         "showlegend": true,
         "textposition": "auto",
         "texttemplate": "%{y:.2s}",
         "type": "bar",
         "x": [
          2,
          3,
          4,
          5
         ],
         "xaxis": "x",
         "y": [
          226,
          196.6,
          218,
          319.7142857142857
         ],
         "yaxis": "y"
        },
        {
         "alignmentgroup": "True",
         "hovertemplate": "categories=Video Games-Wii-Accessories-Sensor Bars<br>overall=%{x}<br>length=%{y}<extra></extra>",
         "legendgroup": "Video Games-Wii-Accessories-Sensor Bars",
         "marker": {
          "color": "#B6E880",
          "pattern": {
           "shape": ""
          }
         },
         "name": "Video Games-Wii-Accessories-Sensor Bars",
         "offsetgroup": "Video Games-Wii-Accessories-Sensor Bars",
         "orientation": "v",
         "showlegend": true,
         "textposition": "auto",
         "texttemplate": "%{y:.2s}",
         "type": "bar",
         "x": [
          2,
          5
         ],
         "xaxis": "x",
         "y": [
          1083,
          276
         ],
         "yaxis": "y"
        },
        {
         "alignmentgroup": "True",
         "hovertemplate": "categories=Video Games-Xbox 360-Accessories-Batteries & Chargers-Batteries<br>overall=%{x}<br>length=%{y}<extra></extra>",
         "legendgroup": "Video Games-Xbox 360-Accessories-Batteries & Chargers-Batteries",
         "marker": {
          "color": "#FF97FF",
          "pattern": {
           "shape": ""
          }
         },
         "name": "Video Games-Xbox 360-Accessories-Batteries & Chargers-Batteries",
         "offsetgroup": "Video Games-Xbox 360-Accessories-Batteries & Chargers-Batteries",
         "orientation": "v",
         "showlegend": true,
         "textposition": "auto",
         "texttemplate": "%{y:.2s}",
         "type": "bar",
         "x": [
          2,
          3,
          4,
          5
         ],
         "xaxis": "x",
         "y": [
          1157,
          111,
          136,
          243.16666666666666
         ],
         "yaxis": "y"
        },
        {
         "alignmentgroup": "True",
         "hovertemplate": "categories=Video Games-Xbox 360-Accessories-Controllers<br>overall=%{x}<br>length=%{y}<extra></extra>",
         "legendgroup": "Video Games-Xbox 360-Accessories-Controllers",
         "marker": {
          "color": "#FECB52",
          "pattern": {
           "shape": ""
          }
         },
         "name": "Video Games-Xbox 360-Accessories-Controllers",
         "offsetgroup": "Video Games-Xbox 360-Accessories-Controllers",
         "orientation": "v",
         "showlegend": true,
         "textposition": "auto",
         "texttemplate": "%{y:.2s}",
         "type": "bar",
         "x": [
          2,
          4,
          5
         ],
         "xaxis": "x",
         "y": [
          400.5,
          440,
          564.5
         ],
         "yaxis": "y"
        },
        {
         "alignmentgroup": "True",
         "hovertemplate": "categories=Video Games-Nintendo 3DS-Accessories-Cases & Protectors<br>overall=%{x}<br>length=%{y}<extra></extra>",
         "legendgroup": "Video Games-Nintendo 3DS-Accessories-Cases & Protectors",
         "marker": {
          "color": "#636efa",
          "pattern": {
           "shape": ""
          }
         },
         "name": "Video Games-Nintendo 3DS-Accessories-Cases & Protectors",
         "offsetgroup": "Video Games-Nintendo 3DS-Accessories-Cases & Protectors",
         "orientation": "v",
         "showlegend": true,
         "textposition": "auto",
         "texttemplate": "%{y:.2s}",
         "type": "bar",
         "x": [
          4,
          5
         ],
         "xaxis": "x",
         "y": [
          385.25,
          603.3333333333334
         ],
         "yaxis": "y"
        },
        {
         "alignmentgroup": "True",
         "hovertemplate": "categories=Video Games-Nintendo 3DS-Games<br>overall=%{x}<br>length=%{y}<extra></extra>",
         "legendgroup": "Video Games-Nintendo 3DS-Games",
         "marker": {
          "color": "#EF553B",
          "pattern": {
           "shape": ""
          }
         },
         "name": "Video Games-Nintendo 3DS-Games",
         "offsetgroup": "Video Games-Nintendo 3DS-Games",
         "orientation": "v",
         "showlegend": true,
         "textposition": "auto",
         "texttemplate": "%{y:.2s}",
         "type": "bar",
         "x": [
          4,
          5
         ],
         "xaxis": "x",
         "y": [
          2943.6666666666665,
          1806.3333333333333
         ],
         "yaxis": "y"
        }
       ],
       "layout": {
        "autosize": false,
        "barmode": "relative",
        "height": 800,
        "legend": {
         "title": {
          "text": "categories"
         },
         "tracegroupgap": 0
        },
        "minreducedheight": 250,
        "minreducedwidth": 250,
        "template": {
         "data": {
          "bar": [
           {
            "error_x": {
             "color": "#2a3f5f"
            },
            "error_y": {
             "color": "#2a3f5f"
            },
            "marker": {
             "line": {
              "color": "#E5ECF6",
              "width": 0.5
             },
             "pattern": {
              "fillmode": "overlay",
              "size": 10,
              "solidity": 0.2
             }
            },
            "type": "bar"
           }
          ],
          "barpolar": [
           {
            "marker": {
             "line": {
              "color": "#E5ECF6",
              "width": 0.5
             },
             "pattern": {
              "fillmode": "overlay",
              "size": 10,
              "solidity": 0.2
             }
            },
            "type": "barpolar"
           }
          ],
          "carpet": [
           {
            "aaxis": {
             "endlinecolor": "#2a3f5f",
             "gridcolor": "white",
             "linecolor": "white",
             "minorgridcolor": "white",
             "startlinecolor": "#2a3f5f"
            },
            "baxis": {
             "endlinecolor": "#2a3f5f",
             "gridcolor": "white",
             "linecolor": "white",
             "minorgridcolor": "white",
             "startlinecolor": "#2a3f5f"
            },
            "type": "carpet"
           }
          ],
          "choropleth": [
           {
            "colorbar": {
             "outlinewidth": 0,
             "ticks": ""
            },
            "type": "choropleth"
           }
          ],
          "contour": [
           {
            "colorbar": {
             "outlinewidth": 0,
             "ticks": ""
            },
            "colorscale": [
             [
              0,
              "#0d0887"
             ],
             [
              0.1111111111111111,
              "#46039f"
             ],
             [
              0.2222222222222222,
              "#7201a8"
             ],
             [
              0.3333333333333333,
              "#9c179e"
             ],
             [
              0.4444444444444444,
              "#bd3786"
             ],
             [
              0.5555555555555556,
              "#d8576b"
             ],
             [
              0.6666666666666666,
              "#ed7953"
             ],
             [
              0.7777777777777778,
              "#fb9f3a"
             ],
             [
              0.8888888888888888,
              "#fdca26"
             ],
             [
              1,
              "#f0f921"
             ]
            ],
            "type": "contour"
           }
          ],
          "contourcarpet": [
           {
            "colorbar": {
             "outlinewidth": 0,
             "ticks": ""
            },
            "type": "contourcarpet"
           }
          ],
          "heatmap": [
           {
            "colorbar": {
             "outlinewidth": 0,
             "ticks": ""
            },
            "colorscale": [
             [
              0,
              "#0d0887"
             ],
             [
              0.1111111111111111,
              "#46039f"
             ],
             [
              0.2222222222222222,
              "#7201a8"
             ],
             [
              0.3333333333333333,
              "#9c179e"
             ],
             [
              0.4444444444444444,
              "#bd3786"
             ],
             [
              0.5555555555555556,
              "#d8576b"
             ],
             [
              0.6666666666666666,
              "#ed7953"
             ],
             [
              0.7777777777777778,
              "#fb9f3a"
             ],
             [
              0.8888888888888888,
              "#fdca26"
             ],
             [
              1,
              "#f0f921"
             ]
            ],
            "type": "heatmap"
           }
          ],
          "heatmapgl": [
           {
            "colorbar": {
             "outlinewidth": 0,
             "ticks": ""
            },
            "colorscale": [
             [
              0,
              "#0d0887"
             ],
             [
              0.1111111111111111,
              "#46039f"
             ],
             [
              0.2222222222222222,
              "#7201a8"
             ],
             [
              0.3333333333333333,
              "#9c179e"
             ],
             [
              0.4444444444444444,
              "#bd3786"
             ],
             [
              0.5555555555555556,
              "#d8576b"
             ],
             [
              0.6666666666666666,
              "#ed7953"
             ],
             [
              0.7777777777777778,
              "#fb9f3a"
             ],
             [
              0.8888888888888888,
              "#fdca26"
             ],
             [
              1,
              "#f0f921"
             ]
            ],
            "type": "heatmapgl"
           }
          ],
          "histogram": [
           {
            "marker": {
             "pattern": {
              "fillmode": "overlay",
              "size": 10,
              "solidity": 0.2
             }
            },
            "type": "histogram"
           }
          ],
          "histogram2d": [
           {
            "colorbar": {
             "outlinewidth": 0,
             "ticks": ""
            },
            "colorscale": [
             [
              0,
              "#0d0887"
             ],
             [
              0.1111111111111111,
              "#46039f"
             ],
             [
              0.2222222222222222,
              "#7201a8"
             ],
             [
              0.3333333333333333,
              "#9c179e"
             ],
             [
              0.4444444444444444,
              "#bd3786"
             ],
             [
              0.5555555555555556,
              "#d8576b"
             ],
             [
              0.6666666666666666,
              "#ed7953"
             ],
             [
              0.7777777777777778,
              "#fb9f3a"
             ],
             [
              0.8888888888888888,
              "#fdca26"
             ],
             [
              1,
              "#f0f921"
             ]
            ],
            "type": "histogram2d"
           }
          ],
          "histogram2dcontour": [
           {
            "colorbar": {
             "outlinewidth": 0,
             "ticks": ""
            },
            "colorscale": [
             [
              0,
              "#0d0887"
             ],
             [
              0.1111111111111111,
              "#46039f"
             ],
             [
              0.2222222222222222,
              "#7201a8"
             ],
             [
              0.3333333333333333,
              "#9c179e"
             ],
             [
              0.4444444444444444,
              "#bd3786"
             ],
             [
              0.5555555555555556,
              "#d8576b"
             ],
             [
              0.6666666666666666,
              "#ed7953"
             ],
             [
              0.7777777777777778,
              "#fb9f3a"
             ],
             [
              0.8888888888888888,
              "#fdca26"
             ],
             [
              1,
              "#f0f921"
             ]
            ],
            "type": "histogram2dcontour"
           }
          ],
          "mesh3d": [
           {
            "colorbar": {
             "outlinewidth": 0,
             "ticks": ""
            },
            "type": "mesh3d"
           }
          ],
          "parcoords": [
           {
            "line": {
             "colorbar": {
              "outlinewidth": 0,
              "ticks": ""
             }
            },
            "type": "parcoords"
           }
          ],
          "pie": [
           {
            "automargin": true,
            "type": "pie"
           }
          ],
          "scatter": [
           {
            "fillpattern": {
             "fillmode": "overlay",
             "size": 10,
             "solidity": 0.2
            },
            "type": "scatter"
           }
          ],
          "scatter3d": [
           {
            "line": {
             "colorbar": {
              "outlinewidth": 0,
              "ticks": ""
             }
            },
            "marker": {
             "colorbar": {
              "outlinewidth": 0,
              "ticks": ""
             }
            },
            "type": "scatter3d"
           }
          ],
          "scattercarpet": [
           {
            "marker": {
             "colorbar": {
              "outlinewidth": 0,
              "ticks": ""
             }
            },
            "type": "scattercarpet"
           }
          ],
          "scattergeo": [
           {
            "marker": {
             "colorbar": {
              "outlinewidth": 0,
              "ticks": ""
             }
            },
            "type": "scattergeo"
           }
          ],
          "scattergl": [
           {
            "marker": {
             "colorbar": {
              "outlinewidth": 0,
              "ticks": ""
             }
            },
            "type": "scattergl"
           }
          ],
          "scattermapbox": [
           {
            "marker": {
             "colorbar": {
              "outlinewidth": 0,
              "ticks": ""
             }
            },
            "type": "scattermapbox"
           }
          ],
          "scatterpolar": [
           {
            "marker": {
             "colorbar": {
              "outlinewidth": 0,
              "ticks": ""
             }
            },
            "type": "scatterpolar"
           }
          ],
          "scatterpolargl": [
           {
            "marker": {
             "colorbar": {
              "outlinewidth": 0,
              "ticks": ""
             }
            },
            "type": "scatterpolargl"
           }
          ],
          "scatterternary": [
           {
            "marker": {
             "colorbar": {
              "outlinewidth": 0,
              "ticks": ""
             }
            },
            "type": "scatterternary"
           }
          ],
          "surface": [
           {
            "colorbar": {
             "outlinewidth": 0,
             "ticks": ""
            },
            "colorscale": [
             [
              0,
              "#0d0887"
             ],
             [
              0.1111111111111111,
              "#46039f"
             ],
             [
              0.2222222222222222,
              "#7201a8"
             ],
             [
              0.3333333333333333,
              "#9c179e"
             ],
             [
              0.4444444444444444,
              "#bd3786"
             ],
             [
              0.5555555555555556,
              "#d8576b"
             ],
             [
              0.6666666666666666,
              "#ed7953"
             ],
             [
              0.7777777777777778,
              "#fb9f3a"
             ],
             [
              0.8888888888888888,
              "#fdca26"
             ],
             [
              1,
              "#f0f921"
             ]
            ],
            "type": "surface"
           }
          ],
          "table": [
           {
            "cells": {
             "fill": {
              "color": "#EBF0F8"
             },
             "line": {
              "color": "white"
             }
            },
            "header": {
             "fill": {
              "color": "#C8D4E3"
             },
             "line": {
              "color": "white"
             }
            },
            "type": "table"
           }
          ]
         },
         "layout": {
          "annotationdefaults": {
           "arrowcolor": "#2a3f5f",
           "arrowhead": 0,
           "arrowwidth": 1
          },
          "autotypenumbers": "strict",
          "coloraxis": {
           "colorbar": {
            "outlinewidth": 0,
            "ticks": ""
           }
          },
          "colorscale": {
           "diverging": [
            [
             0,
             "#8e0152"
            ],
            [
             0.1,
             "#c51b7d"
            ],
            [
             0.2,
             "#de77ae"
            ],
            [
             0.3,
             "#f1b6da"
            ],
            [
             0.4,
             "#fde0ef"
            ],
            [
             0.5,
             "#f7f7f7"
            ],
            [
             0.6,
             "#e6f5d0"
            ],
            [
             0.7,
             "#b8e186"
            ],
            [
             0.8,
             "#7fbc41"
            ],
            [
             0.9,
             "#4d9221"
            ],
            [
             1,
             "#276419"
            ]
           ],
           "sequential": [
            [
             0,
             "#0d0887"
            ],
            [
             0.1111111111111111,
             "#46039f"
            ],
            [
             0.2222222222222222,
             "#7201a8"
            ],
            [
             0.3333333333333333,
             "#9c179e"
            ],
            [
             0.4444444444444444,
             "#bd3786"
            ],
            [
             0.5555555555555556,
             "#d8576b"
            ],
            [
             0.6666666666666666,
             "#ed7953"
            ],
            [
             0.7777777777777778,
             "#fb9f3a"
            ],
            [
             0.8888888888888888,
             "#fdca26"
            ],
            [
             1,
             "#f0f921"
            ]
           ],
           "sequentialminus": [
            [
             0,
             "#0d0887"
            ],
            [
             0.1111111111111111,
             "#46039f"
            ],
            [
             0.2222222222222222,
             "#7201a8"
            ],
            [
             0.3333333333333333,
             "#9c179e"
            ],
            [
             0.4444444444444444,
             "#bd3786"
            ],
            [
             0.5555555555555556,
             "#d8576b"
            ],
            [
             0.6666666666666666,
             "#ed7953"
            ],
            [
             0.7777777777777778,
             "#fb9f3a"
            ],
            [
             0.8888888888888888,
             "#fdca26"
            ],
            [
             1,
             "#f0f921"
            ]
           ]
          },
          "colorway": [
           "#636efa",
           "#EF553B",
           "#00cc96",
           "#ab63fa",
           "#FFA15A",
           "#19d3f3",
           "#FF6692",
           "#B6E880",
           "#FF97FF",
           "#FECB52"
          ],
          "font": {
           "color": "#2a3f5f"
          },
          "geo": {
           "bgcolor": "white",
           "lakecolor": "white",
           "landcolor": "#E5ECF6",
           "showlakes": true,
           "showland": true,
           "subunitcolor": "white"
          },
          "hoverlabel": {
           "align": "left"
          },
          "hovermode": "closest",
          "mapbox": {
           "style": "light"
          },
          "paper_bgcolor": "white",
          "plot_bgcolor": "#E5ECF6",
          "polar": {
           "angularaxis": {
            "gridcolor": "white",
            "linecolor": "white",
            "ticks": ""
           },
           "bgcolor": "#E5ECF6",
           "radialaxis": {
            "gridcolor": "white",
            "linecolor": "white",
            "ticks": ""
           }
          },
          "scene": {
           "xaxis": {
            "backgroundcolor": "#E5ECF6",
            "gridcolor": "white",
            "gridwidth": 2,
            "linecolor": "white",
            "showbackground": true,
            "ticks": "",
            "zerolinecolor": "white"
           },
           "yaxis": {
            "backgroundcolor": "#E5ECF6",
            "gridcolor": "white",
            "gridwidth": 2,
            "linecolor": "white",
            "showbackground": true,
            "ticks": "",
            "zerolinecolor": "white"
           },
           "zaxis": {
            "backgroundcolor": "#E5ECF6",
            "gridcolor": "white",
            "gridwidth": 2,
            "linecolor": "white",
            "showbackground": true,
            "ticks": "",
            "zerolinecolor": "white"
           }
          },
          "shapedefaults": {
           "line": {
            "color": "#2a3f5f"
           }
          },
          "ternary": {
           "aaxis": {
            "gridcolor": "white",
            "linecolor": "white",
            "ticks": ""
           },
           "baxis": {
            "gridcolor": "white",
            "linecolor": "white",
            "ticks": ""
           },
           "bgcolor": "#E5ECF6",
           "caxis": {
            "gridcolor": "white",
            "linecolor": "white",
            "ticks": ""
           }
          },
          "title": {
           "x": 0.05
          },
          "xaxis": {
           "automargin": true,
           "gridcolor": "white",
           "linecolor": "white",
           "ticks": "",
           "title": {
            "standoff": 15
           },
           "zerolinecolor": "white",
           "zerolinewidth": 2
          },
          "yaxis": {
           "automargin": true,
           "gridcolor": "white",
           "linecolor": "white",
           "ticks": "",
           "title": {
            "standoff": 15
           },
           "zerolinecolor": "white",
           "zerolinewidth": 2
          }
         }
        },
        "title": {
         "text": "Average review length per rating class and product category"
        },
        "width": 1850,
        "xaxis": {
         "anchor": "y",
         "domain": [
          0,
          1
         ],
         "title": {
          "text": "overall"
         }
        },
        "yaxis": {
         "anchor": "x",
         "domain": [
          0,
          1
         ],
         "title": {
          "text": "length"
         }
        }
       }
      }
     },
     "metadata": {},
     "output_type": "display_data"
    }
   ],
   "source": [
    "import plotly.express as px\n",
    "\n",
    "df_merged['length'] = df_merged['reviewText'].apply(lambda x: len(x))\n",
    "length_analysis = df_merged.groupby(['overall','categories'],as_index=False)['length'].mean()\n",
    "\n",
    "fig = px.bar(length_analysis, y='length', x='overall', text_auto='.2s',color='categories',\n",
    "            title=\"Default: various text sizes, positions and angles\")\n",
    "\n",
    "fig.update_layout(\n",
    "    title_text=\"Average review length per rating class and product category\",\n",
    "    autosize=False,\n",
    "    minreducedwidth=250,\n",
    "    minreducedheight=250,\n",
    "    width=1850,\n",
    "    height=800\n",
    ")\n",
    "fig.show()"
   ]
  },
  {
   "cell_type": "markdown",
   "metadata": {},
   "source": [
    "I see that you have a density plot for price, but you can maybe try adding dimensionality to plots with aggregations. Most of the time, a simple density plot will not bring a lot of data insights to stakeholders. \n",
    "More dimension and break downs will convince your target audience \n",
    "\n",
    "Interesting enough, expensive products are rated higher ! Product Quality?!"
   ]
  },
  {
   "cell_type": "code",
   "execution_count": 91,
   "metadata": {},
   "outputs": [
    {
     "data": {
      "application/vnd.plotly.v1+json": {
       "config": {
        "plotlyServerURL": "https://plot.ly"
       },
       "data": [
        {
         "alignmentgroup": "True",
         "boxpoints": "all",
         "hovertemplate": "overall=%{x}<br>price=%{y}<extra></extra>",
         "legendgroup": "",
         "marker": {
          "color": "#636efa"
         },
         "name": "",
         "notched": false,
         "offsetgroup": "",
         "orientation": "v",
         "showlegend": false,
         "type": "box",
         "x": [
          5,
          5,
          5,
          5,
          5,
          5,
          5,
          5,
          4,
          1,
          4,
          5,
          3,
          4,
          5,
          5,
          5,
          5,
          5,
          5,
          5,
          3,
          5,
          5,
          5,
          5,
          5,
          5,
          4,
          3,
          5,
          3,
          2,
          5,
          5,
          5,
          5,
          5,
          5,
          5,
          5,
          3,
          4,
          2,
          4,
          4,
          4,
          4,
          3,
          5,
          5,
          5,
          5,
          5,
          5,
          5,
          5,
          5,
          5,
          4,
          1,
          5,
          5,
          5,
          5,
          5,
          5,
          3,
          4,
          3,
          3,
          4,
          5,
          3,
          5,
          5,
          5,
          5,
          3,
          5,
          5,
          5,
          4,
          2,
          4,
          1,
          3,
          2,
          4,
          3,
          1,
          5,
          2,
          4,
          3,
          5,
          1,
          5,
          4,
          4,
          5,
          4,
          1,
          2,
          5,
          5,
          4,
          4,
          5,
          4,
          1,
          3,
          4,
          1,
          1,
          5,
          5,
          5,
          4,
          4,
          4,
          4,
          5,
          5,
          5,
          2,
          5,
          5,
          5,
          4,
          5,
          5,
          5,
          3,
          5,
          4,
          5,
          5,
          5,
          5,
          5,
          5,
          1,
          4,
          5,
          3,
          2,
          3,
          1,
          5,
          1,
          4,
          4,
          5,
          5,
          5,
          5,
          4,
          5,
          5,
          5,
          4,
          5,
          5,
          5,
          5,
          5,
          5,
          5,
          3,
          1,
          3,
          3,
          5,
          5,
          5,
          4,
          2,
          5,
          1,
          5,
          5,
          1,
          4,
          5,
          5,
          5,
          5,
          5,
          5,
          5,
          5,
          5,
          5,
          4,
          3,
          5,
          2,
          5,
          5,
          5,
          5,
          2,
          5,
          4,
          3,
          5,
          5,
          5,
          3,
          5,
          5,
          5,
          3,
          5,
          3,
          5,
          5,
          5,
          4,
          1,
          4,
          5,
          5,
          5,
          5,
          5,
          5,
          5,
          4,
          5,
          5,
          5,
          5,
          1,
          5,
          1,
          5,
          5,
          5,
          5,
          5,
          5,
          5,
          3,
          5,
          1,
          5,
          5,
          5,
          5,
          5,
          5,
          5,
          5,
          4,
          5,
          3,
          1,
          1,
          5,
          5,
          5,
          4,
          4,
          5,
          3,
          4,
          2,
          5,
          5,
          5,
          5,
          1,
          5,
          3,
          5,
          3,
          5,
          5,
          5,
          5,
          1,
          5,
          5,
          4,
          5,
          2,
          5,
          1,
          3,
          2,
          5,
          5,
          5,
          5,
          5,
          5,
          5,
          5,
          4,
          4,
          5,
          5,
          5,
          5,
          5,
          5,
          1,
          5,
          4,
          5,
          5,
          5,
          5,
          5,
          5,
          5,
          5,
          5,
          5,
          5,
          4,
          5,
          5,
          5,
          5,
          5,
          1,
          5,
          5,
          5,
          5,
          5,
          5,
          5,
          2,
          5,
          5,
          5,
          5,
          5,
          5,
          2,
          4,
          5,
          3,
          4,
          4,
          5,
          3,
          5,
          5,
          5,
          5,
          5,
          4,
          5,
          5,
          5,
          5,
          4,
          5,
          2,
          4,
          5,
          5,
          5,
          5,
          3,
          5,
          4,
          5,
          5,
          5,
          5,
          4,
          5,
          3,
          3,
          1,
          3,
          5,
          5,
          5,
          5,
          5,
          5,
          5,
          5,
          5,
          5,
          4,
          5,
          5,
          5,
          5,
          5,
          5,
          5,
          3,
          5,
          3,
          5,
          5,
          4,
          5,
          5,
          4,
          4,
          5,
          5,
          4,
          5,
          5,
          5,
          4,
          5,
          4,
          5,
          5,
          4,
          5,
          5,
          4,
          4,
          5,
          5,
          5,
          5,
          2,
          5,
          5,
          5,
          5,
          5,
          5,
          5,
          5,
          3,
          5,
          5,
          5,
          4,
          5,
          5,
          5,
          5,
          5,
          5,
          5,
          5,
          5,
          5,
          5,
          5,
          4,
          5,
          5,
          4,
          5,
          4,
          5,
          5,
          5,
          5,
          5,
          5,
          5,
          5,
          5,
          4,
          1,
          4,
          5,
          4,
          5,
          4,
          2,
          5,
          2,
          5,
          5,
          5,
          4,
          5,
          5,
          2,
          5,
          5,
          5,
          5,
          5,
          4,
          5,
          5,
          4,
          5,
          5,
          5,
          5,
          5,
          4,
          5,
          5,
          5,
          5,
          5,
          5,
          4,
          5,
          5,
          5,
          4,
          5,
          5,
          5,
          1,
          5,
          5,
          4,
          5,
          5,
          1,
          3,
          5,
          4,
          5,
          1,
          5,
          4,
          4,
          5,
          5,
          5,
          1,
          4,
          5,
          5,
          5,
          5,
          5,
          5,
          5,
          5,
          5,
          5,
          4,
          1,
          3,
          2,
          4,
          2,
          2,
          5,
          1,
          4,
          2,
          5,
          4,
          5,
          4,
          4,
          5,
          5,
          4,
          4,
          3,
          5,
          4,
          5,
          3,
          4,
          2,
          5,
          4,
          3,
          1,
          2,
          4,
          5,
          5,
          3,
          2,
          5,
          1,
          5,
          1,
          3,
          1,
          5,
          3,
          1,
          3,
          4,
          5,
          5,
          4,
          5,
          4,
          3,
          4,
          4,
          5,
          5,
          5,
          4,
          1,
          2,
          4,
          3,
          5,
          5,
          5,
          5,
          4,
          2,
          1,
          4,
          4,
          5,
          5,
          4,
          5,
          4,
          5,
          4,
          5,
          5,
          5,
          3,
          2,
          5,
          5,
          5,
          4,
          2,
          4,
          4,
          2,
          5,
          2
         ],
         "x0": " ",
         "xaxis": "x",
         "y": [
          4.42,
          4.42,
          4.42,
          4.42,
          4.42,
          4.42,
          4.42,
          4.42,
          4.42,
          4.42,
          4.42,
          4.42,
          8.9,
          8.9,
          8.9,
          8.9,
          8.9,
          8.9,
          8.9,
          8.9,
          8.9,
          8.9,
          8.9,
          8.9,
          8.9,
          8.9,
          8.9,
          8.9,
          8.9,
          8.9,
          8.9,
          8.9,
          8.9,
          8.9,
          8.9,
          8.9,
          8.9,
          8.9,
          8.9,
          8.9,
          8.9,
          0.23,
          0.23,
          0.23,
          0.23,
          0.23,
          0.23,
          0.23,
          5.23,
          5.23,
          5.23,
          5.23,
          5.23,
          5.23,
          5.23,
          5.23,
          5.23,
          5.23,
          5.23,
          5.23,
          5.23,
          5.23,
          5.23,
          5.23,
          5.23,
          5.23,
          5.23,
          5.23,
          5.23,
          5.23,
          5.23,
          5.23,
          5.23,
          5.23,
          5.23,
          2.86,
          2.86,
          2.86,
          2.86,
          2.86,
          2.86,
          2.86,
          2.86,
          2.86,
          4.18,
          4.18,
          4.18,
          4.18,
          4.18,
          4.18,
          4.18,
          4.18,
          4.18,
          4.18,
          4.18,
          4.18,
          4.18,
          4.18,
          4.18,
          4.18,
          4.18,
          4.18,
          4.18,
          4.18,
          4.18,
          4.18,
          4.18,
          4.18,
          4.18,
          4.18,
          4.18,
          4.18,
          4.18,
          4.18,
          4.18,
          4.18,
          4.18,
          4.18,
          4.18,
          4.18,
          4.18,
          4.18,
          9.79,
          9.79,
          9.79,
          9.79,
          9.79,
          9.79,
          9.79,
          9.79,
          9.79,
          9.79,
          9.79,
          9.79,
          9.79,
          9.79,
          9.79,
          9.79,
          9.79,
          9.79,
          9.79,
          9.79,
          9.79,
          9.79,
          9.79,
          9.79,
          9.79,
          9.79,
          9.79,
          9.79,
          9.79,
          13.68,
          13.68,
          13.68,
          13.68,
          13.68,
          13.68,
          13.68,
          13.68,
          13.68,
          13.68,
          13.68,
          13.68,
          13.68,
          13.68,
          13.68,
          13.68,
          13.68,
          13.68,
          13.68,
          13.68,
          13.68,
          13.68,
          13.68,
          13.68,
          13.68,
          13.68,
          13.68,
          13.68,
          13.68,
          13.68,
          13.68,
          13.68,
          13.68,
          13.68,
          13.68,
          13.68,
          13.68,
          13.68,
          13.68,
          13.68,
          13.68,
          13.68,
          13.68,
          13.68,
          13.68,
          13.68,
          13.68,
          13.68,
          13.68,
          13.68,
          13.68,
          13.68,
          13.68,
          13.68,
          13.68,
          13.68,
          5.5,
          5.5,
          5.5,
          5.5,
          5.5,
          5.5,
          5.5,
          5.5,
          5.5,
          5.5,
          5.5,
          3.04,
          3.04,
          3.04,
          3.04,
          4.95,
          4.95,
          4.95,
          4.95,
          4.95,
          4.95,
          4.95,
          4.95,
          4.95,
          4.95,
          4.95,
          4.95,
          4.95,
          4.95,
          4.95,
          4.95,
          4.95,
          4.95,
          4.95,
          4.95,
          4.95,
          4.95,
          4.95,
          0.98,
          0.98,
          0.98,
          0.98,
          0.98,
          0.98,
          0.98,
          0.98,
          0.98,
          0.98,
          0.98,
          0.98,
          0.98,
          0.98,
          0.98,
          4.09,
          4.09,
          4.09,
          4.09,
          4.09,
          4.09,
          4.09,
          4.09,
          4.09,
          4.09,
          4.09,
          4.09,
          4.09,
          4.09,
          4.09,
          4.09,
          4.09,
          4.09,
          4.09,
          4.09,
          4.09,
          4.09,
          4.09,
          4.09,
          4.09,
          4.09,
          4.09,
          4.09,
          4.09,
          4.09,
          4.09,
          153.99,
          153.99,
          153.99,
          153.99,
          153.99,
          153.99,
          153.99,
          153.99,
          153.99,
          153.99,
          153.99,
          153.99,
          153.99,
          153.99,
          153.99,
          153.99,
          153.99,
          153.99,
          153.99,
          153.99,
          153.99,
          153.99,
          153.99,
          153.99,
          153.99,
          153.99,
          153.99,
          153.99,
          153.99,
          153.99,
          153.99,
          153.99,
          153.99,
          153.99,
          153.99,
          153.99,
          399.99,
          399.99,
          399.99,
          399.99,
          399.99,
          399.99,
          399.99,
          399.99,
          399.99,
          399.99,
          399.99,
          399.99,
          399.99,
          399.99,
          399.99,
          399.99,
          399.99,
          399.99,
          399.99,
          399.99,
          399.99,
          399.99,
          399.99,
          399.99,
          399.99,
          399.99,
          399.99,
          399.99,
          399.99,
          399.99,
          399.99,
          399.99,
          399.99,
          399.99,
          399.99,
          399.99,
          399.99,
          399.99,
          399.99,
          399.99,
          399.99,
          399.99,
          399.99,
          399.99,
          399.99,
          399.99,
          399.99,
          399.99,
          399.99,
          399.99,
          399.99,
          399.99,
          399.99,
          399.99,
          399.99,
          399.99,
          399.99,
          399.99,
          399.99,
          399.99,
          399.99,
          399.99,
          399.99,
          399.99,
          399.99,
          399.99,
          399.99,
          399.99,
          399.99,
          399.99,
          399.99,
          399.99,
          399.99,
          399.99,
          399.99,
          399.99,
          399.99,
          399.99,
          399.99,
          399.99,
          399.99,
          399.99,
          399.99,
          399.99,
          399.99,
          399.99,
          399.99,
          399.99,
          399.99,
          399.99,
          399.99,
          399.99,
          399.99,
          399.99,
          399.99,
          399.99,
          399.99,
          399.99,
          399.99,
          399.99,
          9.19,
          9.19,
          9.19,
          9.19,
          9.19,
          9.19,
          9.19,
          9.19,
          9.19,
          12.49,
          12.49,
          12.49,
          12.49,
          12.49,
          12.49,
          12.49,
          49.95,
          49.95,
          49.95,
          49.95,
          49.95,
          49.95,
          49.95,
          49.95,
          49.95,
          49.95,
          49.95,
          49.95,
          49.95,
          49.95,
          49.95,
          49.95,
          49.95,
          49.95,
          49.95,
          44.78,
          44.78,
          44.78,
          44.78,
          44.78,
          8.81,
          8.81,
          8.81,
          8.81,
          8.81,
          8.81,
          8.81,
          8.81,
          8.81,
          11.86,
          11.86,
          11.86,
          11.86,
          11.86,
          47.99,
          47.99,
          47.99,
          47.99,
          47.99,
          47.99,
          44.89,
          44.89,
          44.89,
          44.89,
          44.89,
          44.89,
          44.89,
          44.89,
          44.89,
          44.89,
          44.89,
          44.89,
          44.89,
          44.89,
          44.89,
          44.89,
          44.89,
          44.89,
          44.89,
          44.89,
          44.89,
          44.89,
          44.89,
          44.89,
          44.89,
          45.17,
          45.17,
          45.17,
          45.17,
          45.17,
          45.17,
          45.17,
          8.52,
          8.52,
          8.52,
          8.52,
          8.52,
          8.52,
          8.52,
          8.52,
          8.52,
          8.52,
          8.52,
          8.52,
          8.52,
          8.52,
          8.52,
          8.52,
          8.52,
          8.52,
          8.52,
          8.52,
          8.52,
          8.52,
          8.52,
          8.52,
          40.85,
          40.85,
          4.99,
          4.99,
          4.99,
          4.99,
          4.99,
          4.99,
          4.99,
          4.99,
          4.99,
          4.99,
          4.99,
          4.99,
          14.99,
          14.99,
          14.99,
          14.99,
          14.99,
          14.99,
          14.99,
          14.99,
          14.99,
          14.99,
          14.99,
          14.99,
          14.99,
          14.99,
          14.99,
          14.99,
          14.99,
          14.99,
          14.99,
          14.99,
          14.99,
          14.99,
          14.99,
          14.99,
          14.99,
          14.99,
          14.99,
          14.99,
          14.99,
          14.99,
          14.99,
          14.99,
          14.99,
          14.99,
          14.99,
          14.99,
          14.99,
          14.99,
          14.99,
          14.99,
          14.99,
          14.99,
          14.99,
          14.99,
          14.99,
          14.99,
          14.99,
          14.99,
          14.99,
          14.99,
          14.99,
          14.99,
          14.99,
          14.99,
          14.99,
          13.92,
          13.92,
          13.92,
          13.92,
          13.92,
          13.92,
          13.92,
          35.69,
          35.69,
          35.69,
          35.69,
          35.69,
          35.69,
          36.86,
          36.86,
          36.86,
          36.86,
          36.86,
          36.86,
          36.86,
          36.86,
          36.86,
          36.86,
          36.86,
          36.86,
          36.86,
          36.86,
          36.86,
          36.86,
          36.86
         ],
         "y0": " ",
         "yaxis": "y"
        }
       ],
       "layout": {
        "autosize": true,
        "boxmode": "group",
        "height": 600,
        "legend": {
         "tracegroupgap": 0
        },
        "margin": {
         "t": 60
        },
        "template": {
         "data": {
          "bar": [
           {
            "error_x": {
             "color": "#2a3f5f"
            },
            "error_y": {
             "color": "#2a3f5f"
            },
            "marker": {
             "line": {
              "color": "#E5ECF6",
              "width": 0.5
             },
             "pattern": {
              "fillmode": "overlay",
              "size": 10,
              "solidity": 0.2
             }
            },
            "type": "bar"
           }
          ],
          "barpolar": [
           {
            "marker": {
             "line": {
              "color": "#E5ECF6",
              "width": 0.5
             },
             "pattern": {
              "fillmode": "overlay",
              "size": 10,
              "solidity": 0.2
             }
            },
            "type": "barpolar"
           }
          ],
          "carpet": [
           {
            "aaxis": {
             "endlinecolor": "#2a3f5f",
             "gridcolor": "white",
             "linecolor": "white",
             "minorgridcolor": "white",
             "startlinecolor": "#2a3f5f"
            },
            "baxis": {
             "endlinecolor": "#2a3f5f",
             "gridcolor": "white",
             "linecolor": "white",
             "minorgridcolor": "white",
             "startlinecolor": "#2a3f5f"
            },
            "type": "carpet"
           }
          ],
          "choropleth": [
           {
            "colorbar": {
             "outlinewidth": 0,
             "ticks": ""
            },
            "type": "choropleth"
           }
          ],
          "contour": [
           {
            "colorbar": {
             "outlinewidth": 0,
             "ticks": ""
            },
            "colorscale": [
             [
              0,
              "#0d0887"
             ],
             [
              0.1111111111111111,
              "#46039f"
             ],
             [
              0.2222222222222222,
              "#7201a8"
             ],
             [
              0.3333333333333333,
              "#9c179e"
             ],
             [
              0.4444444444444444,
              "#bd3786"
             ],
             [
              0.5555555555555556,
              "#d8576b"
             ],
             [
              0.6666666666666666,
              "#ed7953"
             ],
             [
              0.7777777777777778,
              "#fb9f3a"
             ],
             [
              0.8888888888888888,
              "#fdca26"
             ],
             [
              1,
              "#f0f921"
             ]
            ],
            "type": "contour"
           }
          ],
          "contourcarpet": [
           {
            "colorbar": {
             "outlinewidth": 0,
             "ticks": ""
            },
            "type": "contourcarpet"
           }
          ],
          "heatmap": [
           {
            "colorbar": {
             "outlinewidth": 0,
             "ticks": ""
            },
            "colorscale": [
             [
              0,
              "#0d0887"
             ],
             [
              0.1111111111111111,
              "#46039f"
             ],
             [
              0.2222222222222222,
              "#7201a8"
             ],
             [
              0.3333333333333333,
              "#9c179e"
             ],
             [
              0.4444444444444444,
              "#bd3786"
             ],
             [
              0.5555555555555556,
              "#d8576b"
             ],
             [
              0.6666666666666666,
              "#ed7953"
             ],
             [
              0.7777777777777778,
              "#fb9f3a"
             ],
             [
              0.8888888888888888,
              "#fdca26"
             ],
             [
              1,
              "#f0f921"
             ]
            ],
            "type": "heatmap"
           }
          ],
          "heatmapgl": [
           {
            "colorbar": {
             "outlinewidth": 0,
             "ticks": ""
            },
            "colorscale": [
             [
              0,
              "#0d0887"
             ],
             [
              0.1111111111111111,
              "#46039f"
             ],
             [
              0.2222222222222222,
              "#7201a8"
             ],
             [
              0.3333333333333333,
              "#9c179e"
             ],
             [
              0.4444444444444444,
              "#bd3786"
             ],
             [
              0.5555555555555556,
              "#d8576b"
             ],
             [
              0.6666666666666666,
              "#ed7953"
             ],
             [
              0.7777777777777778,
              "#fb9f3a"
             ],
             [
              0.8888888888888888,
              "#fdca26"
             ],
             [
              1,
              "#f0f921"
             ]
            ],
            "type": "heatmapgl"
           }
          ],
          "histogram": [
           {
            "marker": {
             "pattern": {
              "fillmode": "overlay",
              "size": 10,
              "solidity": 0.2
             }
            },
            "type": "histogram"
           }
          ],
          "histogram2d": [
           {
            "colorbar": {
             "outlinewidth": 0,
             "ticks": ""
            },
            "colorscale": [
             [
              0,
              "#0d0887"
             ],
             [
              0.1111111111111111,
              "#46039f"
             ],
             [
              0.2222222222222222,
              "#7201a8"
             ],
             [
              0.3333333333333333,
              "#9c179e"
             ],
             [
              0.4444444444444444,
              "#bd3786"
             ],
             [
              0.5555555555555556,
              "#d8576b"
             ],
             [
              0.6666666666666666,
              "#ed7953"
             ],
             [
              0.7777777777777778,
              "#fb9f3a"
             ],
             [
              0.8888888888888888,
              "#fdca26"
             ],
             [
              1,
              "#f0f921"
             ]
            ],
            "type": "histogram2d"
           }
          ],
          "histogram2dcontour": [
           {
            "colorbar": {
             "outlinewidth": 0,
             "ticks": ""
            },
            "colorscale": [
             [
              0,
              "#0d0887"
             ],
             [
              0.1111111111111111,
              "#46039f"
             ],
             [
              0.2222222222222222,
              "#7201a8"
             ],
             [
              0.3333333333333333,
              "#9c179e"
             ],
             [
              0.4444444444444444,
              "#bd3786"
             ],
             [
              0.5555555555555556,
              "#d8576b"
             ],
             [
              0.6666666666666666,
              "#ed7953"
             ],
             [
              0.7777777777777778,
              "#fb9f3a"
             ],
             [
              0.8888888888888888,
              "#fdca26"
             ],
             [
              1,
              "#f0f921"
             ]
            ],
            "type": "histogram2dcontour"
           }
          ],
          "mesh3d": [
           {
            "colorbar": {
             "outlinewidth": 0,
             "ticks": ""
            },
            "type": "mesh3d"
           }
          ],
          "parcoords": [
           {
            "line": {
             "colorbar": {
              "outlinewidth": 0,
              "ticks": ""
             }
            },
            "type": "parcoords"
           }
          ],
          "pie": [
           {
            "automargin": true,
            "type": "pie"
           }
          ],
          "scatter": [
           {
            "fillpattern": {
             "fillmode": "overlay",
             "size": 10,
             "solidity": 0.2
            },
            "type": "scatter"
           }
          ],
          "scatter3d": [
           {
            "line": {
             "colorbar": {
              "outlinewidth": 0,
              "ticks": ""
             }
            },
            "marker": {
             "colorbar": {
              "outlinewidth": 0,
              "ticks": ""
             }
            },
            "type": "scatter3d"
           }
          ],
          "scattercarpet": [
           {
            "marker": {
             "colorbar": {
              "outlinewidth": 0,
              "ticks": ""
             }
            },
            "type": "scattercarpet"
           }
          ],
          "scattergeo": [
           {
            "marker": {
             "colorbar": {
              "outlinewidth": 0,
              "ticks": ""
             }
            },
            "type": "scattergeo"
           }
          ],
          "scattergl": [
           {
            "marker": {
             "colorbar": {
              "outlinewidth": 0,
              "ticks": ""
             }
            },
            "type": "scattergl"
           }
          ],
          "scattermapbox": [
           {
            "marker": {
             "colorbar": {
              "outlinewidth": 0,
              "ticks": ""
             }
            },
            "type": "scattermapbox"
           }
          ],
          "scatterpolar": [
           {
            "marker": {
             "colorbar": {
              "outlinewidth": 0,
              "ticks": ""
             }
            },
            "type": "scatterpolar"
           }
          ],
          "scatterpolargl": [
           {
            "marker": {
             "colorbar": {
              "outlinewidth": 0,
              "ticks": ""
             }
            },
            "type": "scatterpolargl"
           }
          ],
          "scatterternary": [
           {
            "marker": {
             "colorbar": {
              "outlinewidth": 0,
              "ticks": ""
             }
            },
            "type": "scatterternary"
           }
          ],
          "surface": [
           {
            "colorbar": {
             "outlinewidth": 0,
             "ticks": ""
            },
            "colorscale": [
             [
              0,
              "#0d0887"
             ],
             [
              0.1111111111111111,
              "#46039f"
             ],
             [
              0.2222222222222222,
              "#7201a8"
             ],
             [
              0.3333333333333333,
              "#9c179e"
             ],
             [
              0.4444444444444444,
              "#bd3786"
             ],
             [
              0.5555555555555556,
              "#d8576b"
             ],
             [
              0.6666666666666666,
              "#ed7953"
             ],
             [
              0.7777777777777778,
              "#fb9f3a"
             ],
             [
              0.8888888888888888,
              "#fdca26"
             ],
             [
              1,
              "#f0f921"
             ]
            ],
            "type": "surface"
           }
          ],
          "table": [
           {
            "cells": {
             "fill": {
              "color": "#EBF0F8"
             },
             "line": {
              "color": "white"
             }
            },
            "header": {
             "fill": {
              "color": "#C8D4E3"
             },
             "line": {
              "color": "white"
             }
            },
            "type": "table"
           }
          ]
         },
         "layout": {
          "annotationdefaults": {
           "arrowcolor": "#2a3f5f",
           "arrowhead": 0,
           "arrowwidth": 1
          },
          "autotypenumbers": "strict",
          "coloraxis": {
           "colorbar": {
            "outlinewidth": 0,
            "ticks": ""
           }
          },
          "colorscale": {
           "diverging": [
            [
             0,
             "#8e0152"
            ],
            [
             0.1,
             "#c51b7d"
            ],
            [
             0.2,
             "#de77ae"
            ],
            [
             0.3,
             "#f1b6da"
            ],
            [
             0.4,
             "#fde0ef"
            ],
            [
             0.5,
             "#f7f7f7"
            ],
            [
             0.6,
             "#e6f5d0"
            ],
            [
             0.7,
             "#b8e186"
            ],
            [
             0.8,
             "#7fbc41"
            ],
            [
             0.9,
             "#4d9221"
            ],
            [
             1,
             "#276419"
            ]
           ],
           "sequential": [
            [
             0,
             "#0d0887"
            ],
            [
             0.1111111111111111,
             "#46039f"
            ],
            [
             0.2222222222222222,
             "#7201a8"
            ],
            [
             0.3333333333333333,
             "#9c179e"
            ],
            [
             0.4444444444444444,
             "#bd3786"
            ],
            [
             0.5555555555555556,
             "#d8576b"
            ],
            [
             0.6666666666666666,
             "#ed7953"
            ],
            [
             0.7777777777777778,
             "#fb9f3a"
            ],
            [
             0.8888888888888888,
             "#fdca26"
            ],
            [
             1,
             "#f0f921"
            ]
           ],
           "sequentialminus": [
            [
             0,
             "#0d0887"
            ],
            [
             0.1111111111111111,
             "#46039f"
            ],
            [
             0.2222222222222222,
             "#7201a8"
            ],
            [
             0.3333333333333333,
             "#9c179e"
            ],
            [
             0.4444444444444444,
             "#bd3786"
            ],
            [
             0.5555555555555556,
             "#d8576b"
            ],
            [
             0.6666666666666666,
             "#ed7953"
            ],
            [
             0.7777777777777778,
             "#fb9f3a"
            ],
            [
             0.8888888888888888,
             "#fdca26"
            ],
            [
             1,
             "#f0f921"
            ]
           ]
          },
          "colorway": [
           "#636efa",
           "#EF553B",
           "#00cc96",
           "#ab63fa",
           "#FFA15A",
           "#19d3f3",
           "#FF6692",
           "#B6E880",
           "#FF97FF",
           "#FECB52"
          ],
          "font": {
           "color": "#2a3f5f"
          },
          "geo": {
           "bgcolor": "white",
           "lakecolor": "white",
           "landcolor": "#E5ECF6",
           "showlakes": true,
           "showland": true,
           "subunitcolor": "white"
          },
          "hoverlabel": {
           "align": "left"
          },
          "hovermode": "closest",
          "mapbox": {
           "style": "light"
          },
          "paper_bgcolor": "white",
          "plot_bgcolor": "#E5ECF6",
          "polar": {
           "angularaxis": {
            "gridcolor": "white",
            "linecolor": "white",
            "ticks": ""
           },
           "bgcolor": "#E5ECF6",
           "radialaxis": {
            "gridcolor": "white",
            "linecolor": "white",
            "ticks": ""
           }
          },
          "scene": {
           "xaxis": {
            "backgroundcolor": "#E5ECF6",
            "gridcolor": "white",
            "gridwidth": 2,
            "linecolor": "white",
            "showbackground": true,
            "ticks": "",
            "zerolinecolor": "white"
           },
           "yaxis": {
            "backgroundcolor": "#E5ECF6",
            "gridcolor": "white",
            "gridwidth": 2,
            "linecolor": "white",
            "showbackground": true,
            "ticks": "",
            "zerolinecolor": "white"
           },
           "zaxis": {
            "backgroundcolor": "#E5ECF6",
            "gridcolor": "white",
            "gridwidth": 2,
            "linecolor": "white",
            "showbackground": true,
            "ticks": "",
            "zerolinecolor": "white"
           }
          },
          "shapedefaults": {
           "line": {
            "color": "#2a3f5f"
           }
          },
          "ternary": {
           "aaxis": {
            "gridcolor": "white",
            "linecolor": "white",
            "ticks": ""
           },
           "baxis": {
            "gridcolor": "white",
            "linecolor": "white",
            "ticks": ""
           },
           "bgcolor": "#E5ECF6",
           "caxis": {
            "gridcolor": "white",
            "linecolor": "white",
            "ticks": ""
           }
          },
          "title": {
           "x": 0.05
          },
          "xaxis": {
           "automargin": true,
           "gridcolor": "white",
           "linecolor": "white",
           "ticks": "",
           "title": {
            "standoff": 15
           },
           "zerolinecolor": "white",
           "zerolinewidth": 2
          },
          "yaxis": {
           "automargin": true,
           "gridcolor": "white",
           "linecolor": "white",
           "ticks": "",
           "title": {
            "standoff": 15
           },
           "zerolinecolor": "white",
           "zerolinewidth": 2
          }
         }
        },
        "title": {
         "text": "Boxplot and Data Distribution of each Rating Class"
        },
        "width": 800,
        "xaxis": {
         "anchor": "y",
         "domain": [
          0,
          1
         ],
         "title": {
          "text": "overall"
         }
        },
        "yaxis": {
         "anchor": "x",
         "domain": [
          0,
          1
         ],
         "title": {
          "text": "price"
         }
        }
       }
      }
     },
     "metadata": {},
     "output_type": "display_data"
    }
   ],
   "source": [
    "import plotly.express as px\n",
    "\n",
    "# values = []\n",
    "# for i in [1,2]:\n",
    "#     values.append(df_merged.loc[df_merged.overall==i].price.to_numpy())\n",
    "\n",
    "group_labels = ['Group 1', 'Group 2', 'Group 3', 'Group 4', 'Group 5']\n",
    "# lets sample. Too naive to plot raw data points - its too large\n",
    "fig = px.box(df_merged, x=\"overall\", y=\"price\", points=\"all\")\n",
    "fig.update_layout(\n",
    "    title_text=\"Boxplot and Data Distribution of each Rating Class\",\n",
    "    autosize=True,\n",
    "    width=800,\n",
    "    height=600\n",
    ")\n",
    "fig\n"
   ]
  },
  {
   "cell_type": "markdown",
   "metadata": {},
   "source": [
    "I think it will be interesting to also show how the products are embedded in a 2D space. This will give us a better understanding of the performance of the sentence transformer"
   ]
  },
  {
   "cell_type": "code",
   "execution_count": 35,
   "metadata": {},
   "outputs": [],
   "source": [
    "metadata = metadata_loader(\"../raw_data/meta_Video_Games.json.gz\").\\\n",
    "           dropna().\\\n",
    "           reset_index(drop=True)"
   ]
  },
  {
   "cell_type": "code",
   "execution_count": 58,
   "metadata": {},
   "outputs": [],
   "source": [
    "with open('../components/product_embedding.pkl', 'rb') as handle:\n",
    "    x = pickle.load(handle)\n",
    "products = pd.DataFrame(x)\n",
    "\n",
    "ls = []\n",
    "for i in range(len(products)):\n",
    "    ls.append(products['embedding'][i].tolist())\n",
    "array_data = np.array(ls)\n"
   ]
  },
  {
   "cell_type": "code",
   "execution_count": 66,
   "metadata": {},
   "outputs": [
    {
     "data": {
      "application/vnd.plotly.v1+json": {
       "config": {
        "plotlyServerURL": "https://plot.ly"
       },
       "data": [
        {
         "hovertemplate": "title=64MB 1019 Block Memory Card compatible for Wii &amp; Gamecube<br>pca1=%{x}<br>pca2=%{y}<extra></extra>",
         "legendgroup": "64MB 1019 Block Memory Card compatible for Wii &amp; Gamecube",
         "marker": {
          "color": "#636efa",
          "symbol": "circle"
         },
         "mode": "markers",
         "name": "64MB 1019 Block Memory Card compatible for Wii &amp; Gamecube",
         "orientation": "v",
         "showlegend": true,
         "type": "scatter",
         "x": [
          0.13308745887567783
         ],
         "xaxis": "x",
         "y": [
          3.6867883432365884
         ],
         "yaxis": "y"
        },
        {
         "hovertemplate": "title=2 Pack - Gator Crunch Wii Gamecube 6FT Extension Cable / Cord (Lifetime Warranty, Bulk packaging)<br>pca1=%{x}<br>pca2=%{y}<extra></extra>",
         "legendgroup": "2 Pack - Gator Crunch Wii Gamecube 6FT Extension Cable / Cord (Lifetime Warranty, Bulk packaging)",
         "marker": {
          "color": "#EF553B",
          "symbol": "circle"
         },
         "mode": "markers",
         "name": "2 Pack - Gator Crunch Wii Gamecube 6FT Extension Cable / Cord (Lifetime Warranty, Bulk packaging)",
         "orientation": "v",
         "showlegend": true,
         "type": "scatter",
         "x": [
          -0.18679857660288962
         ],
         "xaxis": "x",
         "y": [
          2.8959098214634276
         ],
         "yaxis": "y"
        },
        {
         "hovertemplate": "title=Super Nintendo Entertainment System SNES Generic Super Nintendo Classic Controller<br>pca1=%{x}<br>pca2=%{y}<extra></extra>",
         "legendgroup": "Super Nintendo Entertainment System SNES Generic Super Nintendo Classic Controller",
         "marker": {
          "color": "#00cc96",
          "symbol": "circle"
         },
         "mode": "markers",
         "name": "Super Nintendo Entertainment System SNES Generic Super Nintendo Classic Controller",
         "orientation": "v",
         "showlegend": true,
         "type": "scatter",
         "x": [
          1.2679518250435589
         ],
         "xaxis": "x",
         "y": [
          4.327329425235368
         ],
         "yaxis": "y"
        },
        {
         "hovertemplate": "title=Data &amp; Power USB Cable for Sony PSP<br>pca1=%{x}<br>pca2=%{y}<extra></extra>",
         "legendgroup": "Data &amp; Power USB Cable for Sony PSP",
         "marker": {
          "color": "#ab63fa",
          "symbol": "circle"
         },
         "mode": "markers",
         "name": "Data &amp; Power USB Cable for Sony PSP",
         "orientation": "v",
         "showlegend": true,
         "type": "scatter",
         "x": [
          1.1286132032573926
         ],
         "xaxis": "x",
         "y": [
          3.9577428557389425
         ],
         "yaxis": "y"
        },
        {
         "hovertemplate": "title=Generic Xbox 360 Controller Battery Cover, White<br>pca1=%{x}<br>pca2=%{y}<extra></extra>",
         "legendgroup": "Generic Xbox 360 Controller Battery Cover, White",
         "marker": {
          "color": "#FFA15A",
          "symbol": "circle"
         },
         "mode": "markers",
         "name": "Generic Xbox 360 Controller Battery Cover, White",
         "orientation": "v",
         "showlegend": true,
         "type": "scatter",
         "x": [
          4.154127208554797
         ],
         "xaxis": "x",
         "y": [
          2.512949028515668
         ],
         "yaxis": "y"
        },
        {
         "hovertemplate": "title=Generic Headset with Microphone - Xbox 360<br>pca1=%{x}<br>pca2=%{y}<extra></extra>",
         "legendgroup": "Generic Headset with Microphone - Xbox 360",
         "marker": {
          "color": "#19d3f3",
          "symbol": "circle"
         },
         "mode": "markers",
         "name": "Generic Headset with Microphone - Xbox 360",
         "orientation": "v",
         "showlegend": true,
         "type": "scatter",
         "x": [
          1.1343135832621247
         ],
         "xaxis": "x",
         "y": [
          2.1722982124161323
         ],
         "yaxis": "y"
        },
        {
         "hovertemplate": "title=Mario Kart Racing Wheel for Wii (2pcs Bundle) (Bulk Packaging), Color May Vary<br>pca1=%{x}<br>pca2=%{y}<extra></extra>",
         "legendgroup": "Mario Kart Racing Wheel for Wii (2pcs Bundle) (Bulk Packaging), Color May Vary",
         "marker": {
          "color": "#FF6692",
          "symbol": "circle"
         },
         "mode": "markers",
         "name": "Mario Kart Racing Wheel for Wii (2pcs Bundle) (Bulk Packaging), Color May Vary",
         "orientation": "v",
         "showlegend": true,
         "type": "scatter",
         "x": [
          0.3456046810998095
         ],
         "xaxis": "x",
         "y": [
          3.1752339234367897
         ],
         "yaxis": "y"
        },
        {
         "hovertemplate": "title=Remote Controller and Nunchuk Nunchuck Combo Bundle Set<br>pca1=%{x}<br>pca2=%{y}<extra></extra>",
         "legendgroup": "Remote Controller and Nunchuk Nunchuck Combo Bundle Set",
         "marker": {
          "color": "#B6E880",
          "symbol": "circle"
         },
         "mode": "markers",
         "name": "Remote Controller and Nunchuk Nunchuck Combo Bundle Set",
         "orientation": "v",
         "showlegend": true,
         "type": "scatter",
         "x": [
          0.9496967446536901
         ],
         "xaxis": "x",
         "y": [
          4.028269435164236
         ],
         "yaxis": "y"
        },
        {
         "hovertemplate": "title=Nintendo Wii Wheel - PINK<br>pca1=%{x}<br>pca2=%{y}<extra></extra>",
         "legendgroup": "Nintendo Wii Wheel - PINK",
         "marker": {
          "color": "#FF97FF",
          "symbol": "circle"
         },
         "mode": "markers",
         "name": "Nintendo Wii Wheel - PINK",
         "orientation": "v",
         "showlegend": true,
         "type": "scatter",
         "x": [
          1.547622688004387
         ],
         "xaxis": "x",
         "y": [
          3.2883939874052017
         ],
         "yaxis": "y"
        },
        {
         "hovertemplate": "title=Xbox 360 HD VGA Audio/Video Cable 6ft<br>pca1=%{x}<br>pca2=%{y}<extra></extra>",
         "legendgroup": "Xbox 360 HD VGA Audio/Video Cable 6ft",
         "marker": {
          "color": "#FECB52",
          "symbol": "circle"
         },
         "mode": "markers",
         "name": "Xbox 360 HD VGA Audio/Video Cable 6ft",
         "orientation": "v",
         "showlegend": true,
         "type": "scatter",
         "x": [
          1.08577083260101
         ],
         "xaxis": "x",
         "y": [
          3.81744381240864
         ],
         "yaxis": "y"
        },
        {
         "hovertemplate": "title=Sega Genesis 1 Standard AV Cable (Bulk Packaging)<br>pca1=%{x}<br>pca2=%{y}<extra></extra>",
         "legendgroup": "Sega Genesis 1 Standard AV Cable (Bulk Packaging)",
         "marker": {
          "color": "#636efa",
          "symbol": "circle"
         },
         "mode": "markers",
         "name": "Sega Genesis 1 Standard AV Cable (Bulk Packaging)",
         "orientation": "v",
         "showlegend": true,
         "type": "scatter",
         "x": [
          -0.6130764612904283
         ],
         "xaxis": "x",
         "y": [
          1.9477234293352554
         ],
         "yaxis": "y"
        },
        {
         "hovertemplate": "title=Sega Genesis 2 &amp; 3 Standard AV Cable (Bulk Packaging)<br>pca1=%{x}<br>pca2=%{y}<extra></extra>",
         "legendgroup": "Sega Genesis 2 &amp; 3 Standard AV Cable (Bulk Packaging)",
         "marker": {
          "color": "#EF553B",
          "symbol": "circle"
         },
         "mode": "markers",
         "name": "Sega Genesis 2 &amp; 3 Standard AV Cable (Bulk Packaging)",
         "orientation": "v",
         "showlegend": true,
         "type": "scatter",
         "x": [
          -0.6130764612904283
         ],
         "xaxis": "x",
         "y": [
          1.9477234293352554
         ],
         "yaxis": "y"
        },
        {
         "hovertemplate": "title=Wii Nunchuk / Nunchuck Controller<br>pca1=%{x}<br>pca2=%{y}<extra></extra>",
         "legendgroup": "Wii Nunchuk / Nunchuck Controller",
         "marker": {
          "color": "#00cc96",
          "symbol": "circle"
         },
         "mode": "markers",
         "name": "Wii Nunchuk / Nunchuck Controller",
         "orientation": "v",
         "showlegend": true,
         "type": "scatter",
         "x": [
          -1.5998895357009222
         ],
         "xaxis": "x",
         "y": [
          1.1599294378288194
         ],
         "yaxis": "y"
        },
        {
         "hovertemplate": "title=Nintendo DSi XL - Midnight Blue<br>pca1=%{x}<br>pca2=%{y}<extra></extra>",
         "legendgroup": "Nintendo DSi XL - Midnight Blue",
         "marker": {
          "color": "#ab63fa",
          "symbol": "circle"
         },
         "mode": "markers",
         "name": "Nintendo DSi XL - Midnight Blue",
         "orientation": "v",
         "showlegend": true,
         "type": "scatter",
         "x": [
          10.357423685660414
         ],
         "xaxis": "x",
         "y": [
          -0.9288600697617182
         ],
         "yaxis": "y"
        },
        {
         "hovertemplate": "title=Assassin's Creed III Liberation PlayStation Vita Wi-Fi Bundle<br>pca1=%{x}<br>pca2=%{y}<extra></extra>",
         "legendgroup": "Assassin's Creed III Liberation PlayStation Vita Wi-Fi Bundle",
         "marker": {
          "color": "#FFA15A",
          "symbol": "circle"
         },
         "mode": "markers",
         "name": "Assassin's Creed III Liberation PlayStation Vita Wi-Fi Bundle",
         "orientation": "v",
         "showlegend": true,
         "type": "scatter",
         "x": [
          10.357423685660414
         ],
         "xaxis": "x",
         "y": [
          -0.9288600697617182
         ],
         "yaxis": "y"
        },
        {
         "hovertemplate": "title=Wii Motion Plus - Black (Bulk Packaging)<br>pca1=%{x}<br>pca2=%{y}<extra></extra>",
         "legendgroup": "Wii Motion Plus - Black (Bulk Packaging)",
         "marker": {
          "color": "#19d3f3",
          "symbol": "circle"
         },
         "mode": "markers",
         "name": "Wii Motion Plus - Black (Bulk Packaging)",
         "orientation": "v",
         "showlegend": true,
         "type": "scatter",
         "x": [
          -1.644990615076617
         ],
         "xaxis": "x",
         "y": [
          1.0082132973709224
         ],
         "yaxis": "y"
        },
        {
         "hovertemplate": "title=Wii Wireless Remote Control (Non OEM) + Case(Without Retail Package)<br>pca1=%{x}<br>pca2=%{y}<extra></extra>",
         "legendgroup": "Wii Wireless Remote Control (Non OEM) + Case(Without Retail Package)",
         "marker": {
          "color": "#FF6692",
          "symbol": "circle"
         },
         "mode": "markers",
         "name": "Wii Wireless Remote Control (Non OEM) + Case(Without Retail Package)",
         "orientation": "v",
         "showlegend": true,
         "type": "scatter",
         "x": [
          -0.4206988774300882
         ],
         "xaxis": "x",
         "y": [
          3.6138793700475373
         ],
         "yaxis": "y"
        },
        {
         "hovertemplate": "title=Nintendo DSi XL - 20 In 1 Special Edition Silver Starter Kit<br>pca1=%{x}<br>pca2=%{y}<extra></extra>",
         "legendgroup": "Nintendo DSi XL - 20 In 1 Special Edition Silver Starter Kit",
         "marker": {
          "color": "#B6E880",
          "symbol": "circle"
         },
         "mode": "markers",
         "name": "Nintendo DSi XL - 20 In 1 Special Edition Silver Starter Kit",
         "orientation": "v",
         "showlegend": true,
         "type": "scatter",
         "x": [
          10.357423685660414
         ],
         "xaxis": "x",
         "y": [
          -0.9288600697617182
         ],
         "yaxis": "y"
        },
        {
         "hovertemplate": "title=Nintendo DSi XL 20 in 1 Starter Kit - Gold<br>pca1=%{x}<br>pca2=%{y}<extra></extra>",
         "legendgroup": "Nintendo DSi XL 20 in 1 Starter Kit - Gold",
         "marker": {
          "color": "#FF97FF",
          "symbol": "circle"
         },
         "mode": "markers",
         "name": "Nintendo DSi XL 20 in 1 Starter Kit - Gold",
         "orientation": "v",
         "showlegend": true,
         "type": "scatter",
         "x": [
          10.357423685660414
         ],
         "xaxis": "x",
         "y": [
          -0.9288600697617182
         ],
         "yaxis": "y"
        },
        {
         "hovertemplate": "title=Nintendo 3DS Pull and Go Folio - Blue<br>pca1=%{x}<br>pca2=%{y}<extra></extra>",
         "legendgroup": "Nintendo 3DS Pull and Go Folio - Blue",
         "marker": {
          "color": "#FECB52",
          "symbol": "circle"
         },
         "mode": "markers",
         "name": "Nintendo 3DS Pull and Go Folio - Blue",
         "orientation": "v",
         "showlegend": true,
         "type": "scatter",
         "x": [
          -1.1401511331608007
         ],
         "xaxis": "x",
         "y": [
          2.7098976547797706
         ],
         "yaxis": "y"
        },
        {
         "hovertemplate": "title=DS Universal Pull and Go Folio - Pink<br>pca1=%{x}<br>pca2=%{y}<extra></extra>",
         "legendgroup": "DS Universal Pull and Go Folio - Pink",
         "marker": {
          "color": "#636efa",
          "symbol": "circle"
         },
         "mode": "markers",
         "name": "DS Universal Pull and Go Folio - Pink",
         "orientation": "v",
         "showlegend": true,
         "type": "scatter",
         "x": [
          -1.2026920638621348
         ],
         "xaxis": "x",
         "y": [
          2.763491879523405
         ],
         "yaxis": "y"
        },
        {
         "hovertemplate": "title=250GB HDD Hard Disk Drive for Microsoft Xbox 360 Slim (Generic)<br>pca1=%{x}<br>pca2=%{y}<extra></extra>",
         "legendgroup": "250GB HDD Hard Disk Drive for Microsoft Xbox 360 Slim (Generic)",
         "marker": {
          "color": "#EF553B",
          "symbol": "circle"
         },
         "mode": "markers",
         "name": "250GB HDD Hard Disk Drive for Microsoft Xbox 360 Slim (Generic)",
         "orientation": "v",
         "showlegend": true,
         "type": "scatter",
         "x": [
          -1.479582939605568
         ],
         "xaxis": "x",
         "y": [
          0.303846375263889
         ],
         "yaxis": "y"
        },
        {
         "hovertemplate": "title=Chimaera Wireless Gaming Headset<br>pca1=%{x}<br>pca2=%{y}<extra></extra>",
         "legendgroup": "Chimaera Wireless Gaming Headset",
         "marker": {
          "color": "#00cc96",
          "symbol": "circle"
         },
         "mode": "markers",
         "name": "Chimaera Wireless Gaming Headset",
         "orientation": "v",
         "showlegend": true,
         "type": "scatter",
         "x": [
          -1.5955898303249898
         ],
         "xaxis": "x",
         "y": [
          0.00809556531942374
         ],
         "yaxis": "y"
        },
        {
         "hovertemplate": "title=White Motion Plus Adapter + Silicone Sleeve for Nintendo Wii<br>pca1=%{x}<br>pca2=%{y}<extra></extra>",
         "legendgroup": "White Motion Plus Adapter + Silicone Sleeve for Nintendo Wii",
         "marker": {
          "color": "#ab63fa",
          "symbol": "circle"
         },
         "mode": "markers",
         "name": "White Motion Plus Adapter + Silicone Sleeve for Nintendo Wii",
         "orientation": "v",
         "showlegend": true,
         "type": "scatter",
         "x": [
          -1.5474133970866906
         ],
         "xaxis": "x",
         "y": [
          0.33276917086075025
         ],
         "yaxis": "y"
        },
        {
         "hovertemplate": "title=Gold Chrome XBOX 360 Controller Shell Kit<br>pca1=%{x}<br>pca2=%{y}<extra></extra>",
         "legendgroup": "Gold Chrome XBOX 360 Controller Shell Kit",
         "marker": {
          "color": "#FFA15A",
          "symbol": "circle"
         },
         "mode": "markers",
         "name": "Gold Chrome XBOX 360 Controller Shell Kit",
         "orientation": "v",
         "showlegend": true,
         "type": "scatter",
         "x": [
          -1.4227510084301818
         ],
         "xaxis": "x",
         "y": [
          1.9886353188316381
         ],
         "yaxis": "y"
        },
        {
         "hovertemplate": "title=320GB HDD Compatible with Xbox 360 Slim<br>pca1=%{x}<br>pca2=%{y}<extra></extra>",
         "legendgroup": "320GB HDD Compatible with Xbox 360 Slim",
         "marker": {
          "color": "#19d3f3",
          "symbol": "circle"
         },
         "mode": "markers",
         "name": "320GB HDD Compatible with Xbox 360 Slim",
         "orientation": "v",
         "showlegend": true,
         "type": "scatter",
         "x": [
          -1.4365926992114653
         ],
         "xaxis": "x",
         "y": [
          1.095130418930854
         ],
         "yaxis": "y"
        },
        {
         "hovertemplate": "title=PDP Afterglow AX.4 Communicator for Xbox360 - Green<br>pca1=%{x}<br>pca2=%{y}<extra></extra>",
         "legendgroup": "PDP Afterglow AX.4 Communicator for Xbox360 - Green",
         "marker": {
          "color": "#FF6692",
          "symbol": "circle"
         },
         "mode": "markers",
         "name": "PDP Afterglow AX.4 Communicator for Xbox360 - Green",
         "orientation": "v",
         "showlegend": true,
         "type": "scatter",
         "x": [
          0.801550985799149
         ],
         "xaxis": "x",
         "y": [
          1.1226363270087858
         ],
         "yaxis": "y"
        },
        {
         "hovertemplate": "title=PDP Afterglow AX.4 Communicator for Xbox 360 - Blue<br>pca1=%{x}<br>pca2=%{y}<extra></extra>",
         "legendgroup": "PDP Afterglow AX.4 Communicator for Xbox 360 - Blue",
         "marker": {
          "color": "#B6E880",
          "symbol": "circle"
         },
         "mode": "markers",
         "name": "PDP Afterglow AX.4 Communicator for Xbox 360 - Blue",
         "orientation": "v",
         "showlegend": true,
         "type": "scatter",
         "x": [
          0.8887757140335123
         ],
         "xaxis": "x",
         "y": [
          0.9253111581898643
         ],
         "yaxis": "y"
        },
        {
         "hovertemplate": "title=Black 250GB 250 GB Hard Drive Disk HDD for Xbox 360 SLIM<br>pca1=%{x}<br>pca2=%{y}<extra></extra>",
         "legendgroup": "Black 250GB 250 GB Hard Drive Disk HDD for Xbox 360 SLIM",
         "marker": {
          "color": "#FF97FF",
          "symbol": "circle"
         },
         "mode": "markers",
         "name": "Black 250GB 250 GB Hard Drive Disk HDD for Xbox 360 SLIM",
         "orientation": "v",
         "showlegend": true,
         "type": "scatter",
         "x": [
          -1.278931263249173
         ],
         "xaxis": "x",
         "y": [
          1.8023155759935834
         ],
         "yaxis": "y"
        },
        {
         "hovertemplate": "title=250G HDD Hard Disk Drive For Microsoft Xbox 360 Slim<br>pca1=%{x}<br>pca2=%{y}<extra></extra>",
         "legendgroup": "250G HDD Hard Disk Drive For Microsoft Xbox 360 Slim",
         "marker": {
          "color": "#FECB52",
          "symbol": "circle"
         },
         "mode": "markers",
         "name": "250G HDD Hard Disk Drive For Microsoft Xbox 360 Slim",
         "orientation": "v",
         "showlegend": true,
         "type": "scatter",
         "x": [
          -0.8414820973421429
         ],
         "xaxis": "x",
         "y": [
          2.711341572050554
         ],
         "yaxis": "y"
        },
        {
         "hovertemplate": "title=Wireless Pc Usb Gaming Receiver for Xbox 360/xbox360<br>pca1=%{x}<br>pca2=%{y}<extra></extra>",
         "legendgroup": "Wireless Pc Usb Gaming Receiver for Xbox 360/xbox360",
         "marker": {
          "color": "#636efa",
          "symbol": "circle"
         },
         "mode": "markers",
         "name": "Wireless Pc Usb Gaming Receiver for Xbox 360/xbox360",
         "orientation": "v",
         "showlegend": true,
         "type": "scatter",
         "x": [
          -1.6202537759965794
         ],
         "xaxis": "x",
         "y": [
          1.3545946477622468
         ],
         "yaxis": "y"
        },
        {
         "hovertemplate": "title=320GB HDD Hard Drive for Xbox 360 Slim - Generic Version<br>pca1=%{x}<br>pca2=%{y}<extra></extra>",
         "legendgroup": "320GB HDD Hard Drive for Xbox 360 Slim - Generic Version",
         "marker": {
          "color": "#EF553B",
          "symbol": "circle"
         },
         "mode": "markers",
         "name": "320GB HDD Hard Drive for Xbox 360 Slim - Generic Version",
         "orientation": "v",
         "showlegend": true,
         "type": "scatter",
         "x": [
          -1.3776731556307167
         ],
         "xaxis": "x",
         "y": [
          0.5442095148193361
         ],
         "yaxis": "y"
        },
        {
         "hovertemplate": "title=HDE&reg; White Replacement Kit Xbox 360 Controller Shell + Button Parts<br>pca1=%{x}<br>pca2=%{y}<extra></extra>",
         "legendgroup": "HDE&reg; White Replacement Kit Xbox 360 Controller Shell + Button Parts",
         "marker": {
          "color": "#00cc96",
          "symbol": "circle"
         },
         "mode": "markers",
         "name": "HDE&reg; White Replacement Kit Xbox 360 Controller Shell + Button Parts",
         "orientation": "v",
         "showlegend": true,
         "type": "scatter",
         "x": [
          -1.7220926175376752
         ],
         "xaxis": "x",
         "y": [
          0.38597359165193956
         ],
         "yaxis": "y"
        },
        {
         "hovertemplate": "title=HDE &reg; Black Replacement Xbox 360 Controller Shell + Buttons<br>pca1=%{x}<br>pca2=%{y}<extra></extra>",
         "legendgroup": "HDE &reg; Black Replacement Xbox 360 Controller Shell + Buttons",
         "marker": {
          "color": "#ab63fa",
          "symbol": "circle"
         },
         "mode": "markers",
         "name": "HDE &reg; Black Replacement Xbox 360 Controller Shell + Buttons",
         "orientation": "v",
         "showlegend": true,
         "type": "scatter",
         "x": [
          -1.7220926175376752
         ],
         "xaxis": "x",
         "y": [
          0.38597359165193956
         ],
         "yaxis": "y"
        },
        {
         "hovertemplate": "title=MOGA Mobile Gaming System for Android 2.3+<br>pca1=%{x}<br>pca2=%{y}<extra></extra>",
         "legendgroup": "MOGA Mobile Gaming System for Android 2.3+",
         "marker": {
          "color": "#FFA15A",
          "symbol": "circle"
         },
         "mode": "markers",
         "name": "MOGA Mobile Gaming System for Android 2.3+",
         "orientation": "v",
         "showlegend": true,
         "type": "scatter",
         "x": [
          10.357423685660414
         ],
         "xaxis": "x",
         "y": [
          -0.9288600697617182
         ],
         "yaxis": "y"
        },
        {
         "hovertemplate": "title=[Upgraded Version] Ultra-comfort Black &amp; Orange Wireless Bluetooth Ps3 Controller for the Playstation 3 Console By Avalid<br>pca1=%{x}<br>pca2=%{y}<extra></extra>",
         "legendgroup": "[Upgraded Version] Ultra-comfort Black &amp; Orange Wireless Bluetooth Ps3 Controller for the Playstation 3 Console By Avalid",
         "marker": {
          "color": "#19d3f3",
          "symbol": "circle"
         },
         "mode": "markers",
         "name": "[Upgraded Version] Ultra-comfort Black &amp; Orange Wireless Bluetooth Ps3 Controller for the Playstation 3 Console By Avalid",
         "orientation": "v",
         "showlegend": true,
         "type": "scatter",
         "x": [
          -1.3158906747024264
         ],
         "xaxis": "x",
         "y": [
          1.4500987783728745
         ],
         "yaxis": "y"
        },
        {
         "hovertemplate": "title=Fosmon Soft Silicone Skin Case for Nintendo Wii U Gamepad (Purple)<br>pca1=%{x}<br>pca2=%{y}<extra></extra>",
         "legendgroup": "Fosmon Soft Silicone Skin Case for Nintendo Wii U Gamepad (Purple)",
         "marker": {
          "color": "#FF6692",
          "symbol": "circle"
         },
         "mode": "markers",
         "name": "Fosmon Soft Silicone Skin Case for Nintendo Wii U Gamepad (Purple)",
         "orientation": "v",
         "showlegend": true,
         "type": "scatter",
         "x": [
          -1.5330017299837622
         ],
         "xaxis": "x",
         "y": [
          0.2649400305207608
         ],
         "yaxis": "y"
        },
        {
         "hovertemplate": "title=Fosmon Soft Silicone Skin Case for Nintendo Wii U Gamepad (Black)<br>pca1=%{x}<br>pca2=%{y}<extra></extra>",
         "legendgroup": "Fosmon Soft Silicone Skin Case for Nintendo Wii U Gamepad (Black)",
         "marker": {
          "color": "#B6E880",
          "symbol": "circle"
         },
         "mode": "markers",
         "name": "Fosmon Soft Silicone Skin Case for Nintendo Wii U Gamepad (Black)",
         "orientation": "v",
         "showlegend": true,
         "type": "scatter",
         "x": [
          -1.5330017299837622
         ],
         "xaxis": "x",
         "y": [
          0.2649400305207608
         ],
         "yaxis": "y"
        },
        {
         "hovertemplate": "title=BELPAIR Wii Motion Plus Adapter Sensor Tracking for Nintendo Wii Remote Controller(wh...<br>pca1=%{x}<br>pca2=%{y}<extra></extra>",
         "legendgroup": "BELPAIR Wii Motion Plus Adapter Sensor Tracking for Nintendo Wii Remote Controller(wh...",
         "marker": {
          "color": "#FF97FF",
          "symbol": "circle"
         },
         "mode": "markers",
         "name": "BELPAIR Wii Motion Plus Adapter Sensor Tracking for Nintendo Wii Remote Controller(wh...",
         "orientation": "v",
         "showlegend": true,
         "type": "scatter",
         "x": [
          -1.773810957670011
         ],
         "xaxis": "x",
         "y": [
          0.5153574388162468
         ],
         "yaxis": "y"
        },
        {
         "hovertemplate": "title=DBPOWER&reg; Remote + Nunchuk Nunchuck Controller Combo Set Bundle Built-in Motionplus for Nintendo Wii (Pink)<br>pca1=%{x}<br>pca2=%{y}<extra></extra>",
         "legendgroup": "DBPOWER&reg; Remote + Nunchuk Nunchuck Controller Combo Set Bundle Built-in Motionplus for Nintendo Wii (Pink)",
         "marker": {
          "color": "#FECB52",
          "symbol": "circle"
         },
         "mode": "markers",
         "name": "DBPOWER&reg; Remote + Nunchuk Nunchuck Controller Combo Set Bundle Built-in Motionplus for Nintendo Wii (Pink)",
         "orientation": "v",
         "showlegend": true,
         "type": "scatter",
         "x": [
          -1.977302953542123
         ],
         "xaxis": "x",
         "y": [
          0.020791031354580023
         ],
         "yaxis": "y"
        },
        {
         "hovertemplate": "title=DBPOWER&reg; Remote + Nunchuk Nunchuck Controller Combo Set Bundle Built-in Motionplus for Nintendo Wii (White)<br>pca1=%{x}<br>pca2=%{y}<extra></extra>",
         "legendgroup": "DBPOWER&reg; Remote + Nunchuk Nunchuck Controller Combo Set Bundle Built-in Motionplus for Nintendo Wii (White)",
         "marker": {
          "color": "#636efa",
          "symbol": "circle"
         },
         "mode": "markers",
         "name": "DBPOWER&reg; Remote + Nunchuk Nunchuck Controller Combo Set Bundle Built-in Motionplus for Nintendo Wii (White)",
         "orientation": "v",
         "showlegend": true,
         "type": "scatter",
         "x": [
          -1.977302953542123
         ],
         "xaxis": "x",
         "y": [
          0.020791031354580023
         ],
         "yaxis": "y"
        },
        {
         "hovertemplate": "title=DBPOWER&reg; Remote + Nunchuk Nunchuck Controller Combo Set Bundle Built-in Motionplus for Nintendo Wii (Red)<br>pca1=%{x}<br>pca2=%{y}<extra></extra>",
         "legendgroup": "DBPOWER&reg; Remote + Nunchuk Nunchuck Controller Combo Set Bundle Built-in Motionplus for Nintendo Wii (Red)",
         "marker": {
          "color": "#EF553B",
          "symbol": "circle"
         },
         "mode": "markers",
         "name": "DBPOWER&reg; Remote + Nunchuk Nunchuck Controller Combo Set Bundle Built-in Motionplus for Nintendo Wii (Red)",
         "orientation": "v",
         "showlegend": true,
         "type": "scatter",
         "x": [
          -1.3098953719070587
         ],
         "xaxis": "x",
         "y": [
          1.162215060033533
         ],
         "yaxis": "y"
        },
        {
         "hovertemplate": "title=HDE Nintendo 64 N64 Wired Classic Controller Pad (Black)<br>pca1=%{x}<br>pca2=%{y}<extra></extra>",
         "legendgroup": "HDE Nintendo 64 N64 Wired Classic Controller Pad (Black)",
         "marker": {
          "color": "#00cc96",
          "symbol": "circle"
         },
         "mode": "markers",
         "name": "HDE Nintendo 64 N64 Wired Classic Controller Pad (Black)",
         "orientation": "v",
         "showlegend": true,
         "type": "scatter",
         "x": [
          -1.6268353050881776
         ],
         "xaxis": "x",
         "y": [
          0.8365081384837774
         ],
         "yaxis": "y"
        },
        {
         "hovertemplate": "title=BELPAIR 2X Silicone Skin Case Cover For Nintendo Wii Remote Controller &#65288;Remote...<br>pca1=%{x}<br>pca2=%{y}<extra></extra>",
         "legendgroup": "BELPAIR 2X Silicone Skin Case Cover For Nintendo Wii Remote Controller &#65288;Remote...",
         "marker": {
          "color": "#ab63fa",
          "symbol": "circle"
         },
         "mode": "markers",
         "name": "BELPAIR 2X Silicone Skin Case Cover For Nintendo Wii Remote Controller &#65288;Remote...",
         "orientation": "v",
         "showlegend": true,
         "type": "scatter",
         "x": [
          -1.4112917666219509
         ],
         "xaxis": "x",
         "y": [
          1.9673051667079173
         ],
         "yaxis": "y"
        },
        {
         "hovertemplate": "title=Conception II: Children of the Seven Stars - Nintendo 3DS<br>pca1=%{x}<br>pca2=%{y}<extra></extra>",
         "legendgroup": "Conception II: Children of the Seven Stars - Nintendo 3DS",
         "marker": {
          "color": "#FFA15A",
          "symbol": "circle"
         },
         "mode": "markers",
         "name": "Conception II: Children of the Seven Stars - Nintendo 3DS",
         "orientation": "v",
         "showlegend": true,
         "type": "scatter",
         "x": [
          -1.7144708909079245
         ],
         "xaxis": "x",
         "y": [
          -0.33010621764357523
         ],
         "yaxis": "y"
        },
        {
         "hovertemplate": "title=Conception II: Children of the Seven Stars - PlayStation Vita<br>pca1=%{x}<br>pca2=%{y}<extra></extra>",
         "legendgroup": "Conception II: Children of the Seven Stars - PlayStation Vita",
         "marker": {
          "color": "#19d3f3",
          "symbol": "circle"
         },
         "mode": "markers",
         "name": "Conception II: Children of the Seven Stars - PlayStation Vita",
         "orientation": "v",
         "showlegend": true,
         "type": "scatter",
         "x": [
          -1.7144708909079245
         ],
         "xaxis": "x",
         "y": [
          -0.33010621764357523
         ],
         "yaxis": "y"
        },
        {
         "hovertemplate": "title=HDE Controller Shell Case Cover Replacement Kit for Xbox 360 w/ Button Set, Torx Screwdriver, &amp; Crosshead Screwdriver (Gold)<br>pca1=%{x}<br>pca2=%{y}<extra></extra>",
         "legendgroup": "HDE Controller Shell Case Cover Replacement Kit for Xbox 360 w/ Button Set, Torx Screwdriver, &amp; Crosshead Screwdriver (Gold)",
         "marker": {
          "color": "#FF6692",
          "symbol": "circle"
         },
         "mode": "markers",
         "name": "HDE Controller Shell Case Cover Replacement Kit for Xbox 360 w/ Button Set, Torx Screwdriver, &amp; Crosshead Screwdriver (Gold)",
         "orientation": "v",
         "showlegend": true,
         "type": "scatter",
         "x": [
          -1.7651432471096045
         ],
         "xaxis": "x",
         "y": [
          0.2408309474614855
         ],
         "yaxis": "y"
        },
        {
         "hovertemplate": "title=HDE Controller Shell Case Cover Replacement Kit for Xbox 360 w/ Button Set, Torx Screwdriver, &amp; Crosshead Screwdriver (Clear Blue)<br>pca1=%{x}<br>pca2=%{y}<extra></extra>",
         "legendgroup": "HDE Controller Shell Case Cover Replacement Kit for Xbox 360 w/ Button Set, Torx Screwdriver, &amp; Crosshead Screwdriver (Clear Blue)",
         "marker": {
          "color": "#B6E880",
          "symbol": "circle"
         },
         "mode": "markers",
         "name": "HDE Controller Shell Case Cover Replacement Kit for Xbox 360 w/ Button Set, Torx Screwdriver, &amp; Crosshead Screwdriver (Clear Blue)",
         "orientation": "v",
         "showlegend": true,
         "type": "scatter",
         "x": [
          -1.7651432471096045
         ],
         "xaxis": "x",
         "y": [
          0.2408309474614855
         ],
         "yaxis": "y"
        },
        {
         "hovertemplate": "title=HDE Controller Shell Case Cover Replacement Kit for Xbox 360 w/ Button Set, Torx Screwdriver, &amp; Crosshead Screwdriver (Orange)<br>pca1=%{x}<br>pca2=%{y}<extra></extra>",
         "legendgroup": "HDE Controller Shell Case Cover Replacement Kit for Xbox 360 w/ Button Set, Torx Screwdriver, &amp; Crosshead Screwdriver (Orange)",
         "marker": {
          "color": "#FF97FF",
          "symbol": "circle"
         },
         "mode": "markers",
         "name": "HDE Controller Shell Case Cover Replacement Kit for Xbox 360 w/ Button Set, Torx Screwdriver, &amp; Crosshead Screwdriver (Orange)",
         "orientation": "v",
         "showlegend": true,
         "type": "scatter",
         "x": [
          -1.7651432471096045
         ],
         "xaxis": "x",
         "y": [
          0.2408309474614855
         ],
         "yaxis": "y"
        },
        {
         "hovertemplate": "title=HDE Controller Shell Case Cover Replacement Kit for Xbox 360 w/ Button Set, Torx Screwdriver, &amp; Crosshead Screwdriver (Black)<br>pca1=%{x}<br>pca2=%{y}<extra></extra>",
         "legendgroup": "HDE Controller Shell Case Cover Replacement Kit for Xbox 360 w/ Button Set, Torx Screwdriver, &amp; Crosshead Screwdriver (Black)",
         "marker": {
          "color": "#FECB52",
          "symbol": "circle"
         },
         "mode": "markers",
         "name": "HDE Controller Shell Case Cover Replacement Kit for Xbox 360 w/ Button Set, Torx Screwdriver, &amp; Crosshead Screwdriver (Black)",
         "orientation": "v",
         "showlegend": true,
         "type": "scatter",
         "x": [
          -1.7651432471096045
         ],
         "xaxis": "x",
         "y": [
          0.2408309474614855
         ],
         "yaxis": "y"
        },
        {
         "hovertemplate": "title=HDE Controller Shell Case Cover Replacement Kit for Xbox 360 w/ Button Set, Torx Screwdriver, &amp; Crosshead Screwdriver (Clear)<br>pca1=%{x}<br>pca2=%{y}<extra></extra>",
         "legendgroup": "HDE Controller Shell Case Cover Replacement Kit for Xbox 360 w/ Button Set, Torx Screwdriver, &amp; Crosshead Screwdriver (Clear)",
         "marker": {
          "color": "#636efa",
          "symbol": "circle"
         },
         "mode": "markers",
         "name": "HDE Controller Shell Case Cover Replacement Kit for Xbox 360 w/ Button Set, Torx Screwdriver, &amp; Crosshead Screwdriver (Clear)",
         "orientation": "v",
         "showlegend": true,
         "type": "scatter",
         "x": [
          -1.7651432471096045
         ],
         "xaxis": "x",
         "y": [
          0.2408309474614855
         ],
         "yaxis": "y"
        },
        {
         "hovertemplate": "title=HDE Controller Shell Case Cover Replacement Kit for Xbox 360 w/ Button Set, Torx Screwdriver, &amp; Crosshead Screwdriver (Pink)<br>pca1=%{x}<br>pca2=%{y}<extra></extra>",
         "legendgroup": "HDE Controller Shell Case Cover Replacement Kit for Xbox 360 w/ Button Set, Torx Screwdriver, &amp; Crosshead Screwdriver (Pink)",
         "marker": {
          "color": "#EF553B",
          "symbol": "circle"
         },
         "mode": "markers",
         "name": "HDE Controller Shell Case Cover Replacement Kit for Xbox 360 w/ Button Set, Torx Screwdriver, &amp; Crosshead Screwdriver (Pink)",
         "orientation": "v",
         "showlegend": true,
         "type": "scatter",
         "x": [
          -1.7651432471096045
         ],
         "xaxis": "x",
         "y": [
          0.2408309474614855
         ],
         "yaxis": "y"
        },
        {
         "hovertemplate": "title=HDE Controller Shell Case Cover Replacement Kit for Xbox 360 w/ Button Set, Torx Screwdriver, &amp; Crosshead Screwdriver (Blue)<br>pca1=%{x}<br>pca2=%{y}<extra></extra>",
         "legendgroup": "HDE Controller Shell Case Cover Replacement Kit for Xbox 360 w/ Button Set, Torx Screwdriver, &amp; Crosshead Screwdriver (Blue)",
         "marker": {
          "color": "#00cc96",
          "symbol": "circle"
         },
         "mode": "markers",
         "name": "HDE Controller Shell Case Cover Replacement Kit for Xbox 360 w/ Button Set, Torx Screwdriver, &amp; Crosshead Screwdriver (Blue)",
         "orientation": "v",
         "showlegend": true,
         "type": "scatter",
         "x": [
          -1.7651432471096045
         ],
         "xaxis": "x",
         "y": [
          0.2408309474614855
         ],
         "yaxis": "y"
        },
        {
         "hovertemplate": "title=10ft PS4 Controller Charging Cable for Playstation 4 Dual Shock 4<br>pca1=%{x}<br>pca2=%{y}<extra></extra>",
         "legendgroup": "10ft PS4 Controller Charging Cable for Playstation 4 Dual Shock 4",
         "marker": {
          "color": "#ab63fa",
          "symbol": "circle"
         },
         "mode": "markers",
         "name": "10ft PS4 Controller Charging Cable for Playstation 4 Dual Shock 4",
         "orientation": "v",
         "showlegend": true,
         "type": "scatter",
         "x": [
          -1.3053854225321966
         ],
         "xaxis": "x",
         "y": [
          2.3691517020957833
         ],
         "yaxis": "y"
        },
        {
         "hovertemplate": "title=Skque&reg; Silicone Thumb Stick Grip Cap Cover for Sony PlayStation 4 Controller, Blue<br>pca1=%{x}<br>pca2=%{y}<extra></extra>",
         "legendgroup": "Skque&reg; Silicone Thumb Stick Grip Cap Cover for Sony PlayStation 4 Controller, Blue",
         "marker": {
          "color": "#FFA15A",
          "symbol": "circle"
         },
         "mode": "markers",
         "name": "Skque&reg; Silicone Thumb Stick Grip Cap Cover for Sony PlayStation 4 Controller, Blue",
         "orientation": "v",
         "showlegend": true,
         "type": "scatter",
         "x": [
          -0.38418281275754984
         ],
         "xaxis": "x",
         "y": [
          2.273664245848569
         ],
         "yaxis": "y"
        },
        {
         "hovertemplate": "title=Skque&reg; Silicone Thumb Stick Grip Cap Cover for Sony PlayStation 4 Controller, Red<br>pca1=%{x}<br>pca2=%{y}<extra></extra>",
         "legendgroup": "Skque&reg; Silicone Thumb Stick Grip Cap Cover for Sony PlayStation 4 Controller, Red",
         "marker": {
          "color": "#19d3f3",
          "symbol": "circle"
         },
         "mode": "markers",
         "name": "Skque&reg; Silicone Thumb Stick Grip Cap Cover for Sony PlayStation 4 Controller, Red",
         "orientation": "v",
         "showlegend": true,
         "type": "scatter",
         "x": [
          -0.38418281275754984
         ],
         "xaxis": "x",
         "y": [
          2.273664245848569
         ],
         "yaxis": "y"
        },
        {
         "hovertemplate": "title=Skque&reg; Silicone Thumb Stick Grip Cap Cover for Sony PlayStation 4 Controller, Black<br>pca1=%{x}<br>pca2=%{y}<extra></extra>",
         "legendgroup": "Skque&reg; Silicone Thumb Stick Grip Cap Cover for Sony PlayStation 4 Controller, Black",
         "marker": {
          "color": "#FF6692",
          "symbol": "circle"
         },
         "mode": "markers",
         "name": "Skque&reg; Silicone Thumb Stick Grip Cap Cover for Sony PlayStation 4 Controller, Black",
         "orientation": "v",
         "showlegend": true,
         "type": "scatter",
         "x": [
          -0.38418281275754984
         ],
         "xaxis": "x",
         "y": [
          2.273664245848569
         ],
         "yaxis": "y"
        },
        {
         "hovertemplate": "title=Skque&reg; Silicone Thumb Stick Grip Cap Cover for Sony PlayStation 4 Controller, Clear<br>pca1=%{x}<br>pca2=%{y}<extra></extra>",
         "legendgroup": "Skque&reg; Silicone Thumb Stick Grip Cap Cover for Sony PlayStation 4 Controller, Clear",
         "marker": {
          "color": "#B6E880",
          "symbol": "circle"
         },
         "mode": "markers",
         "name": "Skque&reg; Silicone Thumb Stick Grip Cap Cover for Sony PlayStation 4 Controller, Clear",
         "orientation": "v",
         "showlegend": true,
         "type": "scatter",
         "x": [
          -0.38418281275754984
         ],
         "xaxis": "x",
         "y": [
          2.273664245848569
         ],
         "yaxis": "y"
        },
        {
         "hovertemplate": "title=2 X Soft Silicone Gel Rubber Grip Controller Protecting Cover For Xbox One - Black<br>pca1=%{x}<br>pca2=%{y}<extra></extra>",
         "legendgroup": "2 X Soft Silicone Gel Rubber Grip Controller Protecting Cover For Xbox One - Black",
         "marker": {
          "color": "#FF97FF",
          "symbol": "circle"
         },
         "mode": "markers",
         "name": "2 X Soft Silicone Gel Rubber Grip Controller Protecting Cover For Xbox One - Black",
         "orientation": "v",
         "showlegend": true,
         "type": "scatter",
         "x": [
          -1.380735076820752
         ],
         "xaxis": "x",
         "y": [
          1.6390924944250096
         ],
         "yaxis": "y"
        },
        {
         "hovertemplate": "title=2 X Soft Silicone Gel Rubber Grip Controller Protecting Cover For Xbox One - Red<br>pca1=%{x}<br>pca2=%{y}<extra></extra>",
         "legendgroup": "2 X Soft Silicone Gel Rubber Grip Controller Protecting Cover For Xbox One - Red",
         "marker": {
          "color": "#FECB52",
          "symbol": "circle"
         },
         "mode": "markers",
         "name": "2 X Soft Silicone Gel Rubber Grip Controller Protecting Cover For Xbox One - Red",
         "orientation": "v",
         "showlegend": true,
         "type": "scatter",
         "x": [
          -1.3839690775206004
         ],
         "xaxis": "x",
         "y": [
          1.6583859744543439
         ],
         "yaxis": "y"
        },
        {
         "hovertemplate": "title=Pack of 4 Color Combo Flexible Silicone Protective Case For Sony PS4 Game Controller - Black/Red/Blue/White<br>pca1=%{x}<br>pca2=%{y}<extra></extra>",
         "legendgroup": "Pack of 4 Color Combo Flexible Silicone Protective Case For Sony PS4 Game Controller - Black/Red/Blue/White",
         "marker": {
          "color": "#636efa",
          "symbol": "circle"
         },
         "mode": "markers",
         "name": "Pack of 4 Color Combo Flexible Silicone Protective Case For Sony PS4 Game Controller - Black/Red/Blue/White",
         "orientation": "v",
         "showlegend": true,
         "type": "scatter",
         "x": [
          -1.4235469052472687
         ],
         "xaxis": "x",
         "y": [
          1.4386428323538232
         ],
         "yaxis": "y"
        },
        {
         "hovertemplate": "title=Skque&reg; Soft Silicone Skin Case Cover for Nintendo 2DS, Black<br>pca1=%{x}<br>pca2=%{y}<extra></extra>",
         "legendgroup": "Skque&reg; Soft Silicone Skin Case Cover for Nintendo 2DS, Black",
         "marker": {
          "color": "#EF553B",
          "symbol": "circle"
         },
         "mode": "markers",
         "name": "Skque&reg; Soft Silicone Skin Case Cover for Nintendo 2DS, Black",
         "orientation": "v",
         "showlegend": true,
         "type": "scatter",
         "x": [
          0.30054833145318255
         ],
         "xaxis": "x",
         "y": [
          3.626988108625353
         ],
         "yaxis": "y"
        },
        {
         "hovertemplate": "title=Skque&reg; Soft Silicone Skin Case Cover for Nintendo 2DS, Pink<br>pca1=%{x}<br>pca2=%{y}<extra></extra>",
         "legendgroup": "Skque&reg; Soft Silicone Skin Case Cover for Nintendo 2DS, Pink",
         "marker": {
          "color": "#00cc96",
          "symbol": "circle"
         },
         "mode": "markers",
         "name": "Skque&reg; Soft Silicone Skin Case Cover for Nintendo 2DS, Pink",
         "orientation": "v",
         "showlegend": true,
         "type": "scatter",
         "x": [
          0.37662101654371044
         ],
         "xaxis": "x",
         "y": [
          3.6481774119887755
         ],
         "yaxis": "y"
        }
       ],
       "layout": {
        "legend": {
         "title": {
          "text": "title"
         },
         "tracegroupgap": 0
        },
        "margin": {
         "t": 60
        },
        "template": {
         "data": {
          "bar": [
           {
            "error_x": {
             "color": "#2a3f5f"
            },
            "error_y": {
             "color": "#2a3f5f"
            },
            "marker": {
             "line": {
              "color": "#E5ECF6",
              "width": 0.5
             },
             "pattern": {
              "fillmode": "overlay",
              "size": 10,
              "solidity": 0.2
             }
            },
            "type": "bar"
           }
          ],
          "barpolar": [
           {
            "marker": {
             "line": {
              "color": "#E5ECF6",
              "width": 0.5
             },
             "pattern": {
              "fillmode": "overlay",
              "size": 10,
              "solidity": 0.2
             }
            },
            "type": "barpolar"
           }
          ],
          "carpet": [
           {
            "aaxis": {
             "endlinecolor": "#2a3f5f",
             "gridcolor": "white",
             "linecolor": "white",
             "minorgridcolor": "white",
             "startlinecolor": "#2a3f5f"
            },
            "baxis": {
             "endlinecolor": "#2a3f5f",
             "gridcolor": "white",
             "linecolor": "white",
             "minorgridcolor": "white",
             "startlinecolor": "#2a3f5f"
            },
            "type": "carpet"
           }
          ],
          "choropleth": [
           {
            "colorbar": {
             "outlinewidth": 0,
             "ticks": ""
            },
            "type": "choropleth"
           }
          ],
          "contour": [
           {
            "colorbar": {
             "outlinewidth": 0,
             "ticks": ""
            },
            "colorscale": [
             [
              0,
              "#0d0887"
             ],
             [
              0.1111111111111111,
              "#46039f"
             ],
             [
              0.2222222222222222,
              "#7201a8"
             ],
             [
              0.3333333333333333,
              "#9c179e"
             ],
             [
              0.4444444444444444,
              "#bd3786"
             ],
             [
              0.5555555555555556,
              "#d8576b"
             ],
             [
              0.6666666666666666,
              "#ed7953"
             ],
             [
              0.7777777777777778,
              "#fb9f3a"
             ],
             [
              0.8888888888888888,
              "#fdca26"
             ],
             [
              1,
              "#f0f921"
             ]
            ],
            "type": "contour"
           }
          ],
          "contourcarpet": [
           {
            "colorbar": {
             "outlinewidth": 0,
             "ticks": ""
            },
            "type": "contourcarpet"
           }
          ],
          "heatmap": [
           {
            "colorbar": {
             "outlinewidth": 0,
             "ticks": ""
            },
            "colorscale": [
             [
              0,
              "#0d0887"
             ],
             [
              0.1111111111111111,
              "#46039f"
             ],
             [
              0.2222222222222222,
              "#7201a8"
             ],
             [
              0.3333333333333333,
              "#9c179e"
             ],
             [
              0.4444444444444444,
              "#bd3786"
             ],
             [
              0.5555555555555556,
              "#d8576b"
             ],
             [
              0.6666666666666666,
              "#ed7953"
             ],
             [
              0.7777777777777778,
              "#fb9f3a"
             ],
             [
              0.8888888888888888,
              "#fdca26"
             ],
             [
              1,
              "#f0f921"
             ]
            ],
            "type": "heatmap"
           }
          ],
          "heatmapgl": [
           {
            "colorbar": {
             "outlinewidth": 0,
             "ticks": ""
            },
            "colorscale": [
             [
              0,
              "#0d0887"
             ],
             [
              0.1111111111111111,
              "#46039f"
             ],
             [
              0.2222222222222222,
              "#7201a8"
             ],
             [
              0.3333333333333333,
              "#9c179e"
             ],
             [
              0.4444444444444444,
              "#bd3786"
             ],
             [
              0.5555555555555556,
              "#d8576b"
             ],
             [
              0.6666666666666666,
              "#ed7953"
             ],
             [
              0.7777777777777778,
              "#fb9f3a"
             ],
             [
              0.8888888888888888,
              "#fdca26"
             ],
             [
              1,
              "#f0f921"
             ]
            ],
            "type": "heatmapgl"
           }
          ],
          "histogram": [
           {
            "marker": {
             "pattern": {
              "fillmode": "overlay",
              "size": 10,
              "solidity": 0.2
             }
            },
            "type": "histogram"
           }
          ],
          "histogram2d": [
           {
            "colorbar": {
             "outlinewidth": 0,
             "ticks": ""
            },
            "colorscale": [
             [
              0,
              "#0d0887"
             ],
             [
              0.1111111111111111,
              "#46039f"
             ],
             [
              0.2222222222222222,
              "#7201a8"
             ],
             [
              0.3333333333333333,
              "#9c179e"
             ],
             [
              0.4444444444444444,
              "#bd3786"
             ],
             [
              0.5555555555555556,
              "#d8576b"
             ],
             [
              0.6666666666666666,
              "#ed7953"
             ],
             [
              0.7777777777777778,
              "#fb9f3a"
             ],
             [
              0.8888888888888888,
              "#fdca26"
             ],
             [
              1,
              "#f0f921"
             ]
            ],
            "type": "histogram2d"
           }
          ],
          "histogram2dcontour": [
           {
            "colorbar": {
             "outlinewidth": 0,
             "ticks": ""
            },
            "colorscale": [
             [
              0,
              "#0d0887"
             ],
             [
              0.1111111111111111,
              "#46039f"
             ],
             [
              0.2222222222222222,
              "#7201a8"
             ],
             [
              0.3333333333333333,
              "#9c179e"
             ],
             [
              0.4444444444444444,
              "#bd3786"
             ],
             [
              0.5555555555555556,
              "#d8576b"
             ],
             [
              0.6666666666666666,
              "#ed7953"
             ],
             [
              0.7777777777777778,
              "#fb9f3a"
             ],
             [
              0.8888888888888888,
              "#fdca26"
             ],
             [
              1,
              "#f0f921"
             ]
            ],
            "type": "histogram2dcontour"
           }
          ],
          "mesh3d": [
           {
            "colorbar": {
             "outlinewidth": 0,
             "ticks": ""
            },
            "type": "mesh3d"
           }
          ],
          "parcoords": [
           {
            "line": {
             "colorbar": {
              "outlinewidth": 0,
              "ticks": ""
             }
            },
            "type": "parcoords"
           }
          ],
          "pie": [
           {
            "automargin": true,
            "type": "pie"
           }
          ],
          "scatter": [
           {
            "fillpattern": {
             "fillmode": "overlay",
             "size": 10,
             "solidity": 0.2
            },
            "type": "scatter"
           }
          ],
          "scatter3d": [
           {
            "line": {
             "colorbar": {
              "outlinewidth": 0,
              "ticks": ""
             }
            },
            "marker": {
             "colorbar": {
              "outlinewidth": 0,
              "ticks": ""
             }
            },
            "type": "scatter3d"
           }
          ],
          "scattercarpet": [
           {
            "marker": {
             "colorbar": {
              "outlinewidth": 0,
              "ticks": ""
             }
            },
            "type": "scattercarpet"
           }
          ],
          "scattergeo": [
           {
            "marker": {
             "colorbar": {
              "outlinewidth": 0,
              "ticks": ""
             }
            },
            "type": "scattergeo"
           }
          ],
          "scattergl": [
           {
            "marker": {
             "colorbar": {
              "outlinewidth": 0,
              "ticks": ""
             }
            },
            "type": "scattergl"
           }
          ],
          "scattermapbox": [
           {
            "marker": {
             "colorbar": {
              "outlinewidth": 0,
              "ticks": ""
             }
            },
            "type": "scattermapbox"
           }
          ],
          "scatterpolar": [
           {
            "marker": {
             "colorbar": {
              "outlinewidth": 0,
              "ticks": ""
             }
            },
            "type": "scatterpolar"
           }
          ],
          "scatterpolargl": [
           {
            "marker": {
             "colorbar": {
              "outlinewidth": 0,
              "ticks": ""
             }
            },
            "type": "scatterpolargl"
           }
          ],
          "scatterternary": [
           {
            "marker": {
             "colorbar": {
              "outlinewidth": 0,
              "ticks": ""
             }
            },
            "type": "scatterternary"
           }
          ],
          "surface": [
           {
            "colorbar": {
             "outlinewidth": 0,
             "ticks": ""
            },
            "colorscale": [
             [
              0,
              "#0d0887"
             ],
             [
              0.1111111111111111,
              "#46039f"
             ],
             [
              0.2222222222222222,
              "#7201a8"
             ],
             [
              0.3333333333333333,
              "#9c179e"
             ],
             [
              0.4444444444444444,
              "#bd3786"
             ],
             [
              0.5555555555555556,
              "#d8576b"
             ],
             [
              0.6666666666666666,
              "#ed7953"
             ],
             [
              0.7777777777777778,
              "#fb9f3a"
             ],
             [
              0.8888888888888888,
              "#fdca26"
             ],
             [
              1,
              "#f0f921"
             ]
            ],
            "type": "surface"
           }
          ],
          "table": [
           {
            "cells": {
             "fill": {
              "color": "#EBF0F8"
             },
             "line": {
              "color": "white"
             }
            },
            "header": {
             "fill": {
              "color": "#C8D4E3"
             },
             "line": {
              "color": "white"
             }
            },
            "type": "table"
           }
          ]
         },
         "layout": {
          "annotationdefaults": {
           "arrowcolor": "#2a3f5f",
           "arrowhead": 0,
           "arrowwidth": 1
          },
          "autotypenumbers": "strict",
          "coloraxis": {
           "colorbar": {
            "outlinewidth": 0,
            "ticks": ""
           }
          },
          "colorscale": {
           "diverging": [
            [
             0,
             "#8e0152"
            ],
            [
             0.1,
             "#c51b7d"
            ],
            [
             0.2,
             "#de77ae"
            ],
            [
             0.3,
             "#f1b6da"
            ],
            [
             0.4,
             "#fde0ef"
            ],
            [
             0.5,
             "#f7f7f7"
            ],
            [
             0.6,
             "#e6f5d0"
            ],
            [
             0.7,
             "#b8e186"
            ],
            [
             0.8,
             "#7fbc41"
            ],
            [
             0.9,
             "#4d9221"
            ],
            [
             1,
             "#276419"
            ]
           ],
           "sequential": [
            [
             0,
             "#0d0887"
            ],
            [
             0.1111111111111111,
             "#46039f"
            ],
            [
             0.2222222222222222,
             "#7201a8"
            ],
            [
             0.3333333333333333,
             "#9c179e"
            ],
            [
             0.4444444444444444,
             "#bd3786"
            ],
            [
             0.5555555555555556,
             "#d8576b"
            ],
            [
             0.6666666666666666,
             "#ed7953"
            ],
            [
             0.7777777777777778,
             "#fb9f3a"
            ],
            [
             0.8888888888888888,
             "#fdca26"
            ],
            [
             1,
             "#f0f921"
            ]
           ],
           "sequentialminus": [
            [
             0,
             "#0d0887"
            ],
            [
             0.1111111111111111,
             "#46039f"
            ],
            [
             0.2222222222222222,
             "#7201a8"
            ],
            [
             0.3333333333333333,
             "#9c179e"
            ],
            [
             0.4444444444444444,
             "#bd3786"
            ],
            [
             0.5555555555555556,
             "#d8576b"
            ],
            [
             0.6666666666666666,
             "#ed7953"
            ],
            [
             0.7777777777777778,
             "#fb9f3a"
            ],
            [
             0.8888888888888888,
             "#fdca26"
            ],
            [
             1,
             "#f0f921"
            ]
           ]
          },
          "colorway": [
           "#636efa",
           "#EF553B",
           "#00cc96",
           "#ab63fa",
           "#FFA15A",
           "#19d3f3",
           "#FF6692",
           "#B6E880",
           "#FF97FF",
           "#FECB52"
          ],
          "font": {
           "color": "#2a3f5f"
          },
          "geo": {
           "bgcolor": "white",
           "lakecolor": "white",
           "landcolor": "#E5ECF6",
           "showlakes": true,
           "showland": true,
           "subunitcolor": "white"
          },
          "hoverlabel": {
           "align": "left"
          },
          "hovermode": "closest",
          "mapbox": {
           "style": "light"
          },
          "paper_bgcolor": "white",
          "plot_bgcolor": "#E5ECF6",
          "polar": {
           "angularaxis": {
            "gridcolor": "white",
            "linecolor": "white",
            "ticks": ""
           },
           "bgcolor": "#E5ECF6",
           "radialaxis": {
            "gridcolor": "white",
            "linecolor": "white",
            "ticks": ""
           }
          },
          "scene": {
           "xaxis": {
            "backgroundcolor": "#E5ECF6",
            "gridcolor": "white",
            "gridwidth": 2,
            "linecolor": "white",
            "showbackground": true,
            "ticks": "",
            "zerolinecolor": "white"
           },
           "yaxis": {
            "backgroundcolor": "#E5ECF6",
            "gridcolor": "white",
            "gridwidth": 2,
            "linecolor": "white",
            "showbackground": true,
            "ticks": "",
            "zerolinecolor": "white"
           },
           "zaxis": {
            "backgroundcolor": "#E5ECF6",
            "gridcolor": "white",
            "gridwidth": 2,
            "linecolor": "white",
            "showbackground": true,
            "ticks": "",
            "zerolinecolor": "white"
           }
          },
          "shapedefaults": {
           "line": {
            "color": "#2a3f5f"
           }
          },
          "ternary": {
           "aaxis": {
            "gridcolor": "white",
            "linecolor": "white",
            "ticks": ""
           },
           "baxis": {
            "gridcolor": "white",
            "linecolor": "white",
            "ticks": ""
           },
           "bgcolor": "#E5ECF6",
           "caxis": {
            "gridcolor": "white",
            "linecolor": "white",
            "ticks": ""
           }
          },
          "title": {
           "x": 0.05
          },
          "xaxis": {
           "automargin": true,
           "gridcolor": "white",
           "linecolor": "white",
           "ticks": "",
           "title": {
            "standoff": 15
           },
           "zerolinecolor": "white",
           "zerolinewidth": 2
          },
          "yaxis": {
           "automargin": true,
           "gridcolor": "white",
           "linecolor": "white",
           "ticks": "",
           "title": {
            "standoff": 15
           },
           "zerolinecolor": "white",
           "zerolinewidth": 2
          }
         }
        },
        "xaxis": {
         "anchor": "y",
         "domain": [
          0,
          1
         ],
         "title": {
          "text": "pca1"
         }
        },
        "yaxis": {
         "anchor": "x",
         "domain": [
          0,
          1
         ],
         "title": {
          "text": "pca2"
         }
        }
       }
      }
     },
     "metadata": {},
     "output_type": "display_data"
    }
   ],
   "source": [
    "from sklearn.decomposition import PCA\n",
    "import plotly.express as px\n",
    "\n",
    "pca = PCA(n_components=2)\n",
    "result = pca.fit_transform(array_data)\n",
    "result = pd.DataFrame(result,columns=['pca1','pca2'])\n",
    "result = pd.concat([result,products.asin],axis=1).merge(metadata[['title','asin','price','description']],how='left',on='asin').dropna()\n",
    "\n",
    "fig = px.scatter(result , x=\"pca1\", y=\"pca2\",color=\"title\")\n",
    "fig.show()\n"
   ]
  },
  {
   "cell_type": "code",
   "execution_count": 132,
   "metadata": {},
   "outputs": [
    {
     "data": {
      "application/vnd.plotly.v1+json": {
       "config": {
        "plotlyServerURL": "https://plot.ly"
       },
       "data": [
        {
         "hovertemplate": "title=64MB 1019 Block Memory Card compatible for Wii &amp; Gamecube<br>pca1=%{x}<br>pca2=%{y}<br>pca3=%{z}<extra></extra>",
         "legendgroup": "64MB 1019 Block Memory Card compatible for Wii &amp; Gamecube",
         "marker": {
          "color": "#636efa",
          "symbol": "circle"
         },
         "mode": "markers",
         "name": "64MB 1019 Block Memory Card compatible for Wii &amp; Gamecube",
         "scene": "scene",
         "showlegend": true,
         "type": "scatter3d",
         "x": [
          0.133087458871672
         ],
         "y": [
          3.686788665930746
         ],
         "z": [
          1.9838939191154759
         ]
        },
        {
         "hovertemplate": "title=2 Pack - Gator Crunch Wii Gamecube 6FT Extension Cable / Cord (Lifetime Warranty, Bulk packaging)<br>pca1=%{x}<br>pca2=%{y}<br>pca3=%{z}<extra></extra>",
         "legendgroup": "2 Pack - Gator Crunch Wii Gamecube 6FT Extension Cable / Cord (Lifetime Warranty, Bulk packaging)",
         "marker": {
          "color": "#EF553B",
          "symbol": "circle"
         },
         "mode": "markers",
         "name": "2 Pack - Gator Crunch Wii Gamecube 6FT Extension Cable / Cord (Lifetime Warranty, Bulk packaging)",
         "scene": "scene",
         "showlegend": true,
         "type": "scatter3d",
         "x": [
          -0.18679857660342733
         ],
         "y": [
          2.89590990942365
         ],
         "z": [
          1.5752555307101443
         ]
        },
        {
         "hovertemplate": "title=Super Nintendo Entertainment System SNES Generic Super Nintendo Classic Controller<br>pca1=%{x}<br>pca2=%{y}<br>pca3=%{z}<extra></extra>",
         "legendgroup": "Super Nintendo Entertainment System SNES Generic Super Nintendo Classic Controller",
         "marker": {
          "color": "#00cc96",
          "symbol": "circle"
         },
         "mode": "markers",
         "name": "Super Nintendo Entertainment System SNES Generic Super Nintendo Classic Controller",
         "scene": "scene",
         "showlegend": true,
         "type": "scatter3d",
         "x": [
          1.2679518250466983
         ],
         "y": [
          4.327329014076645
         ],
         "z": [
          0.08577449565070575
         ]
        },
        {
         "hovertemplate": "title=Data &amp; Power USB Cable for Sony PSP<br>pca1=%{x}<br>pca2=%{y}<br>pca3=%{z}<extra></extra>",
         "legendgroup": "Data &amp; Power USB Cable for Sony PSP",
         "marker": {
          "color": "#ab63fa",
          "symbol": "circle"
         },
         "mode": "markers",
         "name": "Data &amp; Power USB Cable for Sony PSP",
         "scene": "scene",
         "showlegend": true,
         "type": "scatter3d",
         "x": [
          1.128613203254199
         ],
         "y": [
          3.957743078996164
         ],
         "z": [
          2.1643279842532714
         ]
        },
        {
         "hovertemplate": "title=Generic Xbox 360 Controller Battery Cover, White<br>pca1=%{x}<br>pca2=%{y}<br>pca3=%{z}<extra></extra>",
         "legendgroup": "Generic Xbox 360 Controller Battery Cover, White",
         "marker": {
          "color": "#FFA15A",
          "symbol": "circle"
         },
         "mode": "markers",
         "name": "Generic Xbox 360 Controller Battery Cover, White",
         "scene": "scene",
         "showlegend": true,
         "type": "scatter3d",
         "x": [
          4.154127208558714
         ],
         "y": [
          2.5129489520956474
         ],
         "z": [
          -0.6552137961374466
         ]
        },
        {
         "hovertemplate": "title=Generic Headset with Microphone - Xbox 360<br>pca1=%{x}<br>pca2=%{y}<br>pca3=%{z}<extra></extra>",
         "legendgroup": "Generic Headset with Microphone - Xbox 360",
         "marker": {
          "color": "#19d3f3",
          "symbol": "circle"
         },
         "mode": "markers",
         "name": "Generic Headset with Microphone - Xbox 360",
         "scene": "scene",
         "showlegend": true,
         "type": "scatter3d",
         "x": [
          1.1343135832627909
         ],
         "y": [
          2.1722980976498127
         ],
         "z": [
          -0.458017453726832
         ]
        },
        {
         "hovertemplate": "title=Mario Kart Racing Wheel for Wii (2pcs Bundle) (Bulk Packaging), Color May Vary<br>pca1=%{x}<br>pca2=%{y}<br>pca3=%{z}<extra></extra>",
         "legendgroup": "Mario Kart Racing Wheel for Wii (2pcs Bundle) (Bulk Packaging), Color May Vary",
         "marker": {
          "color": "#FF6692",
          "symbol": "circle"
         },
         "mode": "markers",
         "name": "Mario Kart Racing Wheel for Wii (2pcs Bundle) (Bulk Packaging), Color May Vary",
         "scene": "scene",
         "showlegend": true,
         "type": "scatter3d",
         "x": [
          0.34560468110105774
         ],
         "y": [
          3.175234010882127
         ],
         "z": [
          0.15825562595612752
         ]
        },
        {
         "hovertemplate": "title=Remote Controller and Nunchuk Nunchuck Combo Bundle Set<br>pca1=%{x}<br>pca2=%{y}<br>pca3=%{z}<extra></extra>",
         "legendgroup": "Remote Controller and Nunchuk Nunchuck Combo Bundle Set",
         "marker": {
          "color": "#B6E880",
          "symbol": "circle"
         },
         "mode": "markers",
         "name": "Remote Controller and Nunchuk Nunchuck Combo Bundle Set",
         "scene": "scene",
         "showlegend": true,
         "type": "scatter3d",
         "x": [
          0.9496967446527724
         ],
         "y": [
          4.0282693822054165
         ],
         "z": [
          1.1256630978246613
         ]
        },
        {
         "hovertemplate": "title=Nintendo Wii Wheel - PINK<br>pca1=%{x}<br>pca2=%{y}<br>pca3=%{z}<extra></extra>",
         "legendgroup": "Nintendo Wii Wheel - PINK",
         "marker": {
          "color": "#FF97FF",
          "symbol": "circle"
         },
         "mode": "markers",
         "name": "Nintendo Wii Wheel - PINK",
         "scene": "scene",
         "showlegend": true,
         "type": "scatter3d",
         "x": [
          1.5476226879989265
         ],
         "y": [
          3.2883943612939435
         ],
         "z": [
          0.9991095521916034
         ]
        },
        {
         "hovertemplate": "title=Xbox 360 HD VGA Audio/Video Cable 6ft<br>pca1=%{x}<br>pca2=%{y}<br>pca3=%{z}<extra></extra>",
         "legendgroup": "Xbox 360 HD VGA Audio/Video Cable 6ft",
         "marker": {
          "color": "#FECB52",
          "symbol": "circle"
         },
         "mode": "markers",
         "name": "Xbox 360 HD VGA Audio/Video Cable 6ft",
         "scene": "scene",
         "showlegend": true,
         "type": "scatter3d",
         "x": [
          1.0857708326000342
         ],
         "y": [
          3.8174441841333144
         ],
         "z": [
          1.7360463378500655
         ]
        },
        {
         "hovertemplate": "title=Sega Genesis 1 Standard AV Cable (Bulk Packaging)<br>pca1=%{x}<br>pca2=%{y}<br>pca3=%{z}<extra></extra>",
         "legendgroup": "Sega Genesis 1 Standard AV Cable (Bulk Packaging)",
         "marker": {
          "color": "#636efa",
          "symbol": "circle"
         },
         "mode": "markers",
         "name": "Sega Genesis 1 Standard AV Cable (Bulk Packaging)",
         "scene": "scene",
         "showlegend": true,
         "type": "scatter3d",
         "x": [
          -0.6130764612918432
         ],
         "y": [
          1.9477236526795216
         ],
         "z": [
          1.6986525282256721
         ]
        },
        {
         "hovertemplate": "title=Sega Genesis 2 &amp; 3 Standard AV Cable (Bulk Packaging)<br>pca1=%{x}<br>pca2=%{y}<br>pca3=%{z}<extra></extra>",
         "legendgroup": "Sega Genesis 2 &amp; 3 Standard AV Cable (Bulk Packaging)",
         "marker": {
          "color": "#EF553B",
          "symbol": "circle"
         },
         "mode": "markers",
         "name": "Sega Genesis 2 &amp; 3 Standard AV Cable (Bulk Packaging)",
         "scene": "scene",
         "showlegend": true,
         "type": "scatter3d",
         "x": [
          -0.6130764612918432
         ],
         "y": [
          1.9477236526795216
         ],
         "z": [
          1.6986525282256721
         ]
        },
        {
         "hovertemplate": "title=Wii Nunchuk / Nunchuck Controller<br>pca1=%{x}<br>pca2=%{y}<br>pca3=%{z}<extra></extra>",
         "legendgroup": "Wii Nunchuk / Nunchuck Controller",
         "marker": {
          "color": "#00cc96",
          "symbol": "circle"
         },
         "mode": "markers",
         "name": "Wii Nunchuk / Nunchuck Controller",
         "scene": "scene",
         "showlegend": true,
         "type": "scatter3d",
         "x": [
          -1.5998895357010063
         ],
         "y": [
          1.15992928598302
         ],
         "z": [
          1.638138202443243
         ]
        },
        {
         "hovertemplate": "title=Nintendo DSi XL - Midnight Blue<br>pca1=%{x}<br>pca2=%{y}<br>pca3=%{z}<extra></extra>",
         "legendgroup": "Nintendo DSi XL - Midnight Blue",
         "marker": {
          "color": "#ab63fa",
          "symbol": "circle"
         },
         "mode": "markers",
         "name": "Nintendo DSi XL - Midnight Blue",
         "scene": "scene",
         "showlegend": true,
         "type": "scatter3d",
         "x": [
          10.357423685660475
         ],
         "y": [
          -0.9288600768961137
         ],
         "z": [
          0.14192910647360865
         ]
        },
        {
         "hovertemplate": "title=Assassin's Creed III Liberation PlayStation Vita Wi-Fi Bundle<br>pca1=%{x}<br>pca2=%{y}<br>pca3=%{z}<extra></extra>",
         "legendgroup": "Assassin's Creed III Liberation PlayStation Vita Wi-Fi Bundle",
         "marker": {
          "color": "#FFA15A",
          "symbol": "circle"
         },
         "mode": "markers",
         "name": "Assassin's Creed III Liberation PlayStation Vita Wi-Fi Bundle",
         "scene": "scene",
         "showlegend": true,
         "type": "scatter3d",
         "x": [
          10.357423685660475
         ],
         "y": [
          -0.9288600768961137
         ],
         "z": [
          0.14192910647360865
         ]
        },
        {
         "hovertemplate": "title=Wii Motion Plus - Black (Bulk Packaging)<br>pca1=%{x}<br>pca2=%{y}<br>pca3=%{z}<extra></extra>",
         "legendgroup": "Wii Motion Plus - Black (Bulk Packaging)",
         "marker": {
          "color": "#19d3f3",
          "symbol": "circle"
         },
         "mode": "markers",
         "name": "Wii Motion Plus - Black (Bulk Packaging)",
         "scene": "scene",
         "showlegend": true,
         "type": "scatter3d",
         "x": [
          -1.644990615077458
         ],
         "y": [
          1.0082132790382794
         ],
         "z": [
          1.9815771645086142
         ]
        },
        {
         "hovertemplate": "title=Wii Wireless Remote Control (Non OEM) + Case(Without Retail Package)<br>pca1=%{x}<br>pca2=%{y}<br>pca3=%{z}<extra></extra>",
         "legendgroup": "Wii Wireless Remote Control (Non OEM) + Case(Without Retail Package)",
         "marker": {
          "color": "#FF6692",
          "symbol": "circle"
         },
         "mode": "markers",
         "name": "Wii Wireless Remote Control (Non OEM) + Case(Without Retail Package)",
         "scene": "scene",
         "showlegend": true,
         "type": "scatter3d",
         "x": [
          -0.4206988774270483
         ],
         "y": [
          3.6138788694089463
         ],
         "z": [
          2.0217192417066974
         ]
        },
        {
         "hovertemplate": "title=Nintendo DSi XL - 20 In 1 Special Edition Silver Starter Kit<br>pca1=%{x}<br>pca2=%{y}<br>pca3=%{z}<extra></extra>",
         "legendgroup": "Nintendo DSi XL - 20 In 1 Special Edition Silver Starter Kit",
         "marker": {
          "color": "#B6E880",
          "symbol": "circle"
         },
         "mode": "markers",
         "name": "Nintendo DSi XL - 20 In 1 Special Edition Silver Starter Kit",
         "scene": "scene",
         "showlegend": true,
         "type": "scatter3d",
         "x": [
          10.357423685660475
         ],
         "y": [
          -0.9288600768961137
         ],
         "z": [
          0.14192910647360865
         ]
        },
        {
         "hovertemplate": "title=Nintendo DSi XL 20 in 1 Starter Kit - Gold<br>pca1=%{x}<br>pca2=%{y}<br>pca3=%{z}<extra></extra>",
         "legendgroup": "Nintendo DSi XL 20 in 1 Starter Kit - Gold",
         "marker": {
          "color": "#FF97FF",
          "symbol": "circle"
         },
         "mode": "markers",
         "name": "Nintendo DSi XL 20 in 1 Starter Kit - Gold",
         "scene": "scene",
         "showlegend": true,
         "type": "scatter3d",
         "x": [
          10.357423685660475
         ],
         "y": [
          -0.9288600768961137
         ],
         "z": [
          0.14192910647360865
         ]
        },
        {
         "hovertemplate": "title=Nintendo 3DS Pull and Go Folio - Blue<br>pca1=%{x}<br>pca2=%{y}<br>pca3=%{z}<extra></extra>",
         "legendgroup": "Nintendo 3DS Pull and Go Folio - Blue",
         "marker": {
          "color": "#FECB52",
          "symbol": "circle"
         },
         "mode": "markers",
         "name": "Nintendo 3DS Pull and Go Folio - Blue",
         "scene": "scene",
         "showlegend": true,
         "type": "scatter3d",
         "x": [
          -1.1401511331611942
         ],
         "y": [
          2.7098975010966098
         ],
         "z": [
          1.6641147427948169
         ]
        },
        {
         "hovertemplate": "title=DS Universal Pull and Go Folio - Pink<br>pca1=%{x}<br>pca2=%{y}<br>pca3=%{z}<extra></extra>",
         "legendgroup": "DS Universal Pull and Go Folio - Pink",
         "marker": {
          "color": "#636efa",
          "symbol": "circle"
         },
         "mode": "markers",
         "name": "DS Universal Pull and Go Folio - Pink",
         "scene": "scene",
         "showlegend": true,
         "type": "scatter3d",
         "x": [
          -1.2026920638619343
         ],
         "y": [
          2.7634916486668066
         ],
         "z": [
          1.7902000758321275
         ]
        },
        {
         "hovertemplate": "title=250GB HDD Hard Disk Drive for Microsoft Xbox 360 Slim (Generic)<br>pca1=%{x}<br>pca2=%{y}<br>pca3=%{z}<extra></extra>",
         "legendgroup": "250GB HDD Hard Disk Drive for Microsoft Xbox 360 Slim (Generic)",
         "marker": {
          "color": "#EF553B",
          "symbol": "circle"
         },
         "mode": "markers",
         "name": "250GB HDD Hard Disk Drive for Microsoft Xbox 360 Slim (Generic)",
         "scene": "scene",
         "showlegend": true,
         "type": "scatter3d",
         "x": [
          -1.4795829396100668
         ],
         "y": [
          0.3038467529348124
         ],
         "z": [
          1.20461572138827
         ]
        },
        {
         "hovertemplate": "title=Chimaera Wireless Gaming Headset<br>pca1=%{x}<br>pca2=%{y}<br>pca3=%{z}<extra></extra>",
         "legendgroup": "Chimaera Wireless Gaming Headset",
         "marker": {
          "color": "#00cc96",
          "symbol": "circle"
         },
         "mode": "markers",
         "name": "Chimaera Wireless Gaming Headset",
         "scene": "scene",
         "showlegend": true,
         "type": "scatter3d",
         "x": [
          -1.595589830324975
         ],
         "y": [
          0.00809567201105645
         ],
         "z": [
          1.0973920912793098
         ]
        },
        {
         "hovertemplate": "title=White Motion Plus Adapter + Silicone Sleeve for Nintendo Wii<br>pca1=%{x}<br>pca2=%{y}<br>pca3=%{z}<extra></extra>",
         "legendgroup": "White Motion Plus Adapter + Silicone Sleeve for Nintendo Wii",
         "marker": {
          "color": "#ab63fa",
          "symbol": "circle"
         },
         "mode": "markers",
         "name": "White Motion Plus Adapter + Silicone Sleeve for Nintendo Wii",
         "scene": "scene",
         "showlegend": true,
         "type": "scatter3d",
         "x": [
          -1.5474133970881339
         ],
         "y": [
          0.3327692622646212
         ],
         "z": [
          1.7457783901588675
         ]
        },
        {
         "hovertemplate": "title=Gold Chrome XBOX 360 Controller Shell Kit<br>pca1=%{x}<br>pca2=%{y}<br>pca3=%{z}<extra></extra>",
         "legendgroup": "Gold Chrome XBOX 360 Controller Shell Kit",
         "marker": {
          "color": "#FFA15A",
          "symbol": "circle"
         },
         "mode": "markers",
         "name": "Gold Chrome XBOX 360 Controller Shell Kit",
         "scene": "scene",
         "showlegend": true,
         "type": "scatter3d",
         "x": [
          -1.4227510084258141
         ],
         "y": [
          1.9886347435829057
         ],
         "z": [
          1.3480289471069387
         ]
        },
        {
         "hovertemplate": "title=320GB HDD Compatible with Xbox 360 Slim<br>pca1=%{x}<br>pca2=%{y}<br>pca3=%{z}<extra></extra>",
         "legendgroup": "320GB HDD Compatible with Xbox 360 Slim",
         "marker": {
          "color": "#19d3f3",
          "symbol": "circle"
         },
         "mode": "markers",
         "name": "320GB HDD Compatible with Xbox 360 Slim",
         "scene": "scene",
         "showlegend": true,
         "type": "scatter3d",
         "x": [
          -1.4365926992143636
         ],
         "y": [
          1.095130735808335
         ],
         "z": [
          1.5827237376320493
         ]
        },
        {
         "hovertemplate": "title=PDP Afterglow AX.4 Communicator for Xbox360 - Green<br>pca1=%{x}<br>pca2=%{y}<br>pca3=%{z}<extra></extra>",
         "legendgroup": "PDP Afterglow AX.4 Communicator for Xbox360 - Green",
         "marker": {
          "color": "#FF6692",
          "symbol": "circle"
         },
         "mode": "markers",
         "name": "PDP Afterglow AX.4 Communicator for Xbox360 - Green",
         "scene": "scene",
         "showlegend": true,
         "type": "scatter3d",
         "x": [
          0.8015509858008577
         ],
         "y": [
          1.1226365870579746
         ],
         "z": [
          -0.1113706232433455
         ]
        },
        {
         "hovertemplate": "title=PDP Afterglow AX.4 Communicator for Xbox 360 - Blue<br>pca1=%{x}<br>pca2=%{y}<br>pca3=%{z}<extra></extra>",
         "legendgroup": "PDP Afterglow AX.4 Communicator for Xbox 360 - Blue",
         "marker": {
          "color": "#B6E880",
          "symbol": "circle"
         },
         "mode": "markers",
         "name": "PDP Afterglow AX.4 Communicator for Xbox 360 - Blue",
         "scene": "scene",
         "showlegend": true,
         "type": "scatter3d",
         "x": [
          0.8887757140350019
         ],
         "y": [
          0.9253113818349511
         ],
         "z": [
          -0.09115646308539022
         ]
        },
        {
         "hovertemplate": "title=Black 250GB 250 GB Hard Drive Disk HDD for Xbox 360 SLIM<br>pca1=%{x}<br>pca2=%{y}<br>pca3=%{z}<extra></extra>",
         "legendgroup": "Black 250GB 250 GB Hard Drive Disk HDD for Xbox 360 SLIM",
         "marker": {
          "color": "#FF97FF",
          "symbol": "circle"
         },
         "mode": "markers",
         "name": "Black 250GB 250 GB Hard Drive Disk HDD for Xbox 360 SLIM",
         "scene": "scene",
         "showlegend": true,
         "type": "scatter3d",
         "x": [
          -1.2789312632496703
         ],
         "y": [
          1.8023158277390954
         ],
         "z": [
          1.3913918477350908
         ]
        },
        {
         "hovertemplate": "title=250G HDD Hard Disk Drive For Microsoft Xbox 360 Slim<br>pca1=%{x}<br>pca2=%{y}<br>pca3=%{z}<extra></extra>",
         "legendgroup": "250G HDD Hard Disk Drive For Microsoft Xbox 360 Slim",
         "marker": {
          "color": "#FECB52",
          "symbol": "circle"
         },
         "mode": "markers",
         "name": "250G HDD Hard Disk Drive For Microsoft Xbox 360 Slim",
         "scene": "scene",
         "showlegend": true,
         "type": "scatter3d",
         "x": [
          -0.8414820973428642
         ],
         "y": [
          2.711341732097728
         ],
         "z": [
          1.2779651951344895
         ]
        },
        {
         "hovertemplate": "title=Wireless Pc Usb Gaming Receiver for Xbox 360/xbox360<br>pca1=%{x}<br>pca2=%{y}<br>pca3=%{z}<extra></extra>",
         "legendgroup": "Wireless Pc Usb Gaming Receiver for Xbox 360/xbox360",
         "marker": {
          "color": "#636efa",
          "symbol": "circle"
         },
         "mode": "markers",
         "name": "Wireless Pc Usb Gaming Receiver for Xbox 360/xbox360",
         "scene": "scene",
         "showlegend": true,
         "type": "scatter3d",
         "x": [
          -1.6202537759990172
         ],
         "y": [
          1.35459484372315
         ],
         "z": [
          2.2204986033786653
         ]
        },
        {
         "hovertemplate": "title=320GB HDD Hard Drive for Xbox 360 Slim - Generic Version<br>pca1=%{x}<br>pca2=%{y}<br>pca3=%{z}<extra></extra>",
         "legendgroup": "320GB HDD Hard Drive for Xbox 360 Slim - Generic Version",
         "marker": {
          "color": "#EF553B",
          "symbol": "circle"
         },
         "mode": "markers",
         "name": "320GB HDD Hard Drive for Xbox 360 Slim - Generic Version",
         "scene": "scene",
         "showlegend": true,
         "type": "scatter3d",
         "x": [
          -1.377673155636314
         ],
         "y": [
          0.5442099651952782
         ],
         "z": [
          1.0044824512059602
         ]
        },
        {
         "hovertemplate": "title=HDE&reg; White Replacement Kit Xbox 360 Controller Shell + Button Parts<br>pca1=%{x}<br>pca2=%{y}<br>pca3=%{z}<extra></extra>",
         "legendgroup": "HDE&reg; White Replacement Kit Xbox 360 Controller Shell + Button Parts",
         "marker": {
          "color": "#00cc96",
          "symbol": "circle"
         },
         "mode": "markers",
         "name": "HDE&reg; White Replacement Kit Xbox 360 Controller Shell + Button Parts",
         "scene": "scene",
         "showlegend": true,
         "type": "scatter3d",
         "x": [
          -1.7220926175383482
         ],
         "y": [
          0.3859733882597624
         ],
         "z": [
          -0.142454585674022
         ]
        },
        {
         "hovertemplate": "title=HDE &reg; Black Replacement Xbox 360 Controller Shell + Buttons<br>pca1=%{x}<br>pca2=%{y}<br>pca3=%{z}<extra></extra>",
         "legendgroup": "HDE &reg; Black Replacement Xbox 360 Controller Shell + Buttons",
         "marker": {
          "color": "#ab63fa",
          "symbol": "circle"
         },
         "mode": "markers",
         "name": "HDE &reg; Black Replacement Xbox 360 Controller Shell + Buttons",
         "scene": "scene",
         "showlegend": true,
         "type": "scatter3d",
         "x": [
          -1.7220926175383482
         ],
         "y": [
          0.3859733882597624
         ],
         "z": [
          -0.142454585674022
         ]
        },
        {
         "hovertemplate": "title=MOGA Mobile Gaming System for Android 2.3+<br>pca1=%{x}<br>pca2=%{y}<br>pca3=%{z}<extra></extra>",
         "legendgroup": "MOGA Mobile Gaming System for Android 2.3+",
         "marker": {
          "color": "#FFA15A",
          "symbol": "circle"
         },
         "mode": "markers",
         "name": "MOGA Mobile Gaming System for Android 2.3+",
         "scene": "scene",
         "showlegend": true,
         "type": "scatter3d",
         "x": [
          10.357423685660475
         ],
         "y": [
          -0.9288600768961137
         ],
         "z": [
          0.14192910647360865
         ]
        },
        {
         "hovertemplate": "title=[Upgraded Version] Ultra-comfort Black &amp; Orange Wireless Bluetooth Ps3 Controller for the Playstation 3 Console By Avalid<br>pca1=%{x}<br>pca2=%{y}<br>pca3=%{z}<extra></extra>",
         "legendgroup": "[Upgraded Version] Ultra-comfort Black &amp; Orange Wireless Bluetooth Ps3 Controller for the Playstation 3 Console By Avalid",
         "marker": {
          "color": "#19d3f3",
          "symbol": "circle"
         },
         "mode": "markers",
         "name": "[Upgraded Version] Ultra-comfort Black &amp; Orange Wireless Bluetooth Ps3 Controller for the Playstation 3 Console By Avalid",
         "scene": "scene",
         "showlegend": true,
         "type": "scatter3d",
         "x": [
          -1.315890674702746
         ],
         "y": [
          1.4500987385231294
         ],
         "z": [
          1.2151858750686666
         ]
        },
        {
         "hovertemplate": "title=Fosmon Soft Silicone Skin Case for Nintendo Wii U Gamepad (Purple)<br>pca1=%{x}<br>pca2=%{y}<br>pca3=%{z}<extra></extra>",
         "legendgroup": "Fosmon Soft Silicone Skin Case for Nintendo Wii U Gamepad (Purple)",
         "marker": {
          "color": "#FF6692",
          "symbol": "circle"
         },
         "mode": "markers",
         "name": "Fosmon Soft Silicone Skin Case for Nintendo Wii U Gamepad (Purple)",
         "scene": "scene",
         "showlegend": true,
         "type": "scatter3d",
         "x": [
          -1.533001729982143
         ],
         "y": [
          0.2649397965181037
         ],
         "z": [
          1.5578452174012045
         ]
        },
        {
         "hovertemplate": "title=Fosmon Soft Silicone Skin Case for Nintendo Wii U Gamepad (Black)<br>pca1=%{x}<br>pca2=%{y}<br>pca3=%{z}<extra></extra>",
         "legendgroup": "Fosmon Soft Silicone Skin Case for Nintendo Wii U Gamepad (Black)",
         "marker": {
          "color": "#B6E880",
          "symbol": "circle"
         },
         "mode": "markers",
         "name": "Fosmon Soft Silicone Skin Case for Nintendo Wii U Gamepad (Black)",
         "scene": "scene",
         "showlegend": true,
         "type": "scatter3d",
         "x": [
          -1.533001729982143
         ],
         "y": [
          0.2649397965181037
         ],
         "z": [
          1.5578452174012045
         ]
        },
        {
         "hovertemplate": "title=BELPAIR Wii Motion Plus Adapter Sensor Tracking for Nintendo Wii Remote Controller(wh...<br>pca1=%{x}<br>pca2=%{y}<br>pca3=%{z}<extra></extra>",
         "legendgroup": "BELPAIR Wii Motion Plus Adapter Sensor Tracking for Nintendo Wii Remote Controller(wh...",
         "marker": {
          "color": "#FF97FF",
          "symbol": "circle"
         },
         "mode": "markers",
         "name": "BELPAIR Wii Motion Plus Adapter Sensor Tracking for Nintendo Wii Remote Controller(wh...",
         "scene": "scene",
         "showlegend": true,
         "type": "scatter3d",
         "x": [
          -1.7738109576697845
         ],
         "y": [
          0.515357370286842
         ],
         "z": [
          1.3944333829024451
         ]
        },
        {
         "hovertemplate": "title=DBPOWER&reg; Remote + Nunchuk Nunchuck Controller Combo Set Bundle Built-in Motionplus for Nintendo Wii (Pink)<br>pca1=%{x}<br>pca2=%{y}<br>pca3=%{z}<extra></extra>",
         "legendgroup": "DBPOWER&reg; Remote + Nunchuk Nunchuck Controller Combo Set Bundle Built-in Motionplus for Nintendo Wii (Pink)",
         "marker": {
          "color": "#FECB52",
          "symbol": "circle"
         },
         "mode": "markers",
         "name": "DBPOWER&reg; Remote + Nunchuk Nunchuck Controller Combo Set Bundle Built-in Motionplus for Nintendo Wii (Pink)",
         "scene": "scene",
         "showlegend": true,
         "type": "scatter3d",
         "x": [
          -1.977302953541909
         ],
         "y": [
          0.02079091825130836
         ],
         "z": [
          2.21613595749997
         ]
        },
        {
         "hovertemplate": "title=DBPOWER&reg; Remote + Nunchuk Nunchuck Controller Combo Set Bundle Built-in Motionplus for Nintendo Wii (White)<br>pca1=%{x}<br>pca2=%{y}<br>pca3=%{z}<extra></extra>",
         "legendgroup": "DBPOWER&reg; Remote + Nunchuk Nunchuck Controller Combo Set Bundle Built-in Motionplus for Nintendo Wii (White)",
         "marker": {
          "color": "#636efa",
          "symbol": "circle"
         },
         "mode": "markers",
         "name": "DBPOWER&reg; Remote + Nunchuk Nunchuck Controller Combo Set Bundle Built-in Motionplus for Nintendo Wii (White)",
         "scene": "scene",
         "showlegend": true,
         "type": "scatter3d",
         "x": [
          -1.977302953541909
         ],
         "y": [
          0.02079091825130836
         ],
         "z": [
          2.21613595749997
         ]
        },
        {
         "hovertemplate": "title=DBPOWER&reg; Remote + Nunchuk Nunchuck Controller Combo Set Bundle Built-in Motionplus for Nintendo Wii (Red)<br>pca1=%{x}<br>pca2=%{y}<br>pca3=%{z}<extra></extra>",
         "legendgroup": "DBPOWER&reg; Remote + Nunchuk Nunchuck Controller Combo Set Bundle Built-in Motionplus for Nintendo Wii (Red)",
         "marker": {
          "color": "#EF553B",
          "symbol": "circle"
         },
         "mode": "markers",
         "name": "DBPOWER&reg; Remote + Nunchuk Nunchuck Controller Combo Set Bundle Built-in Motionplus for Nintendo Wii (Red)",
         "scene": "scene",
         "showlegend": true,
         "type": "scatter3d",
         "x": [
          -1.3098953719067679
         ],
         "y": [
          1.162214936746156
         ],
         "z": [
          1.269552776100996
         ]
        },
        {
         "hovertemplate": "title=HDE Nintendo 64 N64 Wired Classic Controller Pad (Black)<br>pca1=%{x}<br>pca2=%{y}<br>pca3=%{z}<extra></extra>",
         "legendgroup": "HDE Nintendo 64 N64 Wired Classic Controller Pad (Black)",
         "marker": {
          "color": "#00cc96",
          "symbol": "circle"
         },
         "mode": "markers",
         "name": "HDE Nintendo 64 N64 Wired Classic Controller Pad (Black)",
         "scene": "scene",
         "showlegend": true,
         "type": "scatter3d",
         "x": [
          -1.6268353050905429
         ],
         "y": [
          0.8365082652243522
         ],
         "z": [
          0.7468230704187921
         ]
        },
        {
         "hovertemplate": "title=BELPAIR 2X Silicone Skin Case Cover For Nintendo Wii Remote Controller &#65288;Remote...<br>pca1=%{x}<br>pca2=%{y}<br>pca3=%{z}<extra></extra>",
         "legendgroup": "BELPAIR 2X Silicone Skin Case Cover For Nintendo Wii Remote Controller &#65288;Remote...",
         "marker": {
          "color": "#ab63fa",
          "symbol": "circle"
         },
         "mode": "markers",
         "name": "BELPAIR 2X Silicone Skin Case Cover For Nintendo Wii Remote Controller &#65288;Remote...",
         "scene": "scene",
         "showlegend": true,
         "type": "scatter3d",
         "x": [
          -1.4112917666191596
         ],
         "y": [
          1.9673048240417421
         ],
         "z": [
          1.9616656576773055
         ]
        },
        {
         "hovertemplate": "title=Conception II: Children of the Seven Stars - Nintendo 3DS<br>pca1=%{x}<br>pca2=%{y}<br>pca3=%{z}<extra></extra>",
         "legendgroup": "Conception II: Children of the Seven Stars - Nintendo 3DS",
         "marker": {
          "color": "#FFA15A",
          "symbol": "circle"
         },
         "mode": "markers",
         "name": "Conception II: Children of the Seven Stars - Nintendo 3DS",
         "scene": "scene",
         "showlegend": true,
         "type": "scatter3d",
         "x": [
          -1.7144708909091684
         ],
         "y": [
          -0.3301062718679731
         ],
         "z": [
          -1.2274780115336226
         ]
        },
        {
         "hovertemplate": "title=Conception II: Children of the Seven Stars - PlayStation Vita<br>pca1=%{x}<br>pca2=%{y}<br>pca3=%{z}<extra></extra>",
         "legendgroup": "Conception II: Children of the Seven Stars - PlayStation Vita",
         "marker": {
          "color": "#19d3f3",
          "symbol": "circle"
         },
         "mode": "markers",
         "name": "Conception II: Children of the Seven Stars - PlayStation Vita",
         "scene": "scene",
         "showlegend": true,
         "type": "scatter3d",
         "x": [
          -1.7144708909091684
         ],
         "y": [
          -0.3301062718679731
         ],
         "z": [
          -1.2274780115336226
         ]
        },
        {
         "hovertemplate": "title=HDE Controller Shell Case Cover Replacement Kit for Xbox 360 w/ Button Set, Torx Screwdriver, &amp; Crosshead Screwdriver (Gold)<br>pca1=%{x}<br>pca2=%{y}<br>pca3=%{z}<extra></extra>",
         "legendgroup": "HDE Controller Shell Case Cover Replacement Kit for Xbox 360 w/ Button Set, Torx Screwdriver, &amp; Crosshead Screwdriver (Gold)",
         "marker": {
          "color": "#FF6692",
          "symbol": "circle"
         },
         "mode": "markers",
         "name": "HDE Controller Shell Case Cover Replacement Kit for Xbox 360 w/ Button Set, Torx Screwdriver, &amp; Crosshead Screwdriver (Gold)",
         "scene": "scene",
         "showlegend": true,
         "type": "scatter3d",
         "x": [
          -1.7651432471095432
         ],
         "y": [
          0.2408307309378924
         ],
         "z": [
          0.31106032637471764
         ]
        },
        {
         "hovertemplate": "title=HDE Controller Shell Case Cover Replacement Kit for Xbox 360 w/ Button Set, Torx Screwdriver, &amp; Crosshead Screwdriver (Clear Blue)<br>pca1=%{x}<br>pca2=%{y}<br>pca3=%{z}<extra></extra>",
         "legendgroup": "HDE Controller Shell Case Cover Replacement Kit for Xbox 360 w/ Button Set, Torx Screwdriver, &amp; Crosshead Screwdriver (Clear Blue)",
         "marker": {
          "color": "#B6E880",
          "symbol": "circle"
         },
         "mode": "markers",
         "name": "HDE Controller Shell Case Cover Replacement Kit for Xbox 360 w/ Button Set, Torx Screwdriver, &amp; Crosshead Screwdriver (Clear Blue)",
         "scene": "scene",
         "showlegend": true,
         "type": "scatter3d",
         "x": [
          -1.7651432471095432
         ],
         "y": [
          0.2408307309378924
         ],
         "z": [
          0.31106032637471764
         ]
        },
        {
         "hovertemplate": "title=HDE Controller Shell Case Cover Replacement Kit for Xbox 360 w/ Button Set, Torx Screwdriver, &amp; Crosshead Screwdriver (Orange)<br>pca1=%{x}<br>pca2=%{y}<br>pca3=%{z}<extra></extra>",
         "legendgroup": "HDE Controller Shell Case Cover Replacement Kit for Xbox 360 w/ Button Set, Torx Screwdriver, &amp; Crosshead Screwdriver (Orange)",
         "marker": {
          "color": "#FF97FF",
          "symbol": "circle"
         },
         "mode": "markers",
         "name": "HDE Controller Shell Case Cover Replacement Kit for Xbox 360 w/ Button Set, Torx Screwdriver, &amp; Crosshead Screwdriver (Orange)",
         "scene": "scene",
         "showlegend": true,
         "type": "scatter3d",
         "x": [
          -1.7651432471095432
         ],
         "y": [
          0.2408307309378924
         ],
         "z": [
          0.31106032637471764
         ]
        },
        {
         "hovertemplate": "title=HDE Controller Shell Case Cover Replacement Kit for Xbox 360 w/ Button Set, Torx Screwdriver, &amp; Crosshead Screwdriver (Black)<br>pca1=%{x}<br>pca2=%{y}<br>pca3=%{z}<extra></extra>",
         "legendgroup": "HDE Controller Shell Case Cover Replacement Kit for Xbox 360 w/ Button Set, Torx Screwdriver, &amp; Crosshead Screwdriver (Black)",
         "marker": {
          "color": "#FECB52",
          "symbol": "circle"
         },
         "mode": "markers",
         "name": "HDE Controller Shell Case Cover Replacement Kit for Xbox 360 w/ Button Set, Torx Screwdriver, &amp; Crosshead Screwdriver (Black)",
         "scene": "scene",
         "showlegend": true,
         "type": "scatter3d",
         "x": [
          -1.7651432471095432
         ],
         "y": [
          0.2408307309378924
         ],
         "z": [
          0.31106032637471764
         ]
        },
        {
         "hovertemplate": "title=HDE Controller Shell Case Cover Replacement Kit for Xbox 360 w/ Button Set, Torx Screwdriver, &amp; Crosshead Screwdriver (Clear)<br>pca1=%{x}<br>pca2=%{y}<br>pca3=%{z}<extra></extra>",
         "legendgroup": "HDE Controller Shell Case Cover Replacement Kit for Xbox 360 w/ Button Set, Torx Screwdriver, &amp; Crosshead Screwdriver (Clear)",
         "marker": {
          "color": "#636efa",
          "symbol": "circle"
         },
         "mode": "markers",
         "name": "HDE Controller Shell Case Cover Replacement Kit for Xbox 360 w/ Button Set, Torx Screwdriver, &amp; Crosshead Screwdriver (Clear)",
         "scene": "scene",
         "showlegend": true,
         "type": "scatter3d",
         "x": [
          -1.7651432471095432
         ],
         "y": [
          0.2408307309378924
         ],
         "z": [
          0.31106032637471764
         ]
        },
        {
         "hovertemplate": "title=HDE Controller Shell Case Cover Replacement Kit for Xbox 360 w/ Button Set, Torx Screwdriver, &amp; Crosshead Screwdriver (Pink)<br>pca1=%{x}<br>pca2=%{y}<br>pca3=%{z}<extra></extra>",
         "legendgroup": "HDE Controller Shell Case Cover Replacement Kit for Xbox 360 w/ Button Set, Torx Screwdriver, &amp; Crosshead Screwdriver (Pink)",
         "marker": {
          "color": "#EF553B",
          "symbol": "circle"
         },
         "mode": "markers",
         "name": "HDE Controller Shell Case Cover Replacement Kit for Xbox 360 w/ Button Set, Torx Screwdriver, &amp; Crosshead Screwdriver (Pink)",
         "scene": "scene",
         "showlegend": true,
         "type": "scatter3d",
         "x": [
          -1.7651432471095432
         ],
         "y": [
          0.2408307309378924
         ],
         "z": [
          0.31106032637471764
         ]
        },
        {
         "hovertemplate": "title=HDE Controller Shell Case Cover Replacement Kit for Xbox 360 w/ Button Set, Torx Screwdriver, &amp; Crosshead Screwdriver (Blue)<br>pca1=%{x}<br>pca2=%{y}<br>pca3=%{z}<extra></extra>",
         "legendgroup": "HDE Controller Shell Case Cover Replacement Kit for Xbox 360 w/ Button Set, Torx Screwdriver, &amp; Crosshead Screwdriver (Blue)",
         "marker": {
          "color": "#00cc96",
          "symbol": "circle"
         },
         "mode": "markers",
         "name": "HDE Controller Shell Case Cover Replacement Kit for Xbox 360 w/ Button Set, Torx Screwdriver, &amp; Crosshead Screwdriver (Blue)",
         "scene": "scene",
         "showlegend": true,
         "type": "scatter3d",
         "x": [
          -1.7651432471095432
         ],
         "y": [
          0.2408307309378924
         ],
         "z": [
          0.31106032637471764
         ]
        },
        {
         "hovertemplate": "title=10ft PS4 Controller Charging Cable for Playstation 4 Dual Shock 4<br>pca1=%{x}<br>pca2=%{y}<br>pca3=%{z}<extra></extra>",
         "legendgroup": "10ft PS4 Controller Charging Cable for Playstation 4 Dual Shock 4",
         "marker": {
          "color": "#ab63fa",
          "symbol": "circle"
         },
         "mode": "markers",
         "name": "10ft PS4 Controller Charging Cable for Playstation 4 Dual Shock 4",
         "scene": "scene",
         "showlegend": true,
         "type": "scatter3d",
         "x": [
          -1.3053854225345078
         ],
         "y": [
          2.3691520236099977
         ],
         "z": [
          1.0227997330182987
         ]
        },
        {
         "hovertemplate": "title=Skque&reg; Silicone Thumb Stick Grip Cap Cover for Sony PlayStation 4 Controller, Blue<br>pca1=%{x}<br>pca2=%{y}<br>pca3=%{z}<extra></extra>",
         "legendgroup": "Skque&reg; Silicone Thumb Stick Grip Cap Cover for Sony PlayStation 4 Controller, Blue",
         "marker": {
          "color": "#FFA15A",
          "symbol": "circle"
         },
         "mode": "markers",
         "name": "Skque&reg; Silicone Thumb Stick Grip Cap Cover for Sony PlayStation 4 Controller, Blue",
         "scene": "scene",
         "showlegend": true,
         "type": "scatter3d",
         "x": [
          -0.3841828127526556
         ],
         "y": [
          2.273663539942599
         ],
         "z": [
          2.477041614409947
         ]
        },
        {
         "hovertemplate": "title=Skque&reg; Silicone Thumb Stick Grip Cap Cover for Sony PlayStation 4 Controller, Red<br>pca1=%{x}<br>pca2=%{y}<br>pca3=%{z}<extra></extra>",
         "legendgroup": "Skque&reg; Silicone Thumb Stick Grip Cap Cover for Sony PlayStation 4 Controller, Red",
         "marker": {
          "color": "#19d3f3",
          "symbol": "circle"
         },
         "mode": "markers",
         "name": "Skque&reg; Silicone Thumb Stick Grip Cap Cover for Sony PlayStation 4 Controller, Red",
         "scene": "scene",
         "showlegend": true,
         "type": "scatter3d",
         "x": [
          -0.3841828127526556
         ],
         "y": [
          2.273663539942599
         ],
         "z": [
          2.477041614409947
         ]
        },
        {
         "hovertemplate": "title=Skque&reg; Silicone Thumb Stick Grip Cap Cover for Sony PlayStation 4 Controller, Black<br>pca1=%{x}<br>pca2=%{y}<br>pca3=%{z}<extra></extra>",
         "legendgroup": "Skque&reg; Silicone Thumb Stick Grip Cap Cover for Sony PlayStation 4 Controller, Black",
         "marker": {
          "color": "#FF6692",
          "symbol": "circle"
         },
         "mode": "markers",
         "name": "Skque&reg; Silicone Thumb Stick Grip Cap Cover for Sony PlayStation 4 Controller, Black",
         "scene": "scene",
         "showlegend": true,
         "type": "scatter3d",
         "x": [
          -0.3841828127526556
         ],
         "y": [
          2.273663539942599
         ],
         "z": [
          2.477041614409947
         ]
        },
        {
         "hovertemplate": "title=Skque&reg; Silicone Thumb Stick Grip Cap Cover for Sony PlayStation 4 Controller, Clear<br>pca1=%{x}<br>pca2=%{y}<br>pca3=%{z}<extra></extra>",
         "legendgroup": "Skque&reg; Silicone Thumb Stick Grip Cap Cover for Sony PlayStation 4 Controller, Clear",
         "marker": {
          "color": "#B6E880",
          "symbol": "circle"
         },
         "mode": "markers",
         "name": "Skque&reg; Silicone Thumb Stick Grip Cap Cover for Sony PlayStation 4 Controller, Clear",
         "scene": "scene",
         "showlegend": true,
         "type": "scatter3d",
         "x": [
          -0.3841828127526556
         ],
         "y": [
          2.273663539942599
         ],
         "z": [
          2.477041614409947
         ]
        },
        {
         "hovertemplate": "title=2 X Soft Silicone Gel Rubber Grip Controller Protecting Cover For Xbox One - Black<br>pca1=%{x}<br>pca2=%{y}<br>pca3=%{z}<extra></extra>",
         "legendgroup": "2 X Soft Silicone Gel Rubber Grip Controller Protecting Cover For Xbox One - Black",
         "marker": {
          "color": "#FF97FF",
          "symbol": "circle"
         },
         "mode": "markers",
         "name": "2 X Soft Silicone Gel Rubber Grip Controller Protecting Cover For Xbox One - Black",
         "scene": "scene",
         "showlegend": true,
         "type": "scatter3d",
         "x": [
          -1.3807350768173143
         ],
         "y": [
          1.6390920359419128
         ],
         "z": [
          1.6550082958412047
         ]
        },
        {
         "hovertemplate": "title=2 X Soft Silicone Gel Rubber Grip Controller Protecting Cover For Xbox One - Red<br>pca1=%{x}<br>pca2=%{y}<br>pca3=%{z}<extra></extra>",
         "legendgroup": "2 X Soft Silicone Gel Rubber Grip Controller Protecting Cover For Xbox One - Red",
         "marker": {
          "color": "#FECB52",
          "symbol": "circle"
         },
         "mode": "markers",
         "name": "2 X Soft Silicone Gel Rubber Grip Controller Protecting Cover For Xbox One - Red",
         "scene": "scene",
         "showlegend": true,
         "type": "scatter3d",
         "x": [
          -1.3839690775171323
         ],
         "y": [
          1.6583855235310443
         ],
         "z": [
          1.6556986465855394
         ]
        },
        {
         "hovertemplate": "title=Pack of 4 Color Combo Flexible Silicone Protective Case For Sony PS4 Game Controller - Black/Red/Blue/White<br>pca1=%{x}<br>pca2=%{y}<br>pca3=%{z}<extra></extra>",
         "legendgroup": "Pack of 4 Color Combo Flexible Silicone Protective Case For Sony PS4 Game Controller - Black/Red/Blue/White",
         "marker": {
          "color": "#636efa",
          "symbol": "circle"
         },
         "mode": "markers",
         "name": "Pack of 4 Color Combo Flexible Silicone Protective Case For Sony PS4 Game Controller - Black/Red/Blue/White",
         "scene": "scene",
         "showlegend": true,
         "type": "scatter3d",
         "x": [
          -1.4235469052439194
         ],
         "y": [
          1.438642430086866
         ],
         "z": [
          2.0247852042509145
         ]
        },
        {
         "hovertemplate": "title=Skque&reg; Soft Silicone Skin Case Cover for Nintendo 2DS, Black<br>pca1=%{x}<br>pca2=%{y}<br>pca3=%{z}<extra></extra>",
         "legendgroup": "Skque&reg; Soft Silicone Skin Case Cover for Nintendo 2DS, Black",
         "marker": {
          "color": "#EF553B",
          "symbol": "circle"
         },
         "mode": "markers",
         "name": "Skque&reg; Soft Silicone Skin Case Cover for Nintendo 2DS, Black",
         "scene": "scene",
         "showlegend": true,
         "type": "scatter3d",
         "x": [
          0.3005483314554335
         ],
         "y": [
          3.6269875983101953
         ],
         "z": [
          0.657295637840626
         ]
        },
        {
         "hovertemplate": "title=Skque&reg; Soft Silicone Skin Case Cover for Nintendo 2DS, Pink<br>pca1=%{x}<br>pca2=%{y}<br>pca3=%{z}<extra></extra>",
         "legendgroup": "Skque&reg; Soft Silicone Skin Case Cover for Nintendo 2DS, Pink",
         "marker": {
          "color": "#00cc96",
          "symbol": "circle"
         },
         "mode": "markers",
         "name": "Skque&reg; Soft Silicone Skin Case Cover for Nintendo 2DS, Pink",
         "scene": "scene",
         "showlegend": true,
         "type": "scatter3d",
         "x": [
          0.37662101654576985
         ],
         "y": [
          3.6481768873841505
         ],
         "z": [
          0.5753859726819681
         ]
        }
       ],
       "layout": {
        "legend": {
         "title": {
          "text": "title"
         },
         "tracegroupgap": 0
        },
        "margin": {
         "t": 60
        },
        "scene": {
         "domain": {
          "x": [
           0,
           1
          ],
          "y": [
           0,
           1
          ]
         },
         "xaxis": {
          "title": {
           "text": "pca1"
          }
         },
         "yaxis": {
          "title": {
           "text": "pca2"
          }
         },
         "zaxis": {
          "title": {
           "text": "pca3"
          }
         }
        },
        "template": {
         "data": {
          "bar": [
           {
            "error_x": {
             "color": "#2a3f5f"
            },
            "error_y": {
             "color": "#2a3f5f"
            },
            "marker": {
             "line": {
              "color": "#E5ECF6",
              "width": 0.5
             },
             "pattern": {
              "fillmode": "overlay",
              "size": 10,
              "solidity": 0.2
             }
            },
            "type": "bar"
           }
          ],
          "barpolar": [
           {
            "marker": {
             "line": {
              "color": "#E5ECF6",
              "width": 0.5
             },
             "pattern": {
              "fillmode": "overlay",
              "size": 10,
              "solidity": 0.2
             }
            },
            "type": "barpolar"
           }
          ],
          "carpet": [
           {
            "aaxis": {
             "endlinecolor": "#2a3f5f",
             "gridcolor": "white",
             "linecolor": "white",
             "minorgridcolor": "white",
             "startlinecolor": "#2a3f5f"
            },
            "baxis": {
             "endlinecolor": "#2a3f5f",
             "gridcolor": "white",
             "linecolor": "white",
             "minorgridcolor": "white",
             "startlinecolor": "#2a3f5f"
            },
            "type": "carpet"
           }
          ],
          "choropleth": [
           {
            "colorbar": {
             "outlinewidth": 0,
             "ticks": ""
            },
            "type": "choropleth"
           }
          ],
          "contour": [
           {
            "colorbar": {
             "outlinewidth": 0,
             "ticks": ""
            },
            "colorscale": [
             [
              0,
              "#0d0887"
             ],
             [
              0.1111111111111111,
              "#46039f"
             ],
             [
              0.2222222222222222,
              "#7201a8"
             ],
             [
              0.3333333333333333,
              "#9c179e"
             ],
             [
              0.4444444444444444,
              "#bd3786"
             ],
             [
              0.5555555555555556,
              "#d8576b"
             ],
             [
              0.6666666666666666,
              "#ed7953"
             ],
             [
              0.7777777777777778,
              "#fb9f3a"
             ],
             [
              0.8888888888888888,
              "#fdca26"
             ],
             [
              1,
              "#f0f921"
             ]
            ],
            "type": "contour"
           }
          ],
          "contourcarpet": [
           {
            "colorbar": {
             "outlinewidth": 0,
             "ticks": ""
            },
            "type": "contourcarpet"
           }
          ],
          "heatmap": [
           {
            "colorbar": {
             "outlinewidth": 0,
             "ticks": ""
            },
            "colorscale": [
             [
              0,
              "#0d0887"
             ],
             [
              0.1111111111111111,
              "#46039f"
             ],
             [
              0.2222222222222222,
              "#7201a8"
             ],
             [
              0.3333333333333333,
              "#9c179e"
             ],
             [
              0.4444444444444444,
              "#bd3786"
             ],
             [
              0.5555555555555556,
              "#d8576b"
             ],
             [
              0.6666666666666666,
              "#ed7953"
             ],
             [
              0.7777777777777778,
              "#fb9f3a"
             ],
             [
              0.8888888888888888,
              "#fdca26"
             ],
             [
              1,
              "#f0f921"
             ]
            ],
            "type": "heatmap"
           }
          ],
          "heatmapgl": [
           {
            "colorbar": {
             "outlinewidth": 0,
             "ticks": ""
            },
            "colorscale": [
             [
              0,
              "#0d0887"
             ],
             [
              0.1111111111111111,
              "#46039f"
             ],
             [
              0.2222222222222222,
              "#7201a8"
             ],
             [
              0.3333333333333333,
              "#9c179e"
             ],
             [
              0.4444444444444444,
              "#bd3786"
             ],
             [
              0.5555555555555556,
              "#d8576b"
             ],
             [
              0.6666666666666666,
              "#ed7953"
             ],
             [
              0.7777777777777778,
              "#fb9f3a"
             ],
             [
              0.8888888888888888,
              "#fdca26"
             ],
             [
              1,
              "#f0f921"
             ]
            ],
            "type": "heatmapgl"
           }
          ],
          "histogram": [
           {
            "marker": {
             "pattern": {
              "fillmode": "overlay",
              "size": 10,
              "solidity": 0.2
             }
            },
            "type": "histogram"
           }
          ],
          "histogram2d": [
           {
            "colorbar": {
             "outlinewidth": 0,
             "ticks": ""
            },
            "colorscale": [
             [
              0,
              "#0d0887"
             ],
             [
              0.1111111111111111,
              "#46039f"
             ],
             [
              0.2222222222222222,
              "#7201a8"
             ],
             [
              0.3333333333333333,
              "#9c179e"
             ],
             [
              0.4444444444444444,
              "#bd3786"
             ],
             [
              0.5555555555555556,
              "#d8576b"
             ],
             [
              0.6666666666666666,
              "#ed7953"
             ],
             [
              0.7777777777777778,
              "#fb9f3a"
             ],
             [
              0.8888888888888888,
              "#fdca26"
             ],
             [
              1,
              "#f0f921"
             ]
            ],
            "type": "histogram2d"
           }
          ],
          "histogram2dcontour": [
           {
            "colorbar": {
             "outlinewidth": 0,
             "ticks": ""
            },
            "colorscale": [
             [
              0,
              "#0d0887"
             ],
             [
              0.1111111111111111,
              "#46039f"
             ],
             [
              0.2222222222222222,
              "#7201a8"
             ],
             [
              0.3333333333333333,
              "#9c179e"
             ],
             [
              0.4444444444444444,
              "#bd3786"
             ],
             [
              0.5555555555555556,
              "#d8576b"
             ],
             [
              0.6666666666666666,
              "#ed7953"
             ],
             [
              0.7777777777777778,
              "#fb9f3a"
             ],
             [
              0.8888888888888888,
              "#fdca26"
             ],
             [
              1,
              "#f0f921"
             ]
            ],
            "type": "histogram2dcontour"
           }
          ],
          "mesh3d": [
           {
            "colorbar": {
             "outlinewidth": 0,
             "ticks": ""
            },
            "type": "mesh3d"
           }
          ],
          "parcoords": [
           {
            "line": {
             "colorbar": {
              "outlinewidth": 0,
              "ticks": ""
             }
            },
            "type": "parcoords"
           }
          ],
          "pie": [
           {
            "automargin": true,
            "type": "pie"
           }
          ],
          "scatter": [
           {
            "fillpattern": {
             "fillmode": "overlay",
             "size": 10,
             "solidity": 0.2
            },
            "type": "scatter"
           }
          ],
          "scatter3d": [
           {
            "line": {
             "colorbar": {
              "outlinewidth": 0,
              "ticks": ""
             }
            },
            "marker": {
             "colorbar": {
              "outlinewidth": 0,
              "ticks": ""
             }
            },
            "type": "scatter3d"
           }
          ],
          "scattercarpet": [
           {
            "marker": {
             "colorbar": {
              "outlinewidth": 0,
              "ticks": ""
             }
            },
            "type": "scattercarpet"
           }
          ],
          "scattergeo": [
           {
            "marker": {
             "colorbar": {
              "outlinewidth": 0,
              "ticks": ""
             }
            },
            "type": "scattergeo"
           }
          ],
          "scattergl": [
           {
            "marker": {
             "colorbar": {
              "outlinewidth": 0,
              "ticks": ""
             }
            },
            "type": "scattergl"
           }
          ],
          "scattermapbox": [
           {
            "marker": {
             "colorbar": {
              "outlinewidth": 0,
              "ticks": ""
             }
            },
            "type": "scattermapbox"
           }
          ],
          "scatterpolar": [
           {
            "marker": {
             "colorbar": {
              "outlinewidth": 0,
              "ticks": ""
             }
            },
            "type": "scatterpolar"
           }
          ],
          "scatterpolargl": [
           {
            "marker": {
             "colorbar": {
              "outlinewidth": 0,
              "ticks": ""
             }
            },
            "type": "scatterpolargl"
           }
          ],
          "scatterternary": [
           {
            "marker": {
             "colorbar": {
              "outlinewidth": 0,
              "ticks": ""
             }
            },
            "type": "scatterternary"
           }
          ],
          "surface": [
           {
            "colorbar": {
             "outlinewidth": 0,
             "ticks": ""
            },
            "colorscale": [
             [
              0,
              "#0d0887"
             ],
             [
              0.1111111111111111,
              "#46039f"
             ],
             [
              0.2222222222222222,
              "#7201a8"
             ],
             [
              0.3333333333333333,
              "#9c179e"
             ],
             [
              0.4444444444444444,
              "#bd3786"
             ],
             [
              0.5555555555555556,
              "#d8576b"
             ],
             [
              0.6666666666666666,
              "#ed7953"
             ],
             [
              0.7777777777777778,
              "#fb9f3a"
             ],
             [
              0.8888888888888888,
              "#fdca26"
             ],
             [
              1,
              "#f0f921"
             ]
            ],
            "type": "surface"
           }
          ],
          "table": [
           {
            "cells": {
             "fill": {
              "color": "#EBF0F8"
             },
             "line": {
              "color": "white"
             }
            },
            "header": {
             "fill": {
              "color": "#C8D4E3"
             },
             "line": {
              "color": "white"
             }
            },
            "type": "table"
           }
          ]
         },
         "layout": {
          "annotationdefaults": {
           "arrowcolor": "#2a3f5f",
           "arrowhead": 0,
           "arrowwidth": 1
          },
          "autotypenumbers": "strict",
          "coloraxis": {
           "colorbar": {
            "outlinewidth": 0,
            "ticks": ""
           }
          },
          "colorscale": {
           "diverging": [
            [
             0,
             "#8e0152"
            ],
            [
             0.1,
             "#c51b7d"
            ],
            [
             0.2,
             "#de77ae"
            ],
            [
             0.3,
             "#f1b6da"
            ],
            [
             0.4,
             "#fde0ef"
            ],
            [
             0.5,
             "#f7f7f7"
            ],
            [
             0.6,
             "#e6f5d0"
            ],
            [
             0.7,
             "#b8e186"
            ],
            [
             0.8,
             "#7fbc41"
            ],
            [
             0.9,
             "#4d9221"
            ],
            [
             1,
             "#276419"
            ]
           ],
           "sequential": [
            [
             0,
             "#0d0887"
            ],
            [
             0.1111111111111111,
             "#46039f"
            ],
            [
             0.2222222222222222,
             "#7201a8"
            ],
            [
             0.3333333333333333,
             "#9c179e"
            ],
            [
             0.4444444444444444,
             "#bd3786"
            ],
            [
             0.5555555555555556,
             "#d8576b"
            ],
            [
             0.6666666666666666,
             "#ed7953"
            ],
            [
             0.7777777777777778,
             "#fb9f3a"
            ],
            [
             0.8888888888888888,
             "#fdca26"
            ],
            [
             1,
             "#f0f921"
            ]
           ],
           "sequentialminus": [
            [
             0,
             "#0d0887"
            ],
            [
             0.1111111111111111,
             "#46039f"
            ],
            [
             0.2222222222222222,
             "#7201a8"
            ],
            [
             0.3333333333333333,
             "#9c179e"
            ],
            [
             0.4444444444444444,
             "#bd3786"
            ],
            [
             0.5555555555555556,
             "#d8576b"
            ],
            [
             0.6666666666666666,
             "#ed7953"
            ],
            [
             0.7777777777777778,
             "#fb9f3a"
            ],
            [
             0.8888888888888888,
             "#fdca26"
            ],
            [
             1,
             "#f0f921"
            ]
           ]
          },
          "colorway": [
           "#636efa",
           "#EF553B",
           "#00cc96",
           "#ab63fa",
           "#FFA15A",
           "#19d3f3",
           "#FF6692",
           "#B6E880",
           "#FF97FF",
           "#FECB52"
          ],
          "font": {
           "color": "#2a3f5f"
          },
          "geo": {
           "bgcolor": "white",
           "lakecolor": "white",
           "landcolor": "#E5ECF6",
           "showlakes": true,
           "showland": true,
           "subunitcolor": "white"
          },
          "hoverlabel": {
           "align": "left"
          },
          "hovermode": "closest",
          "mapbox": {
           "style": "light"
          },
          "paper_bgcolor": "white",
          "plot_bgcolor": "#E5ECF6",
          "polar": {
           "angularaxis": {
            "gridcolor": "white",
            "linecolor": "white",
            "ticks": ""
           },
           "bgcolor": "#E5ECF6",
           "radialaxis": {
            "gridcolor": "white",
            "linecolor": "white",
            "ticks": ""
           }
          },
          "scene": {
           "xaxis": {
            "backgroundcolor": "#E5ECF6",
            "gridcolor": "white",
            "gridwidth": 2,
            "linecolor": "white",
            "showbackground": true,
            "ticks": "",
            "zerolinecolor": "white"
           },
           "yaxis": {
            "backgroundcolor": "#E5ECF6",
            "gridcolor": "white",
            "gridwidth": 2,
            "linecolor": "white",
            "showbackground": true,
            "ticks": "",
            "zerolinecolor": "white"
           },
           "zaxis": {
            "backgroundcolor": "#E5ECF6",
            "gridcolor": "white",
            "gridwidth": 2,
            "linecolor": "white",
            "showbackground": true,
            "ticks": "",
            "zerolinecolor": "white"
           }
          },
          "shapedefaults": {
           "line": {
            "color": "#2a3f5f"
           }
          },
          "ternary": {
           "aaxis": {
            "gridcolor": "white",
            "linecolor": "white",
            "ticks": ""
           },
           "baxis": {
            "gridcolor": "white",
            "linecolor": "white",
            "ticks": ""
           },
           "bgcolor": "#E5ECF6",
           "caxis": {
            "gridcolor": "white",
            "linecolor": "white",
            "ticks": ""
           }
          },
          "title": {
           "x": 0.05
          },
          "xaxis": {
           "automargin": true,
           "gridcolor": "white",
           "linecolor": "white",
           "ticks": "",
           "title": {
            "standoff": 15
           },
           "zerolinecolor": "white",
           "zerolinewidth": 2
          },
          "yaxis": {
           "automargin": true,
           "gridcolor": "white",
           "linecolor": "white",
           "ticks": "",
           "title": {
            "standoff": 15
           },
           "zerolinecolor": "white",
           "zerolinewidth": 2
          }
         }
        }
       }
      }
     },
     "metadata": {},
     "output_type": "display_data"
    }
   ],
   "source": [
    "# 3D \n",
    "pca = PCA(n_components=3)\n",
    "result = pca.fit_transform(array_data)\n",
    "result = pd.DataFrame(result,columns=['pca1','pca2','pca3'])\n",
    "result = pd.concat([result,products.asin],axis=1).merge(metadata[['title','asin','price','description']],how='left',on='asin').dropna()\n",
    "\n",
    "fig = px.scatter_3d(result, x='pca1', y='pca2', z='pca3',color=\"title\")\n",
    "fig.show()"
   ]
  }
 ],
 "metadata": {
  "kernelspec": {
   "display_name": "Python 3",
   "language": "python",
   "name": "python3"
  },
  "language_info": {
   "codemirror_mode": {
    "name": "ipython",
    "version": 3
   },
   "file_extension": ".py",
   "mimetype": "text/x-python",
   "name": "python",
   "nbconvert_exporter": "python",
   "pygments_lexer": "ipython3",
   "version": "3.10.11"
  }
 },
 "nbformat": 4,
 "nbformat_minor": 2
}
