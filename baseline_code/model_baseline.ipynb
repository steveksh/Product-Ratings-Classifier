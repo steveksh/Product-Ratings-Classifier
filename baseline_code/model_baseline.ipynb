{
 "cells": [
  {
   "cell_type": "markdown",
   "metadata": {},
   "source": [
    "Remarks \n",
    "\n",
    "* BERT tokenizer had 768 word vectors, which can be a bit much. But the APIs for the tokenizer is very easy to use.\n",
    "    *  Embeddings are also a bit sensitive to puncutations and stopwords. \n",
    "    * You can try tokenizer = BertTokenizer.from_pretrained(\"bert-base-uncased\") and print(tokenizer.tokenize(\"This is an example of the bert tokenizer\"))\n",
    "    * You should see that it tries to parse all elements in the sentence. Depends\n",
    "* We can use Word2Vec but it may take a while to download the pretrained weights. The implementations are a bit harder \n",
    "    * Also word2vec is sensitive to unseen words. it will throw an exception when you try to vectorize unseen words. Therefore, we need to have a function to process them.\n",
    "    * For example, in the paper I believe it used \"UNK\" or simply \"pass\" / torch.zeros()"
   ]
  },
  {
   "cell_type": "code",
   "execution_count": 43,
   "metadata": {},
   "outputs": [],
   "source": [
    "import pickle \n",
    "import sys\n",
    "import pandas as pd \n",
    "from tqdm import tqdm\n",
    "from torch.utils.data import DataLoader, Dataset\n",
    "import torch \n",
    "import torch.nn as nn\n",
    "\n",
    "from sklearn.model_selection import train_test_split\n",
    "\n",
    "# loading file \n",
    "with open('../components/review_embedding.pkl', 'rb') as handle:\n",
    "    x = pickle.load(handle)"
   ]
  },
  {
   "cell_type": "code",
   "execution_count": 57,
   "metadata": {},
   "outputs": [],
   "source": [
    "df = pd.DataFrame(x)\n",
    "df = pd.concat([df.loc[df.overall>=4].sample(frac=0.03,random_state=22),df.loc[df.overall<4].sample(frac=0.1,random_state=22)]).reset_index()\n",
    "\n",
    "x_train, x_test, y_train, y_test = train_test_split(df['embedding'], df['overall'], test_size= 0.33, random_state=22)\n",
    "\n",
    "x_test, holdout_x_test, y_test, holdout_y_test = train_test_split(x_test, y_test, test_size= 0.2, random_state=22)\n",
    "\n",
    "dataframes = [x_train, y_train, x_test, y_test, holdout_x_test, holdout_y_test]\n",
    "\n",
    "for i in dataframes:\n",
    "    i.reset_index(drop=True, inplace=True)"
   ]
  },
  {
   "cell_type": "code",
   "execution_count": 45,
   "metadata": {},
   "outputs": [],
   "source": [
    "class ReviewDataSet(Dataset):\n",
    "    def __init__(self, reviews, ratings):\n",
    "        self.reviews = reviews \n",
    "        self.ratings = ratings\n",
    "\n",
    "    def __len__(self):\n",
    "        return len(self.ratings)\n",
    "    \n",
    "    def __getitem__(self, index):\n",
    "        reviews = self.reviews[index]\n",
    "        ratings = self.ratings[index]\n",
    "        \n",
    "        # pytorch starts at 0 just like python \n",
    "        return reviews, int(ratings)-1\n",
    "\n",
    "batch_size = 2\n",
    "train_set = ReviewDataSet(reviews=x_train, ratings=y_train)\n",
    "valid_set = ReviewDataSet(reviews=x_test, ratings=y_test)\n",
    "\n",
    "train_loader = DataLoader(train_set, batch_size=batch_size, shuffle=True, pin_memory=True, num_workers=0)\n",
    "valid_loader = DataLoader(valid_set, batch_size=batch_size, shuffle=True, pin_memory=True, num_workers=0)"
   ]
  },
  {
   "cell_type": "code",
   "execution_count": 24,
   "metadata": {},
   "outputs": [
    {
     "name": "stdout",
     "output_type": "stream",
     "text": [
      "Size of reviews: torch.Size([2, 768])\n",
      "Type of reviews: torch.float32\n",
      "Size of label: torch.Size([2, 768])\n",
      "Type of label: torch.float32\n"
     ]
    }
   ],
   "source": [
    "for ratings, labels in train_loader:\n",
    "    print('Size of reviews:', ratings.size())  \n",
    "    print('Type of reviews:', ratings.dtype)   # float32\n",
    "    print('Size of label:', ratings.size())  # batch_size\n",
    "    print('Type of label:', ratings.dtype)   # int64(long)\n",
    "    break"
   ]
  },
  {
   "cell_type": "code",
   "execution_count": 27,
   "metadata": {},
   "outputs": [
    {
     "name": "stderr",
     "output_type": "stream",
     "text": [
      "100%|██████████| 3619/3619 [00:06<00:00, 529.58it/s]\n"
     ]
    },
    {
     "name": "stdout",
     "output_type": "stream",
     "text": [
      "[ Train | 001/030 ] loss = 1.51354, acc = 0.74523\n"
     ]
    },
    {
     "name": "stderr",
     "output_type": "stream",
     "text": [
      "100%|██████████| 1783/1783 [00:01<00:00, 1262.37it/s]\n"
     ]
    },
    {
     "name": "stdout",
     "output_type": "stream",
     "text": [
      "[ Valid | 001/030 ] loss = 1.46815, acc = 0.86540\n"
     ]
    },
    {
     "name": "stderr",
     "output_type": "stream",
     "text": [
      "100%|██████████| 3619/3619 [00:07<00:00, 470.88it/s]\n"
     ]
    },
    {
     "name": "stdout",
     "output_type": "stream",
     "text": [
      "[ Train | 002/030 ] loss = 1.46602, acc = 0.86433\n"
     ]
    },
    {
     "name": "stderr",
     "output_type": "stream",
     "text": [
      "100%|██████████| 1783/1783 [00:01<00:00, 1438.37it/s]\n"
     ]
    },
    {
     "name": "stdout",
     "output_type": "stream",
     "text": [
      "[ Valid | 002/030 ] loss = 1.43267, acc = 0.93326\n"
     ]
    },
    {
     "name": "stderr",
     "output_type": "stream",
     "text": [
      "100%|██████████| 3619/3619 [00:07<00:00, 505.83it/s]\n"
     ]
    },
    {
     "name": "stdout",
     "output_type": "stream",
     "text": [
      "[ Train | 003/030 ] loss = 1.43762, acc = 0.92401\n"
     ]
    },
    {
     "name": "stderr",
     "output_type": "stream",
     "text": [
      "100%|██████████| 1783/1783 [00:01<00:00, 1381.96it/s]\n"
     ]
    },
    {
     "name": "stdout",
     "output_type": "stream",
     "text": [
      "[ Valid | 003/030 ] loss = 1.42007, acc = 0.96635\n"
     ]
    },
    {
     "name": "stderr",
     "output_type": "stream",
     "text": [
      "100%|██████████| 3619/3619 [00:06<00:00, 521.96it/s]\n"
     ]
    },
    {
     "name": "stdout",
     "output_type": "stream",
     "text": [
      "[ Train | 004/030 ] loss = 1.42971, acc = 0.94004\n"
     ]
    },
    {
     "name": "stderr",
     "output_type": "stream",
     "text": [
      "100%|██████████| 1783/1783 [00:01<00:00, 1470.54it/s]\n"
     ]
    },
    {
     "name": "stdout",
     "output_type": "stream",
     "text": [
      "[ Valid | 004/030 ] loss = 1.41265, acc = 0.98598\n"
     ]
    },
    {
     "name": "stderr",
     "output_type": "stream",
     "text": [
      "100%|██████████| 3619/3619 [00:07<00:00, 461.02it/s]\n"
     ]
    },
    {
     "name": "stdout",
     "output_type": "stream",
     "text": [
      "[ Train | 005/030 ] loss = 1.41976, acc = 0.96297\n"
     ]
    },
    {
     "name": "stderr",
     "output_type": "stream",
     "text": [
      "100%|██████████| 1783/1783 [00:01<00:00, 1438.71it/s]\n"
     ]
    },
    {
     "name": "stdout",
     "output_type": "stream",
     "text": [
      "[ Valid | 005/030 ] loss = 1.40828, acc = 0.98542\n"
     ]
    },
    {
     "name": "stderr",
     "output_type": "stream",
     "text": [
      "100%|██████████| 3619/3619 [00:07<00:00, 490.74it/s]\n"
     ]
    },
    {
     "name": "stdout",
     "output_type": "stream",
     "text": [
      "[ Train | 006/030 ] loss = 1.41552, acc = 0.96214\n"
     ]
    },
    {
     "name": "stderr",
     "output_type": "stream",
     "text": [
      "100%|██████████| 1783/1783 [00:01<00:00, 1170.10it/s]\n"
     ]
    },
    {
     "name": "stdout",
     "output_type": "stream",
     "text": [
      "[ Valid | 006/030 ] loss = 1.40626, acc = 0.98542\n"
     ]
    },
    {
     "name": "stderr",
     "output_type": "stream",
     "text": [
      " 76%|███████▌  | 2759/3619 [00:05<00:01, 476.82it/s]\n"
     ]
    },
    {
     "ename": "KeyboardInterrupt",
     "evalue": "",
     "output_type": "error",
     "traceback": [
      "\u001b[1;31m---------------------------------------------------------------------------\u001b[0m",
      "\u001b[1;31mKeyboardInterrupt\u001b[0m                         Traceback (most recent call last)",
      "\u001b[1;32mc:\\Users\\Stevie\\Desktop\\SDSC8007\\baseline_code\\model_baseline.ipynb Cell 6\u001b[0m line \u001b[0;36m7\n\u001b[0;32m     <a href='vscode-notebook-cell:/c%3A/Users/Stevie/Desktop/SDSC8007/baseline_code/model_baseline.ipynb#X13sZmlsZQ%3D%3D?line=66'>67</a>\u001b[0m     acc \u001b[39m=\u001b[39m \u001b[39msum\u001b[39m(pred\u001b[39m==\u001b[39mrating\u001b[39m.\u001b[39mto(device))\u001b[39m.\u001b[39mitem()\n\u001b[0;32m     <a href='vscode-notebook-cell:/c%3A/Users/Stevie/Desktop/SDSC8007/baseline_code/model_baseline.ipynb#X13sZmlsZQ%3D%3D?line=68'>69</a>\u001b[0m     \u001b[39m# acc = (logits.argmax(dim=-1) == rating.float().to(device)).float().mean()\u001b[39;00m\n\u001b[0;32m     <a href='vscode-notebook-cell:/c%3A/Users/Stevie/Desktop/SDSC8007/baseline_code/model_baseline.ipynb#X13sZmlsZQ%3D%3D?line=69'>70</a>\u001b[0m \n\u001b[0;32m     <a href='vscode-notebook-cell:/c%3A/Users/Stevie/Desktop/SDSC8007/baseline_code/model_baseline.ipynb#X13sZmlsZQ%3D%3D?line=70'>71</a>\u001b[0m     \u001b[39m# Record the loss and accuracy.\u001b[39;00m\n\u001b[1;32m---> <a href='vscode-notebook-cell:/c%3A/Users/Stevie/Desktop/SDSC8007/baseline_code/model_baseline.ipynb#X13sZmlsZQ%3D%3D?line=71'>72</a>\u001b[0m     train_loss\u001b[39m.\u001b[39mappend(loss\u001b[39m.\u001b[39;49mitem())\n\u001b[0;32m     <a href='vscode-notebook-cell:/c%3A/Users/Stevie/Desktop/SDSC8007/baseline_code/model_baseline.ipynb#X13sZmlsZQ%3D%3D?line=72'>73</a>\u001b[0m     train_accs\u001b[39m.\u001b[39mappend(acc)\n\u001b[0;32m     <a href='vscode-notebook-cell:/c%3A/Users/Stevie/Desktop/SDSC8007/baseline_code/model_baseline.ipynb#X13sZmlsZQ%3D%3D?line=74'>75</a>\u001b[0m \u001b[39m# The average loss and accuracy of the training set is the average of the recorded values.\u001b[39;00m\n",
      "\u001b[1;31mKeyboardInterrupt\u001b[0m: "
     ]
    }
   ],
   "source": [
    "class Classifier(nn.Module):\n",
    "    def __init__(self):\n",
    "    # def __init__(self, dw, h1, A):\n",
    "        super(Classifier, self).__init__()\n",
    "        # self.Wa = nn.Parameter(torch.Tensor(dw, h1))\n",
    "        # self.ba = nn.Parameter(torch.Tensor(h1))\n",
    "\n",
    "        ## Initialize weights with a uniform distribution between -0.01 and 0.01\n",
    "        # init.uniform_(self.Wa, -0.01, 0.01)\n",
    "        ## Initialize bias with zeros \n",
    "        # init.uniform_(self.ba, -0.01, 0.01) # zeros \n",
    "\n",
    "        self.fc_layers = nn.Sequential(\n",
    "            nn.Linear(768, 256),\n",
    "            nn.ReLU(),\n",
    "            nn.Dropout(p=0.5),\n",
    "            nn.Linear(256, 5),\n",
    "            nn.Softmax(dim=1)\n",
    "        )\n",
    "\n",
    "    # def aspect_layers(self, x, ):\n",
    "    #     # X = f(X*W + b) where f() is the activation function according to the research paper \n",
    "    #     Xu_a = torch.matmul(word_vectors, self.Wa) + self.ba\n",
    "    #     Xu_a = nn.ReLU(Xu_a)  \n",
    "    #     return Xu_a\n",
    "\n",
    "    def forward(self, x):\n",
    "        pred_ratings = self.fc_layers(x)\n",
    "        return pred_ratings\n",
    "\n",
    "# Aspect-Sentiment Transformation Layer Parameters\n",
    "# h1 = 3  # Hidden dimension\n",
    "# dw = 768  # embedding dimension\n",
    "# A = 3  # Number of aspects\n",
    "\n",
    "n_epochs = 30\n",
    "lr = 0.0001\n",
    "break_counter = 0\n",
    "criterion = nn.CrossEntropyLoss()\n",
    "best = float('inf')  # Initialize with a large value\n",
    "path = './model.pth'\n",
    "\n",
    "device = \"cuda\" \n",
    "model = Classifier().to(device)\n",
    "\n",
    "optimizer = torch.optim.Adam(model.parameters(), lr=lr)\n",
    "\n",
    "for epoch in range(n_epochs): \n",
    "\n",
    "    # training mode\n",
    "    model.train()\n",
    "    train_loss = []\n",
    "    train_accs = []\n",
    "\n",
    "    for batch in tqdm(train_loader):\n",
    "        reviews, rating = batch \n",
    "\n",
    "        logits = model(reviews.to(device))\n",
    "        loss = criterion(logits, rating.to(device))\n",
    "\n",
    "        optimizer.zero_grad()\n",
    "        loss.backward()\n",
    "\n",
    "        optimizer.step()\n",
    "\n",
    "        pred = torch.argmax(logits, dim=1)\n",
    "        acc = sum(pred==rating.to(device)).item()\n",
    "\n",
    "        # acc = (logits.argmax(dim=-1) == rating.float().to(device)).float().mean()\n",
    "\n",
    "        # Record the loss and accuracy.\n",
    "        train_loss.append(loss.item())\n",
    "        train_accs.append(acc)\n",
    "    \n",
    "    # The average loss and accuracy of the training set is the average of the recorded values.\n",
    "    train_loss = sum(train_loss) / len(train_loss)\n",
    "    train_acc = sum(train_accs) / len(train_accs)\n",
    "\n",
    "    print(f\"[ Train | {epoch + 1:03d}/{n_epochs:03d} ] loss = {train_loss:.5f}, acc = {train_acc:.5f}\")\n",
    "\n",
    "    # ---------- Validation ----------\n",
    "    # Make sure the model is in eval mode so that some modules like dropout are disabled and work normally.\n",
    "    model.eval()\n",
    "\n",
    "    # These are used to record information in validation.\n",
    "    valid_loss = []\n",
    "    valid_accs = []\n",
    "\n",
    "    # Iterate the validation set by batches.\n",
    "    for batch in tqdm(valid_loader):\n",
    "\n",
    "        reviews, rating = batch \n",
    "\n",
    "        with torch.no_grad():\n",
    "            logits = model(reviews.to(device))\n",
    "\n",
    "        # We can still compute the loss (but not the gradient).\n",
    "        loss = criterion(logits, rating.to(device))\n",
    "\n",
    "        # Compute the accuracy for current batch.\n",
    "        pred = torch.argmax(logits, dim=1)\n",
    "        acc = sum(pred==rating.to(device)).item()\n",
    "\n",
    "        # Record the loss and accuracy.\n",
    "        valid_loss.append(loss.item())\n",
    "        valid_accs.append(acc)\n",
    "\n",
    "    # The average loss and accuracy for entire validation set is the average of the recorded values.\n",
    "    valid_loss = sum(valid_loss) / len(valid_loss)\n",
    "    valid_acc = sum(valid_accs) / len(valid_accs)\n",
    "    \n",
    "    print(f\"[ Valid | {epoch + 1:03d}/{n_epochs:03d} ] loss = {valid_loss:.5f}, acc = {valid_acc:.5f}\")\n",
    "\n",
    "    if valid_loss < best:\n",
    "        torch.save(model.state_dict(), path)\n",
    "        best = valid_loss\n",
    "        break_counter = 0\n",
    "    else:\n",
    "        break_counter += 1\n",
    "        print(f'did not increase valid_acc. break counter now at {break_counter}')\n"
   ]
  },
  {
   "cell_type": "markdown",
   "metadata": {},
   "source": [
    "Lets try out on the test set "
   ]
  },
  {
   "cell_type": "code",
   "execution_count": 69,
   "metadata": {},
   "outputs": [
    {
     "data": {
      "text/plain": [
       "4.0"
      ]
     },
     "execution_count": 69,
     "metadata": {},
     "output_type": "execute_result"
    }
   ],
   "source": [
    "# holdout_x_test[0]\n",
    "holdout_y_test[1]"
   ]
  },
  {
   "cell_type": "code",
   "execution_count": 78,
   "metadata": {},
   "outputs": [
    {
     "data": {
      "text/plain": [
       "array([3], dtype=int64)"
      ]
     },
     "execution_count": 78,
     "metadata": {},
     "output_type": "execute_result"
    }
   ],
   "source": [
    "# Some modules like Dropout or BatchNorm affect if the model is in training mode.\n",
    "model.eval()\n",
    "# unsqueeze turns 1d tensor into 2d\n",
    "embedding = torch.unsqueeze(torch.tensor(holdout_x_test[1]), 0).to(device)\n",
    "# adding 1 because we initially -1 from all ratings\n",
    "torch.argmax(model(embedding), dim=1).cpu().numpy()+1 "
   ]
  }
 ],
 "metadata": {
  "kernelspec": {
   "display_name": "Python 3",
   "language": "python",
   "name": "python3"
  },
  "language_info": {
   "codemirror_mode": {
    "name": "ipython",
    "version": 3
   },
   "file_extension": ".py",
   "mimetype": "text/x-python",
   "name": "python",
   "nbconvert_exporter": "python",
   "pygments_lexer": "ipython3",
   "version": "3.10.11"
  }
 },
 "nbformat": 4,
 "nbformat_minor": 2
}
