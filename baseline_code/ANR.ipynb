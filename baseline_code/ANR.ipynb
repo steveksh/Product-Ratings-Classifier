{
 "cells": [
  {
   "cell_type": "code",
   "execution_count": 7,
   "metadata": {},
   "outputs": [],
   "source": [
    "import torch "
   ]
  },
  {
   "cell_type": "code",
   "execution_count": 29,
   "metadata": {},
   "outputs": [],
   "source": [
    "review = \"I love this product, but the price is a bit expensive.\"\n",
    "# Tokenized review\n",
    "tokens = review.lower().split()\n",
    "# Word embeddings (simplified for illustration)\n",
    "word_embeddings = {\n",
    "    \"i\": [0.1, 0.2, 0.3],\n",
    "    \"love\": [0.4, 0.5, 0.6],\n",
    "    \"this\": [0.7, 0.8, 0.9],\n",
    "    \"product\": [0.2, 0.3, 0.4],\n",
    "    \"but\": [0.3, 0.4, 0.5],\n",
    "    \"the\": [0.6, 0.7, 0.8],\n",
    "    \"price\": [0.8, 0.9, 1.0],\n",
    "    \"is\": [0.2, 0.3, 0.4],\n",
    "    \"a\": [0.1, 0.1, 0.1],\n",
    "    \"bit\": [0.2, 0.2, 0.2],\n",
    "    \"expensive\": [0.9, 1.0, 1.1]\n",
    "}\n",
    "\n",
    "# aspect \n",
    "aspect_embedding = [0.8, 0.9, 1.0]  # Example aspect embedding for \"price\""
   ]
  },
  {
   "cell_type": "code",
   "execution_count": 33,
   "metadata": {},
   "outputs": [
    {
     "name": "stdout",
     "output_type": "stream",
     "text": [
      "[0.08000000000000002, 0.18000000000000002, 0.3]\n",
      "[0.32000000000000006, 0.45, 0.6]\n",
      "[0.5599999999999999, 0.7200000000000001, 0.9]\n",
      "[0.16000000000000003, 0.27, 0.4]\n",
      "[0.24, 0.36000000000000004, 0.5]\n",
      "[0.48, 0.63, 0.8]\n",
      "[0.6400000000000001, 0.81, 1.0]\n",
      "[0.16000000000000003, 0.27, 0.4]\n",
      "[0.08000000000000002, 0.09000000000000001, 0.1]\n",
      "[0.16000000000000003, 0.18000000000000002, 0.2]\n",
      "[0.7200000000000001, 0.9, 1.1]\n"
     ]
    },
    {
     "data": {
      "text/plain": [
       "[[0.08000000000000002, 0.18000000000000002, 0.3],\n",
       " [0.32000000000000006, 0.45, 0.6],\n",
       " [0.5599999999999999, 0.7200000000000001, 0.9],\n",
       " [0.16000000000000003, 0.27, 0.4],\n",
       " [0.24, 0.36000000000000004, 0.5],\n",
       " [0.48, 0.63, 0.8],\n",
       " [0.6400000000000001, 0.81, 1.0],\n",
       " [0.16000000000000003, 0.27, 0.4],\n",
       " [0.08000000000000002, 0.09000000000000001, 0.1],\n",
       " [0.16000000000000003, 0.18000000000000002, 0.2],\n",
       " [0.7200000000000001, 0.9, 1.1]]"
      ]
     },
     "execution_count": 33,
     "metadata": {},
     "output_type": "execute_result"
    }
   ],
   "source": [
    "review_embeddings = [\n",
    "    [0.1, 0.2, 0.3],  # \"i\"\n",
    "    [0.4, 0.5, 0.6],  # \"love\"\n",
    "    [0.7, 0.8, 0.9],  # \"this\"\n",
    "    [0.2, 0.3, 0.4],  # \"product\"\n",
    "    [0.3, 0.4, 0.5],  # \"but\"\n",
    "    [0.6, 0.7, 0.8],  # \"the\"\n",
    "    [0.8, 0.9, 1.0],  # \"price\"\n",
    "    [0.2, 0.3, 0.4],  # \"is\"\n",
    "    [0.1, 0.1, 0.1],  # \"a\"\n",
    "    [0.2, 0.2, 0.2],  # \"bit\"\n",
    "    [0.9, 1.0, 1.1]   # \"expensive\"\n",
    "]\n",
    "\n",
    "\n",
    "aspect_transformations = []\n",
    "\n",
    "for word_embedding in review_embeddings:\n",
    "    # Calculate the transformation for the current word and aspect\n",
    "    word_aspect_transformation = [a * w for a, w in zip(aspect_embedding, word_embedding)]\n",
    "    print(word_aspect_transformation)\n",
    "    aspect_transformations.append(word_aspect_transformation)\n",
    "\n",
    "# Aspect transformations for each word in the review\n",
    "aspect_transformations"
   ]
  },
  {
   "cell_type": "code",
   "execution_count": 41,
   "metadata": {},
   "outputs": [],
   "source": [
    "import torch\n",
    "\n",
    "# Define the aspects\n",
    "aspects = [\"price\", \"product\", \"quality\"]\n",
    "\n",
    "# Reviews\n",
    "reviews = [\n",
    "    \"The price is a bit high, but the product is great.\",\n",
    "    \"I love the quality of this product.\",\n",
    "    \"The price is reasonable, and the product is average in quality.\"\n",
    "]\n",
    "\n",
    "# Tokenized reviews\n",
    "tokenized_reviews = [review.lower().split() for review in reviews]\n",
    "\n",
    "# Word embeddings (simplified for illustration)\n",
    "word_embeddings = {\n",
    "    \"the\": torch.randn(3),\n",
    "    \"price\": torch.randn(3),\n",
    "    \"is\": torch.randn(3),\n",
    "    \"a\": torch.randn(3),\n",
    "    \"bit\": torch.randn(3),\n",
    "    \"high,\": torch.randn(3),\n",
    "    \"but\": torch.randn(3),\n",
    "    \"product\": torch.randn(3),\n",
    "    \"great.\": torch.randn(3),\n",
    "    \"i\": torch.randn(3),\n",
    "    \"love\": torch.randn(3),\n",
    "    \"quality\": torch.randn(3),\n",
    "    \"of\": torch.randn(3),\n",
    "    \"this\": torch.randn(3),\n",
    "    \"reasonable,\": torch.randn(3),\n",
    "    \"and\": torch.randn(3),\n",
    "    \"average\": torch.randn(3),\n",
    "    \"in\": torch.randn(3),\n",
    "}\n",
    "\n",
    "# Aspect embeddings (simplified for illustration)\n",
    "aspect_embeddings = {\n",
    "    \"price\": torch.randn(3),\n",
    "    \"product\": torch.randn(3),\n",
    "    \"quality\": torch.randn(3)\n",
    "}\n",
    "\n",
    "aspect_transformations = []\n",
    "\n",
    "for review_tokens in tokenized_reviews:\n",
    "    review_aspect_transformations = []\n",
    "    \n",
    "    for word in review_tokens:\n",
    "        word_embedding = word_embeddings.get(word, torch.zeros(3))\n",
    "        word_aspect_transformation = torch.stack([torch.matmul(word_embedding, aspect_embeddings[aspect]) for aspect in aspects])\n",
    "        review_aspect_transformations.append(word_aspect_transformation)\n",
    "    \n",
    "    aspect_transformations.append(review_aspect_transformations)\n",
    "\n",
    "# Aspect transformations for each word in each review, resulting in a 3D tensor\n"
   ]
  },
  {
   "cell_type": "code",
   "execution_count": 43,
   "metadata": {},
   "outputs": [
    {
     "data": {
      "text/plain": [
       "[[tensor([-0.5735, -2.4747, -1.1778]),\n",
       "  tensor([-0.0869, -0.2441, -0.1231]),\n",
       "  tensor([-0.3181, -0.9847, -0.3224]),\n",
       "  tensor([ 2.7821, -3.2970, -1.7040]),\n",
       "  tensor([ 0.1232, -0.4707, -0.3938]),\n",
       "  tensor([-2.1362,  2.3681,  0.8428]),\n",
       "  tensor([ 0.6788, -1.7023, -0.6206]),\n",
       "  tensor([-0.5735, -2.4747, -1.1778]),\n",
       "  tensor([-0.9695,  1.4394,  1.3292]),\n",
       "  tensor([-0.3181, -0.9847, -0.3224]),\n",
       "  tensor([ 0.0577, -1.4307, -0.4303])],\n",
       " [tensor([ 1.4453, -2.1314, -0.4212]),\n",
       "  tensor([ 0.0274, -0.1113, -0.6192]),\n",
       "  tensor([-0.5735, -2.4747, -1.1778]),\n",
       "  tensor([-1.0788,  1.0021, -0.0461]),\n",
       "  tensor([ 0.3283, -0.7831, -0.0120]),\n",
       "  tensor([-1.4593,  4.3738,  1.4325]),\n",
       "  tensor([0., 0., 0.])],\n",
       " [tensor([-0.5735, -2.4747, -1.1778]),\n",
       "  tensor([-0.0869, -0.2441, -0.1231]),\n",
       "  tensor([-0.3181, -0.9847, -0.3224]),\n",
       "  tensor([ 0.2203,  0.9050, -0.1024]),\n",
       "  tensor([ 2.1184, -3.5363, -1.5841]),\n",
       "  tensor([-0.5735, -2.4747, -1.1778]),\n",
       "  tensor([-0.9695,  1.4394,  1.3292]),\n",
       "  tensor([-0.3181, -0.9847, -0.3224]),\n",
       "  tensor([-0.0993,  2.7153,  1.9438]),\n",
       "  tensor([ 0.4305, -0.1181, -0.1146]),\n",
       "  tensor([0., 0., 0.])]]"
      ]
     },
     "execution_count": 43,
     "metadata": {},
     "output_type": "execute_result"
    }
   ],
   "source": [
    "aspect_transformations"
   ]
  }
 ],
 "metadata": {
  "kernelspec": {
   "display_name": "Python 3",
   "language": "python",
   "name": "python3"
  },
  "language_info": {
   "name": "python",
   "version": "3.10.11"
  }
 },
 "nbformat": 4,
 "nbformat_minor": 2
}
